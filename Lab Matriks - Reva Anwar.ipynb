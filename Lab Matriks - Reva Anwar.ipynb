{
  "nbformat": 4,
  "nbformat_minor": 0,
  "metadata": {
    "colab": {
      "provenance": [],
      "include_colab_link": true
    },
    "kernelspec": {
      "name": "python3",
      "display_name": "Python 3"
    },
    "language_info": {
      "name": "python"
    }
  },
  "cells": [
    {
      "cell_type": "markdown",
      "metadata": {
        "id": "view-in-github",
        "colab_type": "text"
      },
      "source": [
        "<a href=\"https://colab.research.google.com/github/revaanwarr/pemrograman-lanjut/blob/main/Lab%20Matriks%20-%20Reva%20Anwar.ipynb\" target=\"_parent\"><img src=\"https://colab.research.google.com/assets/colab-badge.svg\" alt=\"Open In Colab\"/></a>"
      ]
    },
    {
      "cell_type": "markdown",
      "source": [
        "#**🖥️👩🏻‍💻PRAKTIKUM PEMROGRAMAN LANJUT🔥**\n",
        "##**MATRIKS PYTHON - Senin, 09 Desember 2024**\n",
        "\n",
        "👤 Nama: Reva Anwar / NRP: 2C2230003 / Kelas: III/A Sains Data\n",
        "\n",
        "\n",
        "\n",
        "\n"
      ],
      "metadata": {
        "id": "_bN6_LxQCJZT"
      }
    },
    {
      "cell_type": "markdown",
      "source": [
        "#🤸🏻‍♀️ EKSPLORASI PRIBADI DI KELAS ✨"
      ],
      "metadata": {
        "id": "N0U2Qjks8P9F"
      }
    },
    {
      "cell_type": "markdown",
      "source": [
        "Matriks pada dasarnya adalah array 2 dimensi. Matriks dapat dideklarasikan dengan:"
      ],
      "metadata": {
        "id": "40edUKLeg122"
      }
    },
    {
      "cell_type": "code",
      "execution_count": null,
      "metadata": {
        "id": "itmMcxv88OIm"
      },
      "outputs": [],
      "source": [
        "A = [[0 for j in range (20)] for i in range (10)]"
      ]
    },
    {
      "cell_type": "markdown",
      "source": [
        "Pada kode di atas, artinya kita membuat matriks dengan nama variabel A, dengan tipe elemen integer dan nilai awal 0, dan berukuran 10 baris 20 kolom. Sama seperti array, untuk mengakses elemen baris le-i dan kolom ke-j, kita perlu mengakses Ali-1][j-1] karena indeks matriks dimulai dari 0"
      ],
      "metadata": {
        "id": "vr4i9p6TgHO4"
      }
    },
    {
      "cell_type": "markdown",
      "source": [
        "Sehagai contoh, berikut kode untuk membaca matriks dan menuliskannya kembali:"
      ],
      "metadata": {
        "id": "PnDT4BUYg9OY"
      }
    },
    {
      "cell_type": "code",
      "source": [
        "n = int(input())\n",
        "m = int(input())\n",
        "\n",
        "A = [[0 for j in range(m)] for i in range(n)]"
      ],
      "metadata": {
        "colab": {
          "base_uri": "https://localhost:8080/"
        },
        "id": "15uBeI7-hCcn",
        "outputId": "a60125dd-7a5a-41b8-b71a-623054db011f"
      },
      "execution_count": null,
      "outputs": [
        {
          "name": "stdout",
          "output_type": "stream",
          "text": [
            "1\n",
            "2\n"
          ]
        }
      ]
    },
    {
      "cell_type": "code",
      "source": [
        "import numpy as np\n",
        "x1 = np.array([[2,3,4],\n",
        " [2,5,6],\n",
        " [6,7,8]])\n",
        "x1"
      ],
      "metadata": {
        "colab": {
          "base_uri": "https://localhost:8080/"
        },
        "id": "VBk9obWfhrev",
        "outputId": "2ff34217-4f2a-4bc7-da48-1589bda912c3"
      },
      "execution_count": null,
      "outputs": [
        {
          "output_type": "execute_result",
          "data": {
            "text/plain": [
              "array([[2, 3, 4],\n",
              "       [2, 5, 6],\n",
              "       [6, 7, 8]])"
            ]
          },
          "metadata": {},
          "execution_count": 10
        }
      ]
    },
    {
      "cell_type": "code",
      "source": [
        "import numpy as np\n",
        "x1 = np.array([[2,3,4], [2,5,6], [6,7,8]])\n",
        "x1"
      ],
      "metadata": {
        "colab": {
          "base_uri": "https://localhost:8080/"
        },
        "id": "z8_9NjJXj-Yi",
        "outputId": "6bc4d922-a0b1-4cb3-ad35-e11d8c90ae1e"
      },
      "execution_count": null,
      "outputs": [
        {
          "output_type": "execute_result",
          "data": {
            "text/plain": [
              "array([[2, 3, 4],\n",
              "       [2, 5, 6],\n",
              "       [6, 7, 8]])"
            ]
          },
          "metadata": {},
          "execution_count": 11
        }
      ]
    },
    {
      "cell_type": "code",
      "source": [
        "ls = [[2,3,4],\n",
        "   [2,5,6],\n",
        "   [6,7,8]]\n",
        "ls"
      ],
      "metadata": {
        "colab": {
          "base_uri": "https://localhost:8080/"
        },
        "id": "xVtKfgROkLLH",
        "outputId": "ba4b6eae-ce3c-43b5-fe0a-3df3d8024473"
      },
      "execution_count": null,
      "outputs": [
        {
          "output_type": "execute_result",
          "data": {
            "text/plain": [
              "[[2, 3, 4], [2, 5, 6], [6, 7, 8]]"
            ]
          },
          "metadata": {},
          "execution_count": 17
        }
      ]
    },
    {
      "cell_type": "code",
      "source": [
        "A = [[0 for j in range(20)] for i in range(10)]\n",
        "A"
      ],
      "metadata": {
        "colab": {
          "base_uri": "https://localhost:8080/"
        },
        "id": "He7OSlS3k_Fg",
        "outputId": "18a24061-1e8f-4cd7-c0c8-f0761cb5ca64"
      },
      "execution_count": null,
      "outputs": [
        {
          "output_type": "execute_result",
          "data": {
            "text/plain": [
              "[[0, 0, 0, 0, 0, 0, 0, 0, 0, 0, 0, 0, 0, 0, 0, 0, 0, 0, 0, 0],\n",
              " [0, 0, 0, 0, 0, 0, 0, 0, 0, 0, 0, 0, 0, 0, 0, 0, 0, 0, 0, 0],\n",
              " [0, 0, 0, 0, 0, 0, 0, 0, 0, 0, 0, 0, 0, 0, 0, 0, 0, 0, 0, 0],\n",
              " [0, 0, 0, 0, 0, 0, 0, 0, 0, 0, 0, 0, 0, 0, 0, 0, 0, 0, 0, 0],\n",
              " [0, 0, 0, 0, 0, 0, 0, 0, 0, 0, 0, 0, 0, 0, 0, 0, 0, 0, 0, 0],\n",
              " [0, 0, 0, 0, 0, 0, 0, 0, 0, 0, 0, 0, 0, 0, 0, 0, 0, 0, 0, 0],\n",
              " [0, 0, 0, 0, 0, 0, 0, 0, 0, 0, 0, 0, 0, 0, 0, 0, 0, 0, 0, 0],\n",
              " [0, 0, 0, 0, 0, 0, 0, 0, 0, 0, 0, 0, 0, 0, 0, 0, 0, 0, 0, 0],\n",
              " [0, 0, 0, 0, 0, 0, 0, 0, 0, 0, 0, 0, 0, 0, 0, 0, 0, 0, 0, 0],\n",
              " [0, 0, 0, 0, 0, 0, 0, 0, 0, 0, 0, 0, 0, 0, 0, 0, 0, 0, 0, 0]]"
            ]
          },
          "metadata": {},
          "execution_count": 21
        }
      ]
    },
    {
      "cell_type": "code",
      "source": [
        "x2 = np.dot(x1,x1)\n",
        "x2"
      ],
      "metadata": {
        "colab": {
          "base_uri": "https://localhost:8080/"
        },
        "id": "rYsuVjkIlVmg",
        "outputId": "01589b19-e882-4e26-aa78-b056aee173c7"
      },
      "execution_count": null,
      "outputs": [
        {
          "output_type": "execute_result",
          "data": {
            "text/plain": [
              "array([[ 34,  49,  58],\n",
              "       [ 50,  73,  86],\n",
              "       [ 74, 109, 130]])"
            ]
          },
          "metadata": {},
          "execution_count": 22
        }
      ]
    },
    {
      "cell_type": "markdown",
      "source": [
        "#🧠 LATIHAN SOAL DI KELAS ⏱️"
      ],
      "metadata": {
        "id": "KEGjH0_P9D1-"
      }
    },
    {
      "cell_type": "markdown",
      "source": [
        "**Matriks Segitiga Paskal**"
      ],
      "metadata": {
        "id": "opcH2yofnmLo"
      }
    },
    {
      "cell_type": "code",
      "source": [
        "n = 5  # Ubah nilai n untuk mengubah ukuran segitiga Pascal\n",
        "\n",
        "pascal = [[1]]\n",
        "for i in range(1, n):\n",
        "    baris_baru = [1]\n",
        "    for j in range(1, i):\n",
        "        baris_baru.append(pascal[i-1][j-1] + pascal[i-1][j])\n",
        "    baris_baru.append(1)\n",
        "    pascal.append(baris_baru)\n",
        "\n",
        "for baris in pascal:\n",
        "    print(baris)"
      ],
      "metadata": {
        "colab": {
          "base_uri": "https://localhost:8080/"
        },
        "id": "fTD4HVOqm0Qy",
        "outputId": "6765bb96-184c-4802-e107-ca7209f7eff2"
      },
      "execution_count": null,
      "outputs": [
        {
          "output_type": "stream",
          "name": "stdout",
          "text": [
            "[1]\n",
            "[1, 1]\n",
            "[1, 2, 1]\n",
            "[1, 3, 3, 1]\n",
            "[1, 4, 6, 4, 1]\n"
          ]
        }
      ]
    },
    {
      "cell_type": "markdown",
      "source": [
        "**LINEAR ALGEBRA**\n"
      ],
      "metadata": {
        "id": "zpnOKJvjn4k4"
      }
    },
    {
      "cell_type": "markdown",
      "source": [
        "1.1 Determinan Matriks"
      ],
      "metadata": {
        "id": "k0jlnx40oB_g"
      }
    },
    {
      "cell_type": "code",
      "source": [
        "import numpy as np\n",
        "\n",
        "# Definisi matriks A dan B\n",
        "A = np.array([[1, 2], [3, 4]])\n",
        "B = np.array([[-1, 3, 0], [2, 1, -5], [1, 4, -2]])\n",
        "\n",
        "# Hitung determinan\n",
        "det_A = np.linalg.det(A)\n",
        "det_B = np.linalg.det(B)\n",
        "\n",
        "# Tampilkan hasil\n",
        "print(\"Determinan matriks A:\", det_A)\n",
        "print(\"Determinan matriks B:\", det_B)"
      ],
      "metadata": {
        "colab": {
          "base_uri": "https://localhost:8080/"
        },
        "id": "ptUmoE8voGe5",
        "outputId": "47134539-2850-4b29-8414-81bdee5b05d8"
      },
      "execution_count": null,
      "outputs": [
        {
          "output_type": "stream",
          "name": "stdout",
          "text": [
            "Determinan matriks A: -2.0000000000000004\n",
            "Determinan matriks B: -21.00000000000001\n"
          ]
        }
      ]
    },
    {
      "cell_type": "code",
      "source": [
        "import numpy as np\n",
        "\n",
        "# Tentukan Determinan\n",
        "# Matriks A\n",
        "A = np.array([[1, 2],\n",
        "              [3, 4]])\n",
        "\n",
        "# Matriks B\n",
        "B = np.array([[-1, 3, 0],\n",
        "              [2, 1, -5],\n",
        "              [1, 4, -2]])\n",
        "\n",
        "# Menghitung determinan\n",
        "det_A = np.linalg.det(A)\n",
        "det_B = np.linalg.det(B)\n",
        "\n",
        "print(\"Determinan matriks A:\", round(det_A))\n",
        "print(\"Determinan matriks B:\", round(det_B))"
      ],
      "metadata": {
        "colab": {
          "base_uri": "https://localhost:8080/"
        },
        "id": "NstsHarOqmAR",
        "outputId": "fa4dc0b6-7003-4a4d-8205-97a6632bde35"
      },
      "execution_count": null,
      "outputs": [
        {
          "output_type": "stream",
          "name": "stdout",
          "text": [
            "Determinan matriks A: -2\n",
            "Determinan matriks B: -21\n"
          ]
        }
      ]
    },
    {
      "cell_type": "markdown",
      "source": [
        "1.2 Transpose Matriks"
      ],
      "metadata": {
        "id": "La6MJ36PomVw"
      }
    },
    {
      "cell_type": "code",
      "source": [
        "# Matriks A untuk transpose\n",
        "A_transpose = np.array([[1, 3, 7, 2],\n",
        "                        [5, 8, -9, 0],\n",
        "                        [6, -7, 11, 12]])\n",
        "\n",
        "# Menghitung transpose\n",
        "transpose_A = A_transpose.T\n",
        "\n",
        "print(\"Transpose matriks A:\")\n",
        "print(transpose_A)"
      ],
      "metadata": {
        "colab": {
          "base_uri": "https://localhost:8080/"
        },
        "id": "J2OdTxooqR7p",
        "outputId": "4910f7ce-cf67-4192-cc23-c842d3119ba2"
      },
      "execution_count": null,
      "outputs": [
        {
          "output_type": "stream",
          "name": "stdout",
          "text": [
            "Transpose matriks A:\n",
            "[[ 1  5  6]\n",
            " [ 3  8 -7]\n",
            " [ 7 -9 11]\n",
            " [ 2  0 12]]\n"
          ]
        }
      ]
    },
    {
      "cell_type": "markdown",
      "source": [
        "#🏆 POST TEST 🎯"
      ],
      "metadata": {
        "id": "J_75vTSXKFGE"
      }
    },
    {
      "cell_type": "code",
      "source": [],
      "metadata": {
        "id": "hOI8Gls9KV05"
      },
      "execution_count": null,
      "outputs": []
    },
    {
      "cell_type": "markdown",
      "source": [
        "- Interpretasi coding:\n",
        "- Interpretasi hasil:"
      ],
      "metadata": {
        "id": "t9x---59KWVI"
      }
    },
    {
      "cell_type": "markdown",
      "source": [
        "📌Catatan:\n",
        "  - Notebook python ini dibuat untuk memudahkan temen-temen belajar ngoding dan pengumpulan tugas.\n",
        "  - Silakan download notebook ini lalu upload di Google Collab milik kalian agar format `pertemuan`, `topik pertemuan`,\n",
        "`tanggal`, `deskripsi pembahasan materi`, `baris coding` dan `interpretasi` bisa disesuaikan dengan kebutuhan teman-teman.\n",
        "\n",
        "  - Interpretasi coding dan hasil dimaksudkan agar teman-teman semakin memahami apa yang dipelajari.\n",
        "\n",
        "  - Deskripsi pembahasan materi dimaksudkan agar teman-teman semakin memahami apa fokus yang dipelajari.\n",
        "\n",
        "  - Tulisan di setiap sebelum baris code disebut `markdown`. Ada beberapa jenis simbol yang memudahkan kepenulisan `markdown` kita, yaitu seperti : untuk mengatur ukuran tulisan biasanya tulisan pada header menggunakan ini`#`, `##`, `###`, untuk membuat pointer menggunakan ini `-`, untuk membuat tulisan ter-highlight menggunakan ini *` `* , untuk short-cut membuat tulisan jadi **bold** gunakan ini `** **`, dan untuk *tulisan miring* gunakan ini `* *` .\n",
        "\n",
        "  - Semangat belajar! 🌟✨\n",
        "\n",
        "©️ LABORATORIUM SAINS DATA 2024"
      ],
      "metadata": {
        "id": "D-tRQnbQK69l"
      }
    }
  ]
}