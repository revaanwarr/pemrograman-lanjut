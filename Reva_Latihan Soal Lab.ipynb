{
  "nbformat": 4,
  "nbformat_minor": 0,
  "metadata": {
    "colab": {
      "provenance": [],
      "authorship_tag": "ABX9TyPYR/2jYRnEQO0Osjo8fsOX",
      "include_colab_link": true
    },
    "kernelspec": {
      "name": "python3",
      "display_name": "Python 3"
    },
    "language_info": {
      "name": "python"
    }
  },
  "cells": [
    {
      "cell_type": "markdown",
      "metadata": {
        "id": "view-in-github",
        "colab_type": "text"
      },
      "source": [
        "<a href=\"https://colab.research.google.com/github/revaanwarr/pemrograman-lanjut/blob/main/Reva_Latihan%20Soal%20Lab.ipynb\" target=\"_parent\"><img src=\"https://colab.research.google.com/assets/colab-badge.svg\" alt=\"Open In Colab\"/></a>"
      ]
    },
    {
      "cell_type": "markdown",
      "source": [
        "**KUIS LAB**\n",
        "\n",
        "**NAMA: Reva Anwar**\n",
        "\n",
        "**NRP: 2C2230003**"
      ],
      "metadata": {
        "id": "ZFjFhUmTQHvW"
      }
    },
    {
      "cell_type": "markdown",
      "source": [
        "# NOMOR 1"
      ],
      "metadata": {
        "id": "VlZZ4UhiQdtz"
      }
    },
    {
      "cell_type": "code",
      "execution_count": 5,
      "metadata": {
        "colab": {
          "base_uri": "https://localhost:8080/"
        },
        "id": "_tAzJylnQEZN",
        "outputId": "4e5ae131-72c8-414e-bc98-4b6710bb97fd"
      },
      "outputs": [
        {
          "output_type": "stream",
          "name": "stdout",
          "text": [
            "Masukkan berat badan atlet (dalam kg): 50\n",
            "kelas=B\n"
          ]
        }
      ],
      "source": [
        "#Meminta input berat badan atlet\n",
        "berat_badan= int(input(\"Masukkan berat badan atlet (dalam kg): \"))\n",
        "\n",
        "#Menentukan kelas pertandingan berdasarkan berat badan\n",
        "if berat_badan < 45:\n",
        "  print (\"kelas=A\")\n",
        "elif berat_badan <= 55:\n",
        "  print (\"kelas=B\")\n",
        "elif berat_badan <= 60:\n",
        "  print (\"kelas=C\")\n",
        "elif berat_badan <= 65:\n",
        "  print (\"kelas=D\")\n",
        "elif berat_badan <= 70:\n",
        "  print (\"kelas=E\")\n",
        "else:\n",
        "  print (\"kelas=F\")"
      ]
    },
    {
      "cell_type": "markdown",
      "source": [
        "# NOMOR 2"
      ],
      "metadata": {
        "id": "6ogM0nCDUqqx"
      }
    },
    {
      "cell_type": "code",
      "source": [
        "bilangan= int(input(\"Masukkan bilangan bulat tiga digit: \"))\n",
        "bilangan_asli= bilangan\n",
        "jumlah_pangkat_tiga= 0\n",
        "\n",
        "while bilangan > 0:\n",
        "  digit= bilangan % 10\n",
        "  jumlah_pangkat_tiga += digit ** 3\n",
        "  bilangan //=10\n",
        "\n",
        "if jumlah_pangkat_tiga == bilangan_asli:\n",
        "  print(bilangan_asli, \"adalah angka Armstrong\")\n",
        "else:\n",
        "  print(bilangan_asli, \"bukan angka Armstrong\")\n"
      ],
      "metadata": {
        "colab": {
          "base_uri": "https://localhost:8080/"
        },
        "id": "mBbW-nZzUu2b",
        "outputId": "a0542807-d2b5-4fe5-8ac3-e0086c7032b8"
      },
      "execution_count": 6,
      "outputs": [
        {
          "output_type": "stream",
          "name": "stdout",
          "text": [
            "Masukkan bilangan bulat tiga digit: 105\n",
            "105 bukan angka Armstrong\n"
          ]
        }
      ]
    },
    {
      "cell_type": "markdown",
      "source": [
        "# NOMOR 3"
      ],
      "metadata": {
        "id": "vprTdMHZWeZQ"
      }
    },
    {
      "cell_type": "code",
      "source": [
        "jari_jari = int(input(\"Masukkan jari-jari bola: \"))\n",
        "pi= 3.1416\n",
        "volume = (4/3) * pi * jari_jari**3\n",
        "print(volume, \"volume bola adalah\")"
      ],
      "metadata": {
        "colab": {
          "base_uri": "https://localhost:8080/"
        },
        "id": "ZLniFU-NWiXp",
        "outputId": "524a302a-9384-4fb8-c204-5642271bb3e4"
      },
      "execution_count": 17,
      "outputs": [
        {
          "output_type": "stream",
          "name": "stdout",
          "text": [
            "Masukkan jari-jari bola: 20\n",
            "33510.399999999994 volume bola adalah\n"
          ]
        }
      ]
    },
    {
      "cell_type": "markdown",
      "source": [
        "# NOMOR 4"
      ],
      "metadata": {
        "id": "7p1N3rcYY_ju"
      }
    },
    {
      "cell_type": "code",
      "source": [
        "jumlah_siswa = 0\n",
        "total_tinggi = 0\n",
        "tinggi_badan = int(input(\"Masukkan tinggi badan siswa: \"))\n",
        "\n",
        "if 100 <= tinggi_badan <= 150:\n",
        "  jumlah_siswa += 1\n",
        "  total_tinggi += tinggi_badan\n",
        "else:\n",
        " print(\"Tinggi badan tidak valid. Masukkan nilai antara 100-200 cm\")\n",
        "if jumlah_siswa > 0:\n",
        "    rata_rata = total_tinggi / jumlah_siswa\n",
        "    print(\"Rata-rata tinggi badan siswa:\", rata_rata, \"cm\")\n",
        "else:\n",
        "    print(\"Tidak ada data siswa yang valid\")"
      ],
      "metadata": {
        "colab": {
          "base_uri": "https://localhost:8080/"
        },
        "id": "6bwfdw7sZF4c",
        "outputId": "f9a92a16-3932-4479-8389-1473de2c1ce0"
      },
      "execution_count": 27,
      "outputs": [
        {
          "output_type": "stream",
          "name": "stdout",
          "text": [
            "Masukkan tinggi badan siswa: 115\n",
            "Rata-rata tinggi badan siswa: 115.0 cm\n"
          ]
        }
      ]
    },
    {
      "cell_type": "markdown",
      "source": [
        "# NOMOR 5"
      ],
      "metadata": {
        "id": "L7sx-J1RdDMu"
      }
    },
    {
      "cell_type": "code",
      "source": [
        "N = int(input(\"Masukkan jumlah mahasiswa: \"))\n",
        "print(\"\\nnama  praktik  uts  uas  akhir  indeks\")\n",
        "\n",
        "for i in range(N):\n",
        "    nama = input(\"Nama: \")\n",
        "    praktik = int(input(\"Nilai Praktikum (0-100): \"))\n",
        "    uts = int(input(\"Nilai UTS (0-100): \"))\n",
        "    uas = int(input(\"Nilai UAS (0-100): \"))\n",
        "    nilai_akhir = 0.2 * praktik + 0.4 * uts + 0.4 * uas\n",
        "\n",
        "    if nilai_akhir >= 85:\n",
        "        indeks = 'A'\n",
        "    elif nilai_akhir >= 75:\n",
        "        indeks = 'AB'\n",
        "    elif nilai_akhir >= 70:\n",
        "        indeks = 'B'\n",
        "    elif nilai_akhir >= 60:\n",
        "        indeks = 'BC'\n",
        "    elif nilai_akhir >= 50:\n",
        "        indeks = 'C'\n",
        "    elif nilai_akhir >= 40:\n",
        "        indeks = 'D'\n",
        "    else:\n",
        "        indeks = 'E'\n",
        "    print(f\"{nama}  {praktik}  {uts}  {uas}  {nilai_akhir:.2f}  {indeks}\")"
      ],
      "metadata": {
        "colab": {
          "base_uri": "https://localhost:8080/"
        },
        "id": "F23VK3qFfSDk",
        "outputId": "0f2128c7-bde6-46eb-a054-daa640f20b5e"
      },
      "execution_count": 31,
      "outputs": [
        {
          "output_type": "stream",
          "name": "stdout",
          "text": [
            "Masukkan jumlah mahasiswa: 2\n",
            "\n",
            "nama  praktik  uts  uas  akhir  indeks\n",
            "Nama: rere\n",
            "Nilai Praktikum (0-100): 98\n",
            "Nilai UTS (0-100): 90\n",
            "Nilai UAS (0-100): 95\n",
            "rere  98  90  95  93.60  A\n",
            "Nama: fatih\n",
            "Nilai Praktikum (0-100): 95\n",
            "Nilai UTS (0-100): 90\n",
            "Nilai UAS (0-100): 98\n",
            "fatih  95  90  98  94.20  A\n"
          ]
        }
      ]
    }
  ]
}