{
  "cells": [
    {
      "cell_type": "markdown",
      "metadata": {
        "id": "view-in-github",
        "colab_type": "text"
      },
      "source": [
        "<a href=\"https://colab.research.google.com/github/revaanwarr/pemrograman-lanjut/blob/main/analisis%20data%20sederhana.ipynb\" target=\"_parent\"><img src=\"https://colab.research.google.com/assets/colab-badge.svg\" alt=\"Open In Colab\"/></a>"
      ]
    },
    {
      "cell_type": "code",
      "execution_count": null,
      "metadata": {
        "colab": {
          "base_uri": "https://localhost:8080/"
        },
        "id": "mP_946cBHNQm",
        "outputId": "de8e60f2-a8e7-4382-a39b-a66dbb06552e"
      },
      "outputs": [
        {
          "output_type": "stream",
          "name": "stdout",
          "text": [
            "Requirement already satisfied: pandas in /usr/local/lib/python3.10/dist-packages (2.2.2)\n",
            "Requirement already satisfied: numpy>=1.22.4 in /usr/local/lib/python3.10/dist-packages (from pandas) (1.26.4)\n",
            "Requirement already satisfied: python-dateutil>=2.8.2 in /usr/local/lib/python3.10/dist-packages (from pandas) (2.8.2)\n",
            "Requirement already satisfied: pytz>=2020.1 in /usr/local/lib/python3.10/dist-packages (from pandas) (2024.2)\n",
            "Requirement already satisfied: tzdata>=2022.7 in /usr/local/lib/python3.10/dist-packages (from pandas) (2024.2)\n",
            "Requirement already satisfied: six>=1.5 in /usr/local/lib/python3.10/dist-packages (from python-dateutil>=2.8.2->pandas) (1.17.0)\n"
          ]
        }
      ],
      "source": [
        "!pip install pandas\n",
        "import pandas as pd"
      ]
    },
    {
      "cell_type": "markdown",
      "metadata": {
        "id": "z-lFBYImHNQy"
      },
      "source": [
        "**Membuat Dataframe**"
      ]
    },
    {
      "cell_type": "code",
      "execution_count": 48,
      "metadata": {
        "colab": {
          "base_uri": "https://localhost:8080/",
          "height": 1000
        },
        "id": "jVpmpHWwHNQ2",
        "outputId": "096ae607-1175-4f67-cec9-221bcbb61ffd"
      },
      "outputs": [
        {
          "output_type": "display_data",
          "data": {
            "text/plain": [
              "<IPython.core.display.HTML object>"
            ],
            "text/html": [
              "\n",
              "     <input type=\"file\" id=\"files-70a91a57-134a-43a8-b9bb-c5e9c9303353\" name=\"files[]\" multiple disabled\n",
              "        style=\"border:none\" />\n",
              "     <output id=\"result-70a91a57-134a-43a8-b9bb-c5e9c9303353\">\n",
              "      Upload widget is only available when the cell has been executed in the\n",
              "      current browser session. Please rerun this cell to enable.\n",
              "      </output>\n",
              "      <script>// Copyright 2017 Google LLC\n",
              "//\n",
              "// Licensed under the Apache License, Version 2.0 (the \"License\");\n",
              "// you may not use this file except in compliance with the License.\n",
              "// You may obtain a copy of the License at\n",
              "//\n",
              "//      http://www.apache.org/licenses/LICENSE-2.0\n",
              "//\n",
              "// Unless required by applicable law or agreed to in writing, software\n",
              "// distributed under the License is distributed on an \"AS IS\" BASIS,\n",
              "// WITHOUT WARRANTIES OR CONDITIONS OF ANY KIND, either express or implied.\n",
              "// See the License for the specific language governing permissions and\n",
              "// limitations under the License.\n",
              "\n",
              "/**\n",
              " * @fileoverview Helpers for google.colab Python module.\n",
              " */\n",
              "(function(scope) {\n",
              "function span(text, styleAttributes = {}) {\n",
              "  const element = document.createElement('span');\n",
              "  element.textContent = text;\n",
              "  for (const key of Object.keys(styleAttributes)) {\n",
              "    element.style[key] = styleAttributes[key];\n",
              "  }\n",
              "  return element;\n",
              "}\n",
              "\n",
              "// Max number of bytes which will be uploaded at a time.\n",
              "const MAX_PAYLOAD_SIZE = 100 * 1024;\n",
              "\n",
              "function _uploadFiles(inputId, outputId) {\n",
              "  const steps = uploadFilesStep(inputId, outputId);\n",
              "  const outputElement = document.getElementById(outputId);\n",
              "  // Cache steps on the outputElement to make it available for the next call\n",
              "  // to uploadFilesContinue from Python.\n",
              "  outputElement.steps = steps;\n",
              "\n",
              "  return _uploadFilesContinue(outputId);\n",
              "}\n",
              "\n",
              "// This is roughly an async generator (not supported in the browser yet),\n",
              "// where there are multiple asynchronous steps and the Python side is going\n",
              "// to poll for completion of each step.\n",
              "// This uses a Promise to block the python side on completion of each step,\n",
              "// then passes the result of the previous step as the input to the next step.\n",
              "function _uploadFilesContinue(outputId) {\n",
              "  const outputElement = document.getElementById(outputId);\n",
              "  const steps = outputElement.steps;\n",
              "\n",
              "  const next = steps.next(outputElement.lastPromiseValue);\n",
              "  return Promise.resolve(next.value.promise).then((value) => {\n",
              "    // Cache the last promise value to make it available to the next\n",
              "    // step of the generator.\n",
              "    outputElement.lastPromiseValue = value;\n",
              "    return next.value.response;\n",
              "  });\n",
              "}\n",
              "\n",
              "/**\n",
              " * Generator function which is called between each async step of the upload\n",
              " * process.\n",
              " * @param {string} inputId Element ID of the input file picker element.\n",
              " * @param {string} outputId Element ID of the output display.\n",
              " * @return {!Iterable<!Object>} Iterable of next steps.\n",
              " */\n",
              "function* uploadFilesStep(inputId, outputId) {\n",
              "  const inputElement = document.getElementById(inputId);\n",
              "  inputElement.disabled = false;\n",
              "\n",
              "  const outputElement = document.getElementById(outputId);\n",
              "  outputElement.innerHTML = '';\n",
              "\n",
              "  const pickedPromise = new Promise((resolve) => {\n",
              "    inputElement.addEventListener('change', (e) => {\n",
              "      resolve(e.target.files);\n",
              "    });\n",
              "  });\n",
              "\n",
              "  const cancel = document.createElement('button');\n",
              "  inputElement.parentElement.appendChild(cancel);\n",
              "  cancel.textContent = 'Cancel upload';\n",
              "  const cancelPromise = new Promise((resolve) => {\n",
              "    cancel.onclick = () => {\n",
              "      resolve(null);\n",
              "    };\n",
              "  });\n",
              "\n",
              "  // Wait for the user to pick the files.\n",
              "  const files = yield {\n",
              "    promise: Promise.race([pickedPromise, cancelPromise]),\n",
              "    response: {\n",
              "      action: 'starting',\n",
              "    }\n",
              "  };\n",
              "\n",
              "  cancel.remove();\n",
              "\n",
              "  // Disable the input element since further picks are not allowed.\n",
              "  inputElement.disabled = true;\n",
              "\n",
              "  if (!files) {\n",
              "    return {\n",
              "      response: {\n",
              "        action: 'complete',\n",
              "      }\n",
              "    };\n",
              "  }\n",
              "\n",
              "  for (const file of files) {\n",
              "    const li = document.createElement('li');\n",
              "    li.append(span(file.name, {fontWeight: 'bold'}));\n",
              "    li.append(span(\n",
              "        `(${file.type || 'n/a'}) - ${file.size} bytes, ` +\n",
              "        `last modified: ${\n",
              "            file.lastModifiedDate ? file.lastModifiedDate.toLocaleDateString() :\n",
              "                                    'n/a'} - `));\n",
              "    const percent = span('0% done');\n",
              "    li.appendChild(percent);\n",
              "\n",
              "    outputElement.appendChild(li);\n",
              "\n",
              "    const fileDataPromise = new Promise((resolve) => {\n",
              "      const reader = new FileReader();\n",
              "      reader.onload = (e) => {\n",
              "        resolve(e.target.result);\n",
              "      };\n",
              "      reader.readAsArrayBuffer(file);\n",
              "    });\n",
              "    // Wait for the data to be ready.\n",
              "    let fileData = yield {\n",
              "      promise: fileDataPromise,\n",
              "      response: {\n",
              "        action: 'continue',\n",
              "      }\n",
              "    };\n",
              "\n",
              "    // Use a chunked sending to avoid message size limits. See b/62115660.\n",
              "    let position = 0;\n",
              "    do {\n",
              "      const length = Math.min(fileData.byteLength - position, MAX_PAYLOAD_SIZE);\n",
              "      const chunk = new Uint8Array(fileData, position, length);\n",
              "      position += length;\n",
              "\n",
              "      const base64 = btoa(String.fromCharCode.apply(null, chunk));\n",
              "      yield {\n",
              "        response: {\n",
              "          action: 'append',\n",
              "          file: file.name,\n",
              "          data: base64,\n",
              "        },\n",
              "      };\n",
              "\n",
              "      let percentDone = fileData.byteLength === 0 ?\n",
              "          100 :\n",
              "          Math.round((position / fileData.byteLength) * 100);\n",
              "      percent.textContent = `${percentDone}% done`;\n",
              "\n",
              "    } while (position < fileData.byteLength);\n",
              "  }\n",
              "\n",
              "  // All done.\n",
              "  yield {\n",
              "    response: {\n",
              "      action: 'complete',\n",
              "    }\n",
              "  };\n",
              "}\n",
              "\n",
              "scope.google = scope.google || {};\n",
              "scope.google.colab = scope.google.colab || {};\n",
              "scope.google.colab._files = {\n",
              "  _uploadFiles,\n",
              "  _uploadFilesContinue,\n",
              "};\n",
              "})(self);\n",
              "</script> "
            ]
          },
          "metadata": {}
        },
        {
          "output_type": "stream",
          "name": "stdout",
          "text": [
            "Saving H05.csv to H05.csv\n"
          ]
        },
        {
          "output_type": "execute_result",
          "data": {
            "text/plain": [
              "{'H05.csv': b'nama,fakultas,nilai_mat,nilai_kim,nilai_fis\\nFarhan Fathur Rahman,FMIPA,57.21,34.14,38.93\\nSteven Margono,FMIPA,67.43,51.5,57.2\\nRyan Sentosa,SAPPK,90.62,37.38,40.73\\nMuhajah Babny Muslim,FMIPA,72.31,38.8,44.79\\nAlvin Natawiguna,FTSL,65.45,57.67,56.39\\nSasti Safitri,FTSL,60.58,41.91,51.55\\nDani Yulianto Putra,FTSL,51.67,35.05,48.69\\nNabila Febitsukarizky Bunyamin,FTTM,71.66,67.61,69.75\\nRatna Siti Khodijah,FTI,73.06,59.16,59.48\\nGita Partiwi,FTSL,69.57,38.84,48.17\\nM Dharin Detama Patra,FITB,64.76,56.89,59.13\\nSubhan Alimul Haq,FTTM,68.29,55.18,69.91\\nAnnisa Anindita,FTI,68.17,55.99,57.2\\nDevi Tiarani Putri,FTI,81.46,46.96,58.87\\nNyoman Triani Herlina Dewi,SAPPK,79.33,37.99,43.0\\nPutri Humaira,FTI,68.1,60.0,53.78\\nFadhel Pramono Gartam,FTI,74.46,28.66,51.6\\nDiana Octavia,FMIPA,84.23,31.62,36.46\\nNaufan Nurrosyid P,STEI,69.94,58.57,70.57\\nAaron,SAPPK,51.49,38.07,44.56\\nAbdul Azis,FMIPA,90.14,31.05,49.4\\nFatima Zahra Firdausi,FTMD,69.2,35.08,40.17\\nIga Andita Lestari,SITHS,54.65,32.81,39.29\\nMuhammad Isyraqi El Hakim,FTI,74.28,51.67,56.67\\nYodi Pramudito,STEI,73.93,54.64,53.28\\nTiar Aji Saputra,FTTM,68.25,42.06,47.04\\nDiar Luthfi Hawari,STEI,73.06,12.98,30.11\\nMuhammad Naufal Farhandio,FITB,79.25,33.25,41.24\\nR B Emil Trisatya Nuriman,FTI,59.88,11.87,22.79\\nGilang Pangestu,STEI,75.1,44.97,53.38\\nMuhammad Fadel Syahputra Gani,FTI,57.73,47.02,56.38\\nRia Tri Wahyuni,FTSL,100.0,39.9,49.78\\nNikomedes,SITHR,78.46,43.18,44.73\\nDita Herdiana,FTMD,60.66,46.84,56.2\\nAndini Indah Pratiwi,FTMD,89.73,43.67,56.49\\nVincentius Martin,SITHR,90.11,48.08,58.72\\nIkhsan Firmansyah,FTI,83.97,48.69,45.1\\nQiva Chandra Mahaputera,FTTM,83.97,36.97,44.65\\nSabilil Akbar Husniaputra,SAPPK,54.2,55.72,68.99\\nKathrinna Rakhmavika Putri,FMIPA,62.26,41.47,48.07\\nGalih Nurcahyo Pangeran Jati,FMIPA,87.51,52.28,63.2\\nNucifera Choerunnisa,SITHR,64.51,35.7,37.14\\nPradipta Alamsah Reksaputra,SAPPK,63.65,21.58,22.48\\nFahim Hadi Maula,STEI,85.45,53.11,62.39\\nVeronica Natasha Adelein,STEI,86.48,43.73,43.34\\nHurriyah Mujahidah,FTTM,57.74,47.77,66.04\\nVincent Theophilus Ciputra,FTI,70.8,36.49,51.71\\nDamar Nurwahyu Bima,FMIPA,53.53,30.02,32.93\\nAdamilyara Aqil Abdulmannan,FTMD,80.02,38.67,58.43\\nAlief Rizky Ramadhan,SITHS,84.59,42.44,40.48\\nArief Syakur Sutedjo,FTTM,84.4,61.21,73.91\\nFayi Raihan Saleh,FMIPA,60.62,32.57,42.34\\nErna Kristiawati,FTI,67.48,46.78,52.3\\nAlbert,SAPPK,70.27,50.1,54.01\\nM Jazztyan Indra Pradana,STEI,53.4,43.06,60.3\\nMoch Ginanjar Busiri,FMIPA,74.29,38.44,49.15\\nAisya Tamara,FITB,71.49,35.86,37.41\\nTyas Arum Widayati,SAPPK,68.57,37.02,53.25\\nArif Saleh,FTI,100.0,59.79,55.33\\nWindy Diwita Nisaekti,FTI,67.15,57.72,54.24\\nAlif Aviano S,STEI,54.11,58.01,73.17\\nPripanca Bunyamin,FTTM,56.45,41.68,57.21\\nGery P O,FTI,55.84,44.41,55.53\\nFidelis Elizabet,FMIPA,41.88,53.44,52.51\\nGde Juliartha Arief Metera,FTMD,79.83,39.88,40.09\\nResita Nindi Hapsari,FMIPA,63.17,28.02,33.32\\nBillie Naldo Herlambang,FTTM,73.33,49.62,53.86\\nEncik Adhiva Rochman,STEI,81.06,35.58,39.54\\nAhmad Ibrahim Fahmi,FITB,100.0,41.5,48.32\\nIga Permata Putri Mentari,STEI,51.18,44.68,54.51\\nNanda,SITHR,69.74,21.65,36.65\\nBenita Vania,SITHS,60.91,49.11,53.34\\nMaya Melisa Wirya,SAPPK,76.08,54.45,59.09\\nMuhammad Azmi,FTMD,79.61,39.87,51.05\\nMuhammad Taher S,FITB,72.9,58.31,66.09\\nBenny Wijaya,STEI,83.97,54.83,70.91\\nAileen Alethea Widyaswara,FTMD,69.56,59.47,65.12\\nFania Anindita Rizka,FTI,61.43,53.07,71.78\\nVincent Wirawan,STEI,78.81,47.67,64.33\\nArdika Fajrul Ihsan,FTSL,60.57,43.05,51.91\\nErick Mulijadi,FTSL,93.82,45.88,51.52\\nKevin,FTSL,48.18,24.89,32.12\\nPutik Amirasari,FITB,84.69,38.94,50.01\\nMelinda Waty,STEI,44.69,42.34,39.49\\nLuthfi Nurul Hidayah Saifudin,FITB,66.69,41.85,57.7\\nNaufal Aulia Aziz,FMIPA,72.42,54.78,50.01\\nTeguh Kristian Tampubolon,FTI,58.11,56.74,58.37\\nIrma Pratiwi,SAPPK,54.28,51.92,61.63\\nJohaniswara Ngadimin,FTSL,61.95,38.34,45.05\\nInung Wahaning Nurani,FTMD,81.01,47.58,52.31\\nMukhlish Ghany Al Fatah,SITHR,50.71,54.43,64.97\\nAndi Bhatara Zharfan,SITHS,33.63,24.74,30.1\\nR Fiddin Yurizka Firdaus,FTSL,70.21,33.56,43.39\\nI Gusti Agung Gede Angga S,SITHR,90.62,31.34,46.38\\nWawan Hermawan,FTMD,45.34,34.56,45.56\\nIrvan Apriliawan,FTI,84.04,49.9,56.19\\nDanny Andrianto,SITHR,68.57,32.91,48.2\\nNabila Amatullah,FTTM,70.95,39.52,38.58\\nDevina Agustina,SITHS,79.44,42.69,52.38\\nCalvin Aditya Jonathan,FTI,47.68,51.62,57.64\\nFauziyyah Khairunnisaa,FTSL,65.15,54.0,70.5\\nBop Duana Afrireksa,FITB,61.63,43.19,44.6\\nMannuel Kevin Suhendra,FTSL,90.32,52.88,55.95\\nKevin Wibowo,STEI,71.13,34.82,39.77\\nWahyuningrum Angesti Lestari,FTI,86.31,52.42,61.9\\nRizky Ayu Ryani Putri,FITB,70.35,37.6,35.73\\nRizky Abdillah Nst,FTMD,70.71,43.37,52.33\\nDeandra Juliana Shita,FTMD,62.53,57.03,53.12\\nChristien Apryanti,STEI,74.88,43.71,47.75\\nTri Wibowo Budhi,FTI,74.8,53.88,64.24\\nSteven,FTMD,93.03,33.59,30.07\\nAndi Yandika Rahmahaji,FTMD,51.58,31.35,43.02\\nAurinda Destri A,FTMD,89.2,27.67,55.06\\nDevi Qisthina Linati,FTI,65.27,69.31,76.61\\nIrvandi Warganegara,FTI,65.13,50.38,51.75\\nSari Minati,FTI,61.01,26.67,37.22\\nKadek Pradnyana Sasmitha,SAPPK,83.95,61.39,64.95\\nCaesar Lanang Kurniawan,FTMD,100.0,42.94,53.3\\nRiatmi,FTI,86.13,59.9,52.93\\nGitta Ayu Putri,FTTM,68.93,48.42,44.5\\nNatasha Rheta,FTI,40.77,46.26,54.62\\nNadya Dhaifina,FTTM,81.69,43.26,51.32\\nIgnatius Julian Rinaldi,FTTM,62.31,40.98,50.9\\nGerry Surbakti,STEI,45.76,60.6,55.12\\nMarisa Dina Witono,FTTM,70.19,42.41,52.5\\nShavira Anandiara,FTSL,82.64,56.75,56.93\\nAverina,SITHS,75.24,44.22,46.49\\nM Ridho Rahman,FTI,67.99,39.42,43.23\\nLivia Zefanya Lionanto,STEI,83.93,49.3,61.83\\nRustinih,STEI,59.36,51.18,61.08\\nEvarina Engelina,FTI,76.43,58.09,60.99\\nSebastian Putra Widjaja,FTTM,84.81,61.77,78.1\\nLaura Estwin Gunawan,STEI,100.0,41.45,50.13\\nPraditya Ajidarma,FTMD,91.3,41.48,51.94\\nDavid Lee Lumban Raja,FTTM,62.95,42.61,53.05\\nAndreas Eka Kurniawan,FMIPA,61.58,58.59,50.48\\nRidho Adrianto,FTI,59.51,43.67,58.0\\nMuhammad Rifky Akbar,FTI,79.64,53.31,59.02\\nDesy Putri Utami,STEI,70.75,36.07,51.49\\nRoro Roudhotul Jannah,FMIPA,56.01,67.03,77.18\\nEdsel Ivander Hang,FTI,82.33,36.24,42.71\\nKhalil Mojadidi,FTTM,84.77,47.36,56.49\\nAgik Promento Yahya,FTTM,52.25,64.3,58.34\\nBinanda Smarta Aji,FTMD,55.77,34.73,36.68\\nFadilla Firmaniah,FMIPA,73.75,53.43,58.55\\nPrima Mangesthy Hati Maria,SAPPK,80.35,49.58,35.01\\nVivan Alvian,FITB,69.92,41.04,47.48\\nAlifah,FTI,65.04,55.4,64.16\\nRahman Adianto,FTI,87.14,47.18,46.38\\nFarid Firdaus,STEI,70.86,33.91,35.12\\nStanley Santoso,STEI,79.91,47.49,46.05\\nThisya Meutia Sari,FTI,76.09,41.92,43.39\\nNanda Youleany Dalillya,FTMD,56.51,34.22,35.97\\nFatih Akbarul Irsan,FITB,74.14,20.95,43.18\\nHadi Noorsalam,FTTM,55.82,32.7,47.3\\nSarah Permanik Isma Putri,FTTM,80.16,48.41,47.14\\nDevi Meitia Sholeha,FMIPA,83.69,47.32,56.39\\nRizki Maulana Arief,FTI,71.11,32.57,30.64\\nIbnu Nur Fikri Muhamad,FMIPA,64.63,42.32,46.59\\nRega Renata Abdullah,FTMD,82.47,43.95,34.38\\nHadhrat Khalil,FMIPA,70.36,52.26,53.24\\nFransisca Tiur Basaria,SITHS,83.78,45.03,51.21\\nFidkya Allisha,FTI,63.38,40.34,40.62\\nPrily Pebriana,SITHR,92.92,49.2,51.12\\nFania Octavia,SITHS,58.28,62.62,71.44\\nThomas Dikas Wibiyanto,FMIPA,94.38,35.15,49.75\\nRobin Renardi Yovianto,FTI,93.71,39.2,45.62\\nVincya Tunggadevi,FTSL,66.87,44.26,58.52\\nMiftahurrizki Albar,FTMD,82.68,36.24,44.79\\nRaditya Putra Nusanto,FTMD,56.01,43.16,54.36\\nYenyen Fatmalasari,FTI,74.88,44.68,42.49\\nRafki Ismed Ghifari,FTI,68.94,44.43,50.91\\nRenitia Murti Rahayu,FTTM,88.23,37.76,51.07\\nSaid Abdullah Abri,FTMD,63.8,33.63,42.57\\nMirah Dahliya Al Chumaero,SAPPK,65.94,16.65,26.62\\nGabriel Frans,FTTM,77.03,39.54,49.16\\nRina Yuliana,FTTM,69.02,41.38,51.99\\nRicky,SAPPK,47.08,44.01,53.14\\nRizki Ramadhan Putra,SAPPK,57.16,60.08,55.54\\nKristiawan Ariwibawa,FTSL,83.77,19.55,24.22\\nRisti Ulfha Z,FITB,66.14,51.92,51.9\\nNasha Pinasthika,FTMD,75.17,41.3,53.87\\nJuwita Maharani,SAPPK,70.07,36.33,44.39\\nAndy Daniel Pandapotan Tarigan,STEI,82.26,42.96,37.11\\nFransisca Viviyanti Susastra,SITHS,75.41,45.32,52.23\\nChany Foresty,FTTM,56.49,28.41,35.08\\nAhmad Zarkasi,FTI,75.16,55.8,49.08\\nKahlil Iman Gani,FTMD,90.81,57.39,52.13\\nArdani Cesario Zuhri,FTSL,68.97,22.27,37.34\\nArij Ashari Nur Iman,FMIPA,70.96,32.7,38.08\\nEki Rizky Afthar,FTI,78.44,30.45,52.95\\nMuhammad Fatahillah Santosa,FITB,72.31,46.05,50.19\\nIbnu Rilandez,FTSL,52.13,39.65,48.94\\nGranantyo Tito P,FTTM,66.34,63.85,69.12\\nEsa Trisaputra Sidiq,STEI,83.38,43.84,55.22\\nAngga Nanda Pratama,FTI,100.0,44.07,64.61\\nIka Khoirun Nisa,FTMD,79.3,51.7,53.26\\nDion Alamsah,FITB,88.17,42.73,49.71\\nNahja Akbar Khalid,FITB,67.02,47.62,56.26\\nBellia Bizarani,STEI,72.0,53.88,64.44\\nFadel Ilhami Nasr,FITB,77.66,49.37,58.13\\nQoniti Amalia,STEI,51.94,29.02,33.84\\nRiana Cyndar Bumi Toar,FTI,46.4,46.91,52.22\\nKevin Adiyasa,FTTM,67.76,23.43,37.97\\nAmiranti Sarah Maudita,FTMD,62.78,44.62,58.34\\nHusin Abubakar Alaydrus,SITHS,78.65,27.36,39.99\\nKevin Indra Saputra,SITHS,45.88,54.6,73.71\\nYoshua Nabara Simbolon,SAPPK,55.25,59.18,66.12\\nDita Pradini,SITHS,70.22,53.01,55.28\\nAurelia H B Matondang,FTMD,62.94,49.79,59.9\\nRaexsyaf Arrahman,STEI,76.08,40.09,60.49\\nAlexander Arqi,FTSL,70.58,40.2,36.59\\nAmelia Valencia,SAPPK,88.16,38.66,51.31\\nPascalis Sadewa Setyanta,FMIPA,66.42,28.47,27.29\\nMohammad Fajar,FTTM,70.17,44.01,35.88\\nSakina Wihantari Sahara Putri,SAPPK,94.87,51.69,51.4\\nAnindita Prameswari,STEI,58.54,52.21,63.98\\nYunita Cahyani Rahadiani,STEI,31.22,60.62,72.58\\nSilfa Humaira Zahra,FTI,75.77,39.84,36.16\\nAndayu Ramadhana,STEI,53.85,51.69,61.3\\nNita Arsita Dewi,SITHS,78.05,33.76,51.59\\nRizti Silwari,FTI,61.37,43.5,51.03\\nDjaka Ariya Putra Ketti,FTI,57.72,27.16,55.28\\nGede Wiyasa,SAPPK,63.21,45.42,62.08\\nMohamad Candra Purnama Hadi,FTMD,83.13,42.21,55.4\\nAlamsyah,STEI,71.19,38.18,42.1\\nNastiti Puspita Kaloka,SITHS,73.21,34.04,36.4\\nTony,FTTM,83.85,55.71,55.56\\nRizki Harpan Riady,FMIPA,57.95,40.59,51.93\\nEkorianto,FTMD,68.59,47.78,54.36\\nGratiani Budi Pratita,SITHR,63.14,56.19,66.25\\nMuhammad Adithya Ekananda S,FTTM,76.16,28.26,34.14\\nYusuf Fadian,FMIPA,70.21,36.38,38.64\\nAmanda Castolina,SAPPK,75.61,33.64,44.32\\nSyaripudin,SAPPK,78.51,39.76,51.34\\nDuto Hakim Maulana,FITB,53.67,50.48,52.02\\nFajar Nurhaditia Putra,FTMD,76.5,47.38,66.98\\nFelicia Christie,FMIPA,72.9,38.37,55.94\\nGalmare Yulia Robert,FTSL,68.42,34.05,38.82\\nMuhammad Yusuf Nurhadi,FITB,85.93,49.66,55.47\\nHafizh Adi Prasetya,FTMD,74.41,37.44,49.12\\nKhairunnissa Aulia Rahmah,FTI,84.62,43.34,52.42\\nChristandy Adiwidjaja,SITHR,68.81,44.23,45.57\\nAnggara Meristya Kreshna Murti,FMIPA,50.87,55.75,59.11\\nMochammad Razick Masyyika,FITB,86.33,34.46,51.29\\nBrilianita Aprilia,FTSL,76.23,49.34,52.35\\nKadek Putri Ambarawati,FTTM,43.11,41.86,51.46\\nAlimatun Nashira,FTSL,67.64,44.32,62.43\\nYais Mulya Aisyah,SITHR,77.21,42.45,55.93\\nI Made Benny Asmara Jaya,FTI,77.73,28.98,36.88\\nMohamad Hanifan,SAPPK,64.06,45.07,60.94\\nR Aryo Tri Adhimukti,FTTM,78.59,40.1,49.39\\nSetu Kurnianto Putra,FTI,65.43,29.7,44.36\\nNaufal Abyan,FTMD,65.04,41.59,52.92\\nNovriady Saputra,FTMD,81.44,50.58,63.36\\nDini Permatasyari,SAPPK,59.72,26.5,42.94\\nEsy Gitatiantini,FTSL,53.6,22.12,45.81\\nMarcel Tirawan,SAPPK,87.05,43.45,39.51\\nAris Tristianto Wibowo,SAPPK,85.71,44.5,56.2\\nIqbal Dwiputra,FITB,29.83,39.58,50.19\\nHeryanto Mardi,STEI,87.29,62.0,65.75\\nFitrie Khairunnisa Hayasa,FTTM,60.67,67.64,74.59\\nNur Indah Mukharromah,SITHR,64.6,28.23,33.54\\nYanuar Sebastian Tandra,FMIPA,89.56,41.02,50.36\\nEben Amadangi Grathias P,FITB,77.7,42.31,44.31\\nMichael Kristie,FTMD,58.06,39.67,65.31\\nKintani Rizky Safitri,FTTM,67.3,47.02,58.75\\nMuhammad Ihya Nurullah,FTSL,49.29,50.79,54.45\\nDominicus Vincent,SAPPK,74.34,36.83,40.3\\nWildan Somantri,FTTM,57.98,30.25,50.95\\nJala Ridwan,SITHS,56.52,47.71,52.23\\nAgung Dhammaratana,FTSL,59.12,53.21,71.16\\nMiftah Farid,FMIPA,83.6,53.85,63.26\\nWahyu Muqsita Wardana,FTI,51.54,51.87,53.31\\nZainiyatul Hamidah,FITB,49.78,36.85,32.87\\nIchiara Disa Putri,FTI,77.63,28.87,29.74\\nYoshua Chrisanto Valentino,FMIPA,68.52,50.07,59.42\\nI Made Ananta Wijaya,FTI,77.04,49.81,38.7\\nBondan Putra Mahardika,SITHR,72.97,59.32,62.97\\nReyhan Alif Firdaus,STEI,66.61,53.38,59.86\\nDanang Primaadi Wibowo,FITB,69.13,49.56,56.21\\nDavid Gabriel,FITB,51.96,38.72,42.86\\nAkbar Prima Jaya,FTSL,38.23,49.81,55.29\\nIqbal Fauzi Aditama,FTI,63.01,32.79,49.47\\nMuhammad Reza Fauzi,FTI,91.3,57.13,55.73\\nMohamad Yusuf Fahreza,FTMD,66.29,54.48,71.18\\nRobertus Kristianto Sukoco,FTMD,67.88,59.96,65.25\\nAdhytia Rian Pratama,FTMD,74.37,52.43,57.72\\nWahyu Abdi Pranata,FTI,73.81,46.67,59.22\\nYufi Nabila Priadi,FTTM,51.2,63.41,82.08\\nAchmad Syahied,FITB,44.82,28.56,29.23\\nTiffany,FTSL,70.36,57.71,65.02\\nHari Semarnasa Saragih,FTTM,82.48,52.51,50.37\\nStefanus Bryan,FTTM,72.37,36.2,46.63\\nKevin Maulidian,STEI,55.03,50.66,72.88\\nMohamad Arifudin Yahya A,FTI,88.92,38.43,48.73\\nFadhil Hafizh Sadewo,FTSL,69.66,64.55,66.54\\nStefanus Mahendra Kusuma Djati,FTI,83.91,43.1,43.11\\nTifaniar Yunitasari,SITHR,66.57,43.43,48.44\\nDimas Galih Pratama,FTSL,74.1,59.81,72.54\\nElfida Mardianita,SITHR,65.18,52.59,55.94\\nRiri Rosyidah,FTSL,50.96,46.89,64.33\\nRina Widyasti Habibah,FTMD,76.71,44.88,46.84\\nAkbar Suryowibowo Syam,FTMD,85.37,47.4,45.45\\nMohamad Fazari Kiano,FITB,93.12,57.34,50.53\\nMuhammad Rizky Hanan Putra,SITHS,67.28,25.89,38.06\\nBrestoff Alexandre Siregar,FTTM,63.19,51.46,47.81\\nAnasthasia Amelia,STEI,55.39,49.84,62.83\\nHarry Hartowo,FTSL,100.0,31.39,47.43\\nRuli Fatmawati,FMIPA,71.78,56.54,59.06\\nBimantoro Galih Setiono,FTSL,60.36,38.88,49.15\\nM Luqman Arif A,FTI,52.86,51.76,60.22\\nTria Oktaviani,FTSL,74.98,57.7,56.89\\nHanif Nugroho Aji,FTI,64.9,60.82,68.98\\nSantalum Alba,SITHR,54.86,25.62,30.7\\nAgus Santoso,FTMD,66.37,46.78,61.51\\nIgnatius Dimas Adiprasetyo,FTSL,63.32,38.42,45.06\\nArinta Dewi,FTSL,72.79,53.46,58.84\\nErick Low,FTI,70.59,62.52,74.11\\nMuhammad Iqbal Tawakkal,SAPPK,64.16,27.5,49.2\\nHarish Muhammad,FMIPA,72.21,54.85,58.84\\nHidayat Sulaeman,FTTM,89.59,55.36,71.68\\nMuhammad Firdaus,FTSL,67.89,50.09,50.01\\nAdam Ramadhan Priatna,FTI,59.44,37.03,58.54\\nAlicia Lizbeth,FTMD,82.88,32.36,43.66\\nAditiawarman,FMIPA,77.3,22.18,30.69\\nJosa Kurniawan,FMIPA,57.38,50.49,76.33\\nUntung Gunawan,STEI,63.5,47.26,51.82\\nSaskia Puspa Kenaka,SAPPK,58.88,27.61,32.87\\nMuhammad Idris,FTSL,67.04,23.88,32.3\\nSteven,FMIPA,72.66,55.19,61.84\\nInasha Vaseany,FTSL,56.67,36.22,55.19\\nJamika Nasaputra,FMIPA,59.74,44.5,59.58\\nMuhammad Ikram Nasution,FTSL,72.03,40.07,57.07\\nYouhan Pratama Febrianto,FMIPA,62.92,26.5,40.74\\nRafid Fikri,FTTM,78.02,59.54,54.14\\nBobby Muhamad Zaky Slamet,FTI,71.72,48.93,56.35\\nDavid Senjaya,FTSL,100.0,37.07,43.83\\nDwi Hizzki Hanisa,FMIPA,78.01,32.49,36.86\\nMario Herman Fazary,SITHS,55.77,38.6,45.72\\nJonathan,FITB,53.73,44.6,61.26\\nHanif Satyo Prabowo,FMIPA,69.58,51.02,55.11\\nMentari Adnin Mahmudah,FTMD,60.91,34.42,47.29\\nMuhammad Rahmanaji Soeparmono,FMIPA,48.74,45.34,56.09\\nFaniar Sukmasari,FTTM,100.0,48.98,51.73\\nEdward Emanuel Alexander,STEI,78.02,46.26,64.84\\nKevin Kristian Gomeri Hutapea,STEI,68.73,54.32,53.99\\nMukhlis Achmad Zaelani,FTI,94.07,62.27,74.75\\nJoel Ezra,FTMD,74.3,54.81,69.28\\nKanzie Nico Putrano,FTSL,88.35,52.98,69.99\\nNur Fakhih Widiatmoko,SITHR,82.24,49.23,62.17\\nSyamsul Haris,SAPPK,87.87,44.23,50.38\\nArdi Zanuar Rizkianto,FTTM,61.22,46.1,47.43\\nTiara Abdah Rahmah,FTMD,60.74,36.3,37.73\\nRio Mardhian,FTMD,81.92,58.06,58.26\\nInsan Nurrizky,FTI,39.34,46.51,63.85\\nRyan Anthony Sugiharto,FTTM,70.03,52.07,66.95\\nAkbar Wirata,FTI,64.15,38.6,50.35\\nGhaniyyu Muhammad,FTI,79.47,58.16,70.27\\nAditya Agung Putra,FMIPA,84.21,59.4,54.38\\nRozy Ibnu Rafin,FTTM,72.98,25.83,40.23\\nAndika Eka S,SITHR,95.48,38.13,46.38\\nBobby Setiawan Sutanto,FTMD,70.14,39.78,52.08\\nGung Nugra Kinaptyan,SITHR,87.56,38.32,40.2\\nCynthia Ghaniyyu Magda,SITHR,58.34,14.94,26.39\\nAna Rossika,FTTM,75.46,26.07,30.34\\nRizki Adi Nugroho,FTI,59.83,37.09,49.55\\nGabby Utchka,FTMD,76.03,56.96,70.04\\nJuris Arrozy,FTMD,65.53,39.5,58.67\\nAlfi Syahr Ahmad,FMIPA,75.01,41.24,45.11\\nBena Pratama Baskoro,STEI,73.49,57.14,66.37\\nJuwanda,FTTM,69.08,56.86,69.35\\nMuhammad Syirazi,FTI,52.96,5.31,15.81\\nRidho Andia H N,FTI,88.8,75.29,71.54\\nLauren Hana Suyana,SITHR,80.89,61.34,53.02\\nMuhammad Irfan Hilman,FTSL,54.45,58.71,58.03\\nSiti Khodijah,FTI,64.46,30.98,40.68\\nFarah Diba,FMIPA,70.08,55.69,63.69\\nSyaf Musyaffaq,STEI,90.76,40.97,39.24\\nRahmi Putri Utami,FITB,79.5,56.51,66.96\\nPuteri Delphia Esther,FTMD,100.0,42.45,53.3\\nAndina Yuni Pratiwi,FTMD,47.36,47.86,51.11\\nRisa Suadiani,FTSL,73.74,28.69,32.3\\nMeli Triana Devi,STEI,80.23,51.38,69.87\\nFelycio Maega Siri,FMIPA,48.19,26.83,24.14\\nIbrahim Gema Fadhillah,FTSL,63.53,75.98,78.74\\nRizkia Kunti Pragati,FTI,84.63,49.04,56.25\\nI Wayan Palton Anuwiksa,FITB,83.31,51.42,63.11\\nChristopher Tanjung,FTI,70.81,50.79,67.19\\nRandy Kusuma,FTI,91.01,33.12,42.99\\nTeuku Muhammad Evranza,FTMD,84.96,47.62,58.68\\nMeidiana Larasati Utomo,STEI,61.15,43.01,43.09\\nDian Pratiwi Adiningsih,SITHS,57.93,50.56,61.29\\nPegi Hendrik Sitanggang,STEI,86.12,42.3,39.32\\nDionysia Bema Nariswari,FTI,81.82,36.78,46.31\\nMaisarah Firdaus,FMIPA,61.23,43.25,62.72\\nIrsyad Firsandi,FMIPA,75.8,49.33,43.99\\nCintya Levina,SITHS,67.45,32.01,43.38\\nFredy Tantri,FTI,67.12,42.42,51.43\\nKhalid Istiqlal Syaifullah,STEI,73.85,30.75,26.79\\nJuluan T G Siagian,STEI,61.25,43.0,57.53\\nKinanti Aprilia Kurnia,FTMD,76.31,24.13,35.16\\nZulnio Rizqy Hafizh B,FTTM,73.35,44.92,61.48\\nRidho Androsterone Askandar,FTTM,57.61,34.15,46.0\\nAuwdi Fernando,SAPPK,62.81,31.74,48.77\\nDeby Hajjar Rakhmadumila,FTI,69.29,61.35,66.31\\nSiti Nurfarikhah,SAPPK,61.37,40.64,50.72\\nJackie,STEI,67.55,48.51,47.47\\nYadi Ferdian,SITHR,74.11,68.77,69.65\\nAji Faishal Nurhakim,FTI,100.0,38.14,34.75\\nSiti Nur Asri,FITB,84.12,51.44,57.54\\nBagaskara Fulki Asya,FTTM,80.11,43.98,47.44\\nMuhammad Ilham,FTTM,77.18,55.31,62.46\\nTyto Baskara Adimedha,FITB,69.41,35.06,42.8\\nAndri Septian,SITHS,63.31,27.62,40.6\\nAbiyyu Hilmy Rusin,FTSL,73.74,48.99,59.18\\nGardhani Muhammad Issaac,FTI,57.53,37.98,55.67\\nJuli Wahyu Prayogi,FITB,67.65,47.99,54.48\\nAdhitya Barkah Arvi,STEI,78.43,55.97,48.67\\nRiksan Herdiana,FTSL,62.52,40.52,50.19\\nGladyza Putri Vanska,FITB,100.0,32.98,45.31\\nErland Andriano,FMIPA,77.89,38.12,44.28\\nKreshna Mukti,FMIPA,75.05,27.32,33.87\\nDestian Tony,FTI,54.83,43.89,51.25\\nVinskatania Agung Andrias,SAPPK,100.0,32.63,43.12\\nKarima Nadya Putri Saefulloh,SITHS,70.91,46.16,48.71\\nAhmad Aji Pangestu,FTSL,74.71,27.35,28.72\\nBudi Rahman,FTTM,79.51,34.24,51.82\\nMuhammad Adi Prasojo,FTI,92.88,48.16,55.4\\nJonathan Edbert,SAPPK,79.52,38.25,43.82\\nWahyu Setyaji Dwiantara,FTMD,72.08,28.67,41.62\\nIntan Chandra Septidhia,FTI,63.45,48.8,37.94\\nDita Ully Manurung,FTI,93.92,56.89,46.82\\nEthandra Farah Adzhani,FTSL,89.25,46.02,47.99\\nMohammad Hamdani,STEI,60.59,64.5,67.32\\nKarin Josefanny,FTSL,47.02,45.13,58.0\\nNia Ayu Anggraeni,FMIPA,57.66,22.41,38.9\\nKhafit Mufadli,FTI,56.94,56.94,72.66\\nArifah Qurrota A Yun,FTSL,66.41,53.61,56.94\\nFaridatus Saidah,FTTM,36.55,52.77,50.37\\nMiranti Fitri Khairunissa,FMIPA,81.51,55.88,60.12\\nFikrianti Surachman,STEI,88.7,62.26,74.45\\nInes Ayostina,STEI,62.21,30.05,52.12\\nMaryanna Istiqomah Pratiwi,FTTM,58.69,49.72,51.95\\nDinan Hadyan Qisthina,FTSL,60.98,45.74,62.03\\nArina Resyta Rahma,FTI,67.78,39.62,49.85\\nLulu Nurwinas Saepudin,STEI,87.6,51.32,71.28\\nDika Fajri Fiisabiilillah,FTTM,61.72,34.5,52.16\\nRahmi Aulia Kamilah,FTTM,79.12,30.78,45.22\\nJanaka Indraputra Adhikrishna,SAPPK,57.02,58.49,57.11\\nHasyim Firdaus,FTTM,54.85,48.2,48.42\\nRaras Handwiyanto,FITB,44.84,48.15,43.7\\nAndyani Putri Kinanti,SAPPK,52.62,35.15,51.37\\nAndreas Santo Pen,FTSL,69.07,43.33,59.25\\nNaomi Putri Tjahyani,FTTM,59.79,37.4,40.51\\nMarchelia Santoso,SITHS,46.02,55.26,59.55\\nSiti Hardiyanti,SITHR,42.67,29.46,48.92\\nDienna Yasmine Hayati,FTMD,61.39,56.29,64.6\\nMaggie Rosalina Halim,FTTM,68.66,76.04,75.09\\nFiona Vidra,FITB,72.79,48.65,41.44\\nKhalid Adil,SAPPK,91.84,48.23,56.53\\nWiedy Nadya Putri,FTSL,67.8,53.78,54.61\\nVatrika Afni Efendi,FITB,72.94,49.32,44.3\\nErvina Putri Abdullah,FTMD,70.0,45.18,47.25\\nDwindra Sulistyoutomo,SITHR,78.36,48.17,62.0\\nTri Sulistyorini,STEI,87.95,30.8,30.89\\nBramanthyo Ario Putra,STEI,90.32,47.99,67.71\\nRevi Risanda,FTI,49.62,29.39,37.56\\nSebastian Gregorius,FTMD,72.93,37.62,48.85\\nRizky Sanditya Arief,FMIPA,66.28,30.18,36.25\\nAndreas Dwi Nugroho,FTMD,78.59,43.89,47.64\\nAulia Hening Darmasti,FTTM,62.37,25.51,43.38\\nHandoko Pramulyo,FTI,92.15,49.38,65.48\\nAgisatyo Yogastama,FTMD,66.68,26.82,34.13\\nMustawa Harier,FTTM,69.15,65.02,65.98\\nMuhammad Nur Pratama,FMIPA,82.94,45.19,54.17\\nAngela Dradjati Dewiatena,FTTM,68.43,15.99,23.69\\nErwin Dwi Ismawati,FTI,88.74,53.88,57.83\\nAhmad Ibrahim,FTTM,70.84,35.02,34.27\\nAndi Dananto,FTI,74.17,34.47,42.82\\nFaradina Anjani K,FTMD,82.73,33.05,43.99\\nMia Emilya,FTMD,34.41,42.85,52.91\\nMaryam Zakkiyyah,FITB,44.77,47.32,66.42\\nFani Puspitasari,FITB,73.08,44.22,55.96\\nLucky Cahyadi Kurniawan,FTSL,65.79,44.67,48.38\\nGregorius Dermawan,FMIPA,100.0,49.02,68.23\\nRahmi K W,FMIPA,69.42,40.76,42.06\\nJunia Fitri,FITB,69.03,44.67,49.51\\nHindra,FTTM,59.62,37.63,34.11\\nAriyanto Raditya Utomo,SITHR,71.73,45.42,41.46\\nVina Alpiani,SAPPK,80.42,42.59,51.48\\nArdian Mahiru Rizal,FTI,65.45,57.52,61.61\\nFiandi Prasetyo,FTI,52.64,41.31,68.68\\nResky Aranda,FTMD,75.47,46.5,55.24\\nHaniyyah Hasna,FTSL,71.67,47.8,48.34\\nOkky Warman,FTSL,74.07,63.48,67.44\\nYani Mustikawati,SITHR,91.8,26.92,28.33\\nMade Sutha Mandhana,STEI,81.96,44.54,51.45\\nArinka Aninditya,SITHS,46.88,58.77,68.82\\nFerry Fernando,FTTM,66.48,50.28,68.93\\nMila Rachmalia,FTI,59.33,50.03,30.55\\nMuhammad Ansy Alghasi,FTI,69.31,52.48,59.29\\nReska Nurul Fadila,SITHR,78.17,54.69,63.61\\nArini Rahmawati,FTSL,67.64,24.35,32.56\\nRaga Adiguna,FTI,91.36,38.65,38.97\\nKevin Ekaputra Yohar,FTI,45.03,38.75,61.85\\nSri Melina,STEI,78.01,37.15,45.31\\nAzka Arrafi Aditama,FTI,58.45,68.96,67.91\\nArda Diska Widi P,FTTM,50.05,56.91,49.58\\nSteven Widyatmadja,FTI,77.76,55.63,67.94\\nNafisatul Mardhiyah,FTTM,67.99,46.0,55.24\\nGibran Erlangga,FTTM,71.45,47.17,49.33\\nGede Anandanugraha K,FITB,45.25,42.87,53.18\\nFahmi Dumadi,FTMD,52.88,66.73,66.36\\nHaity Mella Resita,FTI,58.26,43.27,49.39\\nEga Nathanael Sutoko,SITHS,44.63,46.38,54.62\\nKhoirunnisa Qonita,FTI,68.49,71.52,81.28\\nDian Ade Putri,FMIPA,37.81,51.5,61.6\\nDinda Prihatshandita,STEI,64.11,41.95,63.94\\nFahri Risfa Zulfi,FTMD,75.48,36.35,42.52\\nFathurrahman Feradi,SITHR,68.77,39.33,46.36\\nJulius Riza Febriardi,FTI,68.2,49.99,56.64\\nMuhammad Agha Abiyasa,FMIPA,81.22,43.44,46.15\\nTaufik Banu Setyawan,STEI,70.88,56.2,68.95\\nMuhammad Fariduddin Adham,FTSL,86.65,53.8,40.5\\nRifda Muthia Alviana,STEI,82.57,37.48,38.51\\nDiga Dwayanuarza Dely,FTTM,63.37,49.09,57.73\\nDextrin Ar Rissya,FTI,83.27,46.82,48.71\\nSatrio Dwijayanto,SITHR,80.08,45.91,54.3\\nBryan Andi Putra P S,FMIPA,58.0,40.91,59.81\\nMuhammad Ihsan,FTSL,79.62,51.94,63.05\\nKharis Adi Rahmanto,STEI,62.76,41.45,54.98\\nNadhira Riezkya,FTI,73.09,42.32,48.57\\nTaffy Ukhtia Panduputri,FMIPA,73.04,18.57,22.77\\nLuqman Izzuddin El Hanif,FTSL,68.16,55.89,57.29\\nRahmat Fathoni,FITB,43.14,42.55,56.23\\nRobert,FITB,62.17,51.76,55.86\\nMuhammad Nizami,FMIPA,57.16,42.99,47.44\\nI Gede Putu Fadjar S D,FTTM,88.36,37.63,29.92\\nAbdul Khakim,FTSL,75.96,51.38,63.96\\nKevin Ferdyamin,FTTM,63.85,43.56,44.09\\nRizky Rachmadi,FTSL,65.22,47.35,45.5\\nArdian Dwi Prakoso,FTSL,76.96,30.54,31.71\\nHerna Fahriyah,FTTM,64.68,39.56,50.37\\nChristyan Barualam,SAPPK,87.17,31.63,41.45\\nDwi Angga Bayu Putro,FTI,58.22,34.43,33.13\\nM Dzikri Ahira Soefihara,FTSL,57.02,32.66,42.6\\nReza Alfath Fahlevi,FITB,63.43,41.54,34.71\\nImam Fathurrahman,SITHR,73.07,25.34,23.57\\nNungky Rahtiandari,FTI,72.38,38.69,56.1\\nEric Ongkowijoyo,FMIPA,79.08,46.13,45.58\\nIndriani Yunitasari,FTSL,80.59,37.59,45.04\\nHaryanto,FTI,88.96,27.68,35.91\\nRahyanditya Ilham,FTTM,82.88,29.39,31.64\\nRizka Nadhira Putri,STEI,74.12,53.93,58.06\\nJeffi Maurits Napitupulu,FMIPA,94.83,51.42,53.85\\nAz Zahra Munirul Jannah,FTTM,86.41,58.8,64.04\\nEvan,FITB,85.75,32.52,35.95\\nAziz Setiadi,STEI,91.21,41.9,49.34\\nYulis Amanah Tri Rohmahwati,FMIPA,81.81,50.18,47.35\\nAhmad Zaenudin,SAPPK,87.29,36.84,37.14\\nWarda Marisa Fithri,STEI,85.35,53.96,62.64\\nMuh Ibnu Falah A,FMIPA,72.4,46.99,58.84\\nAbie Putawan,STEI,80.01,34.32,42.89\\nSylvester Chrisander,STEI,49.34,44.26,56.02\\nFathiyul Fahmi,FTMD,70.5,45.95,48.52\\nJosheniel Brian,FTSL,59.28,34.04,26.49\\nAninditya Septiningtyas Soesil,FTI,59.44,45.47,43.86\\nNatsir Habibullah,FMIPA,63.51,49.21,55.33\\nSyarif Hidayatullah,FTTM,66.01,26.55,38.73\\nMohammad Nurfariza Ilahude,FTTM,72.86,39.77,45.49\\nDebrina S D S,FTMD,73.08,43.39,32.29\\nAsra Wijaya,FTTM,43.76,49.72,63.13\\nJesica Fitriana Martasari,FTI,57.18,29.28,29.37\\nFedik Y Hutahaean,FTMD,82.4,42.05,56.4\\nMuhamad Saifudin Ashari,FTTM,66.06,36.0,46.09\\nKiki Rizki Rahayu,FMIPA,74.86,34.45,41.2\\nArlangga Vidi Baswara,FITB,59.0,65.26,59.85\\nHans Herdian,FTI,77.8,44.4,59.47\\nJaisyalmatin Pribadi,FTMD,57.26,53.49,67.0\\nR Annisa Dhini Septi Kinasih,FTSL,73.76,45.93,51.17\\nDimas Haryo Adi Prakoso,FTTM,66.89,28.58,49.59\\nYuka Andriza,FITB,73.94,48.71,53.88\\nSarah Risda Nafisah,SAPPK,51.57,28.41,38.13\\nFahroziah Assyifa,FTI,78.64,41.26,59.49\\nMaifa Diah Fati,SAPPK,62.83,40.24,54.08\\nNadhira Khairunnisa,SITHR,72.48,47.58,56.36\\nYunia Nursita Sari,FTMD,68.58,43.76,58.17\\nAlpin Wisely,FTSL,100.0,53.29,60.15\\nAndi Putra Parlindungan,FITB,61.89,31.35,52.6\\nNizar Istighfarli Ramadhan,FTSL,55.92,39.79,57.84\\nPrathito Andy Wisambodhi,FITB,70.89,48.09,57.97\\nEsther Sefiany,FITB,63.89,42.49,51.07\\nRahmalia Lily D,FTMD,71.1,27.41,34.44\\nKemas Zakaria,FMIPA,51.26,23.04,45.1\\nMega Vianita Mussadah,SAPPK,61.97,49.13,60.71\\nKarin Natasyah,SITHS,78.95,33.89,41.05\\nErlangga Indra Putra Maha,FMIPA,70.58,37.64,43.95\\nIntan Dyah Ayu Prillani Winand,FTSL,73.04,30.8,38.52\\nDonny Satrio Mahartha,FTSL,88.18,36.87,51.79\\nZaky Yudha Rabbani,FMIPA,63.69,47.14,46.97\\nHeny Hanifah,FMIPA,63.25,45.6,62.61\\nAyu Nur Utami Siwi Hariyati,FMIPA,49.81,65.6,69.27\\nHakim Ginanjar,STEI,87.17,31.96,32.53\\nMaulana Nata Nugraha,SAPPK,75.0,51.77,42.08\\nSauda Gina Sartika,FTI,74.03,28.51,57.03\\nHazhiyah Ghaisani Haris,STEI,45.15,59.24,64.71\\nRichard Jason,SAPPK,77.05,44.35,49.64\\nGelar Agung Prabawa,STEI,88.31,19.02,38.29\\nEduardo Meyrianso Simanjuntak,FTI,93.3,53.1,59.07\\nMoh Ismail Adiyaksa Ntoma,FTMD,55.01,40.81,50.03\\nIis Septiana,FTMD,83.43,17.09,20.39\\nNaufal Arifandy,FTI,92.99,40.44,35.37\\nMega Zulfikar Akbar,FTI,69.28,37.53,46.74\\nLazuardi Imani Hakam,FTMD,38.94,64.23,64.06\\nAndi Rahman,FTSL,68.83,44.93,41.44\\nPujianto Wira Pangestu,FTSL,79.92,47.32,61.52\\nBerth Phileinta,FTI,61.15,45.35,44.05\\nArdinda Kartikaningtyas,FITB,69.35,54.91,55.96\\nMochamad Firmansyah,FTSL,71.24,46.23,59.88\\nJonatan Dimeo Hartanto,STEI,65.4,52.88,45.33\\nDeby Suandi,FMIPA,74.2,37.0,54.1\\nReza Restiani,SITHR,63.52,43.12,62.64\\nMizandaru Wicaksono,STEI,76.18,64.95,69.77\\nKartika Kusumadewi,FMIPA,61.05,50.24,55.63\\nVito,FTTM,61.79,30.39,44.56\\nKarina Ayu Trijana,STEI,46.87,41.08,49.05\\nGhina Allaniyyah,STEI,60.15,35.94,41.69\\nRio Pramudita Kaswiyanto,FITB,77.72,40.52,57.66\\nNizar Ghozali,FTSL,74.46,28.73,42.6\\nAstirisha Utami,FITB,52.97,59.18,60.97\\nHermas Puntodewo,FTI,54.3,56.2,69.91\\nIrfianti Wandyani,FTMD,59.56,38.58,42.12\\nAnto Wicaksono,FMIPA,91.1,39.53,44.28\\nNurul Iffat Wirusanti,FITB,47.97,47.47,61.0\\nMuhammad Sohibul Maromi,FTI,83.41,44.07,63.18\\nInda Rahmania,STEI,81.92,43.06,49.49\\nMuhammad Mujaddid,FMIPA,84.76,52.61,57.49\\nRaden Dhiya Teja Martasasmita,STEI,70.17,39.35,40.39\\nRizki Nugraha,SITHR,63.14,43.49,51.33\\nEka Fidiyanti,FITB,92.34,41.19,38.58\\nHana Rutyana Putri Antonio,FTMD,72.73,55.7,63.64\\nDini Suci Lestari,FTMD,77.68,41.02,61.04\\nTimothy Wijaya Karnalim,FTI,74.97,48.79,54.37\\nAlmas Hardiantoro,FTMD,73.58,40.74,44.8\\nSabiq Al Farisy,FTTM,68.52,35.36,42.96\\nMuhammad Septian Alamsyah Putr,FTSL,77.95,42.11,52.07\\nMartin,STEI,60.45,19.37,33.38\\nTubagus Fakhri Muhammad,FTTM,66.86,46.93,43.66\\nHerni Irmayani Risfah,STEI,76.55,32.19,44.19\\nKurnia Sandi Girsang,FTI,62.24,38.14,37.24\\nFebrian Ulfa Ayu Romadhani,FTMD,87.73,38.59,42.97\\nAyu Rizki Ramadhani,FTI,62.66,51.48,48.62\\nBanu Wirandoko,STEI,97.25,24.16,33.2\\nTomy Prasetya,FTI,83.37,44.96,50.47\\nEnrico Arnoldy,FITB,69.18,53.31,65.02\\nFadhel Adam,FTTM,52.83,44.0,41.38\\nAyuning Fauziyah,STEI,78.4,43.27,65.18\\nMeitha Anindya,SITHS,58.12,27.96,20.38\\nYosa Fendra,FTTM,72.06,26.43,35.23\\nSholehhudin Al Ayubi,FTI,79.76,60.42,70.06\\nRachmisanti Hutami,FTI,60.26,31.33,27.92\\nIlma Fadilah,STEI,75.16,39.84,57.67\\nArnold Mateus,SITHR,50.8,39.47,39.61\\nFanji Firdaus,FTSL,95.85,31.7,33.51\\nMuhammad Zulhiyadi Nanda,STEI,89.42,46.06,60.84\\nMochamad Ardiansyah Nugraha,FITB,92.15,42.67,50.48\\nTriananda Ufuk Agung Nugroho,FTSL,55.11,41.76,56.17\\nMuhammad Irfan Hashfi,FTTM,68.76,44.85,47.55\\nAdrian Rakha Piyambudi,FTTM,48.2,49.86,57.77\\nMuhammad Syirodj,STEI,76.84,57.74,59.1\\nAlida Efthyani,SAPPK,69.7,50.56,51.28\\nRizkia Amalia,FTI,62.03,23.76,38.66\\nNadya Aristya,STEI,61.91,44.62,45.74\\nSofia Tunisha,FTI,87.0,47.17,49.84\\nKharisma Jayatra,FTTM,93.98,32.8,36.05\\nSandhi Akhmad Juliadi,FTI,94.49,44.28,55.38\\nIvan Flobert Gultom,SAPPK,60.54,40.9,35.42\\nMutiara Annisa Masruroh,FTI,65.95,41.26,49.72\\nKevin Kristhopher Lumbantobing,FITB,62.31,39.57,49.67\\nRizky Eko Putra,FTI,83.79,39.43,40.3\\nRahandika Febri Arrivani,FTI,93.7,59.38,55.68\\nI Made Artha Segara,FTSL,70.47,58.26,66.44\\nDhitasinta Tresnarismirani,FTMD,71.52,52.79,55.34\\nBagas Prima Anugerah,FTI,73.33,47.84,68.24\\nLavienna Efrata,FMIPA,55.82,43.65,44.83\\nNadilla N Atikasari,FTI,61.42,47.48,53.51\\nWildan Fauzi Rabbani,FTSL,72.52,45.6,49.5\\nMarlina Wirmas,SAPPK,71.81,58.16,56.96\\nFadhil Zaky Widyoseno,FTI,71.1,35.19,46.45\\nRahmat Akbar,FMIPA,56.05,37.0,48.45\\nRana Nafisa Nurdina,FTSL,66.35,16.6,20.19\\nAhmad Yosep Setiaji,SAPPK,86.6,46.51,56.91\\nAmanda Dwisstya Utami,FTTM,89.0,41.37,42.64\\nMohamad Hafiz Al Faza,FMIPA,81.04,46.65,48.61\\nYacho Harmas Sinaga,FTSL,81.69,54.04,56.22\\nTommy Harkey,STEI,48.67,51.45,50.49\\nRaihan Muhammad Fachri,FTTM,71.15,62.88,60.71\\nWanda Yusuf Alvian,FMIPA,70.94,21.42,27.4\\nCatur Putra Novianto,FITB,58.52,57.64,50.66\\nSofy Kurniati Utami,FTMD,63.05,48.07,64.46\\nRenny Meylia Febrianti,FITB,77.2,54.82,66.67\\nTougoss S B,FTI,69.0,49.79,56.17\\nMuhamad Rais Bahtiar,FMIPA,62.35,29.03,45.2\\nMuhamad Burhanudin,FTMD,69.71,38.15,48.49\\nFakhri Hidayat,STEI,49.81,24.07,39.52\\nDimas Agung Dwiparona,FTI,79.08,41.88,60.17\\nLarissa Rahadiyanti,FTI,73.52,44.87,61.88\\nListiani Artha,FTI,82.94,52.09,70.15\\nMutiara Aini,SAPPK,82.71,53.7,60.8\\nNadia Karisa,FTMD,72.05,47.16,55.79\\nDebbi Sisilia,FTTM,70.52,38.95,59.9\\nNadhifa Rafifka Falah Viratama,FTMD,60.44,36.0,51.83\\nDani Firman Sidiq,FTSL,80.24,49.67,67.69\\nEffie Farida Nurmala,FMIPA,76.33,15.48,26.99\\nBagus Prakosa Widyowaskito,FMIPA,74.31,44.21,50.6\\nAgung Cahyadi,FITB,71.8,39.91,44.87\\nBethania,FMIPA,66.91,38.84,47.21\\nIbrahim Musa Arif Nurachman,STEI,80.49,9.59,22.34\\nMohammad Radja Polem G M R M T,STEI,50.12,42.4,53.76\\nEstu Singgih Kharisma,FTI,47.98,56.82,58.93\\nFajar Kurniawan,FTMD,53.93,68.87,72.3\\nMuhammad Akbar Pradipta,FTI,68.03,64.87,70.07\\nJumadi,FTI,63.12,59.9,67.85\\nVivian Angelin Siri,FTI,54.29,33.15,38.61\\nSetya Andini Larashati,FTMD,81.31,53.37,56.84\\nOktaviani Br Sagala,FMIPA,60.04,40.05,53.0\\nVanessa Purnawan,FTI,56.8,38.31,35.23\\nYanisa Zafira,FTTM,83.49,30.23,39.38\\nRisa Ristia Arisanti,SITHR,62.44,38.63,53.77\\nItsnaini Fathu Rahmah,STEI,78.06,68.13,71.74\\nDedy Leonardo Nadeak,SAPPK,66.71,39.86,43.26\\nBramantyo Eko Kurnianto,FMIPA,51.21,24.18,31.57\\nVeby Lin Zonia,FTTM,63.33,47.37,55.37\\nAdam Muhammad,STEI,82.82,53.28,54.72\\nNikita Pradnya Paramita S,SAPPK,75.58,39.72,45.63\\nAhmad Eka Siwi,FTTM,77.32,39.74,44.23\\nLatif Muhammad Badra,FTMD,89.6,45.31,46.2\\nHanryano Yehezkiel Lethe Sarun,FTTM,88.73,31.14,32.77\\nResti Herwita Maharani,FMIPA,79.37,31.49,48.48\\nFauzan Hilmi Ramadhian,FTSL,68.59,25.97,40.33\\nUbaydillah Azzam,STEI,65.77,51.49,61.69\\nDaniel Pandapotan Robertino,FTTM,86.46,57.94,57.98\\nSatria Hidayat,STEI,42.95,32.06,55.56\\nIsro Bayu Farhan,FMIPA,79.54,48.97,52.91\\nLuthfi Chaliqi Taufiq,FTSL,74.22,43.81,46.27\\nKms Mohd Imanuddin Abdurrahman,FTMD,80.67,35.29,48.36\\nDea Aprilia,FTI,75.86,68.07,69.35\\nBill Harison,FTI,68.89,36.93,48.38\\nNathania Eliza,FMIPA,51.89,27.51,35.26\\nGangsar Falahinsan,FITB,79.5,37.91,40.78\\nDaniel Arif Budiman,STEI,76.2,37.36,44.55\\nWenny Yosselina,FTI,61.88,37.84,35.19\\nMuhammad Arif Wicaksono,SAPPK,60.68,37.37,46.03\\nMuhammad Miftakhul Ulum,FTMD,83.66,45.44,55.74\\nSandro Agassi Sitompul,FTMD,87.16,55.42,58.03\\nDita Octhariani,FITB,60.85,41.67,43.41\\nChristopher Dimaz Widyatama,FTI,72.09,45.22,59.27\\nSyarif Hidayat,STEI,89.91,52.02,46.06\\nNanda Tri Wibowo,SITHS,58.01,46.57,56.52\\nDiandra Aullia,FTI,62.07,42.36,50.29\\nAgratama Arfiano,FTTM,61.74,62.58,68.73\\nR Oktanio Sitradewa Ettyatno,FTMD,66.24,43.8,54.8\\nAdrian Jonathan Y,STEI,49.1,70.79,70.43\\nDhita Gustien Andriani,FTI,85.16,56.08,58.68\\nAjeng Sabarini Muslimah,FTTM,70.82,42.6,52.66\\nFiras Pradickto,SITHS,62.22,59.96,65.74\\nCasmika Saputra,FTTM,55.62,52.82,58.42\\nFriska Martha,SITHS,76.62,49.9,64.45\\nWisely Yahya,STEI,63.9,54.67,60.19\\nYonathan Renard Pakpahan,FTTM,85.7,43.75,47.31\\nNindita Nareswari Martoprawiro,FTMD,93.83,41.93,42.67\\nDavid Setianto Setiawan,FTTM,78.44,38.83,42.51\\nRevityas Nanda Laksana,SAPPK,78.47,44.06,50.21\\nMuhammad Alfaruky,STEI,71.32,40.32,44.32\\nNursyahrina,FTMD,51.03,52.6,75.3\\nFajar Caesar Ramadhan,STEI,66.43,40.1,33.38\\nMartin Uanmart Hutasoit,FTMD,74.86,57.72,64.04\\nJacky,FMIPA,81.06,56.19,66.38\\nDendy Suryo Abaddy,SAPPK,100.0,31.61,50.83\\nSugih Gumilar,FTMD,76.3,25.89,29.27\\nTania Ginafirrizqi,STEI,72.81,45.26,51.44\\nSiti Hairunnisa Norfahmi,FTI,65.63,72.74,73.91\\nVina Detri Kirana,FTSL,69.43,59.32,58.01\\nRevi Adelia Hefimaputri,SITHR,53.4,28.73,40.24\\nWenty Gafrina Martin A W,FTSL,77.22,38.81,53.74\\nZeika Deina Amalia,FTI,60.46,33.32,48.73\\nBerkah Suprayogi,FTI,60.85,52.59,46.77\\nR Rizka Dewi Zuleika,SITHS,58.72,46.66,55.12\\nRangga Puraditama S W,FTTM,64.7,50.52,51.77\\nNadia Talitha,FMIPA,47.88,59.06,57.08\\nIis Pujiawati,FTTM,62.99,49.38,53.18\\nAlexander Kevin,FITB,41.31,40.57,56.94\\nHafshah Najma Ashrawi,SAPPK,64.23,38.7,48.07\\nEgi Akbar Anagio,FMIPA,65.06,52.76,48.99\\nNadia Fadila,FTI,75.01,46.87,57.91\\nMirra Hasna Nurdini,SAPPK,63.64,39.66,55.1\\nRiki Bagja S,FTSL,67.07,40.85,39.22\\nRestu Annisa Rachmah,FMIPA,65.76,45.05,52.89\\nKevin Christian,FTMD,77.3,47.18,54.89\\nRichard Leeboy,FMIPA,77.81,43.42,53.83\\nI Wayan Eka Darmawan,FMIPA,73.19,29.43,37.25\\nGumilang Damar Budiman,FTSL,88.43,45.65,47.25\\nAmah Tadzkiroh,SAPPK,92.33,33.22,32.68\\nCatharina Kartika Utami,STEI,72.1,41.87,49.69\\nEdina Amadea Putri,FTMD,79.91,53.4,64.45\\nAhmad Ardiansyah,SITHS,58.77,52.27,64.11\\nKrisdayanti,FTTM,93.35,36.84,48.78\\nUbaidah Ibnul Jarrah,STEI,81.66,41.66,59.7\\nAndrias Ari Perdana,FTI,78.46,58.15,52.76\\nTri Haryanta,FMIPA,88.75,47.17,53.01\\nHalimah Nurdini,SITHR,84.04,59.01,63.22\\nNadia Agni Sheila,FTTM,73.45,32.75,34.32\\nRegisha Diety Puspaprilia,FTMD,63.12,37.88,38.68\\nAgil Nawa Irawan Putro,FITB,54.64,36.3,46.59\\nKristio Rapi,FMIPA,66.55,53.13,66.97\\nBindarrani Muflikha,SITHR,72.92,40.85,44.27\\nYulia Awalina Putri,STEI,71.49,34.96,40.16\\nEko Budi Satriyo,FTSL,80.76,42.12,62.9\\nArista Fitri Diana,STEI,70.53,64.71,64.05\\nTifani Felianti Putri,FMIPA,61.58,43.28,46.72\\nRaden Muhammad Agung Triadi,FTSL,69.68,59.13,63.22\\nJovita Augusta,FTSL,83.04,46.07,50.88\\nPetra Regina Hutabarat,FTSL,78.05,47.1,60.31\\nNurul Mukarromah,FMIPA,64.97,55.55,71.76\\nGeirda Rizky Wirandani,FTSL,76.41,57.45,82.3\\nRiki Tri Prasetyo,FMIPA,53.23,23.67,31.74\\nRamandika Pranamulia,FTSL,73.27,51.01,59.87\\nRhea Aqmarina,STEI,83.06,53.17,66.04\\nYudith Yolanda Matindas,FTI,66.24,53.24,49.58\\nInggi Safitri,SAPPK,66.55,61.25,53.9\\nRismawati Laila Qodariah,FMIPA,60.76,48.21,58.1\\nRiska Sapitri,STEI,73.9,50.7,45.98\\nMuhammad Mahlan Zuhdi Hanan,FTI,72.09,52.31,62.97\\nAlam Hazmi Al Karami,FTI,79.38,48.47,72.42\\nM Luki Nakasira,SAPPK,70.2,26.33,27.23\\nAlam Ahmad Hidayat,FMIPA,73.5,46.93,59.38\\nArya Evan Perdana,FTI,60.76,43.92,50.05\\nZahratul Kamila,FTSL,78.11,42.41,53.37\\nSyarifah Fauziah Alkaff,FMIPA,69.26,52.12,57.49\\nIlma Darojatin,FTMD,85.88,45.2,59.38\\nChintia Rahayu Putri,FTSL,89.5,72.81,56.44\\nNugraha Bastara Putra,STEI,59.97,32.68,35.83\\nGirindra Maheninggalih,SITHR,100.0,39.26,48.58\\nR Aburizal Valdi S,FTTM,83.07,36.71,47.26\\nAdhitya Kusumawardhana,SAPPK,56.85,50.73,52.88\\nMonita Sari,FMIPA,83.63,54.31,61.62\\nMuhammad Tegar M K P,FTSL,84.02,34.8,54.08\\nArimurti Adinegoro,STEI,86.34,50.86,56.05\\nHendryan Suryadi,FMIPA,100.0,52.93,69.79\\nNemi Esita,FTSL,67.89,48.89,52.82\\nNovalin Sinaga,SITHR,71.15,24.47,39.58\\nFikri Sundara,FITB,68.06,37.27,37.34\\nMaria Karina Putri,SITHR,57.24,66.14,73.11\\nJoseph Sebastian Widagdo,SITHR,80.5,52.38,56.41\\nMuhamad Aditio Ramadian,FTI,68.78,38.01,31.45\\nMuhammad Fathahillah Zuhri,FTI,75.51,56.22,73.34\\nAghnia Hauna Muhshi,FTI,64.1,58.94,47.37\\nEtsa Amanda,FTTM,63.7,46.03,57.99\\nIgnatius Aditya Suwignyo,FTMD,75.42,49.9,58.52\\nFarah Nabila Izzati,FTI,76.28,56.54,56.8\\nBuyung Wahyu Suseno,SITHS,73.66,48.64,64.06\\nTrianggi Putra Siregar,FTI,60.19,35.93,48.34\\nIrham Fauzi Abshar,SITHR,55.31,23.52,29.59\\nNayla Majeda Alfarafisa,FITB,50.45,52.02,64.73\\nNanda Adrian,FTI,53.5,32.86,33.82\\nAchmad Noufal,FTI,91.87,57.61,66.07\\nIda Yenny Br Galingging,FTI,64.73,27.18,27.44\\nVincentius Timothy,FTTM,78.31,68.02,55.22\\nTika Puspyta,FITB,79.92,36.53,35.57\\nAndry Deni Wardhana,FITB,68.8,42.99,61.94\\nFalah Fakhruddin,FTI,80.93,50.86,55.81\\nRahmi Deswita,FTSL,55.43,51.84,60.58\\nJalu Eko Harjono,STEI,72.08,50.71,49.4\\nNi Luh Wisma Eka Yanti,SAPPK,100.0,53.47,67.08\\nAlbertus,FTMD,80.82,56.28,64.51\\nDenna Khoirun Nisa,FTTM,91.27,46.97,46.8\\nHafiyyan Rasyid,FMIPA,44.9,37.19,41.02\\nNurul Ayesya,FTSL,83.69,40.76,36.01\\nLuthfi Afiandi Pradipta,FTSL,68.72,52.95,67.93\\nAbdul Rakhman,FITB,61.74,23.04,41.2\\nNina Nugraheni,FTMD,44.5,45.1,52.91\\nSteven Claudio Irvandinata Yl,FMIPA,88.82,43.35,66.81\\nCandra Kusumarahadi,FTTM,71.92,55.59,65.83\\nAldricho Alpha Pollardo,STEI,98.12,59.87,62.6\\nMaulana Aufar Gituri,STEI,66.51,22.94,41.93\\nDinny Windianti,FITB,75.77,45.61,51.68\\nYudist Admiral N,FITB,61.74,65.81,68.66\\nPriscilla Linda Larasati,STEI,88.18,47.22,77.04\\nYordi Kristianto B,FITB,82.79,28.33,33.47\\nNathania Stephanie R K,FMIPA,82.4,50.08,45.38\\nChristina Natasha,FTI,87.76,42.67,55.33\\nDita Rama Sari As,FITB,100.0,31.56,28.88\\nSherly,FITB,85.89,49.77,55.05\\nAna Shofiya Kurniawati,SITHR,40.86,46.64,57.04\\nLeonardus Kevin,FTSL,63.53,19.67,26.15\\nAhmad Zikri,FTSL,91.69,52.6,61.75\\nRisa Dwi Oktaviani,FTSL,67.98,41.13,39.31\\nDanar Wisesa,FTI,69.61,41.54,52.28\\nAnthony Wijaya,FTMD,59.16,40.48,59.15\\nMoch Hasby As Siddiqy,FMIPA,53.96,52.11,58.4\\nPutu Indy Gardian,STEI,65.14,50.78,57.02\\nWidiyanti,FTTM,50.68,45.0,41.39\\nTesya Mardita Claudia,FTTM,76.01,54.54,61.65\\nPrima Utami,FTMD,54.42,43.41,44.42\\nRizki Ramadhan,FTMD,82.72,49.25,63.08\\nNabila Amanda Subroto,FTMD,60.21,44.51,52.06\\nHaryo Edi Wahyupurboyo,FTTM,73.98,41.9,43.49\\nKevin,SITHR,41.32,46.4,42.48\\nPuti Qisthi Nerissa,FMIPA,62.82,36.47,46.27\\nEdho Pramana,FTMD,83.97,27.2,31.3\\nRizki Riadi Perdana,FTTM,72.49,28.19,34.47\\nFaruq Khadami,FITB,74.18,49.23,58.07\\nAlexander Sukono,SAPPK,72.89,57.32,55.04\\nArif Nurrahman,FMIPA,75.1,57.05,67.42\\nAhmad Shodiq Amin,FTTM,65.45,43.57,50.31\\nFatima Kudsyana,SITHS,67.08,36.5,42.0\\nSaiful Anam,STEI,60.26,41.64,66.89\\nSiti Munawaroh,STEI,62.22,73.93,90.13\\nFathiyatu Syarifah,SITHR,51.11,39.94,59.82\\nCornelia Debrina Panglewai,FMIPA,73.69,38.71,40.62\\nAtindriyo K P,FITB,78.66,46.69,45.95\\nAghnia Qinthari Nabilah,FITB,32.6,30.92,46.97\\nVanya Wilhelmina,FTMD,89.19,30.15,34.74\\nAdityo Leonard,FTMD,58.35,54.03,61.92\\nMuhammad Hanif Indra,FMIPA,71.27,39.24,42.05\\nSiska,SITHR,41.69,40.35,58.54\\nSatria Rusdiputra,STEI,50.25,46.64,44.66\\nHaykel Adityawarman,FTSL,77.48,66.52,79.38\\nRizky Fitriani Junaedi,FMIPA,54.94,44.56,48.01\\nFauzi Ramadhani,FTTM,70.2,40.96,35.45\\nFaris Adlantama Prihadi,STEI,82.02,25.91,35.21\\nNur Hidayat Faturochman,FTI,55.43,28.82,33.5\\nMila Isti Riani,STEI,100.0,39.18,43.74\\nRohma Toeyiba,FMIPA,67.54,43.85,48.02\\nMaxs Christian,STEI,78.36,47.45,48.73\\nAyu Indriani Martawilaga,FTI,64.73,51.0,57.08\\nHammam Muhammad Irfantoro,FTSL,84.15,30.3,27.35\\nYola Asis Herawati,FTTM,81.44,44.05,57.57\\nDian Putri Noviyanti,FITB,75.12,36.51,42.09\\nAzhar Alfarisi,STEI,64.85,43.44,53.16\\nSendra Hestiningrum,FMIPA,79.86,21.5,33.37\\nLaisa Nurlaila Raharja,FTTM,91.79,51.01,55.59\\nHendri,SAPPK,69.42,51.58,51.12\\nLarasati,STEI,55.56,42.38,49.28\\nRizky Indra Syafrian,FTTM,67.44,36.97,42.39\\nYulia,FTSL,70.28,53.8,44.75\\nDimas Adinugroho,FTSL,57.26,51.33,58.7\\nRirin Shabrina Faradhillah,FMIPA,72.92,48.08,63.62\\nDevara Tirta Amertha,FTMD,79.78,66.78,74.54\\nAbdullah Fikri Ismanto,FTSL,71.42,37.84,61.21\\nSelma Savira,STEI,46.32,48.74,53.58\\nDavid Marchio Purba,FTMD,60.09,35.64,44.0\\nShelvy Happyniar Trisnawati,FTI,75.08,70.72,78.3\\nAtsna Asmiati Hasanah,FTSL,62.65,40.76,48.65\\nJansen Nirwana,FTSL,80.41,56.22,61.26\\nIngga Marizka Putri,FTI,78.37,37.21,56.21\\nDwi Suci Candraningsih,FTI,76.12,43.16,40.1\\nMuhammad Gilang Perdana Hamim,SITHS,59.49,49.45,51.44\\nLufti Yanuar Sartono,SITHR,70.22,44.32,49.86\\nMuhammad Iqbal Fauzi,FITB,52.74,44.14,49.09\\nSuma Irena Gunawan,FITB,74.56,60.25,65.39\\nMasyitha Larasati,FMIPA,46.91,44.52,58.09\\nRosika Kusharfinna,FTSL,72.48,38.34,31.2\\nKen Kartawijaya,FTI,100.0,26.91,47.53\\nWildan Arief Syauqi,FTI,72.59,43.8,41.71\\nJemi Jaenudin,FTI,55.63,55.98,57.49\\nSabila Maharani,SAPPK,44.64,48.56,60.38\\nAzka Taujih Robbani,FTI,82.82,29.73,37.28\\nDaniel Daniarta,FTI,84.72,30.63,54.92\\nBoston Winata Sipayung,STEI,85.81,32.85,45.45\\nCaroline Tari Novelda,FTI,64.11,45.3,59.47\\nRidho Akbarisanto,FMIPA,68.02,50.24,59.72\\nSteven Kurniadi,FMIPA,69.4,30.95,33.31\\nDelicia Ulyta,FTI,63.76,46.16,50.14\\nNi Luh Putu Asri Cahyani,FTSL,68.62,59.02,62.34\\nDionis Adian,STEI,62.19,36.18,32.62\\nLaksmitha Widyanieputri,FMIPA,60.85,66.57,71.91\\nAhmad Kasmanto,FTI,72.81,25.01,36.24\\nAfdial Muhamad Maghfur,FTI,95.5,47.76,55.04\\nWidya Tania Artha,FITB,66.28,51.35,53.13\\nMuhammad Fakhri Wiratama S,SITHS,100.0,47.59,61.15\\nM Nibrosul Umam,FTSL,75.38,32.55,38.76\\nFran Sanjaya Lumbangaol,STEI,68.66,45.51,48.32\\nAmelia Deasy Rusmawanti,FTTM,89.9,48.96,45.87\\nAlissa Rani Putri,STEI,66.85,38.47,48.79\\nAhmad Triadi,FTI,91.65,50.22,60.79\\nArwin Taruna Rizqurrahman,FITB,63.94,72.98,77.38\\nM Razif Tri Nugraha,SITHS,72.36,45.1,47.82\\nAdhitya Reza,FTMD,70.7,56.91,51.32\\nAnnisa Kasih Pertiwi,FTSL,39.12,41.0,50.48\\nNurul Aeni Amalia Nurjanah,FTSL,63.86,59.62,72.55\\nYolanda Rumenta Zipora,SITHR,55.7,33.61,46.14\\nLaras Dipa Pramudita,FMIPA,77.77,55.75,58.98\\nBudhianto Dwiherjuno,FITB,68.38,38.93,47.84\\nAris Wakhyudin,STEI,72.33,38.56,52.19\\nFahrunnisa Adzqia,STEI,78.48,35.27,48.63\\nIrene Sarah,FTSL,39.7,41.2,52.55\\nJaka Satria Perwana,FTI,89.55,44.52,32.54\\nAlvin Kurniawan,STEI,70.92,66.99,74.73\\nLutfi Andhika,SITHR,47.16,46.06,52.54\\nAlsafana Rasman,FTSL,62.23,46.17,49.59\\nBenita Rachel Praevina Nababan,STEI,47.34,60.12,64.56\\nRichard Andika,FTMD,100.0,48.44,67.71\\nClaudia Priscilla Lamtarida,FTTM,77.67,68.48,71.21\\nSitti Fatimah P H,FTTM,60.43,33.29,41.1\\nAriadne Prawita,FTSL,90.68,49.97,56.9\\nTriasto Adhinugroho,FTTM,78.8,65.42,72.74\\nTrizky Dirgaputera,FTTM,63.42,44.11,48.05\\nDevianti Jakub,FTMD,79.77,42.88,55.51\\nMuhammad Wildan Syakir,SAPPK,54.85,50.72,60.68\\nAchmad Arviandito Caessara,SAPPK,65.58,61.82,59.14\\nMuthia Amanda Iskandar,FTMD,75.14,36.64,49.33\\nDeti Karnia,STEI,80.2,51.96,56.58\\nRizka Ayu Amalia,STEI,60.09,55.81,66.39\\nNurul Ulfah,SAPPK,63.02,35.54,52.82\\nHifdzul Fikri,SAPPK,80.28,32.15,32.4\\nDiaz Abdul Aziiz Irawan,FMIPA,62.14,48.91,61.18\\nAlvin Salim,FTMD,62.38,48.46,47.68\\nNanda Feby Rahmadani Lubis,STEI,69.48,15.58,20.99\\nYola Destio Pratama,FTSL,64.81,27.71,29.9\\nNur Fatatik Handayani,FTI,63.12,36.95,49.76\\nRetno Pangestiningtyas,FTSL,85.19,42.68,47.58\\nArief Satrio Rachman,SITHR,67.33,39.46,42.75\\nDidit Wahyu Pradipta,FMIPA,74.85,34.47,38.02\\nTiara Aristya,FITB,81.17,40.97,51.62\\nAhmad Muayyid,FTTM,83.03,18.23,39.29\\nRetnadiah Puteri Utami,FTI,54.39,64.13,66.35\\nMadhan Nur Agista,FTI,70.51,45.92,62.74\\nEric Marshall Ting Toyo,FTSL,53.84,45.86,51.45\\nWulan Puspita Angraini,FTSL,55.34,52.98,66.47\\nMuhammad Aliyyus Herlambang,FMIPA,60.75,26.15,36.6\\nDina Maria,SAPPK,49.86,57.04,58.46\\nMuhamad Maulana Syabani,FTTM,74.37,65.9,77.42\\nJessica Andjani,SAPPK,73.72,42.55,42.28\\nVentina Claudia,SAPPK,85.87,30.58,43.44\\nDadang Kurnia,FTI,71.99,45.73,43.67\\nErfika Maria Edelia,FTI,81.25,32.55,35.44\\nSukmayanti,FTTM,63.02,51.38,56.54\\nDesnia Ayu Karlyna,FITB,85.08,51.41,55.79\\nCandra Aria Sandika Prahastiwi,FTTM,56.78,44.23,66.49\\nFitri Sekar Asih,FTTM,71.49,62.36,76.58\\nMutia Bestiari Buhron,FMIPA,43.83,19.72,31.1\\nBenny Sumaryono,FMIPA,75.48,43.73,50.56\\nGabriella Kartini Panaory,FTMD,87.6,56.81,64.27\\nNatan,FTSL,71.29,47.13,52.23\\nDyah Retno Inaya,FTSL,79.99,33.7,48.93\\nNilam Wahyu Nur Sarwendah,FITB,62.01,49.16,47.09\\nAdi Kadarisman,FTTM,77.64,43.31,67.06\\nChristianto Tano,FMIPA,83.05,20.42,28.26\\nRumaisa Restiani,SITHS,49.78,60.42,71.36\\nArgya Harish,SITHR,59.86,23.46,35.78\\nAdi Suryolaksono,FTTM,61.65,41.94,63.52\\nKhansa Anastya,FTI,67.26,54.2,56.56\\nAinur Rohmah,SAPPK,84.64,28.52,40.45\\nYulistiani Dewi Indriasari,FTSL,72.59,31.04,30.19\\nAhmad Hasan Fauzi,SITHR,94.07,65.09,81.94\\nAvicena Hustatiningtyas,FTI,55.73,45.02,43.5\\nRama Primadi Putera,FTSL,89.31,41.74,40.38\\nDimas Angga Saputra,FTSL,100.0,51.39,48.48\\nSteven Gunawan,FTTM,52.91,26.37,20.42\\nRaditya Rasyad,SAPPK,53.45,50.76,46.8\\nStephani F W Satriyo,FTSL,50.12,55.05,73.59\\nNisa Refika,FTTM,74.65,45.13,53.48\\nVictor Halim,FTTM,94.43,33.64,50.42\\nRisti Desiyanti,FTI,83.05,60.41,53.64\\nAhmad Syamsu Rizal,STEI,92.01,29.96,33.78\\nMohammad Soim,STEI,79.76,40.99,35.9\\nNikko Adhitama,FTMD,61.03,42.37,44.67\\nAnggara Putra Bagustama,FMIPA,50.96,54.29,57.82\\nGregorius Alvin Tanthio P,STEI,59.1,57.9,74.78\\nDiah Alhusna Fitri,FTSL,61.15,37.45,35.03\\nVita Vidyaning Viarsami,STEI,43.43,30.24,27.43\\nHari Utama,FITB,55.76,43.57,56.47\\nM Firdaus Ivadaputra,FTI,67.55,42.29,46.79\\nYohanes Kristian,STEI,73.55,32.23,42.15\\nShintia Fauzia Zain,FTI,83.19,55.0,49.64\\nBrigita Diaz Primadita,FMIPA,74.54,43.87,60.31\\nRavel Alviando Junior,FTI,69.55,32.83,45.94\\nAhmad Habib Asyrofi,STEI,86.03,38.23,32.12\\nI B Gd Sumbranang Adhiwiguna,FMIPA,87.98,44.32,52.42\\nKevin Muhamad Lukman,FTI,55.68,42.59,53.13\\nCatherine Erikania Hadiputeri,SAPPK,70.26,44.21,52.29\\nChrestella Stephanie,STEI,45.92,42.75,53.0\\nDyan Noviera Putri,FMIPA,83.56,30.92,39.42\\nEdbert Pradnyaputra,SITHR,58.94,63.52,67.63\\nAlfian Sigma Affritzal,STEI,73.32,48.01,63.51\\nRicky Aditya,SITHR,71.03,46.71,62.63\\nSofia Nurul Adni,FTI,84.65,42.17,46.28\\nAndry Abdul Fattaah,FTI,65.49,45.06,61.55\\nRizka Amirah Rahmi,STEI,69.26,39.9,44.3\\nHayu Rista Chairunisa,SAPPK,74.41,37.03,45.96\\nRival Aji Santosa,SITHR,62.94,42.0,58.07\\nOktavianti,FTTM,67.78,50.13,58.34\\nMuhammad Yusup Ardhan,STEI,79.49,49.92,48.36\\nIldo Rusdiansyah,STEI,100.0,33.2,45.1\\nDini Siti Hanifah,FITB,62.73,45.16,47.42\\nAlessandro Raka Roynanta Aldy,FTSL,76.88,43.72,53.02\\nCharla Aprilia Ernita,FTI,55.59,48.78,66.1\\nStefio Kurniadi,FTTM,69.41,15.62,21.75\\nTania Alpiani,FTMD,58.56,32.45,35.98\\nR Derian Rachmanda S,FTTM,87.61,55.41,55.88\\nAldisha Bintang Wirawan,FTTM,87.77,35.05,40.51\\nRevaldo Abedram Hapaa,FTTM,71.42,33.02,44.1\\nAmalia Fadilla,FMIPA,83.73,42.09,43.19\\nMuhammad Ghiffari Rachman,FITB,58.15,28.76,29.21\\nArdy Kusuma,FTSL,85.21,42.84,44.16\\nGalih Rakasiwi,FTSL,81.83,49.81,38.75\\nSutrisno,FTI,72.75,32.76,44.28\\nDistya Puspa Hanifa,FTTM,77.26,51.39,50.13\\nFella Shofatunnisa,FTI,59.3,44.72,53.17\\nPradnya Emeralda Sigmanandya,FTSL,63.1,52.27,65.72\\nNurul Fitri Handayani,SITHR,84.39,55.89,46.26\\nValenikhe Fitri Nadhira,FMIPA,47.99,27.61,35.55\\nRaymond Hendriawan,STEI,82.74,48.58,45.71\\nMuhammad Rifqi,FTSL,70.18,60.92,72.86\\nClaudy Sonly Daniel,FTSL,63.08,42.8,47.26\\nEvelyn Irawan,STEI,85.05,43.51,51.71\\nJonathan Pratama,FTMD,58.97,56.31,62.87\\nPujiyanti Sri Lestari,STEI,74.13,25.76,31.98\\nGenniya Haya Nur Sadrina,FTTM,92.58,38.99,67.12\\nSri Indah Ihsani,FTI,47.47,44.63,47.66\\nFathia Sabila,FMIPA,53.85,58.03,63.77\\nJacobs Andreas A S,FTI,65.52,39.14,61.67\\nHamzah Al Asadulloh,FMIPA,86.97,33.98,31.88\\nR Rineta Ayu Selandia,FITB,81.84,24.26,33.09\\nI Dewa Putu Surya Eko Bumi,FTI,72.52,57.25,59.19\\nAldi Wendo Kohara,SITHS,60.88,48.83,37.45\\nGunadi,FTTM,34.74,48.99,55.22\\nRaedi Zulfahmi Hanifi,SITHR,60.09,32.32,33.89\\nDian Cahyana Putra,FTI,67.3,54.52,57.42\\nMarlina Fitri Br Saragih,FTTM,56.24,62.27,69.51\\nGifial Fauzi S,FITB,57.34,36.19,36.8\\nYolanda Setyansyah,FTSL,83.31,59.92,44.5\\nZaki Adam,FTI,70.03,44.5,51.48\\nNabilla Dina Adharina,SITHR,43.11,70.95,63.96\\nHilman Arrasyid,FTTM,55.14,68.87,69.82\\nIzni Nur Ibrahim,STEI,56.7,78.46,84.34\\nHana Fauziah Puschy Dae,STEI,73.42,52.06,59.12\\nAlby Arief Dardari,FTSL,84.77,47.11,62.98\\nAmanda Rizky,FITB,97.17,51.18,45.47\\nGien Yuda W Simanungkalit,STEI,48.21,39.33,43.5\\nMuhammad Arif,FITB,42.13,48.91,58.05\\nM Fauzi,FITB,60.08,29.24,36.29\\nKurnia Ferdiansyah,STEI,98.04,49.29,43.54\\nGina Asharina,FTMD,56.95,33.02,44.87\\nDeriandra Alfa Muhyiddin,FMIPA,57.32,54.22,55.17\\nFeruz Kausar,STEI,81.61,76.12,88.4\\nMuhamad Visat Sutarno,FTSL,87.47,49.12,58.63\\nFrans Ambaa,FTSL,85.03,44.93,40.16\\nSamuel Kamajaya,FTSL,64.88,45.75,56.82\\nKarina Nabila,FTSL,74.21,61.88,63.45\\nDinda Annisa Nurdiani,STEI,65.58,43.18,52.69\\nArinta Rosana,SAPPK,51.31,33.35,38.94\\nMisbahudin,FTSL,82.14,35.0,38.68\\nIsmi Miradiani,STEI,61.81,31.06,34.97\\nRyan Achmad Arianto Ekasaputra,STEI,60.13,45.09,43.07\\nClaudia,FTTM,73.25,61.4,60.91\\nDaniel Andhika Putra Subeng,FMIPA,67.42,52.96,64.16\\nIsmail Budiman Riyanto,FTTM,56.3,39.14,52.99\\nAimannur Muharam Tohir,FTI,72.08,46.7,64.67\\nOscar Aristo Damanik,FTMD,65.36,58.52,61.1\\nDicky Cahyadi,STEI,72.46,49.69,60.59\\nJames,FTSL,98.5,71.77,72.65\\nKaysha Floren Devinadiar,FTTM,58.81,48.46,54.86\\nFadhil Mubarhak,SITHR,66.78,45.02,54.3\\nI Made Abirama S B,SAPPK,54.74,22.82,38.27\\nJordi Lokanata,STEI,55.15,49.22,50.93\\nHudan Asharyanto,FTMD,63.0,36.31,49.42\\nAlbert Hutama,SAPPK,56.49,30.33,43.33\\nBimo Putro Suryo Condro,FMIPA,85.46,47.87,59.66\\nTriana Hapsari,SAPPK,71.86,24.16,35.71\\nAgus Domas I,FTSL,72.47,36.56,35.45\\nAhmad Imaduddin,SITHR,84.55,55.84,61.17\\nKevin Alexander,SAPPK,77.7,44.11,56.16\\nCandranita Retna Satuti,STEI,93.87,36.66,43.61\\nDea Cinintia,FTMD,72.8,47.85,63.75\\nErfan Balya,FMIPA,55.84,57.59,65.13\\nHidayat Ihsan Abditama,FMIPA,60.58,66.08,64.6\\nRicky Saputra,FTI,75.71,42.95,45.76\\nAgatha Kiki Adeliaputri,FTTM,64.97,38.16,55.84\\nDavid Siregar,FTTM,62.06,34.49,33.73\\nPoetra Lumaksono Roospradipta,FTI,67.19,28.95,46.68\\nJemy Fernando Limbong,FMIPA,59.37,51.51,57.78\\nUntari Zaeca Warjani,FTSL,88.78,55.27,67.26\\nMuhammad Garda Naufal,FMIPA,66.53,44.77,49.66\\nRefita Ika Indrayati,SITHS,79.41,53.1,65.08\\nDana Riyadi,SAPPK,75.7,57.52,63.03\\nHafiz Aziz,FTSL,99.88,60.39,53.38\\nMuhammad Harits Farabi,FTI,68.4,49.81,59.32\\nOngki Herlambang,FTI,90.29,30.35,32.96\\nAlya Yulina,FTTM,93.69,45.2,46.39\\nAlvin Aditya,FTI,83.79,35.14,47.11\\nErma Tsania,FMIPA,44.27,32.01,34.62\\nArti Indallah Tjakranegara,SITHS,69.15,42.41,46.79\\nIkramtio Kusuma Nursultan,FMIPA,66.14,49.54,59.87\\nRaniasih Sasmitari,STEI,83.11,51.45,57.14\\nRochmah Rochimah,FTSL,45.05,48.68,56.08\\nAndi Ernawati Amri,FITB,79.94,22.12,35.0\\nDena Agustina D,FITB,62.48,49.68,51.27\\nSusi Susilawati,SAPPK,64.77,33.08,44.17\\nIsna Muflihah Mulyaningrum,STEI,71.67,46.9,63.44\\nAdrian Sutanto,FTSL,48.42,33.17,40.24\\nRyandanu Priwanta,FTMD,96.47,36.48,40.91\\nYuanita Ayuning Rahayu,FITB,74.14,34.94,57.33\\nPutri Sarah,SITHS,76.84,44.92,51.02\\nEgi Baio Kohara,FMIPA,58.24,46.71,48.62\\nTeguh Rubiyanto,STEI,74.65,64.97,63.28\\nKhairunnisa,SITHR,58.63,49.1,52.1\\nElvina Ayu Ratnasari,FTI,64.82,39.44,48.39\\nEsron Fernando Eliakim,SITHS,62.32,36.14,44.87\\nEva Fatonah Yunus,STEI,62.64,35.11,50.47\\nThendy Setiawan,FTMD,83.77,51.29,42.54\\nIrko Hasby Nugraha,SAPPK,99.35,61.67,76.55\\nAndra Putri Murbekti,FTTM,78.72,30.95,44.13\\nDini Amalia Dewi,SITHR,91.89,59.6,61.11\\nMartin Sebastian,FTTM,71.15,43.5,42.49\\nAussa Tris Rahmatullah,FTTM,71.02,35.56,49.19\\nDharmawan Alfian Rachmadi,FTI,69.81,29.26,20.43\\nAndini Lestari,FTTM,66.9,31.6,30.98\\nRaby Syafiqi,FTMD,76.87,53.81,60.1\\nFirdaus Abdullah Rosyid,FTI,61.05,51.82,41.45\\nSigit Sembada Sutasman,SITHR,77.32,45.32,52.73\\nJefery,SAPPK,67.49,20.71,33.98\\nPranata Purnama Christian,STEI,66.13,55.01,65.12\\nFernanda Pandu Saputra,FTI,69.22,37.97,48.63\\nRidho Wiryarahadi,FMIPA,55.1,47.13,63.57\\nRido Rizki Perdana,FTSL,64.2,18.61,17.88\\nHafshah H N,FMIPA,70.74,31.69,37.89\\nRizkia Arifani Zain,FTI,56.21,37.82,40.65\\nDwi Tama Nurcahya,FTTM,67.61,63.63,68.93\\nNabila Abyani,STEI,70.66,49.3,51.97\\nJason Kurniawan,FTI,85.19,40.15,39.18\\nAnis Riswati,FTI,65.85,55.96,64.55\\nMochamad Adi Septiono,FMIPA,64.56,48.74,53.55\\nFirza Fadlan Ekadj,FTI,52.41,34.77,33.94\\nCharissa Sue,FTI,73.23,50.18,61.37\\nDiar Hendraloka,STEI,41.34,37.08,44.78\\nMade Jaka Satwika Sukma Prana,FMIPA,82.81,46.28,60.71\\nYogi Aditya Putra,SITHS,60.1,40.77,48.13\\nAri Trigar Timotius Hutahaean,FTSL,74.77,50.74,72.47\\nTharra Kurniaputri,FTTM,88.56,33.36,39.69\\nAlpin Arief,FTTM,76.78,54.93,57.24\\nTiara Dwiputri,FTMD,76.3,71.83,76.42\\nMeigy Savira Ulina,FTTM,67.09,53.95,42.55\\nSasha Shadira,FTMD,53.25,53.71,43.92\\nFirman Gusti,SITHR,63.57,31.51,35.82\\nGorby Wisaksono,FTSL,85.18,57.68,65.96\\nArruya Ashadiqa,FTI,73.83,49.64,52.42\\nMuhammad Faishal Rachman,FMIPA,58.11,42.81,42.18\\nSatrio Muhammad Alif,FTTM,77.81,54.58,65.44\\nSiti Mulyani,STEI,97.05,51.36,56.4\\nAnisa Agtriani,FTMD,83.56,45.97,56.16\\nGolfin Ekatria,FTTM,62.23,67.93,69.04\\nTri Asrie Khalidya,FTTM,63.23,50.09,66.13\\nWildo Fajar Pridana Putra,SAPPK,69.74,36.91,48.28\\nCavin Ornando Simorangkir,FTI,69.85,50.51,63.6\\nDilla Pratiwi,FMIPA,87.55,62.08,60.92\\nAditya Febrianto K,SAPPK,76.28,19.7,33.97\\nAbdullah Husna,FMIPA,55.98,44.49,54.97\\nAnna Maria Kusumaningayu,SITHR,38.81,53.49,60.25\\nAnggita Ghassani Putri,SAPPK,58.0,40.71,46.49\\nKharisma Triandani,SITHR,82.09,63.38,68.1\\nKevin Kegan Kusuma,SITHS,77.65,41.35,53.06\\nFazani Az - Zahra Ifachril,SITHS,49.58,38.8,47.79\\nDian Anindya,STEI,81.66,44.11,57.61\\nRaja Fauzan Lubis,FTSL,63.46,51.44,61.11\\nArjuna,FTI,79.5,43.81,45.74\\nJustian Harkho,STEI,75.48,56.52,53.38\\nEko Wahyu Winarto,STEI,57.3,45.3,55.11\\nAudrey Katherine,FTMD,78.42,26.89,24.3\\nRaditya Narita,FMIPA,63.74,36.22,45.16\\nRachel Nevi Febriana,SITHR,49.31,37.89,46.37\\nShifa Adieni Hanifah,SITHS,93.88,47.69,62.58\\nJeihan Sumawi P,FITB,70.5,48.76,44.2\\nAhmad Aqsha,SAPPK,80.07,34.95,40.49\\nGuntur Heru Wahyu Briliantoro,FTSL,65.94,35.36,46.57\\nDidi Rushadi,FTI,85.4,32.4,53.14\\nSetiadi Suriana,STEI,76.67,39.19,36.82\\nZara Karunia Tanjung,FTTM,77.82,42.56,43.07\\nTry Ajitiono,SAPPK,76.88,43.09,54.19\\nAri Cipta Gunawan,FTI,48.78,33.56,45.7\\nGlory Harimas Sihombing,SAPPK,61.98,46.79,55.24\\nAsti Damayanti,FTI,74.26,58.72,69.69\\nRizki Eka Fafia,SAPPK,65.9,39.3,43.66\\nMahesa Gilang A P,SAPPK,68.05,34.08,38.22\\nHary Rejcky Hasugian,FTI,84.28,25.88,34.14\\nPutra Perdana Hatta Pafirla,STEI,40.64,54.16,64.61\\nMohammad Hafieduddin,FTSL,46.59,36.47,43.98\\nEko Koswara,STEI,57.64,58.59,66.86\\nRangga Priadinta,FTTM,53.63,50.08,57.83\\nIntan Annisa Respita,SAPPK,81.74,54.78,51.05\\nMuhammad Yogi Saputra,SAPPK,80.22,51.45,53.67\\nLukmanul Hakim Durachman,STEI,89.56,52.45,45.41\\nArozaq Ave,FTTM,74.52,44.28,45.61\\nTandika Nisaa Utami,STEI,56.5,37.86,41.23\\nDery Hefimaputri,FTSL,87.91,43.0,52.36\\nSamuelson Putra Sukarto Surbak,FTI,41.28,39.35,52.58\\nAnita Anastassia Gabriella S,FITB,68.68,41.05,46.42\\nAkhmad Ridlo Iqbal Mukaffi,STEI,52.05,40.35,38.96\\nTomi Herseta Bayu Sukma,FTI,75.8,41.27,47.23\\nLudya Nabila Chinta,FMIPA,69.25,72.21,84.89\\nThomas Teguh Wijaya,STEI,53.97,39.55,50.04\\nIntan Dinny Nuralifa,FTSL,68.44,63.06,66.39\\nAnissa Karina Fuadi,SITHS,87.54,42.67,48.96\\nRyan Aji Frans Jaya,STEI,74.23,69.04,81.35\\nAshaeurizky Dilianaputri,FMIPA,56.96,57.22,68.03\\nCici Wulandari,FMIPA,73.79,53.37,64.8\\nRonald Steven,STEI,53.05,34.6,37.59\\nDikdik Permadi,SITHS,81.55,57.0,60.49\\nMardliyahtur Rohmah,STEI,63.15,76.36,74.06\\nAchmad Ariaseta,FTTM,80.35,46.74,59.24\\nMuhammad Isa Almusawi,STEI,81.08,47.23,53.67\\nZoraya Majid,SAPPK,60.45,48.27,49.69\\nR Alf Fajrus S,FTSL,80.7,32.63,44.14\\nHannan Azinuddin,FTI,38.98,23.17,36.87\\nTaofik Hidayatullah,STEI,54.95,36.95,50.98\\nAliftia Febrina,STEI,44.36,54.68,64.77\\nLeilia Naomi Sarosa,FTI,75.84,41.21,44.04\\nIrfan,FTSL,76.52,37.47,54.08\\nShieren,FMIPA,47.93,46.4,56.46\\nTito Hertanto,STEI,65.9,29.32,41.85\\nAugustine Nathania Christanti,FITB,67.45,24.84,25.1\\nBagas Irawandy Trihatmojo,FMIPA,61.68,61.13,66.12\\nJoshua Darryl,FTMD,50.26,40.79,34.46\\nShastia Kautsary Setiyadi,SITHR,67.18,48.97,60.65\\nRaymon Yohanes,FTTM,55.42,54.68,54.82\\nThesa Kemmy Pratama,FITB,73.72,36.94,42.22\\nIndah Ristya Mustika Arum,FMIPA,90.98,39.23,50.32\\nMuhammad Fahri Riadi,FMIPA,64.08,17.47,46.27\\nCandy Olivia Mawalim,STEI,74.47,49.18,66.36\\nNadhira Fakhrani Boelhasrin,STEI,66.58,51.58,47.85\\nJonathan Harpin S M,FTTM,64.75,37.68,53.47\\nAditya Gianto Hadiwijaya,STEI,59.43,51.01,55.57\\nRohati Nurfitriasari,STEI,54.91,39.68,52.45\\nMuhamad Firmansyah Iskandar,SAPPK,99.0,36.99,40.17\\nDara Fara Dilla Ulfiani,FTI,76.15,52.37,53.87\\nTesla Muhamad Abduh,FITB,54.25,35.01,41.31\\nAnggitaning Kinanti,FTI,73.56,56.73,60.12\\nLuthfi Fathin Faishal,SAPPK,71.96,45.24,64.05\\nGanjar Cahyadi,FMIPA,65.62,52.41,57.59\\nPraditya Dwi Wicaksono,FTI,65.74,46.93,47.83\\nMutiara Kusumawardhani,FTSL,63.62,49.56,43.72\\nArief Nur Ihsan,FTMD,71.86,49.62,45.74\\nAnnisa Ayu Putri,FTSL,71.48,48.5,55.39\\nEdi Irtanto,FMIPA,66.17,38.99,54.56\\nAmalia Nurina,STEI,74.09,43.02,46.61\\nSENJAYA,FTI,39.49,33.38,52.58\\nTatwadhika Rangin Siddhartha,FTSL,78.93,41.75,53.75\\nMuhammad Faiz Ghifari,FITB,81.05,42.84,53.24\\nAdli Rahmat Renhoren,FITB,65.11,46.14,49.81\\nHamdani Agusta Asri,FITB,71.33,59.49,51.16\\nSofiya Habiba,FTSL,63.44,51.89,53.26\\nMonique Alxari,FTTM,85.16,35.41,37.61\\nAndre Tansil,FTSL,76.09,49.29,63.59\\nEka Devi Wulandari,SITHS,100.0,41.45,45.46\\nIrene Arifin,FMIPA,61.07,50.69,61.59\\nKariza Fitri Azalia,FITB,62.95,57.48,64.55\\nRandi Chilyon Alfianto,SAPPK,85.52,27.0,37.17\\nYahya Rizki Darmawan,FTI,75.02,59.93,67.68\\nUntoro Eko Saputro,STEI,63.71,44.27,53.85\\nMuhammad Faisol Tanjung,FITB,44.98,62.16,71.25\\nKhalief Budi Indrawan,FMIPA,89.57,55.9,69.98\\nDiah Nofitasari,FMIPA,68.12,35.61,44.1\\nMohammad Rahman Ardhiansyah,FTSL,100.0,41.62,48.51\\nFitrian Muhammad Oddang,FTI,81.76,68.93,68.29\\nMamat Rahmat,STEI,57.83,53.22,54.02\\nAnggriawan Prasetya Putra K,FTI,57.84,38.11,42.53\\nAndreas Bara Timur,STEI,68.97,44.73,62.61\\nIkhsan Sopian Hadi,FITB,63.22,38.49,44.22\\nMisly Juliani,FTSL,67.95,41.5,47.39\\nChristin Stania Manihuruk,FTTM,72.44,54.08,56.7\\nAulia Rachman,FTSL,58.98,44.68,54.1\\nDesiana Indryani,FTSL,72.98,32.67,35.89\\nMuhammad Yusuf Permana,STEI,78.46,53.71,63.6\\nAdil Aldianto Nooril,FMIPA,65.32,69.37,67.19\\nCheryl Livia Sutandar,SAPPK,92.8,30.16,41.21\\nDeoky Pandu Dewanto,FMIPA,66.73,59.82,62.89\\nCaesar Akbar,FTI,65.33,44.29,51.64\\nAndre Prabowo,FTSL,91.0,57.03,65.46\\nTheo Renaldo,STEI,78.08,56.44,59.55\\nMuhammad Fathin Fauzan,STEI,69.07,50.44,46.25\\nDita Arum Sitti Hajar,FMIPA,84.34,42.18,47.26\\nAmalia Ikhsani,SITHR,71.51,32.71,45.46\\nDanny Pangesti Utomo,FTI,68.32,52.44,48.42\\nNovinda Sofya Pertiwi,FTSL,59.52,62.01,76.07\\nNadia Anisya,FTMD,82.19,53.64,59.54\\nBenedictus Thomas Pradipta,STEI,54.75,60.46,62.9\\nTeguh Anwarsyah,FITB,76.1,48.06,57.18\\nLaras Qatrunnada,FTMD,56.63,54.22,70.66\\nLambang Tejo Handoko,FTTM,75.04,53.5,56.63\\nHafsah,FITB,63.85,42.83,62.69\\nBakti Amirul Jabar,FTMD,72.13,47.0,62.1\\nMochammad Yan Pandu Akbar,FMIPA,50.87,40.55,58.46\\nMetika Novitasari,SAPPK,62.77,40.5,50.89\\nPedrick Pratama,SITHR,68.76,49.44,64.7\\nMuhammad Irvandi H,FTI,67.57,49.64,59.35\\nRiezqo Denawa Soprach,FMIPA,75.23,36.05,34.51\\nAfwan Brandika Putra,FTMD,69.23,29.33,48.18\\nAndika Setya Kusumawardani,FMIPA,41.73,42.8,47.98\\nIvan Tejantara,FTI,67.82,37.1,53.51\\nMohamad Farouq Arifin,FTI,86.73,45.64,48.16\\nZaky Abdurrasyid M,FTSL,59.0,51.23,55.77\\nMario Kristiono,FTMD,59.96,41.98,47.0\\nDesi Mayangsari,SITHS,86.69,19.66,26.62\\nIntania Amanda Larasaty,FTTM,90.5,44.91,47.23\\nMargareta Vania Stephanie,SITHS,72.03,43.01,64.11\\nAdriel Ogi,FITB,69.34,48.96,59.94\\nFebriana Dwi Astuti,SAPPK,67.44,45.99,43.66\\nAlvin,FTI,97.93,46.61,47.77\\nVicario Reinaldo,FTI,70.79,65.31,74.1\\nFransiscus Ardhiawan,SAPPK,88.55,39.32,36.72\\nAnggun Indah Sari,FTSL,60.89,53.86,62.99\\nRizki Mahardika Putra,SAPPK,78.08,35.45,39.82\\nOriza Subekti,STEI,65.19,53.08,65.46\\nDeni Setiyawan,SAPPK,79.19,58.79,68.4\\nSuhartawati Sholihah,FMIPA,73.36,60.13,54.18\\nStella Dwijayanti Santoso,FMIPA,73.21,57.52,60.39\\nFadli Rizkiandi,FTTM,40.29,55.04,65.25\\nAbilla Pramita Dewi,FTSL,78.65,34.87,43.42\\nBeryl Wicaksono,FTI,83.81,31.39,38.95\\nVeronika Krasnasari,FTMD,86.17,49.25,54.6\\nTegar Dimas Pradana,SITHR,96.7,40.95,39.28\\nAnnisa Anggreany,STEI,59.73,50.37,53.45\\nTommy Wijaya,FTMD,49.62,33.43,49.23\\nReza Ervin Adytia,FTSL,68.17,29.88,36.5\\nReza Agung Wicaksono,SITHR,70.66,24.7,34.01\\nMuhammad Imam Basyiruddin,STEI,90.33,57.1,57.23\\nOriza Sativa,STEI,43.89,51.06,55.26\\nFauzi Gunawan Nurantono,FTTM,63.14,36.73,52.46\\nTegar Aji Pangestu,FTMD,66.43,49.44,49.59\\nSanti Nurhasanah,STEI,72.88,43.05,56.06\\nReza Abdurahman,FITB,52.94,22.17,35.29\\nTijani Adlina,FTSL,71.07,21.42,43.88\\nMuhammad Alkindi Tawakkal Indr,FTSL,71.38,36.25,48.48\\nGabriela Karnadi,STEI,70.14,58.58,59.85\\nFaisal Prabowo,STEI,61.86,41.72,44.11\\nMuhammad Ibrahim Al Muwahidan,STEI,87.28,32.12,37.82\\nAndrew Christianto,SITHR,85.12,54.77,49.33\\nNatasia,FTTM,52.81,41.78,62.6\\nAloysius Rio Bachtiar Saragi,SITHR,70.18,39.95,59.1\\nTantri Wulandari,STEI,67.85,37.75,45.73\\nGinda Rizal Hidayat,SITHS,69.26,57.15,65.68\\nNadzifa Hidayati,FTMD,71.17,43.31,46.2\\nNurul Lutfia Candra,SITHS,58.37,42.8,60.53\\nErwin Hariadi,STEI,87.95,2.09,14.43\\nNabiel Luthfi Siddiq,STEI,44.6,55.29,71.61\\nPuspita Indriani,FTSL,75.28,34.28,46.54\\nWidya Pratiwi,FMIPA,60.49,44.62,55.7\\nSuryani Putri,FTI,61.84,41.99,44.38\\nPilemon Sinaga,STEI,67.99,49.63,49.27\\nKhidir Muhammad Setyazaman,STEI,71.04,35.96,44.51\\nWanda Almira Purnama,FTMD,78.78,49.25,66.2\\nSuryadi Prayudha,STEI,77.64,45.72,64.78\\nHansen Leonard Andreas,STEI,72.55,58.65,61.25\\nReni Anggraeni,SITHS,61.19,39.97,53.68\\nEnzharani F Siregar,FTI,84.19,43.35,46.81\\nNadira Astarini,FMIPA,80.33,25.26,21.76\\nAhmad Syarif,SITHS,60.96,54.05,79.4\\nYuvizar Putra Pratama Sofyan,FTSL,86.82,48.3,62.49\\nWijayanti Kusumastuti,FTMD,68.27,47.65,49.36\\nBudi Herwanto,STEI,47.87,31.51,48.61\\nAhmad Rizdaputra,FTSL,81.14,40.58,39.43\\nIbnu Farhan Kathin,SAPPK,91.52,52.45,62.87\\nZein Patricia Harinda,STEI,57.07,46.23,53.41\\nPandji Olaf Sulaiman,FTSL,50.18,48.05,46.42\\nRidwan Muhammad,FTSL,83.4,46.12,44.58\\nMonica Rusianto,FTTM,56.4,47.34,62.84\\nIndita Ramasaphira,FMIPA,83.58,27.85,40.04\\nYonathan Irsan Prasethio,FTTM,77.86,40.23,48.84\\nDavin Kurnia Wangsa,FTSL,69.13,40.19,61.91\\nRevana Hadiani,FTI,54.99,42.37,45.62\\nRyan Muhammad Khawarizmi,FTMD,76.44,58.52,59.58\\nTeguh Priyogo Waluyo,FTI,78.57,44.0,47.71\\nDyta Tameswari Utoro,FMIPA,71.29,49.45,54.33\\nDyaksa Abimantrana,STEI,72.97,33.76,45.04\\nZakaria Sofyan Laksmana,FTSL,66.44,66.38,70.46\\nBrenda Larasdyatie Purnawan,SAPPK,61.31,35.53,53.56\\nHasna,FTTM,79.26,42.59,51.77\\nMochamad Iqbal,FMIPA,58.18,64.87,72.47\\nDeni Candra,FTTM,57.76,53.53,64.13\\nKasyfu Hawari,FTI,54.75,50.84,64.7\\nNindi Meidina Hilma,FTMD,70.61,39.97,38.55\\nDhany Alif Prakoso,FITB,63.11,36.8,53.92\\nMuhammad Ikhsan Dwianto,SITHR,64.45,32.32,38.32\\nIhvan Pahrevy,FTI,90.5,38.04,48.28\\nRendy Priana,FTTM,70.2,47.42,53.2\\nDita Nur Hanifah,FTMD,65.67,45.76,53.57\\nWishnu,FITB,73.96,37.2,61.57\\nIlmi Bintang Fadhilah,FITB,89.15,53.67,58.19\\nRidho Ilham Mury Nanda,SITHR,36.06,53.13,56.85\\nSherry Almira Puspita,FMIPA,79.96,31.13,41.18\\nNurlaela Rahmahwati,FMIPA,76.86,39.42,64.85\\nJohan Febrix Manullang,FTMD,52.89,42.83,48.84\\nFadya Syifa Hani,FTTM,87.09,55.6,62.95\\nMuhammad Rizqi Wicaksono,FTI,45.92,39.85,55.84\\nPingkan Rettyana J,FTSL,74.19,57.96,68.87\\nAndini Nurfatimah Karim,FTTM,73.86,37.19,33.69\\nMuhamad Harya Saputra,FITB,56.45,39.86,44.1\\nRiko Martanto,FITB,64.56,20.62,25.32\\nNaufal Muhammad Herwandi,FITB,62.33,38.72,37.31\\nFarah Nadira Noer,FTTM,69.76,45.91,71.68\\nKevin Yusran Azizi N,FTSL,43.17,33.82,46.81\\nIndira Annisa,SITHS,62.11,38.32,37.08\\nMuhammad Fahrul S,FTMD,53.14,49.04,61.79\\nIndah Nurina Fitri Hapsari,SITHR,64.05,39.61,48.08\\nDimas Habiby Natapraja,FMIPA,64.02,37.65,41.79\\nSaeful Aziz,FTI,79.55,49.07,43.43\\nIqbal Fadhil,SAPPK,69.52,39.13,45.49\\nEtano Garda Ariyan,FTSL,61.77,47.84,51.33\\nFader Tamba,FMIPA,69.37,53.79,58.48\\nErma Putri Fitriawati,FTMD,85.73,48.12,52.41\\nAnzhari Luthfi,FTSL,67.32,49.88,53.93\\nFenny Clara Ardiati,SAPPK,59.78,50.66,57.78\\nYudhistira Adam Nugraha,STEI,68.1,43.95,40.09\\nNirmala Putri,FTI,74.7,33.06,42.37\\nHifdhi Abdussalam,FTMD,62.93,45.63,50.84\\nRudi Herlianto Hapsoro,FTSL,65.28,39.72,51.67\\nLia Veronica Wirjono,FMIPA,49.47,32.73,34.25\\nAzka Nur Afifah,STEI,81.16,35.78,42.79\\nAyu Rana Esadini,FTTM,81.97,49.22,56.2\\nMuhamad Abduh,FTMD,96.59,32.28,38.03\\nAnnisa Purwaningtyas,FTI,75.78,41.7,43.41\\nKharisma Sania,FTSL,61.76,54.9,52.61\\nYakobus Geganaseta,FTI,41.14,44.85,50.39\\nHafiz Nafila Arditama,FITB,72.87,54.61,51.27\\nHelga Pangemanan,FTMD,80.46,41.12,55.99\\nFaisal Ardhy,SITHR,68.29,62.09,66.21\\nM Pandu P Hutagalung,FTI,74.99,40.13,36.85\\nAmanda Anindita Utami,FITB,74.04,32.69,43.23\\nInes Inera,FTMD,66.26,36.02,45.94\\nAdryana Putri,FITB,77.0,52.94,68.57\\nJovita Liyonis,FTI,56.14,64.12,67.11\\nUlya Azmah Khairiah,FTTM,83.9,51.64,60.08\\nRaden Rubani Firly,STEI,83.23,58.9,64.72\\nMuhammad Hidayatullah,FTSL,65.87,57.28,51.32\\nAsni Nuraeny,SITHS,65.86,50.18,54.95\\nAbdul Malik,FMIPA,80.6,57.74,62.12\\nBintang Wacikaputra,FTI,80.94,57.71,54.89\\nArsyad Bakhtiar,SAPPK,44.99,57.2,74.18\\nFatha Ichsan Muhammad,SITHS,52.64,41.21,54.18\\nTri Yanti,FMIPA,89.65,33.86,40.72\\nTheresia Deviana,FTI,32.42,35.2,32.49\\nArif Surahman,FTSL,70.33,70.27,63.79\\nAsep Hikmat Fatahillah,FTI,81.84,58.85,73.01\\nDwika Prathama,FTSL,49.67,53.88,73.19\\nNopriandri,SAPPK,90.07,49.27,49.54\\nPrisca Previa Dewi,FMIPA,71.46,29.26,40.63\\nAfrina Andriani Br Sebayang,FTTM,74.64,59.12,63.49\\nUly Hidayah,FMIPA,69.79,41.06,54.77\\nErdiani Marcelini Erwandi,FITB,73.56,55.29,72.96\\nVenny Sartika,STEI,84.8,28.75,39.09\\nFlora Monica M S,STEI,49.99,37.39,32.93\\nElmo Tuwaidan,SAPPK,81.92,19.82,31.38\\nDiah Fauziah,STEI,63.89,49.1,52.83\\nRendy,STEI,63.57,24.26,31.57\\nMonica Gabriela,FMIPA,57.07,49.06,57.81\\nPutra Hanif Agson Gani,FTSL,85.79,38.22,43.54\\nWilliam Sentosa,FTSL,81.74,47.34,60.33\\nMuhammad Regy Septian,FTSL,72.24,69.99,70.66\\nChaerunisa,FTI,60.18,50.65,47.81\\nLaksmana Hanif N,FMIPA,63.32,45.99,51.26\\nAhmad Fathy,STEI,86.16,53.14,51.81\\nIswari Satya Megawati,SITHR,81.35,38.72,50.47\\nSetianingtyas P,FITB,63.36,52.1,60.76\\nZeffantri,FTTM,46.74,49.04,63.63\\nFarhan Fazlurrahman,FITB,45.56,44.99,51.85\\nAndy Hidayatullah Rosman,FITB,92.87,46.18,49.56\\nHarits Farhan,FTMD,62.92,41.87,55.4\\nFio Alberta,SAPPK,53.2,55.47,58.41\\nPermana Siddiq,SITHS,87.3,44.31,61.65\\nTahera Kania,FTI,100.0,62.84,72.59\\nAulia Ardista Wiradarmo,FTI,90.83,53.12,60.86\\nDestra Bintang Perkasa,SITHR,67.3,39.89,49.63\\nMuhammad Fakhri Faiz,FITB,69.5,43.6,56.77\\nMuhammad Riksa Andanawari R S,STEI,69.8,58.95,66.54\\nPutri Nawangtari,FTTM,64.17,29.57,41.48\\nMaharani,FITB,60.55,55.68,61.47\\nStefanus Reinhard Arditya P,FTTM,73.79,48.46,53.94\\nWira Maulidika,SAPPK,80.54,26.79,36.39\\nAstrid Cintyaputri,FTI,100.0,27.0,42.5\\nRezky Aresta Nafri,STEI,71.47,42.54,53.74\\nRianda Ainurrido,FTTM,100.0,51.02,53.7\\nAditya Setiabudi,SITHR,71.78,65.66,63.12\\nEnrico Adiputra,SITHS,67.82,44.23,52.42\\nRio Apriliady,FITB,77.38,42.53,40.49\\nHana Maulinawati,FTI,62.52,57.69,74.56\\nMuhamad Sony Bintang Pradana,SITHS,68.29,56.66,72.94\\nGierlang Bhakti Putra,STEI,55.69,42.97,50.43\\nRizky Faristyawan,FTMD,74.22,48.65,66.47\\nAstrid Nur Rahma,FMIPA,53.71,42.56,46.13\\nAdelia Sabrina,SITHR,64.3,52.85,61.81\\nAkhmad Syaifullah Faiz,STEI,51.79,40.29,58.27\\nNicko Tama Dhastira,FTI,70.03,37.2,29.5\\nDecia Widyasinta,FTTM,72.54,63.82,72.9\\nElprida Agustina,STEI,56.77,39.33,42.88\\nAbdul Rahman Rifani,FTMD,73.44,42.28,43.21\\nKhairunnisa Puspatriani,STEI,75.99,47.76,52.14\\nMahendra Putrianti Sasongko,FTTM,67.32,59.72,72.36\\nLisnawati,FTSL,71.2,48.58,49.09\\nWendi Andrian Yusuf,SAPPK,51.37,67.26,72.9\\nNurul Lathifah,FTSL,50.69,34.23,32.65\\nBalqis,FITB,82.18,33.81,45.68\\nLutvia Putri Septiane,FTTM,65.93,56.73,39.96\\nJoshua Christian Prawiro,FTSL,81.08,46.82,46.47\\nInayah,STEI,76.5,57.25,75.18\\nBintang Triprabowo Saksono,FTMD,74.43,56.3,55.43\\nAmsalia Florence B,FTSL,77.84,41.09,44.95\\nMega Natalia Harjandi,STEI,76.14,19.62,32.72\\nKevin Winata,FTMD,80.94,49.73,53.58\\nFadil Hidayat,STEI,50.63,50.39,54.02\\nDian Ahmad Hapidin,FTTM,71.63,62.25,55.17\\nBimo Wicaksono,FMIPA,80.37,49.77,54.2\\nNicholaus F D A W,FTTM,71.08,53.51,47.85\\nLuthfi Ahmad Fikri,FMIPA,49.05,42.04,54.31\\nRaihana Nabila,FTI,88.54,49.54,54.98\\nDhella Fitrani Maharani,FTTM,73.78,58.9,56.48\\nSaumi Febrianti Khairunnisa,FMIPA,75.76,63.22,63.27\\nFadly Bestari,FTMD,75.14,58.09,74.68\\nBagus Prabangkoro,STEI,64.68,58.65,67.53\\nKevin Sunjaya,FTMD,71.72,59.12,54.35\\nMichael Christian,FTMD,52.67,43.04,50.73\\nMuhammad Fadhil Ginting,FTI,47.67,39.08,45.55\\nAlda Wydia Prihartini Azar,FTTM,73.34,29.87,44.96\\nReinhart Beta Rasidi,FTI,69.3,23.71,47.61\\nAlvin Nurhadi Wijaya,FTTM,78.88,46.65,54.56\\nSiti Hajar Adzhani Pane,FTTM,64.98,61.42,50.37\\nRenandhitya Fawzian,FTSL,98.75,33.47,42.24\\nReza Eka Putra,STEI,65.4,63.43,72.61\\nMedhira Handinidevi,FTTM,66.06,25.65,33.08\\nKarla Ressita Septadinata,FMIPA,56.47,66.0,58.22\\nUlly Fauzia Damayanti,STEI,85.58,52.63,62.41\\nEulogia Eldisa Ayu Lestari,FTSL,66.21,21.1,38.43\\nYadi Kurniadi,FTMD,80.01,45.1,58.5\\nHandayani Nabilah,FTI,68.0,51.51,56.4\\nNisrina Amalin,FTTM,80.59,40.97,54.83\\nBahary Setiawan,FMIPA,71.29,33.61,52.91\\nRachel Tiurma Rotua,STEI,71.23,27.88,31.44\\nHasbi Harbi Putra,STEI,66.77,54.95,72.15\\nSweeta Elfonsia Tutupary,FTTM,74.42,51.64,59.46\\nReza Aditya Pradana,STEI,46.38,42.67,43.01\\nErvan Sugiana,FTSL,67.86,62.79,66.39\\nSri Mulyani Suharno,FITB,67.74,51.78,58.87\\nIlmiasa Saliha,FTSL,62.23,27.44,40.33\\nGerald Ardhito Milwan,FTI,68.48,54.77,60.28\\nRakhmat Abimanyu Purwanto,FTSL,66.89,34.37,46.56\\nFerry Budi Cahyadi,FMIPA,60.85,32.6,37.15\\nLuhung Pravubinantaka,FTI,85.93,39.72,55.72\\nRahmat Yusuf Lubis,FTI,70.58,63.91,70.79\\nHarish Mahatma Putra,SITHR,60.79,44.63,57.23\\nCindra Mutia,FMIPA,65.6,44.47,61.07\\nRamariansyah Hadi Prawiro,FMIPA,75.83,32.25,44.5\\nTom Jordan,FTSL,80.99,43.43,57.9\\nRian Irawan,FMIPA,61.68,39.41,55.35\\nMohammed Ismail Abdullah P,FTI,68.95,52.97,52.51\\nMuhammad Ihsan,FTMD,54.86,63.32,79.84\\nYoga Prasetio,SITHR,82.11,53.85,57.77\\nAlbert Christian Hutama Putra,FTI,64.28,48.61,54.65\\nNur Aziz Imansyah,FTTM,60.44,32.47,55.3\\nNadia Khairunnisa,FITB,77.91,31.82,32.84\\nGede Rama Udyana,FTI,74.71,51.25,54.22\\nHeni Apriani,FMIPA,54.77,45.38,51.11\\nDwita Nur Krisna,SITHS,61.95,41.03,42.93\\nHamzah Fansuri Awaludin,FTI,56.27,54.01,55.89\\nMohammad Umair Dennyputra,STEI,58.74,43.41,43.23\\nNico Budi Prakoso,FTSL,54.13,55.56,60.84\\nSherley Agustine,FMIPA,49.08,32.54,42.43\\nJonathan Martin Pradipta,FITB,66.53,58.34,49.06\\nMuhammad Arif Furqon,FTSL,67.6,54.89,63.44\\nRully Zulfa Astuti,FTSL,81.15,46.87,47.85\\nIndah Alvernia,FITB,78.74,30.52,52.92\\nDanang Eko Saputro,FTSL,39.36,47.36,50.32\\nAzka Ihsan Nurrahman,FTTM,59.36,64.68,56.66\\nRizqa Amelia Zunaidi,FITB,60.72,28.48,37.45\\nAbdi Pistari M,FTI,68.04,53.4,60.65\\nJody Aria Widjaya,FTI,67.33,43.26,64.2\\nAzka Andhika Luthfan,FMIPA,73.37,55.26,59.81\\nKartika Ayu Savitry,FTTM,71.63,38.63,43.31\\nMia Lisbeth Thomas,SITHR,86.96,46.56,46.93\\nRiko Hasiando Goknipasu N,STEI,77.43,34.74,46.86\\nPelangi Helia Puteri,FTI,89.55,71.13,79.75\\nUtami Wulandari Rachmadi,FTSL,81.54,37.31,50.95\\nMuhammad Ridha Anshari,FTI,51.73,31.51,48.63\\nCondro Priyoaji,FMIPA,50.39,59.47,60.26\\nGianina Amadira,FTI,88.31,36.45,43.32\\nSalsabila Ahmadi,FTSL,61.63,33.74,53.92\\nDyah Ayu Puspitaningrum,FTTM,57.57,38.99,54.57\\nBernard Budiman,FMIPA,60.35,22.25,25.58\\nMuhammad Ali Akbar,FTSL,71.43,17.11,41.47\\nValdo T Olivert Butar-butar,FITB,65.12,48.04,55.38\\nLathifa Nur Ramdhania,FTI,70.97,66.19,64.92\\nFrans Willy,FTI,74.08,31.6,42.26\\nRuth Dessi Anastasia,FTTM,34.37,43.28,58.65\\nNur Alif Hakim,FTSL,47.16,39.03,54.51\\nTabegra Disando,FTTM,73.16,24.96,47.55\\nDani Febrianto,FTI,75.1,52.38,58.88\\nDeago Fraimon Sirenden,FTSL,56.75,50.65,53.28\\nSufiyan Hariri,FTI,77.4,49.33,49.19\\nFildza Nurulia Shabrina,FTSL,82.07,19.3,35.84\\nThalya Putri Herdhiyanti,STEI,74.5,42.23,53.89\\nNathaniel Chandra Harjanto,FITB,69.43,50.82,48.39\\nRiyani Prima Dewi,FTSL,80.56,71.57,85.95\\nAlfitra Libelnedo,FTTM,61.48,35.68,49.24\\nMaulana Gusti Al Hakim,SITHR,65.68,38.19,40.51\\nAditya Luhut Sibarani,STEI,86.19,41.49,51.89\\nArio Nuswantoro,FTSL,74.25,31.15,40.6\\nFira Resti Anindita,FTMD,73.98,34.12,38.0\\nTaskia Putri Andira,FMIPA,70.28,64.12,58.87\\nHario Purbaseno,FITB,70.04,47.83,48.35\\nSaviq,FTI,58.3,26.14,42.79\\nFidyanty,FTSL,83.31,24.8,39.54\\nArdian Rizardhi Satyagraha,FTMD,94.74,42.77,58.39\\nApriliyana,SITHR,83.59,39.33,55.93\\nBenhard Martin Pasaribu,STEI,50.13,41.5,40.58\\nMuhammad Nabil,FTTM,78.7,61.75,68.92\\nFarid Ibnu Saputra,FTI,78.86,24.05,25.58\\nMuhammad Dwinoviko Kahadani,FTMD,70.04,57.19,61.2\\nM Iqbal Baikhaqi A,SAPPK,66.3,54.8,69.47\\nIntan Devieyani Putri Pratama,FMIPA,74.01,24.33,30.48\\nDita Sasri Primaviri,FTSL,73.97,48.98,49.8\\nDumarini Basuki,FTMD,67.09,53.79,57.24\\nSuci Utami Nurwidia,SITHS,70.13,31.54,43.79\\nDede Mulyaman,FTI,78.75,39.56,55.98\\nIlham Akbar Hanafi,SAPPK,86.91,36.15,36.87\\nIqra Idzharul Haq,FTTM,47.43,50.42,57.83\\nRoyhan Mardista,FTSL,76.12,39.05,38.34\\nAndika Kristanto Panjaitan,FTSL,74.56,67.23,64.07\\nAdrian Muhammad Fathurrohmi,FTI,77.62,63.55,61.15\\nHizkya Natali Sihombing,SITHR,81.03,44.84,61.62\\nM Nizar Hamzah A,FTI,68.8,47.93,50.18\\nIbrahim Rashid,SITHS,35.2,59.75,60.6\\nFilipus Arie Wardana,FTTM,48.26,52.69,52.09\\nArief Fareza Rosadi,STEI,71.02,46.3,52.59\\nRizki Baihaqi,FTSL,54.93,43.01,68.26\\nMoch Iqbal Zaelana Muttahar,FTTM,60.69,62.58,58.47\\nPuji Hatmoko,FTMD,71.34,46.57,48.87\\nRetika Aprilia Sari,STEI,80.15,34.96,35.12\\nVeladito Farisi,FITB,60.2,61.57,75.69\\nDwiky Prayogo Adi,STEI,58.26,15.83,22.84\\nRizki Septiawan Wijaya,SAPPK,82.9,43.25,44.73\\nMeri Suryani,SAPPK,75.75,52.39,65.95\\nFaiz Yudia Abyan,STEI,81.86,42.73,57.3\\nWida Sahara Sohibudin,FTSL,78.4,37.48,52.54\\nZyahra Islami Syovhia,FMIPA,48.52,42.4,50.52\\nMaria Inez Sanchia,FTSL,65.91,39.7,58.77\\nRatna Mutiara Dewi,FMIPA,87.9,52.68,60.59\\nInka Nurawal Restyo Dewi,STEI,86.18,48.06,67.0\\nHayyu Widiatma Sakya,SITHR,80.19,45.28,55.78\\nHanief Adnadi,STEI,82.51,46.63,52.47\\nKevin,FTI,84.92,55.41,70.41\\nYusuf Jiwandana,FTI,62.7,38.67,55.15\\nBayu Rakhmatullah,FTI,68.76,55.94,59.46\\nFirman Tri Wahyudi,FTI,67.31,43.02,53.82\\nYukiko Prameswari Hanifa,STEI,64.94,29.12,35.25\\nFadhilatul Ahmad Dany,FTSL,72.93,47.16,69.82\\nTiffani Rossa Valindia,SITHR,62.91,38.52,43.48\\nRizal Panji Islami,FITB,77.56,56.53,52.97\\nTiara Andrianie Putri,FTMD,59.38,39.22,62.24\\nKevin Tamara,FTI,76.28,38.65,55.94\\nDhea Rineka Ramdhini,FTTM,67.7,31.1,36.97\\nNicola Vitaly,SITHR,89.66,39.43,46.86\\nKartika Dian W P,FTTM,59.89,47.31,61.3\\nMuhammad Jiehan Lampuasa,FITB,67.06,51.75,49.24\\nMohamad Luthfi Ramadiansyah,FMIPA,74.59,56.31,65.17\\nMuhammad Nugratama Sudarsanto,FMIPA,70.89,61.66,64.21\\nNitya Silfarera,SITHR,94.06,37.69,51.15\\nMohammad Andi Gafigi,SITHR,64.5,51.71,63.85\\nRayhan Makarim Basuki,FTI,78.48,51.43,50.52\\nInggita Aristiarini S,FMIPA,54.73,73.88,72.57\\nHalimah Raina Nasution,FTI,58.93,42.03,44.71\\nNovita Tilangsari,FMIPA,66.9,48.42,55.5\\nNurwisra Fauzi,FTSL,61.82,36.25,27.32\\nMuhammad Saeful A W,FTSL,58.81,43.11,62.36\\nRivan Tristyanto,FTI,69.8,43.98,44.51\\nGeode Gea Mandira,SAPPK,63.97,57.24,49.91\\nRizka Melinda,FMIPA,68.01,62.66,70.32\\nFajrin Firmansyah,STEI,72.52,52.74,64.65\\nMahdan Ahmad F A H,STEI,84.75,54.05,72.42\\nFajrin Rizki Wahyudin,FMIPA,78.41,61.74,68.66\\nVincent Christoffer Soesilo,FTSL,83.5,37.73,50.86\\nNatassha Chessie C,FTSL,69.97,51.15,53.19\\nIqbal Fachrurrazie Surahman,FMIPA,57.63,47.21,48.46\\nWedda Le,FTSL,57.7,46.31,48.79\\nRayanda Muhammad Abunawan,FTMD,88.33,22.11,30.17\\nMawaddah Warahmah,FTMD,57.51,33.36,42.31\\nMuhammad Yudha,FTI,48.7,20.54,38.52\\nTifanny Ulima,FTMD,66.05,54.53,53.99\\nAsqar Quraisy,FITB,59.45,51.85,47.77\\nNaudy Germanimo Laksmana,FTMD,62.29,76.38,76.15\\nDavid Christian Hutagaol,FTTM,66.38,45.82,55.0\\nFransiskus Samuel Renaldi,SAPPK,86.44,36.57,54.61\\nInnocentius Firman,FMIPA,88.72,36.97,50.14\\nHerdito Wahyu,SAPPK,68.11,49.68,60.64\\nIrfan Aufa,SITHR,75.63,36.75,52.13\\nNabila Fasza Adianti,FITB,91.47,37.47,42.78\\nAlyza Azalia Bachmid,FTI,57.6,32.85,53.16\\nJerry Perdianto,FTMD,70.44,52.02,56.59\\nWahyu Dwi Sulakso,FMIPA,89.77,31.78,39.9\\nChristy Vania Marbun,FMIPA,72.12,31.24,34.5\\nAghnia Fuad,FTSL,85.03,51.95,59.94\\nFaishal Al Rasyid,FTSL,42.74,38.15,45.33\\nEvaria Puspitaningrum,FTI,70.29,41.15,46.18\\nAsharina Widya Pangestu,STEI,88.7,43.3,46.35\\nZahra Kesturi R,FMIPA,80.68,22.17,21.63\\nMohamad Emirsaid Sadikin,FMIPA,63.6,42.19,50.03\\nGagah Arsalla,FITB,74.01,45.11,41.51\\nZuhairina Ramadhaningrum,SITHR,71.88,47.87,41.18\\nChessa Rachmalaputri,FTI,61.53,62.7,70.3\\nGenki Imam Prayogo,STEI,71.66,66.94,72.67\\nFarras Muhammad Iskandar,FTTM,77.05,53.7,59.63\\nThona Elisa Harungguan,FTI,71.15,54.4,65.71\\nIwan Setiawan,FTI,83.26,41.42,53.44\\nYudhi Septiadi,STEI,80.51,44.03,42.68\\nMuhammad Rifqi Juliandri,FTSL,78.64,59.88,70.44\\nFebrian Ramaputra,SITHR,67.98,56.9,60.86\\nPandu Radina Wibisono,FTTM,77.13,43.36,48.92\\nJimmy Hartono,FTSL,98.63,44.3,44.49\\nAuditio Mandhany,FTI,77.41,38.78,56.85\\nMuhammad Ihsan Averroes,STEI,61.96,37.12,49.88\\nSusi Zukri Wati,FTTM,61.05,49.96,66.95\\nM Hazmi Thariq,STEI,52.39,63.69,60.67\\nYacob Wilfred Sitorus,SITHR,97.45,36.76,60.36\\nAlvinska Octaviana,FMIPA,54.92,37.85,42.48\\nEvan Kurnia,SAPPK,71.68,43.87,59.79\\nRessy Fitria,FTI,54.3,32.48,28.97\\nRiyani Jana Yanti,FTTM,74.36,31.24,43.66\\nReza Levi Fauzi,FMIPA,68.98,53.88,65.45\\nChesa Desinta Kusumayantie,FTMD,71.08,38.38,47.65\\nZulfa Qonita,STEI,72.93,39.5,39.92\\nPutri Indah Lestari,FMIPA,52.53,56.73,54.1\\nRhisa Azaliah,FTMD,79.35,56.09,57.0\\nErvin Dwi Saputro,FTI,51.3,23.89,45.28\\nAnnisa Setiawati Soemodinoto,FTI,80.47,37.65,56.67\\nIka Kurniawati,FITB,64.8,55.18,61.79\\nAnnisa Meivira Budiman,FMIPA,62.08,60.48,79.1\\nRonnie Tjandra,FTSL,80.22,52.06,59.22\\nOey Cun Ciaw,FTTM,82.33,31.88,47.33\\nFarhan Lazuardi,FTI,50.32,37.89,36.6\\nAdy Parayudha,FTSL,47.26,41.78,45.53\\nAriesto Wijaya,FMIPA,85.13,49.88,56.77\\nSatyantara Maesa,FTSL,58.45,36.11,40.45\\nDally Chaerul S,FTI,76.35,36.1,41.61\\nBimantara Gusti Aji Prakoso,FTTM,63.94,28.53,31.44\\nHanif Santyabudhi Sutiyoso,SITHS,100.0,26.26,25.47\\nCilvia Sianora Putri,FTI,72.94,39.97,61.58\\nRaras Ayusyalita,FTI,69.24,41.35,45.17\\nAgus Muhamad Maulana,SITHS,50.91,30.39,32.04\\nMuhammad Malik Akbar,FTSL,57.4,41.22,54.67\\nDini Achnafani,FTMD,98.61,66.29,63.22\\nRiky,FTTM,63.52,41.65,46.68\\nFirda Fadhilah,FTTM,83.74,44.62,40.75\\nArdhi Wijaya Putra,FTTM,64.72,53.1,55.56\\nVirgy Noegraha Azhary,FMIPA,62.13,57.42,58.37\\nVerdian,FTSL,57.61,51.81,49.2\\nAndrita Yuniza,FTMD,68.31,56.13,56.6\\nSukuanto Tanoto,FTTM,88.42,67.16,86.25\\nMuhammad Zaki,SITHR,57.97,52.44,55.04\\nNur Afifah Juneldi,FMIPA,66.05,37.61,28.07\\nMichael Ingga Gunawan,SITHS,70.16,56.05,55.91\\nMukharij Nur Alam,FTSL,67.4,39.71,38.06\\nDwiky Fajri Syahbana,FMIPA,89.09,56.36,63.59\\nFrisca Sutanto,FTTM,85.0,34.27,43.88\\nRuth Novitasari Turnip,FITB,74.43,52.44,59.81\\nYoanne Maretha Siswaya,FMIPA,80.04,27.89,52.44\\nAsep Nurjamil,FTI,78.44,40.21,48.47\\nSany Indra Putra,FMIPA,89.12,35.39,46.36\\nHilmi Farizan Hakim,FTI,94.01,60.17,58.96\\nBima Ulma,FTSL,56.83,49.53,61.3\\nGerry Almanda Yulfiano,FTMD,42.37,32.58,43.76\\nNarendra Afian Pradipto,STEI,80.53,28.63,48.22\\nGreace Nanda Clara Sihotang,FTI,84.21,36.89,33.1\\nViani Hafiza,FTMD,66.0,37.28,49.6\\nTaufiq Bashori,STEI,67.84,27.82,50.35\\nSuci Nur Sari,STEI,80.97,28.1,40.8\\nSyifa Andini Muhammad,FITB,82.18,54.78,50.4\\nChaedar Indra Pramana,STEI,94.19,58.85,48.13\\nHalimah Hamdani,FTMD,65.02,43.54,52.61\\nBioter Ryanto Silalahi,FTTM,66.74,47.9,62.96\\nAulia Fajar Rahmani,FTMD,64.6,34.26,46.46\\nAngga Fauzan,FTSL,52.18,49.05,62.52\\nArif Rizki Hutomo,FTMD,62.02,42.53,47.35\\nWindha Mukti Audhina,FTMD,64.16,39.67,31.48\\nKevin Nathaniel,FTSL,80.7,52.2,53.38\\nR Bg Arwin N E,FMIPA,66.22,54.09,61.87\\nSawungrono Dewawisesa,STEI,67.35,22.83,31.44\\nFirda Herlina,FTI,89.78,39.95,48.83\\nDesti Nur Aini,SITHR,72.63,38.61,38.89\\nTegar Perkasa,STEI,95.38,20.22,36.83\\nFilipus Ivan Denata,FTSL,69.15,38.17,39.94\\nMuhammad Isnaenda Ikhsan,SITHR,71.66,45.59,54.22\\nAyu Pratiwi Wahyudya R,STEI,62.31,36.86,45.08\\nBayu Irvian Arifudin,FTTM,60.1,48.55,49.24\\nCep Bubun Burhanudin,FTI,76.06,57.07,66.98\\nPutu Noisy Ade Anggry Lia,FTI,67.16,40.34,59.2\\nFerry Hermawan,FTSL,96.4,41.01,41.31\\nMarisa Hirary,FTI,88.56,58.95,59.41\\nDito Wijanarko,STEI,67.36,68.52,73.07\\nPrinka Victoria Widyasanti,SITHS,61.79,62.83,72.81\\nPatricia Gita Naully,FTSL,73.03,36.97,37.86\\nBimo Aryo Tyasono,STEI,74.29,37.02,55.82\\nStefan Lauren,SITHR,79.77,52.7,60.84\\nJohannes Ridho Tumpuan Parlind,FTI,70.16,33.78,47.68\\nAchmadhana Putratama A,FTI,85.2,42.72,53.53\\nWinda Devina,FTI,88.0,44.96,46.15\\nTiara Annisaa,STEI,88.37,55.65,60.09\\nFlabianos Ian Christian,FMIPA,84.26,39.29,40.41\\nJoshua Satriana,FTSL,74.08,42.55,48.06\\nKamige Sulistyo,FTI,100.0,38.47,40.95\\nAry Annitia Ganesti,FITB,74.26,51.16,57.68\\nDian Sekarini,FTTM,72.94,68.25,56.46\\nAmelia Sakinah,STEI,47.02,57.9,60.66\\nR Randi Oktovan Noegroho,FTTM,64.18,42.61,45.76\\nMichael Simon P Hutasoit,STEI,68.36,47.5,57.56\\nIrving Anggasta Kristiawan,FITB,68.3,31.71,37.14\\nRicky Vernandes Setiady,STEI,75.75,55.51,69.32\\nNaufal Dwi Satria Rindawarman,FMIPA,71.97,61.99,66.74\\nDewi Purnamasari,FTMD,63.5,52.89,65.8\\nReine Karlina,FITB,51.24,52.84,48.73\\nKelvin Syabare Saway,SITHR,48.44,51.4,49.77\\nVania Rebecca Wyanet Clara,FTTM,85.26,61.39,79.7\\nRicky Defian Saputra,FTTM,91.19,41.6,51.93\\nVadel Rama Efriza,FTI,60.47,66.57,76.72\\nAdri Adhikaprasetyo,FITB,86.87,47.56,41.95\\nNadaa Farradhina Azalea Kusuma,FTSL,70.53,70.84,83.2\\nDwirianda Rhesa Ghani,FTI,76.35,66.43,66.69\\nHasna Hanifa,FTSL,66.23,32.01,42.04\\nSeptian Gilang Permana Putra,FMIPA,70.65,75.79,72.0\\nFebrizca Narcia,FTTM,55.47,41.95,61.23\\nHendra Setiawan,FTI,39.99,48.37,47.23\\nGitani Tsalitsah Dahnil,FITB,73.54,48.86,66.72\\nMuhammad Israr Firdaus,FTTM,37.82,62.83,71.78\\nMuhammad Fauzan,FTI,61.66,30.81,28.03\\nHalim Fauzan Edher,FTMD,81.94,32.83,46.51\\nThreefanny Pinta Anugrah,SITHR,58.66,45.73,53.04\\nMega Putri,FTI,46.21,33.95,31.19\\nRatri Dyah Palupi,FTTM,94.04,41.83,54.91\\nYuniar Fazriani Rusmana,FITB,53.61,67.19,92.57\\nWidi Suganda,STEI,61.4,62.82,83.82\\nI Nyoman Dimas Mulyana K P,FTSL,68.24,50.09,49.57\\nTedy Setiadi,FTTM,73.88,66.17,73.74\\nKatiana Apriyani Nurjanah,STEI,63.9,31.54,42.15\\nAbi Munajad,STEI,59.4,25.13,27.95\\nJananda Nuralam Indriyanto,STEI,79.76,46.22,67.02\\nHerliana Ulfah,FTSL,59.94,31.42,54.44\\nHerodian Petro Marlim,FTI,70.76,33.42,42.14\\nDesy Natalia Manik,SITHR,42.95,63.82,79.43\\nDiwangkoro Muhammad Dolaputra,STEI,70.31,41.16,54.94\\nAndini Putri Widiyastuti,STEI,60.83,45.98,51.67\\nPuti Idamayati,FTI,80.17,42.59,66.14\\nAdi Yudha Permana,FMIPA,64.88,43.27,51.29\\nAxel Ramadhan Ridzky,FTTM,43.39,51.49,65.31\\nNisa Rohiema,FTMD,82.47,51.42,59.34\\nImam Fadli Kaththab Mukarto,STEI,68.9,56.87,61.88\\nIsna Kusuma Dewi Astuti,STEI,82.33,49.47,54.66\\nCokorda Gede Bagus Suryanata,FTTM,60.04,43.42,49.8\\nLingga Anugrah,SITHR,52.95,32.59,32.97\\nIndri Fatma Falah,FTI,75.0,42.7,50.29\\nNida Daniyatul Muhdirah,FTI,83.74,32.26,38.52\\nFathiya Az Zahra,FTI,58.54,54.49,63.03\\nDitrisa Taranadia,FTTM,67.34,33.27,36.6\\nPanji Gilang Prasetya,FITB,59.48,29.96,47.52\\nDaniella Dhyana,SAPPK,68.54,35.01,35.64\\nAndika Wiratama Suparto,FTMD,62.71,47.65,53.55\\nPrananda Septian Zulfikar,FTMD,82.81,64.57,74.86\\nIqbal Kurniawan,FTI,51.31,42.34,63.28\\nGeavani Eva Ramadhania,FTI,87.53,50.89,56.99\\nGrady Wijaya,FTTM,77.25,60.78,60.99\\nTirta Widi Gilang Citradi,STEI,50.46,41.7,43.01\\nNida Anbar Rofifah,STEI,66.48,45.72,54.25\\nYuzar Aryadi,STEI,49.6,67.74,77.06\\nZahra Fadlillah Santoso,STEI,71.37,51.77,51.09\\nChandra Fadhillah A,STEI,57.44,55.14,60.1\\nDiandra Pradita Sefriani Putri,SAPPK,74.14,39.76,46.42\\nAli Haekal,FTSL,62.39,56.03,62.28\\nEleny Marsha Claudia,FTMD,95.92,56.55,65.15\\nAntonio Kylanel Hengky Kamso,SITHS,74.19,55.54,57.72\\nSalsabila Putri Utami,FMIPA,60.38,45.95,56.03\\nNurul Hanifah,FTTM,61.68,37.83,47.47\\nRahmah Putri,FITB,75.93,58.62,68.94\\nRasela Annaafi,FMIPA,54.37,51.43,51.88\\nPaulinus,FTSL,61.76,47.9,39.55\\nDavid Kurnia,FTMD,58.63,42.82,42.92\\nPadma Rizki Dwi Arieanti A,STEI,79.42,59.38,73.5\\nMardian,SAPPK,63.53,52.86,58.48\\nMuhammad Raihan Afif,FMIPA,67.28,36.1,37.65\\nJoseph Timothy B,STEI,73.34,22.16,40.24\\nDicky Sulthon Auliya,SAPPK,63.29,39.43,43.41\\nKevin Maulana,SITHR,63.23,61.21,67.28\\nIwan Pramesti Anwar,STEI,59.49,52.85,51.66\\nErsha Nuranjarsari,FTI,33.15,41.09,44.19\\nMuhammad Ihsan,FTI,61.74,61.5,69.58\\nFaris Sina Prinata,SITHR,94.04,40.95,37.43\\nYoseph Christian,FTSL,79.39,46.28,59.95\\nYoshua Donny Rudinatha,FITB,66.18,45.45,61.15\\nMohamad Adnan B,FTSL,58.62,49.74,51.28\\nTaufiq Ziyan Naufal,STEI,67.64,57.93,65.84\\nFieska Andalasia Ayudayanti M,FTI,63.09,49.04,62.47\\nNovina Yuniarti,FMIPA,77.64,35.71,28.73\\nDeviana,SAPPK,59.99,42.88,50.23\\nNorman Ray Logawa,FTSL,77.93,51.53,56.53\\nLailatin,FTI,66.65,24.86,28.21\\nNindya Adita Sari,SAPPK,53.57,43.22,44.16\\nFelix Sunjaya Purnomo,FTSL,69.13,36.12,37.64\\nAlfred Andry,FTI,73.13,45.81,51.83\\nYudhistira Widyatma Rahman,STEI,72.18,68.11,70.32\\nMuhamad Bariq K,FTTM,77.9,49.64,50.55\\nAlfath Notariil,FTSL,76.16,41.42,63.49\\nRuth Evelyn Togima Siahaan,FMIPA,42.42,65.99,70.9\\nMahfidarwan Akbar Maruszama,STEI,79.04,46.93,62.04\\nAzalea Brianti Runwanda,STEI,78.71,52.55,59.46\\nRaymond Napitupulu,FTMD,93.37,39.45,56.9\\nEvin Kartina Fatris,FITB,69.24,47.63,53.1\\nTheon Kimady Tanu,FTI,76.7,37.21,70.58\\nAbiyyu Andre Saputra,FTTM,81.76,54.0,71.6\\nPutri Rafika Dewi,FTI,85.78,53.42,62.21\\nMukhtar Amin,FTMD,51.3,62.5,64.29\\nUtari,FITB,53.48,38.39,49.12\\nNuzulia Fajri Rahmi,STEI,68.69,47.32,58.86\\nKarim Abdur Rozaq,FMIPA,88.19,21.6,21.34\\nAdnan Farid Immaduddin,FMIPA,83.14,46.67,53.97\\nZhilal Yusya,SITHR,63.77,26.15,37.58\\nYusran Abdillah Muthahari,FTTM,83.05,44.96,46.7\\nFauzi,SITHS,59.55,42.26,43.28\\nElinda Oktavia,FTI,76.11,57.47,54.5\\nNabil Fauzan Wassil,STEI,93.03,46.68,55.89\\nMuhammad Helmi Prakoso,SITHS,67.59,36.74,39.36\\nMikael Adisurya Prakoso,FITB,66.36,46.9,57.71\\nRosy Diana,FMIPA,60.89,44.22,37.75\\nEgia Kamandika,STEI,60.14,63.06,66.91\\nYehezkiel David Pradhipta,SAPPK,66.2,44.65,49.63\\nRyan Bagus Fitradi,SAPPK,75.8,38.74,51.22\\nAndreas,STEI,61.3,49.57,49.21\\nRiska,SITHR,82.95,49.55,54.18\\nArief Budi Sanjaya,FITB,71.73,41.94,48.51\\nSatrio Muhammad Abdilah,SITHS,63.79,29.19,22.95\\nSyahesti Intan Fitriani,SITHR,61.77,34.93,43.28\\nReynaldi Marchiano Indarno,FITB,50.81,38.6,55.06\\nBernando Parasian,SITHR,61.53,52.03,43.95\\nDianita Candra Dewi,SITHR,57.51,32.33,29.69\\nRiftandi Rizki,FTTM,59.03,38.73,51.08\\nSyarifah Sorayya,FTSL,64.88,55.82,57.97\\nNofella Mahardika,FMIPA,53.27,32.98,51.74\\nFloriana Ayumurti,STEI,64.02,52.57,65.42\\nRona Febriska Putri,FTSL,80.3,57.55,57.72\\nMahardhika Nowizar,FTI,75.51,49.17,54.05\\nRahma Dona,FTMD,51.45,47.06,49.64\\nMuhammad Inardi Rizky,STEI,69.85,24.95,48.25\\nFarhan Muzaki,FTTM,60.56,48.05,54.43\\nJeremia Bonifasius Manurung,SITHS,60.08,48.86,48.09\\nRien Nur Azizah,STEI,68.73,49.31,48.88\\nMohammad Indra Nugraha,FTTM,55.58,47.29,50.54\\nBahar Religia,FTI,56.9,42.18,35.39\\nNaufal Muhammad,FMIPA,91.98,45.6,45.28\\nMochammad Izzatullah Ibrahim,STEI,82.79,50.18,60.17\\nSahinaz Sesiovira,FTSL,73.46,36.32,42.78\\nAtsila Rahmania,FITB,32.6,50.36,55.74\\nDeniswara Nur Fadilah Putra,SAPPK,76.1,43.03,51.94\\nKevin Yauris,FTSL,62.47,44.92,43.12\\nBambang Jaya Kusuma,FTMD,50.17,34.74,37.15\\nPutri Noviyanti Chandra,FTSL,75.92,37.91,41.59\\nAzkia Nurfikari,FTI,64.59,50.59,58.52\\nSergia Louisa S,FTTM,69.14,47.28,56.5\\nRizal Trytama Sukirno Putra,STEI,84.38,55.6,68.08\\nAngelina Karunianta Kaban,FTSL,82.68,28.59,34.84\\nMarshell Antonius,FITB,73.39,29.16,37.22\\nDhony Yudha Nugraha,STEI,73.76,45.48,53.57\\nJason Octaviano Iteh,FITB,78.34,49.49,51.2\\nMuhammad Akbar Alhavif,FMIPA,43.89,33.64,37.33\\nFaishal Hafizh,FMIPA,82.76,46.53,44.06\\nAfwan Rifqiya,STEI,78.81,36.76,47.75\\nEkka Lusniady,STEI,77.12,50.47,69.29\\nNadia Shalehah,STEI,55.32,58.46,57.86\\nMelita Nesya Mahardhika,FTMD,77.74,39.73,35.04\\nFitri Pratiwi,FMIPA,74.97,40.72,52.97\\nSandi Suryadi,STEI,79.17,73.81,86.83\\nM Sidik Arsyadi,STEI,81.5,41.82,48.84\\nRalistu Hayu Pratiwi,FTI,52.25,44.53,52.81\\nSheila Amalia Saleh,STEI,72.83,35.37,33.13\\nAulia Syaffitri,STEI,71.39,37.31,35.09\\nAstrid Retnaningtyas,FTI,76.84,51.6,58.23\\nAdi Saputra,FTI,75.74,48.52,56.6\\nBerlian Akbar Yon Agusta,SITHR,74.23,43.32,42.43\\nM Thoyeb Romadhon,FTSL,73.75,56.94,58.25\\nBrenda Kalista,SAPPK,81.92,58.04,56.71\\nHauna Fathmadinda Hosen,FITB,77.06,36.13,40.91\\nPrasetyana Nafisah Sholihah,FMIPA,71.02,37.54,45.21\\nGiano Zulsabi,STEI,67.95,44.68,50.84\\nJanesya Sicilianty Suhelmi,FTI,47.96,58.52,60.47\\nEldwin Christian,FITB,88.47,30.18,43.72\\nWarren Stephen,FITB,90.25,30.22,44.7\\nSeptyanto,FTTM,76.97,21.41,34.78\\nFaisal Dimas Raditya Putra,FTTM,96.33,43.38,58.84\\nAgam Muarif,STEI,72.79,54.92,54.31\\nAisha Prisamahyati,FTTM,58.8,34.87,45.71\\nSri Pascarini Agustina T,FTI,85.86,50.54,65.79\\nAdzan Ramadhan,SAPPK,68.23,36.3,50.05\\nArdyansyah Darmasaputra,FMIPA,84.21,37.44,34.77\\nDariel Valdano,FMIPA,74.12,50.06,60.16\\nNicholas F P Sirait,STEI,54.55,29.3,44.79\\nAdhika Sigit Ramanto,STEI,73.63,39.61,52.66\\nFatimah Mursyidah,FTI,62.54,48.24,48.71\\nYola Lovita Nissa,SITHR,74.34,35.68,64.87\\nFadhli Ramadhana Atarita,FTTM,66.06,36.13,46.9\\nMaryam Fadhilah,STEI,67.25,38.83,49.84\\nCahyo Subroto,STEI,69.64,42.1,51.39\\nIrwin Prawira S,FTSL,56.02,12.37,25.14\\nAlya Ghina Aqila Arham,SAPPK,92.36,45.95,47.87\\nMuhammad Ariq Dewantara,FTTM,70.45,58.87,64.44\\nMaria Martiana,FTI,78.63,54.27,57.31\\nTino Eka Krisna Sambora,FTI,93.39,48.57,61.29\\nAdityo Nugroho,FTTM,59.49,57.34,60.68\\nLukman Tri Wibowo,STEI,70.48,49.27,52.78\\nM Andy Putratama S,FTSL,65.69,44.08,50.62\\nM Ansyar Rafi Putra,FMIPA,65.5,43.27,39.59\\nMohammad Fahmi Rachmattulah,FTI,55.25,24.53,36.39\\nZandri Septian Situmorang,FMIPA,46.72,26.02,47.93\\nRendy Raka Pramudya,FTI,46.16,45.22,44.87\\nLuthfi Chandra Fibrian,FTSL,70.54,38.72,49.02\\nBenardi Wibowo,FTTM,86.51,62.18,64.62\\nSonny Fitra Arfian,SITHR,77.04,64.99,60.56\\nReuben Adriel Yoshua,STEI,67.95,35.76,43.92\\nAmatulhay Pribadi,SITHR,78.71,33.11,36.91\\nGayatri Ayu Andari,FTMD,63.55,59.43,55.71\\nAhmad Adityareza T S,FTMD,70.3,55.64,67.94\\nAdmiraldi Raditya Wardhana Kus,FTMD,65.34,52.47,60.89\\nSuprapto,FTSL,75.31,34.32,51.62\\nDear Michiko Mutiara Noor,SITHS,62.71,60.65,72.39\\nMuhammad Helmi Al Amin,STEI,70.79,31.74,41.51\\nReno Rasyad,FMIPA,84.06,57.05,57.81\\nIrma Noviani,FTTM,75.72,26.4,40.03\\nChandra Adi Yaksa,SITHS,69.21,40.4,52.95\\nRuzi Falahi,FMIPA,85.66,40.27,37.35\\nArthur P H Sinaga,FTSL,53.5,55.71,62.25\\nAdya Verol Lutfi,SAPPK,51.69,53.64,45.58\\nFirman Adi Prastowo,FTTM,82.76,22.89,38.05\\nAstri Aprillia Sarikusmayadi,SAPPK,64.89,30.55,34.45\\nJonathan Febrianto,STEI,100.0,41.29,49.77\\nMohammad Adnan,FMIPA,49.33,48.49,59.52\\nAgung Setiaji,FTSL,91.19,25.87,41.41\\nNita Dwi Astuti,FTTM,48.59,35.65,39.59\\nEllian Jaisy Rahman,FTSL,72.36,39.82,53.05\\nDwita Astari Pujiartati,SAPPK,65.78,27.3,43.16\\nRanda Dwiyanda Putra,FITB,58.69,43.67,61.73\\nRisang Arono,STEI,67.2,48.77,63.82\\nMarcelinus Steven,FTMD,92.28,49.62,58.9\\nKinanti Septianandayani,FTSL,76.1,43.93,57.38\\nYunisa Nur Izzati,FITB,74.3,42.73,56.03\\nJennifer,FTTM,55.42,50.33,55.41\\nDiana,FMIPA,67.28,36.13,41.74\\nPutri Rahmadani,FMIPA,91.88,53.89,67.13\\nSatya Reza Faturakhmat,FTSL,72.96,55.31,58.46\\nAnisa Rachmita,STEI,71.09,48.48,57.02\\nAditya Rachman Putra,STEI,70.66,42.93,60.32\\nFauzan Randibarnas,FTSL,97.32,50.8,54.63\\nRetno Miranti,FMIPA,47.32,41.15,45.07\\nMuhammad Abi Fazari,FTI,64.39,71.84,75.28\\nMuhammad Rizky Firmansyah,STEI,57.48,53.53,68.87\\nDaniel Anugrah Wiranata,SITHS,90.94,45.59,50.97\\nArin Indiarni,FMIPA,83.35,31.79,41.02\\nJanuar Natanael,STEI,77.48,34.84,42.63\\nYan Januardi,SAPPK,56.23,66.44,61.03\\nAgum Guntoro,FTI,73.11,43.17,42.87\\nAmalia Sakinah Auliyani,FTTM,62.59,42.92,52.56\\nAulia Saraswati Wicaksono,FTI,49.1,53.01,49.31\\nSyarif Ayaturahman,FTI,82.51,26.16,19.4\\nAnnisa Rakhmasyifa,STEI,36.75,70.75,83.79\\nVinsensius Hansen,FTI,87.07,44.28,37.53\\nIvan Ramadhan,FITB,94.03,47.29,32.8\\nBimo Mukti Wibowo,FTSL,63.2,39.8,56.81\\nRizky Kurniawan Wardana,STEI,82.9,39.76,53.62\\nAndre Aditya Pratama,STEI,66.8,26.81,47.0\\nAji Surya Utama,SITHR,78.7,36.58,39.21\\nAlif Hasna Astrima,FTSL,75.5,58.54,70.93\\nVidya Noor Rachmadini,FTSL,70.35,51.27,58.7\\nMaruto Ardi,FTI,92.18,50.97,55.99\\nAsma Nur Ummah,STEI,76.27,40.28,38.21\\nLarisha Syofyan,FTI,81.46,43.66,52.17\\nSulfa Heksania,FMIPA,97.49,31.47,40.46\\nRudy Valentino,STEI,80.25,49.36,40.99\\nYoga Adrian Saputra,SITHR,100.0,45.83,58.39\\nGandewa Brahmaputra,FTI,71.43,51.74,60.76\\nAndika Hadi Hutama,FTMD,73.43,62.23,70.43\\nMochamad Elga Akbar Maulana,FTMD,60.12,51.47,51.97\\nNatasya Sandra Virmelia,FMIPA,94.64,53.54,52.27\\nAndrew Aldobagya,FTTM,65.86,45.24,43.42\\nErwin Yulizar Herdiawan,FTI,76.55,35.76,50.46\\nIsni Rofiani,FTMD,72.99,61.99,59.54\\nRamot Timoteus Manurung,FMIPA,64.42,42.56,47.83\\nTry Juandha,FTTM,57.85,55.08,50.44\\nIrfan Fajri,STEI,50.48,37.68,51.42\\nTheresia Lydiana,FTTM,93.23,39.76,42.38\\nBenito Reyhan Utomo Kusuma,FTI,59.57,38.92,60.54\\nRito Harisman,FTI,79.37,41.2,53.37\\nRian Jamaludin Pogram,FTI,60.78,50.81,54.17\\nDharma Widhiarto,FTTM,59.96,40.48,52.82\\nFauzan Alfi Agirachman,FTSL,62.01,37.31,47.94\\nSidi Janardhana Gatra Parahita,FTI,82.55,42.79,65.4\\nNovita Nur Dwihastuti,FTMD,96.16,57.44,59.95\\nMuhammad Deha Deni,FTSL,74.2,47.82,56.49\\nAfyani Puteri Wahyuanna,FTI,55.54,32.15,44.29\\nGian Seloni,FTSL,79.69,46.0,59.83\\nJohn Natanael,STEI,75.09,38.5,39.38\\nMilna Kurniawati,FITB,73.4,39.25,47.68\\nZainab A Al-ghazali,FTSL,90.69,42.35,51.64\\nMaretta Arninda Dianty,SAPPK,77.4,52.57,64.66\\nErwin Ardianto,SITHR,63.96,42.73,47.32\\nWildan Firdaus,FTSL,100.0,64.78,72.77\\nClaudia Mandagie,FTSL,45.92,48.48,61.81\\nMuhammad Reza Firdaus,STEI,74.38,61.92,72.0\\nJonny Setiawan,FTMD,68.1,44.47,53.36\\nIke Purwanti,FTI,73.14,37.77,47.21\\nDimas Dwi Adiguna,FITB,51.9,64.44,80.37\\nErya Warandita Bupuly Tomara,FTI,66.42,53.98,54.53\\nDenis Enrico Hasyim,FTI,82.41,57.01,59.6\\nFachri Muhammad,FITB,51.7,60.57,59.17\\nMuhammad Fauzan Girindra,FITB,76.61,33.7,56.18\\nMuh Aswad M,STEI,61.95,27.34,36.83\\nIvy Febrianti Putri,STEI,61.46,22.86,28.56\\nMegan Graciela Nauli,FTSL,63.18,55.82,56.09\\nDisha Ekaputri,STEI,78.53,48.69,75.37\\nMuhammad Afif Saleh,FMIPA,61.64,42.26,43.27\\nMochamad Choirul Mutaqim,SITHR,84.12,52.53,58.37\\nNurul Fajri,FITB,63.44,25.18,47.26\\nYan Yan Muhammad Achdiansyah,SAPPK,55.55,40.45,42.23\\nJeffry Hamonangan Natalanda,FTSL,78.64,53.86,56.95\\nMochamad Beta Auditama,FTI,80.08,37.32,49.46\\nChristina Natalina Br S,FTSL,84.15,65.2,72.73\\nRoy Sandi William,FTI,67.49,26.34,33.87\\nSteven,SITHR,76.77,28.8,48.97\\nDina Elita Puspitasari,FTTM,79.32,41.71,48.86\\nLuhur,FTTM,79.2,46.49,49.89\\nNisazka Syaula Melati,FMIPA,72.69,28.41,30.02\\nFelicia Monica Bernadette,SITHR,61.29,50.41,69.53\\nAsep Sadzili,SITHS,41.07,53.93,65.39\\nErnestine,FITB,65.27,53.32,56.25\\nViola Putri,FTMD,61.44,40.94,33.07\\nYulinda Dwi Komala,FTMD,47.13,47.67,42.6\\nPandu Akbar Dwikatama,FMIPA,47.19,36.14,47.05\\nSandhy Muhammad Akbar,FTSL,89.25,58.6,59.32\\nMuthahhari Wali Hidayatjati,FMIPA,65.65,60.71,55.54\\nTria Hazni Sulastri,STEI,69.26,37.17,55.67\\nAdhi Setyo Nugroho,FMIPA,79.33,48.93,61.88\\nGilbert B Siagian,FTTM,80.07,63.69,76.32\\nDori Apriman Duha,SITHR,86.89,62.51,70.78\\nRobby Caesar Putra,FTMD,91.35,45.58,62.76\\nAl Hasbi,FMIPA,74.41,48.68,46.13\\nVinley Angelica Kurniawan,FMIPA,53.3,48.17,61.76\\nAgia Chantika,FMIPA,48.4,35.36,49.49\\nAmanda Mitzi Pratiwi,FTTM,86.59,47.45,64.4\\nHilham Zamriko Koto,FTI,57.14,31.34,47.92\\nRagil Destriawan Prasetyo,SITHR,64.82,52.52,46.76\\nHafit Jamaludin,FTTM,74.83,41.17,55.02\\nFabhianto Maoludyo,FTMD,40.21,46.21,54.76\\nJoshua Bezaleel Abednego,SITHS,83.47,40.9,49.53\\nFitri Audia,FMIPA,57.07,44.81,45.77\\nSwietenia Puspa Lestari,FTSL,85.68,37.35,33.61\\nKristianus Eko Priyantono,FTI,80.1,48.26,64.25\\nAwandhya Adiwisesa P,FTTM,80.97,50.7,55.91\\nEvellyn Verity Mesak,SITHR,81.49,43.01,50.73\\nAdhy Satya Dharma Octavia,FTMD,60.43,49.53,60.06\\nOctaviana Florenciana,SAPPK,53.77,51.89,60.16\\nIman Tulus Monang Hutagalung,FTTM,99.71,51.03,58.7\\nRinaldi Oky Setiawan,STEI,71.22,77.44,83.66\\nFebrian Kamal Rosyadi,FTTM,74.32,65.19,67.7\\nGilang Julian Suherik,FTSL,71.78,51.38,52.33\\nAndreas Dwiputra,FTMD,69.59,45.83,52.63\\nFenilia Tamaratika,FMIPA,87.11,60.19,76.74\\nIndah Permata Ramialis,FTSL,50.46,39.57,61.15\\nBebby Karina,FTTM,75.34,33.99,42.03\\nNurmalina Kusmawati,FTSL,46.47,50.58,53.85\\nPrasetya Dwitama Sutrisno,FTI,66.44,39.86,53.52\\nFriska Andini,SITHR,88.01,64.34,71.2\\nGumara Aprivan M Sitorus,FTMD,54.17,25.92,41.46\\nReinhart Sahala Partogi,STEI,78.28,53.74,71.9\\nGrace Ruth Alow,SITHR,70.34,47.88,56.54\\nAndika Fikrisyah Yasin,FTSL,84.0,36.55,51.98\\nSyahril Hidayat,SITHR,89.9,48.35,43.26\\nAmila Laelalugina,STEI,57.89,39.69,41.82\\nEdwin,FMIPA,58.58,45.36,46.0\\nDiva Addini M M,FTI,71.21,34.91,44.22\\nTalitha Puspa Melati,SITHS,60.67,38.78,34.15\\nNicholas Benito,STEI,79.89,57.52,50.62\\nYohanes Christanto,FMIPA,88.64,36.47,38.28\\nAngga Adytia S,FTTM,70.09,34.51,33.92\\nAditya Nur Ikhsan,STEI,64.83,46.3,45.63\\nOkti Alifiana,SAPPK,63.41,52.91,46.04\\nRyan Rinaldi,FTTM,52.29,60.81,57.04\\nAde Lismi Rohaya M,SITHR,48.4,65.36,81.44\\nAris Meisandika,STEI,57.28,45.02,50.16\\nFebriani Anjelica Nadapdap,FTMD,72.02,47.06,57.43\\nHafizhul Aziz,STEI,68.46,35.04,44.78\\nWyona Pramono,FTI,82.55,55.34,48.94\\nUlfah Nadiya,STEI,68.53,53.08,58.99\\nMuhammad Athoillah S,FTTM,62.85,40.89,54.23\\nWaridil Iqbal,FITB,51.79,56.1,61.21\\nDary Achmad Budi,SITHR,100.0,58.31,62.51\\nJohan Agathon,SAPPK,72.35,51.73,54.11\\nYulia Nur Annisa Nugroho,FTMD,59.41,53.76,65.96\\nHanifah Nurawaliah,FTMD,56.1,39.62,41.91\\nAHMAD YASIER HANIF S,FTTM,63.36,38.5,51.61\\nMuhammad Ali Nur,STEI,46.49,29.27,37.4\\nAgastya Prastita Mahendradhany,FITB,70.19,45.58,56.82\\nYuni Azhari,FITB,82.55,18.73,35.42\\nKrisnina Anggraini,STEI,98.19,41.45,51.95\\nDaniel Permana Putra,SITHS,72.05,35.08,37.81\\nYongky Purnomo,FTSL,77.31,42.98,56.2\\nAndiko Putra,SAPPK,55.16,49.82,49.83\\nRaynardus Malvin Lymena,FITB,59.45,46.66,45.48\\nWidya Wigati,FTI,71.69,56.61,52.04\\nSairoh,SAPPK,74.87,71.83,73.7\\nAndyka,FTI,64.67,55.77,60.53\\nMuhammad Adytria Negara,STEI,40.38,43.56,49.84\\nIwan Kurniawan,FTMD,62.92,30.14,48.55\\nDzulkhi Yudha Pratama,FTI,55.44,51.44,56.6\\nMuhammad Aryadhia Pratama,FTTM,68.76,51.16,68.94\\nIntan Sari,FMIPA,55.88,39.3,44.97\\nIrfan Farabi,FTTM,62.54,35.81,43.34\\nWening Gilang Nawangi,FITB,84.38,44.99,53.65\\nAshri Ulima Zhafirah,FTSL,57.48,23.07,34.67\\nBenhard Teddy,FTTM,85.78,68.72,68.44\\nHelwin Andrealin,FTSL,78.37,49.91,72.67\\nAmanda Nadhira,FTSL,62.02,30.65,34.25\\nDinda Septiany,FTI,73.04,39.09,45.63\\nIrham Mochamad Hambali,FTSL,46.76,40.43,59.65\\nWibias Muliawan,FTI,76.26,70.54,70.7\\nMuhadjadi Bastian,FTTM,79.31,48.54,50.32\\nLawrence,STEI,86.17,49.41,51.61\\nJordy,SITHR,94.5,43.71,46.65\\nRina Yuliana,SITHS,46.35,49.69,49.9\\nAmmar Syahid Rabbani,FITB,83.73,56.38,63.02\\nKarina Sinaga,STEI,100.0,42.8,43.2\\nMuhammad Rizki Ramadhan,SITHS,64.35,34.17,40.93\\nMikhael Romeo Opondita,FTI,50.29,54.91,51.49\\nAditya Wildan Farras,FTI,46.88,38.76,59.77\\nFendi Imam Fatoni,FTI,75.1,56.62,56.98\\nDani Rahmawati,FTMD,76.18,54.44,50.1\\nStefanus Billy,FTI,65.62,35.6,38.74\\nEdwin Raissa Varian Wahyudi,FTTM,77.06,24.81,43.93\\nArham Rahmat Ismail,STEI,92.46,40.73,46.49\\nNoveryna Dwika Reztrie,FTI,91.55,29.35,43.32\\nJovi Ananta Pratama Bangun,FTSL,56.15,49.24,55.8\\nDiana Carolyn,FTI,70.89,31.12,33.82\\nMohammad Zakiy Zulkarnaen,FITB,82.51,43.6,60.63\\nElfa Norisda Aulianisa,FMIPA,77.0,48.48,52.35\\nFaisal Harun Purnomo,FTTM,74.18,44.74,56.86\\nIrvan Ferdian S,FMIPA,77.04,62.88,69.44\\nDies Estu Nidaraina,SITHR,66.72,52.37,35.7\\nFitrianawati,FTTM,58.85,65.88,60.1\\nLilis Yuniati,FTTM,53.28,49.54,44.99\\nChrysaeta Filian Doni,FITB,76.83,47.09,44.64\\nHusnul Aris Alberdi,FTSL,68.28,53.93,51.51\\nSukma Ramadhan Munawar,SAPPK,69.5,66.82,78.06\\nYongky Kusumo,SAPPK,54.66,42.33,54.44\\nRifa Puspa Safira,FTI,63.24,25.21,37.43\\nVani Lestari Pratiwi,FTI,79.45,29.88,45.5\\nChyndar Naya Putri,FTTM,58.98,38.94,46.65\\nAhmad Yasin Rabbani,FTI,86.01,53.53,61.97\\nZeni Mulyadi,FTTM,73.64,55.97,52.07\\nMuhammad Fauzan,FMIPA,90.52,53.91,64.09\\nAnisa Agustina,FITB,54.92,36.14,32.36\\nMahendra Riyandi,STEI,65.16,66.17,74.18\\nMardi Longalayuk,FTSL,63.17,50.52,54.4\\nAlvin Parande Bayudanto,FMIPA,68.14,33.29,55.62\\nMaudy Amira Salsabila,STEI,52.13,45.75,61.52\\nImania Annisa Rahma,SITHS,71.31,49.17,53.03\\nBoper Danto,FTMD,76.64,25.18,34.18\\nQoyyima Fias Salam,FMIPA,55.62,51.58,60.22\\nHilman Mulyana,FTMD,80.99,42.7,54.64\\nAndrea Monica,FTI,70.4,43.5,67.49\\nMartin,FTTM,64.45,46.87,39.36\\nReynaldo Adinata,FTTM,57.48,49.05,57.97\\nLuh Laksmi Dharayanti Satria,STEI,56.0,21.22,41.07\\nAris Riswandi,FTMD,67.63,50.62,52.03\\nSovi Savira Miftah,FTTM,72.75,31.75,35.73\\nMalvin Hariyanto,FITB,78.97,52.06,53.74\\nMuhammad Azhari,FTI,76.04,57.5,58.9\\nCeri Alvina Mentang,FTI,74.87,44.13,54.12\\nMuhammad Ilham Ghifari,SAPPK,73.57,32.89,28.52\\nChristian Alvin Susanto,FTSL,62.61,50.95,55.88\\nCrystabella Kosasih,FTTM,64.45,58.78,47.0\\nPrima Sari Anungputri,SITHR,49.25,42.86,50.58\\nRicky Rama Adiguna,STEI,88.24,33.32,51.74\\nHabib Suryo Pratomo,FITB,88.74,25.71,44.54\\nRamadhan Kautsar,FTMD,79.61,40.49,46.91\\nBobi Aulia Syafiq,FTI,88.1,38.81,57.14\\nReni Fatimatuz Zahro,STEI,68.91,50.13,60.73\\nMarcela Stevie,STEI,71.73,53.22,55.6\\nAbdur Rouf,FTMD,74.2,46.95,51.78\\nFahdiana Liestya Pratiwi,FITB,82.66,52.33,56.06\\nFatih Sigmanova,STEI,74.69,33.41,37.99\\nDian Mutiah Laraswati,SITHR,59.26,45.58,55.15\\nTahjudil Witra,FTI,79.43,54.63,56.78\\nAchmad Maulana Gani,STEI,54.48,50.65,64.74\\nReski Awalia Ismail,STEI,43.75,51.38,69.15\\nNatanael Hasudungan Robertinus,FTSL,44.57,41.85,33.2\\nCynthia Devi Aristiana,STEI,73.75,36.69,43.87\\nAditya Pradita S,FTI,74.6,47.26,50.48\\nKelvin Wongso,FITB,59.8,60.64,62.62\\nAbednego Lamsinar Simamora,FTSL,65.08,23.04,28.2\\nMiranti Arum Sari P,STEI,91.94,45.82,56.69\\nAhmad Fitriyansah,STEI,65.07,52.06,51.55\\nYuni Bella Pertiwi,STEI,80.06,30.38,41.91\\nRizka Faisal Nugroho,FITB,61.17,55.89,64.02\\nMichael Yurry,FTMD,64.74,39.86,51.17\\nSiti Tiara Adityas Maharani,SITHS,93.13,45.25,46.16\\nMeri Handayani,FTTM,66.4,39.3,46.08\\nMuhammad Hamzah,SAPPK,60.67,44.44,61.42\\nRani Yasmina Rosa,FMIPA,58.57,46.29,49.39\\nCahaya Tri Buana Wahyu Putra,FTMD,55.24,54.74,59.05\\nAidia Margiansyah Fajrin,STEI,71.12,45.1,54.99\\nSergio Randy,FTMD,76.65,38.19,33.16\\nMoh Nabiel Erfan,FTMD,83.48,33.49,55.46\\nGrieska Adhi Parwannitya,FTMD,60.28,32.32,40.4\\nShahnaz Prila Rafida,STEI,70.77,34.48,44.5\\nIvan Hendrata Teopilus,SITHS,75.49,55.39,50.84\\nSlavito Shan,FTMD,69.01,34.93,40.28\\nRahmasari Noor Hidayah,FTI,69.62,25.28,36.64\\nGalih Ahmad Falaq,FTSL,37.75,44.94,49.14\\nRay Grimaldi Erwin,FTI,60.73,25.52,33.66\\nMuhammad Naufal Aflah,FMIPA,66.97,42.64,51.43\\nHarsya Indra Pradhana,SITHR,92.94,47.18,50.81\\nMuhamad Randa Pratama,FTSL,68.2,42.34,49.98\\nMuhammad Rangga Brata Sena,FTTM,75.51,44.53,61.6\\nSuka Pradita,FMIPA,69.37,25.51,46.74\\nM Khalid Al-hijri,FTSL,86.83,42.18,42.78\\nRizky Nurfajri,FTSL,61.45,45.02,55.32\\nCosmas Krisna Adiputra,FMIPA,64.99,39.32,40.11\\nAshari Aries,SITHS,57.61,57.18,64.56\\nAinun Nadhiroh,SITHR,59.82,51.36,50.41\\nAlam Hardik Dewantara,FITB,75.3,40.53,48.03\\nSani Ratna Aprilia,SAPPK,71.2,37.85,39.48\\nAde Tria,FTTM,65.42,59.24,66.88\\nFajar Nurhadi,STEI,55.52,32.49,45.97\\nRaden Arifudin Nur Fauzan,FTI,58.24,46.6,46.74\\nTitik Suryani,FMIPA,60.63,42.2,54.49\\nEvan Naratama,FTMD,59.29,59.1,78.72\\nDiva Almaputri,FMIPA,86.52,24.92,30.33\\nSteven Andianto,FTSL,64.91,39.15,37.04\\nMaulidwina Bethasari,FTI,59.71,35.17,44.82\\nLunnetta Safura Lumba,FTTM,73.59,56.27,55.96\\nRyan Kurniawan Santoso,FTI,77.14,43.22,52.67\\nHandy Pratama,FTSL,65.89,52.95,69.06\\nLaksamana Rayhan Utomo,FTI,67.02,19.56,26.44\\nDini Fitriyani,FTSL,60.36,54.72,54.02\\nAndi Firdaus,FITB,51.99,60.77,60.99\\nAnastasia Bernike Hotmaduma,SITHR,66.68,32.47,51.03\\nBilal Septian,FMIPA,63.93,40.65,56.02\\nErlangga Hanggara Wisnhu Murti,FITB,79.26,36.61,47.83\\nJoseph Ramos P D H,FTMD,55.78,69.83,83.27\\nAndhika Dhaniswara Dwiputranto,FTMD,73.74,53.07,69.08\\nIcho Yulian Chandra,FTSL,70.34,42.35,49.7\\nAmalia Handini Astari,FITB,65.6,57.64,63.53\\nBimo Atiflugeni Usoko Ady,FTSL,94.52,44.78,42.89\\nCarissa Mashinta Kurniawan,FTI,71.77,34.13,41.55\\nFiranza Fadilla,FTMD,70.75,48.78,56.31\\nStephanus Adythia,STEI,72.38,40.6,38.09\\nSabda Alam Maulana,SAPPK,71.09,54.98,62.0\\nAdlian Rahmadita S A,FTTM,64.22,48.0,52.87\\nSidiq Vidyasto,FTMD,79.13,64.08,71.11\\nLouis Sonna Martuah Purba,FTTM,79.08,26.37,32.39\\nAnandari Ramadhiar Priyandini,FTTM,91.29,46.17,52.45\\nMaria Laurentia Priyanka,FTI,87.99,57.16,56.47\\nBima Ramadhana,SITHR,89.71,46.92,60.5\\nAruni Diar Hasanah,FTI,53.84,61.08,62.07\\nAziz Amerul Faozi,FITB,76.2,74.02,68.75\\nRochenry,FTTM,67.5,54.21,70.43\\nFadjrin Akbar,FTI,65.78,50.01,65.69\\nDina Kurniawati,FTSL,72.7,42.66,43.53\\nNadya Maraya Putri,FTSL,57.18,42.09,51.71\\nWidya Meiriska,SAPPK,77.65,32.36,36.62\\nIsmail Abdus Shobar,FTTM,60.88,44.79,62.56\\nMuhammad Farras Majid,FTSL,66.42,47.25,54.56\\nAnindita Aliyah Utami,STEI,85.41,47.92,52.33\\nGita Olivia,FTTM,71.75,45.04,57.38\\nSteven Gunawan,FTI,59.44,20.61,27.32\\nAnnisa Dwilistyani,SAPPK,81.7,35.9,35.78\\nAry Rendra A P,FITB,70.9,60.62,71.75\\nJeshica Novalia,FTI,74.86,40.67,59.73\\nMahartika,STEI,63.54,50.41,71.57\\nVincent Alexander,FTMD,69.27,54.4,61.04\\nHana Effrika Rana,FMIPA,70.41,52.15,61.98\\nKharis Rahadyan,FTSL,67.01,58.55,61.89\\nRaden Mohamad Fauzi Ramdhan,FTSL,74.91,61.84,78.7\\nMarvin Nathanael Iman,FTMD,68.21,43.49,47.7\\nWhytia Shabrina Fitmawyani,FTMD,82.38,53.43,61.94\\nAnshanty Widyarizki,STEI,70.94,42.92,54.51\\nRatna Laras Cantika,STEI,84.3,51.5,50.4\\nStephen Leonardo,STEI,68.48,29.11,49.6\\nPande Made Prajna Pradipa,FTTM,57.88,58.75,59.49\\nZulfi Nadhia Cahyani,FTSL,89.06,63.35,64.48\\nBella Tria,FTSL,75.38,75.37,77.33\\nDevi Tiyan Cahyaningrum,SITHR,70.4,41.47,53.75\\nNurul Lathifah,SAPPK,93.54,29.12,38.37\\nKarina Gisela Napitupulu,SITHS,65.21,52.24,55.88\\nAdirga Ibrahim Khairy,STEI,70.3,73.82,69.47\\nRendy Darma,FTI,69.67,53.41,42.69\\nGaluh Gita Prameshwari,STEI,64.86,60.96,60.32\\nFaeruz Maulana Rasyid,STEI,77.41,45.99,51.27\\nNerissa Varianti Pangau,FMIPA,72.08,54.6,55.88\\nArnoldus Janssen Krisma P,FTSL,67.18,44.35,42.76\\nRuben Elkana,SITHS,82.83,37.96,54.18\\nIman Satriaputra Sukarno,SITHR,60.89,40.38,53.14\\nAkbar Prasandhika,FTTM,60.11,42.2,51.55\\nIntan Rahmatillah,FTMD,87.81,69.06,75.8\\nSiti Winarsih,FTTM,73.71,63.0,65.61\\nMonica Iyanuar,STEI,88.21,54.81,71.57\\nM Izzuddin Prawiranegara,STEI,53.23,39.8,49.7\\nBramastra Saktyawan,SAPPK,79.09,57.85,77.87\\nRisky Adha Pradikto,FTMD,70.8,48.14,47.59\\nAtari Rizki Naulia,FTI,69.15,45.8,44.72\\nDhyna Analyes Trirahayu,FMIPA,59.4,34.91,36.9\\nNovi Tri Yana,FTSL,64.32,43.49,59.07\\nMuhammad Sapto Nugroho,SITHS,97.75,33.12,41.55\\nRaisa Zahrah,FTTM,34.74,37.57,44.49\\nRetno Dwi Wulandari,STEI,69.43,42.79,51.8\\nErnest Sebastian Constantine,FMIPA,67.79,42.06,49.54\\nDhea Shofi Rachmadita,FMIPA,92.5,51.12,56.84\\nJordan Syein Sutoko,FTI,70.18,36.7,38.74\\nFeliana Eka Dewi,FTTM,46.79,40.28,44.65\\nNourmalita Arifianti,FITB,54.74,51.78,51.79\\nLuthfan Nur Dwianto,FTSL,75.78,27.44,48.83\\nMuhammad Luthfi J,SITHR,66.83,63.0,64.73\\nFadhi Athhar,FTTM,60.41,34.71,40.87\\nIryas Santika,FMIPA,62.22,56.81,70.91\\nAchmad Caesar,FTSL,88.8,28.0,21.62\\nJuan Marco Nathaniel,FMIPA,65.57,59.57,69.69\\nJessica Esther N,FTSL,54.6,51.32,52.29\\nSuciyati Nurul Intan,FMIPA,69.21,37.49,43.97\\nHerlina Widyastuti,FTSL,62.69,31.09,31.27\\nRobbi Hidayat,FTI,68.82,53.41,46.63\\nRydho Rayaguna Aljannah,FTI,64.65,26.2,40.93\\nKatherin Dian Parameswari,FTSL,59.97,61.3,64.8\\nRyan Adicipta Nugraha,STEI,56.42,45.49,44.41\\nEdinatha Silitonga,FTTM,77.67,47.44,59.96\\nJoshua Christian,FMIPA,79.44,27.55,25.72\\nKevin Sanjaya,FTI,64.4,56.24,63.98\\nMuhammad Rizki,FMIPA,100.0,46.13,56.23\\nAlexander Daulat Roni Tua,STEI,100.0,51.31,47.66\\nRicky Simanjuntak,FTSL,59.52,44.23,53.21\\nDella Devita,SAPPK,68.37,23.74,39.3\\nBenidiktus Samuel Mp S,FTTM,74.38,47.73,50.33\\nAldea Permatasari Firdhaus,FMIPA,59.78,63.11,67.13\\nPuthut Dwi Saka Haryono Putro,FTI,46.17,50.03,47.72\\nNurul Ekawati Putri,FMIPA,49.79,61.53,73.16\\nSavira Amalia,FITB,67.21,74.51,72.56\\nMade Sandhyana Angga,SITHR,51.99,59.46,66.76\\nFathina Diyanissa Rukandi,FMIPA,88.32,32.73,47.07\\nFeriz Kausar,FTSL,48.28,45.44,61.19\\nAliyah Alfianda Dwicahyani,FMIPA,59.08,44.44,40.56\\nKevin Kusnadi,FITB,82.88,44.67,46.5\\nDamiann,FITB,82.1,19.38,19.05\\nRafi Ramadhan Isakh,SAPPK,91.02,27.61,38.11\\nAgny Muchamad Nureza,FTSL,69.86,38.99,59.1\\nDevita Auliandari,STEI,74.12,52.64,66.36\\nFaathir Reza Avicena,FTSL,57.12,81.5,78.68\\nPaulus John Bhaskara,FMIPA,85.77,59.2,60.16\\nFaishal Zaka Naufal,STEI,72.93,55.41,58.47\\nAcintya Pramudhita C M,FITB,41.94,61.63,67.13\\nLutfi Dwimulya,STEI,64.47,46.2,46.63\\nMuhammad Hanif Anwar,FTI,75.2,60.38,63.5\\nMuhammad Iqbal,FTTM,79.83,29.21,35.93\\nNukti Zulhaidir Pratama,FITB,65.75,48.06,59.88\\nCosmas Langga Kangmukti,SITHS,73.08,43.15,58.32\\nNurul Asyifa Munawar,STEI,88.86,58.38,55.88\\nHendrik Ardianto,FTSL,92.57,26.29,37.85\\nIqbal Tri Putra,FTTM,73.06,41.09,39.82\\nArief Rahman Pratama,SITHS,71.98,29.65,46.13\\nSurya Fitri Utama,FITB,67.91,25.48,31.56\\nPrasasti Utami,SITHR,59.13,41.0,49.63\\nThareeq Al Fiqar,FTTM,66.89,42.03,70.99\\nKiki Intan Mayangsari,FTI,57.78,52.94,59.72\\nAzhari Pradityo,SITHR,81.7,47.31,52.56\\nChristophorus David Budiarto,FTSL,89.3,49.58,56.01\\nIntan Dea Yutami,FITB,75.01,36.92,56.81\\nFenyka Ariana Jeanuarieke,FTI,64.88,31.75,43.18\\nSendi Wijaya,SAPPK,66.05,44.26,51.43\\nFaisal Assidik,FITB,67.87,57.05,56.01\\nRatna Novita Wulandari,FTTM,68.86,47.38,62.89\\nBhima Bhagaskara,FMIPA,77.51,51.22,66.26\\nMarsha Amanda Rizky,FITB,76.05,45.04,51.28\\nTuti Susilawati,SITHS,72.93,64.13,70.09\\nGede Agung Putra Prathama,FMIPA,39.71,29.81,42.25\\nBernadeth Ingelia Saputra,FMIPA,76.87,63.46,62.48\\nAsna Maulida Rizky,STEI,86.06,34.14,41.6\\nAngela Lynn,SITHS,45.29,34.0,31.8\\nFitria Ibrahim Setiati,FMIPA,67.87,43.17,47.84\\nMuhammad Fauzan,SITHR,54.17,50.59,57.07\\nMuhammad Fajri,STEI,84.13,45.61,65.06\\nRachmad Pujianto,FTTM,57.41,30.83,41.18\\nAfif Darmawan,SAPPK,51.61,65.82,61.93\\nBagus Triyanto,FMIPA,62.34,37.39,52.44\\nRidho Alfian Ogulin Mayo,SITHR,60.11,42.67,60.43\\nTara Tatiana Rahmadi,SITHR,54.72,43.96,41.91\\nKukuh Rahmanto,STEI,85.68,45.88,58.34\\nFaris Taufiq Zaqiy,SAPPK,56.26,48.4,68.46\\nGhaniy Nugrahantoro,SITHS,72.06,56.74,40.35\\nFarid Muhammad,FTI,59.89,74.29,83.95\\nIndah Anandya Mahendra,FTMD,100.0,29.34,34.01\\nPutu Adhika Bayu B,STEI,56.16,50.77,56.92\\nWidwiyaswati Roosita Dewi,FTI,74.04,51.32,62.53\\nAldy Riza Dhiandra,SITHR,66.8,56.87,71.98\\nBharuno Mahesworo,STEI,70.09,29.85,31.26\\nMuhammad Suyudhi Suryakusuma,FMIPA,78.92,48.83,64.49\\nRaisa Zuhria Savitri,FMIPA,55.32,43.96,50.05\\nSyahid Rohmatulloh,FTMD,62.3,39.42,42.5\\nMaulana Erwinsyah Putra,SAPPK,59.25,47.63,51.78\\nFadiel Evan Marastio,STEI,65.47,40.63,43.44\\nKhonsa Raisah Irfani,FTMD,73.5,46.38,55.72\\nHanna Pertiwi,FITB,73.25,51.23,56.49\\nRosana Dewi Amelinda,FMIPA,68.66,32.85,62.15\\nTerihamka Malyan Ibrahim,FTI,78.23,60.82,66.62\\nLilik Bayyinah,FTTM,62.88,53.15,62.6\\nKevin Manatar Oloan Situmorang,FMIPA,76.21,30.35,41.36\\nDavid Anthony,FTI,81.54,57.14,58.62\\nFaradina Gita Rikzani,FTTM,77.29,70.58,63.48\\nFuad Ramadhana,FTI,82.27,42.64,53.56\\nNaomi Maria F B,STEI,76.83,33.12,43.45\\nTaufiq Abdullah Salim,FTMD,56.9,49.13,60.2\\nLugas Raka Adrianto,SAPPK,65.1,38.29,47.0\\nRafida Mustika Wulandari,FTI,65.12,58.77,60.96\\nIrene Angelina Cahyadi,SAPPK,56.92,30.88,31.77\\nArief Rahman,SAPPK,64.35,44.79,39.27\\nIndira Viantini,SITHS,70.31,29.88,34.45\\nGhina Bani Azifah,FITB,45.04,41.16,48.56\\nMunaya Firda,FTSL,69.01,48.16,43.9\\nAde Kusuma Putri,SITHR,77.04,40.76,46.84\\nClara Yoanika,STEI,83.43,50.59,49.4\\nAhmad Naufal Farhan,FTI,84.32,53.26,50.53\\nNur Fatonah,SAPPK,42.31,44.92,48.42\\nLika Olytia,STEI,72.23,42.14,57.08\\nGrace Vania Setiawan,FTI,57.51,41.79,48.89\\nSasthi Nandani Iradiva,FTI,87.86,30.42,23.19\\nDirga Imam Gozali,STEI,71.56,54.09,61.94\\nAyu Gema Lestari,SITHR,78.35,54.96,53.67\\nMuhammad Ilman Nur Akbar,FMIPA,57.14,30.57,44.47\\nNor Iffadathul Faddilla,FTMD,81.57,58.77,55.94\\nHanniedya Violina Balin,STEI,50.29,32.42,49.65\\nAhmad Najib Karyanto,FTI,80.86,55.35,56.03\\nNi Luh Nyoman Shita Sekar P,FMIPA,79.79,25.41,44.96\\nLeidi Yelsya Novanda,STEI,65.84,52.18,62.67\\nRicardo,FITB,59.25,57.91,75.51\\nVeronika Reni Sijabat,FTTM,60.31,55.01,53.58\\nHermawan Sutejo,FTI,60.22,47.23,66.16\\nMochamad Cholik Hidayatullah,SAPPK,78.07,52.74,58.41\\nAngga Fauzan Pratama,FTMD,44.22,52.63,59.35\\nCempaka Kuning,FTMD,59.24,43.59,41.14\\nFatkhur Roji,FTSL,82.82,54.07,55.09\\nZaki Muhammad,STEI,59.11,40.84,59.02\\nNur Lawiyah,FTI,67.79,48.11,55.66\\nFaizhal Kamaluddin Prasetya,FTSL,65.51,62.25,71.45\\nGeorge Marvin,FITB,83.76,40.17,50.26\\nKiki Kristian,FTI,76.91,57.23,60.03\\nSiti Raudhatul Fadilah,FTSL,72.21,37.96,55.9\\nRizky Nurachman,STEI,77.41,62.67,65.99\\nJohanes Hendra F Rajagukguk,STEI,52.13,49.59,52.08\\nAhmad Hasbi Afif,FTTM,82.38,42.5,52.0\\nRadian Febi Indrawan,FITB,54.88,54.1,65.3\\nRita Kartika,STEI,87.45,34.06,42.78\\nPutu Angga Widyastaman,FTI,79.18,39.04,53.49\\nRuth Debora Ulina,FTI,80.31,43.91,49.26\\nGilang Trisna Kusuma,FTSL,86.58,33.4,48.05\\nMulyani Dwi Yanti,FMIPA,84.28,51.74,57.0\\nMarlinda Emmadita,STEI,73.9,51.98,47.41\\nTia Hartiani Kusaeri,SITHR,74.09,41.84,45.93\\nBen Ikhsan,FTI,78.59,40.44,48.66\\nSri Hidayati,SITHR,85.26,38.08,41.3\\nSacha Mauludianita Octafira,SITHR,69.55,43.0,57.12\\nMarini Nur Izzah,STEI,61.32,44.55,53.09\\nDevi Permatasari,FTI,66.16,32.93,47.75\\nRiomudita,SITHS,77.43,39.56,54.0\\nGumarus Dharmawan William,STEI,68.67,38.59,43.9\\nArief Nur Pratomo,FTMD,62.57,58.69,54.2\\nSylvia Magda Ekawiguna,FMIPA,74.17,43.73,59.38\\nBilly Phoenix,FTSL,73.94,51.02,55.89\\nAlbert Agung Cinter Halim,FMIPA,59.49,40.89,52.23\\nFranz Sunandar,FTSL,77.27,38.4,39.58\\nIfan Ramadhan Zaki,FMIPA,74.33,59.13,49.84\\nFebi Damayanti,FTI,89.51,53.73,56.86\\nKharina Jasmine Pratiwi,FMIPA,68.76,34.91,42.67\\nIedhamsyah Fitra Samudra,SITHR,64.92,28.76,24.68\\nMichelle Rosalin Intan,SITHR,57.62,54.04,55.75\\nDicky Hanggara,FTI,84.41,53.82,74.87\\nEthis Yuantoro,FTTM,73.86,66.81,59.24\\nMiftahul Hilmi,STEI,79.69,42.4,53.63\\nFriska Navisa Ratri,FITB,70.8,56.4,53.2\\nWafid Mutarrif,FTTM,49.82,44.18,52.45\\nRamdhani Try Waluyo,FTMD,80.02,48.83,62.08\\nCalvin,FTI,45.37,39.13,49.48\\nKrisna,FITB,76.63,53.19,55.7\\nAryo Putra Purwanto,FMIPA,71.59,49.45,50.02\\nPranidhana Mahardhika,STEI,76.2,50.38,57.27\\nI Dewa Gede Oka Raghunatha,SITHS,73.18,42.78,49.56\\nRizqani Dian Siwiutami,SITHR,78.17,71.91,83.05\\nDwi Futia Khaerani,FTSL,98.31,52.83,50.76\\nFanny Kartika,SAPPK,74.06,37.61,41.54\\nBriandhika Utama,FMIPA,76.51,51.18,54.38\\nMuhammad Akmalul Ihsan,STEI,62.7,50.15,58.62\\nKevin Kynan Sanjaya,FTTM,78.23,36.67,23.48\\nRifqi Rafifandi,STEI,57.79,41.12,49.11\\nNada Mufidah,FTTM,53.83,55.62,60.04\\nA A Dharma Adi Pratidnya,FITB,77.71,57.25,66.45\\nStella Harlim,FTI,87.0,66.96,70.69\\nRifqi Dewangga,SAPPK,81.19,46.8,51.63\\nMelati Dwi Wulandari,FTI,86.53,52.96,55.66\\nMifna Aulia Mutianisa,FTI,79.93,36.15,40.76\\nDian Inayah,FTI,78.69,51.75,46.05\\nDennis Corleon N,FITB,54.47,45.57,57.08\\nClarissa Olivia,FTMD,77.06,46.42,48.9\\nMuhammad Naufal Rizqulloh,SAPPK,71.38,57.31,48.88\\nDitto Ardiaputra Pratama,SITHR,66.93,53.49,60.35\\nMuhammad Ridha Galis,FTI,100.0,38.87,34.69\\nElvin Luvian,FITB,74.07,37.97,51.06\\nReza Anggara,FTI,86.9,47.62,46.62\\nNindhita Pratiwi,FMIPA,35.9,65.68,66.66\\nAlkindi Yahya,FITB,70.97,37.72,41.27\\nKiki Kumala Putri,FMIPA,65.93,45.48,55.39\\nCintiya Ayu Putri Darmawan,STEI,80.79,51.9,53.6\\nAdino Eleazar Manoppo,FTTM,71.2,54.55,71.74\\nMuhammad Adrian Ilman,STEI,95.81,54.26,48.03\\nHardiana Koencoro,FTSL,66.77,19.76,39.84\\nT Asril Anwar,STEI,69.82,51.4,53.89\\nMarcelinus Henry M,FMIPA,70.92,38.63,48.0\\nGusti Putra Tulak,FTMD,65.11,46.8,45.13\\nDimas Alfiandri,SITHS,56.13,25.37,35.84\\nFatwa Islami Azfa,SITHR,67.31,52.02,49.73\\nMuhammad Naufal Abdullah,FTTM,58.53,35.34,41.02\\nAnisah,FTI,60.59,72.18,63.05\\nDhinny Dwi Putri,FTSL,71.92,46.81,56.43\\nQanun Miladial H,FTSL,56.73,35.96,44.36\\nSanti Husni Yatie,SITHS,83.53,61.59,53.1\\nRr Nissa Pressinawangi Krp,FTTM,73.43,49.23,51.82\\nRahma Rizkiya Azhary,FMIPA,65.63,48.2,55.99\\nAnisa Adiningrum,FMIPA,52.77,65.17,63.45\\nAishah Mahyarni Imran,FMIPA,81.74,45.62,52.18\\nWildan Al Farisy,STEI,77.69,41.87,44.65\\nFania Feby Ramadhani,STEI,88.23,20.21,26.1\\nBudi Seftafiandra,FITB,76.73,26.8,46.91\\nSyifa Nur Awalia,FTSL,46.29,50.29,52.5\\nFaruq Adib,FMIPA,74.26,55.65,66.16\\nMuhammad Aditya Nugraha,FTSL,64.41,28.52,28.69\\nPraditya Cahyanto,FITB,65.84,45.2,35.99\\nIsabela Rotua Hasianta Siregar,FMIPA,79.83,53.34,56.34\\nSinta Isfandiary Ainsyah,FITB,63.55,52.16,62.84\\nDwi Syafiar Bayu Aji,FTTM,93.2,46.83,56.74\\nAlvin Andrian,FTTM,78.45,54.98,57.34\\nRachel Putri,FMIPA,74.22,45.74,59.6\\nAdrian,FTSL,75.32,38.73,38.89\\nIsti Chairianti Ahmad,FMIPA,58.26,38.46,46.91\\nHamdin Kifahul Muhajir,STEI,79.18,38.2,46.88\\nHadiyan Wijaya,FTI,46.1,42.68,45.46\\nDian Cahyaratri,FTI,87.25,49.15,52.65\\nErwin,FTTM,74.18,50.85,56.74\\nNovita Hartono,STEI,77.18,25.82,38.56\\nWilliam Stefan Hartono,FTTM,69.65,44.95,52.56\\nOktaviardi Bityasmawan A,SITHR,79.87,31.68,39.7\\nSeptia Eka Marsha Putra,FTTM,74.1,45.01,55.85\\nFaiz Abi Talha,FTTM,82.76,42.86,46.73\\nMauliady Satria,FMIPA,79.46,53.2,48.33\\nAmalia Beta Noviana Anyori,FTTM,40.3,36.87,44.39\\nJulius Timothy,SITHS,60.74,33.77,48.28\\nAmalia Rizky Amanda,FITB,74.43,33.37,35.74\\nAdri Muhammad Rivai,FMIPA,54.7,50.43,65.08\\nDinar Siti Sarah,FTSL,73.88,34.87,35.66\\nYusanuari Alaniri,FITB,48.57,57.64,69.3\\nFatima Hanun,SITHR,79.17,37.95,44.37\\nEvi Erwinton Simbolon,FTI,62.04,70.13,64.99\\nRodeta Sihombing,FMIPA,54.72,44.54,58.32\\nMeynard Danam Purwa Atmaja,SAPPK,80.3,56.35,70.58\\nMuhammad Iqbal Toynbee,SITHS,55.94,50.69,65.43\\nTeguh Yassi Akasyah Putra,FMIPA,55.63,56.69,70.14\\nRopan Efendi,FTI,59.57,57.49,67.06\\nMuhammad Adriansyah,FMIPA,65.01,28.01,40.82\\nFlesensius Agam Fradiska,FTI,59.74,26.89,36.27\\nSilmi Sabila,SITHR,100.0,35.8,57.04\\nRoby Aryanto Gultom,FTI,69.8,56.8,58.86\\nEric Dwi Pangputra,STEI,76.88,40.89,51.32\\nRoby Purnawan,SAPPK,74.1,48.2,57.2\\nMuhammad Yafi,FMIPA,69.72,49.85,73.33\\nMirfa Fauzan,FTI,59.54,37.06,35.42\\nDinda A A Z Mundakir,STEI,41.18,81.34,82.6\\nPrasiwi Handari Jati,SITHS,71.11,33.89,35.21\\nNur Ramdhani Iskandar,FITB,71.3,55.67,68.74\\nAlexander Sinabutar,FTI,77.03,52.32,59.88\\nAzalea,SAPPK,58.43,55.25,57.47\\nMuhammad Bintang Adinandra,FTI,54.53,47.12,62.71\\nHastian Rizky Nugrahanto,STEI,79.88,36.24,44.23\\nMuhammad Haekal,STEI,73.04,28.8,34.0\\nRosa Yasmine,FTMD,64.46,54.47,57.39\\nTiara Wulandari,FTTM,60.69,50.03,55.99\\nTeguh Setiawan,STEI,58.95,45.55,43.92\\nAsri Nur Zahirah,STEI,75.58,52.04,52.34\\nNurdita Rahmadani,FTI,67.57,34.71,36.05\\nAntonius Prasetya,FTI,71.92,31.24,34.59\\nChrissa,STEI,68.9,49.24,51.88\\nSuci Permata Arief,SAPPK,96.33,31.09,45.63\\nCholidah Akbar Fitriani,FITB,65.19,51.84,57.24\\nKukuh Prasetyo,FTSL,74.68,32.03,40.07\\nCindy Amelia,FTMD,86.03,50.74,63.14\\nEldi Soraya Choirunissa,STEI,67.46,39.99,59.27\\nRahman Tri Putra,STEI,66.36,51.52,61.74\\nAntariksa Prianggara,FTSL,81.51,60.25,49.69\\nStefanus Adrian Indrawan,SAPPK,91.17,33.01,48.06\\nHandy Tri Husodo,FTSL,71.61,37.09,36.98\\nApri Rokhyadi,FMIPA,77.19,72.27,70.32\\nTia Utami,FTTM,80.03,51.05,62.71\\nJihan Syifania Anwar,FTMD,57.78,53.13,70.58\\nRatri Irawanti,FTI,86.89,34.08,25.82\\nAris Prianto,FTSL,64.2,53.88,63.2\\nMuhammad Sufianto,FTSL,88.08,49.87,60.89\\nAdriana Enge,SAPPK,47.52,45.92,54.21\\nRahardian Graha E,FTSL,55.51,64.61,58.15\\nAulia Rinald Muhammad,FITB,67.16,65.18,69.89\\nMoch Iqbal Prahastomo Sadewo,FTI,66.63,40.66,51.99\\nGiovanni Witjamulia,FTSL,84.19,55.32,51.04\\nDimas Ammar Azhari,FTTM,71.11,53.05,65.15\\nRahajeng Nuri Mutiasari,FMIPA,53.04,37.95,46.32\\nBenedictus Gutjahr,FTSL,86.53,42.9,51.69\\nMuthiana Rizka,STEI,70.18,41.12,49.04\\nRizqi Arrizal Iman,STEI,71.01,26.55,29.58\\nFadlan Sabil,FMIPA,72.75,32.41,43.69\\nResinta Nuraida,STEI,60.7,31.72,41.49\\nRezky Putra,SITHS,80.32,66.55,59.92\\nFitri Amalia,FMIPA,40.04,37.71,43.73\\nSarah Karinda Ramadhani,FMIPA,69.1,52.77,62.73\\nNovensius Dillen,FMIPA,80.83,53.54,64.89\\nRiyan Putra Dhewa,FTI,66.65,57.09,62.94\\nHaifa Nabila,SITHR,80.27,54.75,52.11\\nMuhammad Fajar Astrianto,FTTM,52.57,43.23,44.18\\nFajri Habibie Suwanda,FTI,78.93,23.0,35.97\\nAfifah Nadia Tiana,FTI,71.23,56.59,66.51\\nRubyantara Jalu Permana,FTMD,75.41,43.22,56.52\\nVincentia Nitya Wikaniswara,SAPPK,80.55,35.7,47.19\\nYosua Septianto Santoso,FTTM,85.66,39.55,40.23\\nHindya Pwayari Razzaq,FITB,90.36,41.29,53.12\\nCahaya,STEI,78.08,39.55,48.18\\nIrham Ahada,FTTM,59.65,66.16,62.21\\nDian Aditya Nugraha,FTI,76.4,43.2,46.67\\nAulia Taufik Akbar,FTMD,78.49,22.37,16.04\\nLuthfan Ade Vidyanto,FTSL,70.46,57.91,61.15\\nThomas Rudi Hartanto,STEI,80.78,45.3,42.35\\nSherly Arista Pratiwi,FMIPA,70.11,42.37,39.43\\nAhmad Romadun,FMIPA,73.98,57.24,68.87\\nGhifari Prisma Radheka,STEI,82.68,31.89,44.81\\nMustarakh Gelfi,SITHS,39.26,58.2,61.17\\nRadiyan Puspo Rifaldi Sarwono,FTTM,51.14,54.32,55.31\\nMohammad Arfian Farizi,STEI,71.16,32.96,52.78\\nMaestoso Besto,FTMD,73.23,50.03,46.89\\nGarrysen Christian,FMIPA,77.53,62.95,68.02\\nTry Nanda R Pangaribuan,STEI,61.35,32.43,32.07\\nGrace Jaquelinne Emylia L P,FTTM,82.58,53.98,48.72\\nRizka Septriana Maharani,STEI,100.0,49.33,47.7\\nJatmiko Herjati,FTTM,61.34,54.1,62.27\\nDias Nurazna Pramukusuma,FITB,51.7,32.35,25.18\\nAhmad Yamin,FTSL,61.57,32.1,47.53\\nIdham Maulana Herwandi,FTMD,54.64,32.2,37.23\\nHasanal Baroki,FTI,53.93,27.67,34.57\\nShindy Rosalia,FITB,42.97,54.43,73.52\\nJoshua Nicholas Pargomgom,SITHS,47.25,47.7,55.72\\nHernadi Faturachman,FTMD,88.7,48.5,58.92\\nCatur Dwi Anindita,FTMD,68.58,55.83,51.03\\nOki Dias Rahmani,STEI,72.88,49.93,52.26\\nIrfan Dia Muhsin,FTMD,52.62,51.93,57.39\\nPrayudha Rifqi Safiraldi,FTSL,71.81,43.76,59.3\\nGelda Sella Monika,FTMD,68.16,38.83,41.25\\nRexi Christopher,FTMD,78.11,48.03,48.57\\nKalish Rachman Hamka,FMIPA,66.81,58.97,69.27\\nMonalisa Crystanti,SAPPK,84.0,38.89,48.44\\nBakri Prakarso Andi Wiyono,FITB,72.7,58.46,48.62\\nRegisa Hauna Suradi K,FITB,60.54,49.07,48.56\\nHans Liawan Sanjaya,FTTM,75.76,30.78,35.59\\nAhmad Sulaiman,FTI,82.93,63.09,70.99\\nJovita Calista Romauli,SAPPK,75.18,40.42,39.72\\nJohannes Kennedy,FTSL,70.32,47.69,45.67\\nNisa Trirabanita,STEI,42.16,33.82,48.07\\nAriandita Sari,STEI,75.52,37.11,46.68\\nHusna Muizzati Shabrina,FTI,90.93,47.21,38.61\\nSandy Indriana,FMIPA,96.46,46.55,54.07\\nAbdurrahman Alghani,STEI,64.49,57.4,59.1\\nMazaya Kamilia,FMIPA,56.19,51.96,61.04\\nSamantha Harisa,FTSL,90.29,48.8,63.23\\nBrurce Muhammad Mecca,SITHS,69.62,34.15,46.39\\nPanji Tofani,FITB,76.4,47.08,52.96\\nPrasetyo Ardi Probo Suseno,FTSL,84.2,39.16,46.86\\nCintia Yuwita,FTMD,66.11,59.31,56.0\\nPradito Bintang Wicaksono,FMIPA,48.25,51.33,56.76\\nGabriel Fedrichson,FITB,73.01,48.92,51.58\\nGandi Yunansyah,STEI,67.59,49.5,57.96\\nMade Santihayu Sukma,FMIPA,75.19,46.73,57.0\\nTulus Citra Lestari P,FTI,84.72,53.92,57.41\\nHisni Rahmat,STEI,71.53,49.2,58.55\\nVinson,FITB,62.26,33.08,54.36\\nGradi Desendra,SITHS,65.83,48.81,43.96\\nNisa Nadia Hauna,FMIPA,57.22,42.43,52.65\\nObert,FMIPA,63.69,30.86,39.23\\nFariz Reynantha S,FMIPA,67.76,43.12,51.19\\nAmalia Nurkhasanah,STEI,60.39,30.75,41.4\\nLaurentius Toni M S,FTSL,57.09,48.14,52.2\\nMezy Fadhila,FTMD,62.79,53.51,54.11\\nYudi Isvara,FTTM,92.9,47.24,56.84\\nSyariful Anam,SITHR,50.31,62.7,67.45\\nMaghfira Ramadhani,SITHR,81.93,31.68,35.15\\nKurnia Adi Widyawan,FMIPA,86.73,63.8,66.54\\nIsnaini Kurnia Siwi,FITB,80.69,38.78,43.87\\nArdhi Rasy Wardhana,SAPPK,67.4,34.18,38.35\\nImam Fauzan Adzy,SITHS,89.29,40.02,52.14\\nYuniki Mediayati,FTI,46.3,55.21,56.94\\nMuhammad Abdurrachman Rafi,SITHR,86.87,36.12,36.96\\nSafira Nafisa,FTI,66.34,39.27,42.9\\nSilviana Utami Suyanto,FMIPA,53.57,27.88,43.09\\nPatricia Karen,SAPPK,87.31,36.89,37.54\\nNurwida Rizki Ramadhani Putri,FTMD,100.0,62.77,59.45\\nNiswatun Nurul K,FITB,65.44,53.29,64.23\\nYunita Indah Puspita,FTMD,77.06,7.16,18.99\\nTiyo Novel Abdul Azis,FTSL,69.91,55.82,49.02\\nKesia Minorie,FTSL,91.6,52.83,64.33\\nMary Agustina Putri,STEI,59.91,44.48,52.2\\nAhmad Faris Fachrurrobbi Silmy,SITHS,70.05,56.18,65.53\\nSutra Eci Hutari,SAPPK,71.91,50.43,64.28\\nFhandy Ahmad,FTMD,90.76,62.33,67.41\\nDarmawan Wijaya,FITB,75.1,43.67,40.1\\nDanti Prabandari,FTTM,71.09,35.7,39.4\\nTantan Tasni Ramdani,SITHR,57.32,44.58,43.89\\nAndriano Simarmata,FITB,70.46,40.94,45.22\\nMuhammad Fazlur Rahman,FMIPA,51.28,23.49,45.45\\nElga Ridho Maulana,FMIPA,61.51,47.65,51.13\\nAdinda Syeila Putri,FTTM,73.59,52.35,68.16\\nDelanda Gracesya Rimadhani,FTI,48.9,65.52,65.9\\nLucky Caesar Saragih,FTSL,69.89,46.01,39.55\\nHansel Joseph,FTMD,65.07,33.67,37.83\\nRamdhan Anjar Saputra,STEI,79.1,60.3,53.67\\nM Ryanda Andhika,FMIPA,81.57,45.09,51.05\\nNaufal Shidqi,SITHR,85.09,29.58,32.58\\nDaniel Aditya Putra,FITB,77.1,52.38,69.56\\nAnggia Magnalita Octaviani,FMIPA,86.27,49.6,55.3\\nAndre Ditya Maulana Lubis,FMIPA,57.06,44.73,59.73\\nGiovanni Cynthia Pradipta,FTMD,72.0,52.36,56.17\\nNicholas Leo,FTTM,81.27,41.81,53.72\\nAlexander Syahlendra Haimir,SITHR,69.67,34.63,45.03\\nBayu Ajie Arrasyid,FTTM,62.92,48.49,68.59\\nFelicia Cindy Cokrodiharjo,FTMD,55.56,46.4,50.53\\nAryo Pangestu Priyadi,FMIPA,70.73,45.6,68.42\\nAlessandra Syukrika,FITB,79.15,70.14,73.37\\nTalita Dwirani As Sefa,SAPPK,71.07,62.43,50.89\\nRivon Tridesman,STEI,65.61,67.23,66.04\\nRatna Dewi Pardede,FTMD,73.91,32.88,32.78\\nKlara Petra T T,FTSL,73.39,76.61,78.12\\nArtnice Mega Fathima,FTTM,66.31,47.75,47.91\\nIntan Anisa Rossain,FTMD,52.86,41.01,39.46\\nOlivia,FMIPA,97.27,61.55,69.53\\nNurul Ghaida Tsani W,FTI,86.01,52.84,51.48\\nAidah Fithriah,FMIPA,64.42,30.18,37.06\\nReza Rahmadi,FMIPA,67.75,49.78,53.53\\nAdjie Wirandhana,FMIPA,77.62,71.64,84.65\\nMelita Setiawan,SITHS,71.61,54.1,61.17\\nZulva Fachrina,FTI,67.03,39.71,36.73\\nAngga Prabowo,STEI,62.3,36.52,45.77\\nImam Suandi,SAPPK,80.46,67.26,65.89\\nJoshua Anugerah Purwadi,SITHR,44.85,41.08,51.22\\nGeugeut Pangestu Sukandawinata,FMIPA,45.46,42.19,48.85\\nVania Avviantari,SAPPK,67.57,46.64,53.51\\nAli,FTTM,61.22,49.09,52.61\\nNurul Azmi Maula,FTSL,56.06,48.97,50.81\\nFelix Nathanael W,FTI,85.96,54.78,53.01\\nYasmin Nurfaridah,STEI,76.26,50.23,48.06\\nLuthfan Nur Azhim,FMIPA,83.42,56.46,58.41\\nOriza Naufal Harish,FTSL,75.48,57.45,62.12\\nYulia Lie Yanda,FTI,80.76,38.1,52.17\\nAchmad Fauzan Iscahyono,FTSL,60.22,38.82,49.91\\nLuiz David Sinaga,FTSL,90.23,59.51,58.81\\nIndra Nugraha,FTMD,85.99,48.02,69.31\\nViki Fauzi Akbar,FITB,93.93,33.46,43.0\\nHestin Permatasari,STEI,61.07,38.63,37.56\\nNariswari Prajna Putri,FITB,75.36,42.01,50.28\\nNisa Fadillah Al Haq,STEI,57.14,43.75,53.3\\nEgi Nurul Rahma,FTSL,62.18,57.71,64.31\\nDeri Latika Herda,FTTM,88.46,29.89,36.47\\nWindy Dwi Rahayu,FMIPA,81.47,26.08,29.63\\nDenisa Melati Arsyah,FTI,20.0,33.74,40.58\\nRandy,FTMD,58.87,43.92,51.08\\nMade Dedi Ariantina,FTI,90.14,29.58,33.46\\nRizkiyani Nadifa Puteri,SITHR,78.16,53.32,64.15\\nHilman Naafi Achmad,FTSL,59.49,42.52,53.79\\nWisnu Bayuaji Pramono,FITB,72.19,38.36,36.74\\nAbdul Wahid,FTMD,77.81,51.89,61.93\\nVeronica Astrida C,SITHR,67.46,43.63,43.17\\nFardian Thofani,STEI,68.96,34.94,46.07\\nArif Suprihadi,FTI,67.94,71.38,77.33\\nAulia Mawaddah Tasyarini,FTI,86.66,38.62,58.24\\nJannetta Tri Hotma Sirait,FTSL,61.65,57.05,69.17\\nMuhammad Harsyadika,FTSL,49.17,55.45,59.27\\nPuspita Oktarini,FTSL,79.99,32.91,38.5\\nTrimoko Pamungkas,FTTM,64.73,40.65,36.56\\nAuberta Philantha Tjong,FITB,62.18,46.58,51.34\\nVernanda Mutiara,FTI,72.15,59.6,61.23\\nKreshna Damar Segoro,FMIPA,89.68,38.77,42.39\\nNaufal Luthfiadi,STEI,76.46,29.69,40.2\\nHerlin Tresnaningsih,FTMD,51.88,50.26,53.38\\nJabbar Hanacaraka,SAPPK,62.16,43.5,68.62\\nAlina Listiyani Prayogo,STEI,60.29,34.61,56.86\\nLusi Oksri Dona,SAPPK,65.39,52.52,52.86\\nBunga Larascaesara,STEI,70.18,39.59,45.17\\nBriston,FTI,88.89,30.47,49.69\\nZunaiza,FMIPA,50.35,43.42,50.9\\nLisa Marsella,FTI,73.68,54.86,54.75\\nMuhammad Faisal Fachri,FTMD,72.2,58.89,57.85\\nAndre Rezky,FTSL,47.27,32.68,46.99\\nAlinda Nur Fitriana,SITHS,86.87,35.67,52.08\\nRyan Triantoro,SITHR,59.04,38.15,48.17\\nNur Khabibur Rahman,SAPPK,74.01,39.31,54.19\\nHaria Fitri,STEI,71.4,45.74,65.41\\nGhina Kamila,FTSL,62.6,36.67,47.67\\nAyub Sahala Gultom,SITHS,88.5,36.04,54.01\\nRatna Widya Fitriani,STEI,69.82,58.47,71.87\\nMuhammad Arief Maulana,FTI,67.89,59.52,61.79\\nMuhammad Ihsan,FTMD,62.52,38.32,53.04\\nIbrohim Kholilul Islam,FTMD,87.56,45.81,51.45\\nFauzan Ghilman Anshari,FTI,77.93,19.69,36.14\\nMuhamad Wahyunda,FTTM,60.33,34.49,35.44\\nNadia Nurul Miladia,FMIPA,76.75,31.57,44.93\\nKristanto Robby Winner,FTSL,41.79,38.63,40.55\\nWendy Clever,FTMD,52.72,27.37,32.55\\nReno Rozefy,SAPPK,92.13,50.07,48.16\\nQonita Abdillah Mutmainah,FTSL,86.08,57.07,55.52\\nZakky Hirza Aulia,STEI,67.11,46.95,61.52\\nAnshar Ajatasatru,FTTM,68.94,52.28,49.97\\nRifqi Faiz Argiansyah,FTTM,87.35,37.68,48.58\\nPUTU AGUS PREMA YOGA,FTI,78.02,45.18,39.35\\nNitho Alif Ibadurrahman,STEI,63.54,40.08,48.75\\nCindy Putri Puspita,STEI,67.01,60.33,57.24\\nPutri Nastitie Wiryoharjono,FTTM,59.8,53.53,56.08\\nRiana Rachmawati,STEI,59.26,39.48,35.04\\nM Aznan Firmansyah B,FTTM,74.33,46.68,53.4\\nKeza Wibowo,STEI,51.48,24.11,31.28\\nStephen Julio Kim Lumbantobing,FTSL,72.02,31.04,58.89\\nRyan Dwi Wahyu Ardi,STEI,80.39,48.06,56.64\\nKinara Kasih,STEI,82.02,56.66,53.58\\nMeutia Yunita,FTMD,100.0,54.38,76.41\\nIkhya Ulumudin Imam Mujahid,FITB,82.73,37.99,35.78\\nAndre,FTI,75.25,53.75,43.28\\nBregas D Suryowibowo,FTI,58.44,60.96,62.77\\nEunike Lily Claudya Sianturi,FITB,71.88,47.73,48.44\\nBt Mentari Dwi Putri,FTI,63.36,25.14,38.14\\nMaulana Fadil,FTI,68.8,52.07,59.65\\nHandita Reksi Dwitantra Sutoyo,FITB,62.1,50.02,54.22\\nBaharudin Afif Suryanugraha,SITHS,82.76,38.92,51.32\\nSalman Adri Satrio,FTTM,52.33,46.84,59.68\\nAlfirda Anindya Naya,SITHR,74.49,56.21,69.3\\nTeuku Muhammad Nafis Barizki,FTTM,65.94,48.77,50.8\\nYusman Restu Ramadan,FITB,68.55,27.01,39.14\\nFirman Habib,FTI,68.49,22.12,34.73\\nRahmaniar,FMIPA,97.8,57.03,58.5\\nDea Ananda Azalia,STEI,68.75,60.81,41.02\\nEndah Burdatul Hasanah,FMIPA,92.18,39.21,45.01\\nMuhammad Ghazali Putera,FTMD,56.74,40.76,48.25\\nWisnu Murti,FMIPA,72.37,34.06,45.8\\nM Fahru Reza Hakim,FTSL,67.73,44.54,62.17\\nAgatsi Wulansatya Murtiwardani,SITHR,38.38,29.15,36.21\\nRuri Masruroh,FTTM,95.78,47.17,48.26\\nGaluh Hersinom Adi,FTTM,88.75,46.48,45.53\\nViktor Trimulya Buntoro,FTI,74.55,51.49,59.16\\nAli Hanif,SAPPK,97.85,33.69,33.0\\nInsan Faza,FTMD,59.15,65.13,59.62\\nMutia Khairunnisa,FMIPA,71.47,42.8,52.9\\nKhanza Jamalina Bodi,STEI,70.75,63.49,67.03\\nIbrahim Musa Ashidiqie,FTI,83.28,38.61,57.28\\nNadya Rubi Mukti,FTI,68.8,30.85,53.77\\nMuamar Imam Fiqri,STEI,65.23,31.53,29.83\\nAyu Andriaty Diah Puspitasari,FTTM,62.78,38.9,47.43\\nFauzan Azhiman,SITHR,64.99,37.77,57.04\\nKevin Ongkowijaya,FMIPA,73.25,47.11,70.44\\nMuhammad Hary Jaka Laksmana,SITHS,56.17,57.68,55.18\\nJonatan,FITB,75.39,61.0,67.55\\nFahmi Afandi,SITHS,48.04,41.81,50.56\\nGumelar Pratama Putra,SAPPK,66.23,65.35,55.38\\nHamzah Wicaksana,FTI,90.43,56.25,70.42\\nMidrathul Rahmawati,FTMD,77.66,19.31,37.15\\nSammuel Juwono,FITB,80.77,46.69,65.55\\nFaldie Fathurohman,FTI,40.49,41.71,48.63\\nI K Dwika Paramananda,STEI,57.01,54.63,63.14\\nAlwidya Angga Safitri,FTTM,85.95,34.69,38.12\\nRichard,SAPPK,81.52,38.34,46.24\\nAndrianus Boas Manogi Sinaga,FTTM,49.84,32.71,41.16\\nRony Firdaus Sebayang,FTI,81.18,55.65,53.85\\nShabrina Hapsaryta Aufari,STEI,84.25,63.09,66.34\\nNuresa Riana Nugraha,STEI,61.36,52.54,48.83\\nYudiandra,STEI,58.73,44.69,47.63\\nYefta Nichola Sutikno,FTSL,96.34,70.87,78.52\\nKemilau Fiska Noyta,FTI,55.28,59.8,65.97\\nBenyamin Manullang,STEI,81.74,56.46,71.02\\nArtha Tiara,FTSL,43.6,40.72,56.23\\nAkbar Putra,FTMD,81.35,44.83,67.09\\nAinun Ahmad Dzikri Jatmiko,FTTM,68.26,51.13,64.17\\nAghnia Yovitarisya,FMIPA,88.68,48.7,50.6\\nMuhammad Dwi Setyawan,SAPPK,61.46,38.08,45.06\\nSiti Arifa Rachminia,FTI,66.54,40.9,42.34\\nDinda Ayu Rahmi Unaroma,FMIPA,76.73,53.86,59.3\\nMuhammad Ghassan Sukma H,FTTM,46.42,58.66,71.73\\nMuhamad Hananuputra Setianto,SAPPK,61.23,62.75,71.4\\nBilawal Zandra Faris,SAPPK,61.17,60.74,72.52\\nIntan Fitrianti,FTI,75.2,47.97,50.15\\nDinda Primazeira,SITHR,88.54,50.06,63.61\\nYanuar Aristya Edy Putra,STEI,85.09,54.11,70.16\\nTony Tjoeng,FTMD,47.42,29.33,36.07\\nThomas Milano Setiawan,FMIPA,90.77,42.28,50.98\\nMuhammad Ikhwanto,FITB,57.86,37.86,45.85\\nRifani Safitri Nursyaf,FTSL,86.97,39.88,43.56\\nIndi Auliana,FTTM,60.26,41.45,56.24\\nAnthea Previanti Amalia,FMIPA,58.43,27.92,29.53\\nDwini Restu Achnita,FTTM,70.94,46.49,63.85\\nKingkin Permadi,FTTM,74.23,33.96,33.41\\nDifra Andria,FTTM,63.07,39.27,56.27\\nJennifer Anandari Kariodimedjo,FTI,70.08,50.5,61.43\\nDinda Prayunita,FTTM,46.62,54.41,62.23\\nMuh Aqsyah,STEI,56.71,46.7,45.7\\nMuhammad Iqbal M,STEI,65.88,54.82,67.87\\nIfan Akhmad Fauzy,FTMD,100.0,33.94,45.53\\nArsy Fauziah,STEI,68.45,41.69,43.86\\nMelinda,FTTM,92.81,31.5,46.16\\nMuhammad Rafiansa,FTMD,84.81,41.21,45.2\\nDwi Rantini,FTSL,57.52,39.88,54.56\\nMuhammad Dieno Pradana,FTI,69.06,33.01,49.54\\nRahmandanu Jalu Pradana,FTMD,77.38,50.86,59.38\\nTitis Wibowo,FTTM,96.4,18.18,30.47\\nZulfikar Azhar Mahmud,FTTM,54.77,44.99,52.25\\nRiska Amelia,STEI,68.64,39.1,49.79\\nUlvah Utari,FTMD,54.44,46.51,54.78\\nAnisa Jasmine Apriyadi,SAPPK,50.39,35.49,44.17\\nRina Elvira,FTSL,48.25,53.13,65.2\\nFebi Rahmadani,FTI,85.35,33.08,33.85\\nOky Adi Purnomo,SAPPK,65.66,55.82,60.82\\nHania Zahida,FTMD,82.07,37.51,49.15\\nIl Rahma Pradira Gesari,FTTM,80.55,36.13,46.54\\nNada Dewanda Onie,FTMD,81.39,40.22,53.46\\nRian Didik Andika,FTI,62.73,39.1,37.99\\nKevin Hartono,FITB,59.31,49.92,49.62\\nCyntia Sari Dewi,SAPPK,54.55,51.89,52.58\\nWikan Dewana J,FTSL,59.21,38.2,57.78\\nDelfi Arisyadi,FTSL,65.16,27.1,34.22\\nGilang Norman Rizesa,FTTM,83.49,56.94,57.41\\nSiti Nabila Azzahra,FMIPA,68.44,32.84,39.68\\nMuhammad Surya Nugraha,FTSL,43.2,41.99,49.72\\nMaria Benita Pratiwi,FTSL,72.25,57.98,71.06\\nNadiyya Zahratul Jannah,FTMD,70.05,46.04,47.92\\nJulivius Prawira,FTI,85.15,52.35,57.63\\nFarida Sholichah,SITHS,65.7,48.43,60.79\\nAchmad Hasan Taherdito,FMIPA,96.9,57.67,73.0\\nSardenianto,FTI,68.96,32.95,50.96\\nRenanda Yafi Atolah,SITHR,74.93,52.87,54.25\\nFajar Nurghifari Aziz,FTSL,100.0,49.19,57.11\\nSwastya Rahastama,STEI,67.49,42.77,54.31\\nShafira Dinny Hasan,FTSL,75.5,52.02,56.42\\nAuliya Luthfiyana,FTSL,85.93,45.93,57.69\\nEduardo Rotama,FTTM,82.02,35.98,43.78\\nSekar Astari,FTI,53.79,46.32,55.36\\nRisya Mazhiatin Nisa,FTI,34.67,46.54,51.91\\nAris Stiawan,FTI,75.53,58.3,52.83\\nJimmy Yan Eka Putra Tampubolon,STEI,82.74,27.2,38.55\\nSyafira Fitri Auliya,SITHR,59.82,51.09,57.59\\nEga Kusuma,FTI,89.17,35.55,40.4\\nRian Maryudi,FTI,68.53,23.21,30.77\\nLanggam Bagaspratomo,SAPPK,61.75,51.06,57.34\\nIwan,FTSL,74.76,51.65,63.5\\nEvinitasari Intani,STEI,75.23,39.03,52.99\\nPandu Prawira,FTI,78.54,44.16,51.5\\nTiara Rossyda Sahara,FMIPA,72.28,47.15,56.82\\nTito Faradhimu,FTSL,79.94,59.64,56.67\\nEric Simbolon,FMIPA,66.01,43.62,58.95\\nLarissa Arindini,FITB,84.86,37.83,42.46\\nFeris Julian Budiman,FMIPA,56.75,42.71,57.97\\nKarel Adipria,FMIPA,75.32,47.99,55.11\\nMitra Sari Handayani,SAPPK,61.85,18.26,26.33\\nNorma Auditia,STEI,87.66,47.18,74.5\\nFurqon Alwi Baharsyah,FTI,62.5,49.14,50.91\\nGilang Eka Permana,FTSL,76.58,55.26,58.41\\nWulan Purnama Dewi,FTI,78.52,53.51,55.06\\nEksan Yuliyanto,FTTM,65.11,57.92,67.22\\nLutfi Bukhari,FTMD,78.62,31.79,23.18\\nFemy Santy Amelia,STEI,60.74,26.19,28.45\\nEmilio Omar Bachtiar,SAPPK,61.72,56.36,59.93\\nRinaldy Japutra,FTSL,71.57,31.85,53.2\\nIdwan Muhammad Fathan Ula,SAPPK,73.33,46.84,59.39\\nAdrian Hendra,STEI,69.54,42.31,53.52\\nBintang A S W A M,FITB,28.86,64.2,65.06\\nWindi Nrangwesti,FTI,77.79,60.36,78.29\\nIrfan Abdurrahman,FITB,65.58,41.67,50.37\\nPhillip Nathaniel,FTTM,64.6,51.2,51.46\\nEri Anshori Nurhadi,FITB,85.79,49.05,41.89\\nBhaskara Adi Vishnu,FTI,97.79,40.41,53.77\\nAnindito Satrio Baskoro,FTI,87.18,39.66,53.73\\nAlina Mahardhika Puspa,SAPPK,62.0,51.66,56.75\\nChristopher Russell,STEI,86.61,48.06,65.5\\nKasmawati,FITB,91.24,63.55,62.04\\nTasha Vania Hendarto,FTMD,57.28,68.95,66.59\\nJeffrey Lingga Binangkit,SAPPK,67.91,55.67,68.5\\nMurtadho,SAPPK,70.65,52.48,49.23\\nFajar Bahari,FMIPA,56.62,57.45,67.82\\nMuhammad Risfan Badrus Salam,FTSL,89.08,38.3,52.77\\nAmanda Arvian Ditasari,FTTM,72.85,56.42,58.55\\nRizcha Sri Wibisono,SITHR,66.97,50.15,57.93\\nFarah Fadhilah Nurbaihaqi,FTI,74.12,47.19,60.05\\nReza Marwan Salim,FTMD,74.83,53.93,59.46\\nAnnisa Purnomo,FTMD,84.1,53.74,62.56\\nAwidia Eswandari Juwita,FTSL,85.15,17.04,25.8\\nFrans Hot Dame Tua,FTSL,57.67,52.66,64.31\\nNabila Larasati,FTMD,94.77,44.57,65.19\\nSteve,FMIPA,65.28,55.04,69.56\\nMaulanna Maryunani,FTI,74.36,51.81,48.23\\nAria Ajidarma,SAPPK,42.53,39.97,41.24\\nFarizal Rivai Adiansyah,FTSL,65.82,61.56,70.11\\nKelvin Lois,FTSL,55.43,46.6,64.85\\nSamuel T P Pasaribu,SITHR,61.77,56.49,56.21\\nZeliana Yuanisa,FTTM,75.62,33.62,47.41\\nBella Marcia Saputra,FTSL,71.53,46.22,51.7\\nRoby Febrya Hamendra,STEI,55.85,54.42,69.75\\nMuhamad Ridho Chandra Sena,STEI,70.58,47.91,52.66\\nSatriya Prayoga Poernomoputra,FTTM,76.64,54.02,54.45\\nKevin Adari,FTI,62.95,32.62,41.59\\nNastiti Natasari,FTSL,62.21,37.03,44.16\\nAhmad Rifqi Brillian Tobibi,FTI,75.23,51.44,52.14\\nSilmi Kaffah,FTSL,75.32,42.36,36.81\\nAji Setyawan,FTTM,82.41,35.46,49.42\\nRandy Mario Sihombing,FMIPA,81.14,37.81,45.1\\nJuda Tirana,FMIPA,67.27,54.41,50.75\\nAlivia Puti Kamila,FTSL,59.5,8.73,27.06\\nFatima Pinon Pambayun,FMIPA,60.18,42.88,51.43\\nMaria Daisy,FTTM,88.24,43.91,47.98\\nYosua Lumban Gaol,FTI,63.64,66.03,61.35\\nMuhammad Rafi Respati,FMIPA,70.13,50.23,59.56\\nSyifa Nafiah,FTMD,66.15,47.93,61.79\\nMichael Setiadi Tanera,FTI,62.79,55.22,60.79\\nNadya Rifani,SITHR,59.18,34.52,41.15\\nLukman Tirto Kosasih,FTSL,80.14,38.55,58.4\\nTiara Rihensa,FTTM,56.35,52.32,62.08\\nWindi Anarta Draniswari,FTSL,80.08,34.8,32.69\\nWindi Adriani,FTSL,59.22,43.61,44.79\\nPraptaning Budi Utami,STEI,68.32,53.49,52.99\\nIvan Putera,FTTM,62.5,40.62,35.89\\nSepti Rahma Wati,STEI,73.05,35.1,52.45\\nWilson Fonda,FTTM,57.1,47.79,57.99\\nKelvin Tanugraha Mulyadi,FITB,61.91,40.7,49.37\\nFerdyan Ihza Akbar,FTI,86.63,36.73,48.48\\nYusra Nur Hanifah,FTI,76.47,49.43,48.4\\nHaruhehe Pretty Megawaty,FITB,89.14,31.94,44.1\\nRandy,FTSL,57.86,69.47,81.52\\nDeffy Andiyani,FITB,48.97,50.48,45.88\\nSocio Jiwapatria,STEI,35.52,51.72,57.79\\nLeonardus Richard Salim,STEI,79.14,46.49,52.71\\nAnindita Putri,FITB,62.51,63.94,80.52\\nSebastian,FTI,68.65,37.34,52.72\\nMuhammad Ihsan Adfinda,SITHR,69.05,32.93,47.11\\nInneke Rizky Rachmawati,SAPPK,72.22,50.13,47.34\\nMuhamad Akmaludin,FTSL,91.31,29.9,38.26\\nIda Maryam,FTI,53.4,46.51,62.31\\nSonny Noer Arywianto,SITHR,74.59,44.33,49.99\\nRyan Naldo Pratama H,FTMD,90.36,40.31,48.39\\nGita Puspita Puri,STEI,66.22,48.56,54.55\\nDiga Prajogo,FTMD,59.74,53.27,55.69\\nErsy Bellakano Singkali,STEI,65.21,41.21,53.49\\nAfri Yudhawan,FTMD,85.96,64.01,50.41\\nMaryam Afifah,FTI,78.34,52.69,50.46\\nArsila Imani Bastonus,FMIPA,61.49,56.04,57.52\\nArfi Ruwaida,FTTM,57.55,61.99,71.22\\nAnanda Dellina Putri,STEI,68.65,43.92,53.01\\nSri Yulianti,FITB,72.99,56.74,58.27\\nUmi Barokah,SAPPK,60.93,64.33,77.88\\nAldi,SITHS,85.34,37.02,49.72\\nSiska Fatimah,STEI,88.78,48.08,52.83\\nMuhammad Afif Naufal,STEI,73.86,28.71,37.78\\nNurizka Fitrianingrum,STEI,83.87,50.19,49.64\\nAndrea Elouise,FTSL,72.55,44.33,55.71\\nAdie Tri Hanindriyo,FMIPA,49.95,39.78,41.56\\nSetyaning Prastiti,STEI,67.83,25.08,19.64\\nAmimah Halawati,STEI,41.77,35.26,42.57\\nAnnisa Luthfiasari,STEI,48.32,24.05,35.32\\nHeza Failasuf Akbar,FITB,75.5,51.02,73.17\\nDeva Tasia Ulitha,STEI,73.64,51.3,48.82\\nFarah Susanti,FTMD,61.88,56.42,63.04\\nBagus Ilham,FMIPA,62.89,55.73,55.11\\nBhaskara Putra Mahardhika,FTSL,76.03,41.03,51.32\\nFitri Wulandari,STEI,42.13,23.01,37.36\\nArfie Nugraha,STEI,100.0,41.08,54.75\\nHabibur Rahman,FTMD,55.8,41.82,48.89\\nVincentius Vicky Purnomo,STEI,67.31,54.02,57.66\\nMuntaha Ilmi,FTI,100.0,44.32,50.27\\nAlfrido Rizqy Pramudya,STEI,55.65,28.42,29.86\\nBagus Bagaskara Putra,STEI,68.64,47.91,56.09\\nHandana Riadi Hanindyoputro,FTMD,87.63,60.77,76.78\\nYudhistira Harin Adisatria,FTI,100.0,45.91,44.2\\nTan Ardyan Dwi Arta Widodo,FMIPA,64.28,37.52,49.61\\nGalan Fazlur Rahman,FITB,64.38,53.59,68.52\\nEvan Wijaya Tanotogono,FTSL,55.25,46.33,49.52\\nPanji Ramadhan,FTTM,70.92,29.37,42.65\\nFarid Fadhil Habibi,FTTM,90.22,48.53,49.58\\nMichael Jefry I T,FMIPA,88.77,45.03,56.59\\nHasna Putri Rahmatunissa,FTI,53.14,52.71,52.4\\nSakabumi Wahyudi,STEI,71.66,53.08,59.05\\nAnsie Dwina Youlensha,FTI,87.76,59.4,50.03\\nIrfan Nasrullah,SAPPK,62.82,59.74,64.2\\nMuhammad Yusril Yuriis,SAPPK,56.43,42.28,45.39\\nLewi Nisi Simamora,FMIPA,87.07,47.54,53.93\\nBrian Swahadana,SAPPK,58.68,41.22,49.13\\nAdinda Yusfika Adiaputri,FTTM,60.52,44.86,56.74\\nAdi Theodosius S,SAPPK,87.83,49.16,49.88\\nYovin,FMIPA,72.02,37.53,43.05\\nPutri Ayu Asmarani,SITHS,73.72,33.4,37.07\\nMariezka Isabel Natasya,FTTM,98.87,41.39,45.57\\nHumam Faiq,FTTM,73.19,17.67,41.6\\nAnnisa Ayu Putri Hermawati,FTI,68.03,22.97,28.27\\nRiama Maduma Chanelia,SAPPK,75.44,48.61,53.45\\nKevin Irawan,FTMD,85.4,42.38,55.93\\nNixon Berlin Manalu,FTMD,76.67,22.55,51.72\\nTommy Al Capone,FMIPA,58.96,22.48,38.26\\nBryan Wangsa Putra,SAPPK,64.15,59.19,55.49\\nCipta Adinagara,SAPPK,59.61,40.03,55.28\\nNovaldy Agnial Fikri,SAPPK,65.16,33.43,40.86\\nDevina Hermawan,FTTM,75.98,62.95,68.48\\nTeguh Prasetyo P U,SAPPK,77.55,36.64,40.03\\nHarry Yoesoef Pabiona,FTI,94.55,41.08,48.0\\nBangkit Adhi Nugraha,FTTM,87.06,51.76,66.4\\nNur Adhianti Heryanto,FTI,62.72,44.14,64.58\\nWidi Ajeng Luthfiyya,SAPPK,57.76,48.8,64.48\\nDery Marsan,FITB,59.85,54.1,59.39\\nSilvia Lauren Sastra Irawan,FTI,58.48,25.08,30.8\\nSiti Aisyah,STEI,84.13,49.84,63.41\\nMuhammad Waqi Azizi,FMIPA,72.56,50.71,54.75\\nRadhitya Avila Farizan,SAPPK,85.3,37.97,47.62\\nNia Pradinawati,FTI,51.53,34.65,42.15\\nAhmad Ulul Albab,FTSL,66.98,52.28,57.36\\nIgnatius Albert Shan Handoko,FTMD,46.19,29.71,43.63\\nHantika Mardianti,FTI,65.6,42.06,42.27\\nAfina Fauzia Rahayu,STEI,69.55,59.48,62.61\\nMeggy Audi Tommy,STEI,65.05,34.32,45.67\\nSarah Dinna O S,FITB,66.8,25.52,38.53\\nAmanda Damayanthi,FTMD,58.8,28.81,51.21\\nAulia Fatwa Farizqa,FITB,89.51,30.08,41.47\\nGorga Hosa Deo Sinaga,FTSL,50.68,37.01,45.47\\nIbrahim Al Fatih,STEI,52.93,44.49,50.15\\nMartha Gamal,STEI,66.85,42.21,47.61\\nRayindra,FITB,66.7,51.55,61.83\\nFathimah Azzahro,FTMD,76.33,39.53,45.84\\nMuhammad Fahrulloh,FTMD,66.87,45.35,50.35\\nAbram Wawi Putra,FITB,74.41,35.01,49.99\\nRika Felicita,STEI,85.62,74.13,75.98\\nChristian Tirtawardhana,FTI,91.74,46.19,74.38\\nEki Wicaksono Pambayun,FTTM,68.97,60.22,58.29\\nMuhammad Nafayest,SITHS,62.87,51.69,62.59\\nDininta Annisa,FTTM,83.27,38.42,51.16\\nTien Vanny Setyawan,FTTM,92.14,25.17,41.56\\nNuke Arselia,FTTM,59.74,45.09,59.47\\nMaria Binar Cahyaningtyas,FTMD,54.47,44.81,49.26\\nRial Arifin Rajagukguk,FTMD,76.05,32.96,45.42\\nShinta Ellisya Fauzia,FTMD,64.7,60.8,55.91\\nRamadhiansyah,FITB,62.08,45.02,49.49\\nUlfa Chairunnisa,SITHS,48.7,60.67,65.64\\nMulyaningsih,FTTM,62.33,26.44,38.1\\nRamadini Aini Anitasari,FTSL,77.92,46.08,53.47\\nIkram Maududi,FTI,66.25,48.91,61.92\\nMuhammad Iqbal Prasetyo,FTTM,47.01,57.7,72.29\\nYusuf Hafidh,FTTM,61.98,32.39,42.35\\nBetty Suryani Sitanggang,SITHS,60.4,17.18,29.17\\nProbo Nogoya E S,FTTM,68.53,35.68,52.71\\nBungaria Ramadhani,FTMD,70.13,33.53,33.15\\nDhyni Pratikatiwi,STEI,58.24,48.66,46.23\\nRizky A Ramadhan,STEI,78.43,35.8,42.84\\nAmertya Ardya Oktoriano P,STEI,69.33,37.86,47.48\\nEkmi Gasari Sanjaya,FTTM,66.35,71.96,75.71\\nBuala Gryant Doklas T,FMIPA,59.01,43.2,58.33\\nFauzan Muzaki,FTMD,69.1,47.16,49.16\\nBunga Indiani Permatasari,FMIPA,83.21,45.26,52.34\\nAhmad Faizal Amin,FTTM,87.31,46.13,58.12\\nHafizh Insan Akmaluddin,FTMD,50.87,35.64,54.58\\nNadya Nuraini Gamal,FTI,85.56,58.91,64.47\\nTika Mutiara Ula,STEI,51.5,59.9,72.25\\nRachman Adie Adham,SAPPK,49.6,38.42,46.84\\nAzasita Sembiring,STEI,55.98,47.76,68.56\\nIqbal Ansyori,FTSL,73.86,36.87,51.95\\nHandi Renaldi,FMIPA,57.61,52.81,66.88\\nAdy Dwi Nugroho,SITHR,61.96,45.85,51.99\\nDirga Prana Tarigan,FMIPA,66.38,56.06,65.67\\nMuhamad Wildan Indra Sugara,STEI,71.15,33.98,39.99\\nAjeng Putri Lenggogeni,FTSL,85.51,68.28,82.93\\nAhlul Hafizan Resha,STEI,61.34,47.11,50.27\\nGesi Al Khowarizmi,STEI,74.43,54.83,65.42\\nNuriza Wardi,FMIPA,83.02,36.89,42.05\\nPipit Purwati,FITB,62.52,57.37,55.75\\nSiti Azizah,FMIPA,51.66,30.99,45.52\\nAndreas Danu Prakoso,FTSL,71.93,42.32,41.31\\nLarissa Chairunisa Utari,FITB,52.7,45.46,57.81\\nJustinus Martua Sitorus,FTTM,75.61,36.93,49.2\\nKhalil Ambiya,FMIPA,91.34,51.34,53.64\\nMuhammad Perwira Rachman,FMIPA,50.16,47.37,48.64\\nTeguh Winari,FITB,51.75,49.89,64.75\\nVini Apriliani,FTSL,70.08,63.93,67.68\\nIrfan Amirafi,FTI,83.99,30.79,34.18\\nIsmira Dini Yanuari,FTTM,75.91,54.2,70.85\\nDeki Donrinaldi,STEI,67.1,36.9,50.38\\nAhmad Nur Maksum,FTI,67.08,59.42,53.87\\nErga Syafitri,SAPPK,86.67,35.19,38.9\\nEdrike Widjojo,STEI,86.46,38.55,57.25\\nNurina Maretha Rianti,FTI,43.54,30.58,34.98\\nMelisa Natasha Mumek,FITB,63.93,73.73,78.22\\nFakhri Ridho Dhiyamatra,FTI,74.93,27.89,41.01\\nNabila Inas Salma,FMIPA,83.79,43.52,47.83\\nNanda Putra Harapan Tumangger,FTSL,68.23,38.15,37.79\\nRevie Marthensa,FTSL,100.0,29.88,44.0\\nDini Aprilia Norvyani,FTTM,64.76,45.31,54.73\\nNadia Ratna Fitriani,FMIPA,51.27,54.47,52.52\\nAbdillah,FMIPA,65.04,51.64,59.85\\nAristyo Rahadian Wijaya,FTMD,68.25,50.19,54.34\\nRivan Rafsanzani Istagfar,FITB,57.51,50.2,62.32\\nAhmad Sodiq El Husaini,FTMD,84.23,41.6,51.92\\nFada Wibawanto,SITHS,57.11,68.71,79.59\\nAriska,FTI,78.36,56.11,43.77\\nAndi Winarso,FTI,72.11,32.15,53.09\\nLisnawati Mutia,STEI,58.27,68.13,74.38\\nNurul Fajar,SAPPK,55.44,48.82,52.22\\nAngga Triyudha,FMIPA,76.56,42.86,50.74\\nBimo,FTSL,64.75,44.52,54.82\\nAnas Zakaria,FTTM,79.05,45.56,62.48\\nArintha T R,FTTM,85.33,47.81,53.64\\nRowi James Richard Here,FMIPA,56.61,56.55,43.83\\nTaufik Hidayat,FTTM,57.95,47.31,49.65\\nElsa Vinietta,FTI,67.24,54.96,49.02\\nHardono Japonika,FTMD,83.15,40.0,50.58\\nBangkit Dana Setiawan,FTSL,97.89,49.97,64.81\\nMayang Berliana Septiani,FTSL,84.17,40.24,56.33\\nRukan Faiz Nur Rabbani,FTMD,77.56,44.39,62.95\\nHans Kotaro,FTSL,63.94,32.75,37.38\\nMia Mayasari,STEI,58.18,56.05,61.27\\nMustika Sari,STEI,66.15,42.48,47.07\\nMuhammad Ihsan Hanif,FTMD,66.3,39.07,48.63\\nMendy,SITHR,73.65,43.59,45.52\\nVinsont Handoko,FMIPA,46.68,43.29,40.03\\nWafiqah Khaeriyyah,STEI,71.97,42.83,59.26\\nAlboin Suenri Sitorus,FTMD,64.83,35.71,43.16\\nMukhammad Fahmi Fachrizal,FTMD,91.31,34.82,38.97\\nDaniel Budisatrio Martua,FTSL,71.89,39.93,46.78\\nBimly Akbar Shafara,STEI,53.49,68.69,79.42\\nFauzan Muhammad Rifqy,SAPPK,75.49,39.89,50.66\\nGloria Gloretta,FTI,73.32,29.97,48.81\\nErdevin Prima Basten Sianturi,FMIPA,54.2,45.94,48.28\\nSuchi Rahmadani,FITB,70.36,39.67,56.52\\nDefza Huristu,FTMD,82.75,56.02,58.38\\nUlil Azmi,FTI,54.78,38.34,43.79\\nRizky Erzal Dilaga,SAPPK,65.45,50.01,53.13\\nGrece Fabiola,FITB,87.62,42.26,47.91\\nMelvin Winata,FTMD,79.79,44.19,61.39\\nPrassetio,FITB,60.41,53.75,55.81\\nFirdha Ruqmana,FMIPA,77.18,47.14,49.24\\nKennardi,SITHR,79.92,47.5,54.66\\nHelena Clarinta Nugraheni,SAPPK,73.45,69.7,65.82\\nMelati Mutia,STEI,72.59,41.61,58.11\\nMuhammad Fariz Gumai,FMIPA,68.47,46.56,56.18\\nReka Ardi Prayoga,FMIPA,67.38,32.68,46.88\\nEldo Pratama Putra,FTTM,95.92,34.23,32.38\\nPoppy Rahayu,SITHR,81.31,37.49,32.6\\nAuda Aganti,STEI,59.59,21.55,37.75\\nWynna Khairina Shabrina,FTSL,63.9,44.01,58.45\\nNadya Nurul Utami,FMIPA,76.97,37.39,41.81\\nShalvierra Polyta Fitriah,FTI,83.56,63.86,66.62\\nShallom Samuel Harmani,FTI,47.62,26.81,38.14\\nSharon Jessica,SITHR,83.42,33.79,41.53\\nIrvan Aditya,SAPPK,70.68,67.28,65.35\\nAnastasya Martina,FMIPA,62.6,63.49,71.46\\nAlwan Fadhil,FMIPA,79.4,52.64,55.35\\nAnnisa Yulia Rahma,FTI,90.15,44.69,56.18\\nAndre,FTSL,91.45,47.48,46.33\\nShaniqua Adalawiya Pulungan,FITB,58.14,49.24,45.99\\nSavina Kartika Kanza,FITB,63.26,53.45,62.85\\nAde Amat Sanidin,SAPPK,72.88,38.88,46.19\\nMuhammad Ifan Saputra,FMIPA,64.61,40.91,58.02\\nMuhammad Mirza Ariestantiyo,FTTM,63.36,40.8,50.93\\nAde Restu Permana Putra,FTTM,64.44,38.76,47.5\\nLuwandiko Wismar,FMIPA,78.97,70.69,68.47\\nBilly Austen Manangkalangi,SITHS,57.28,36.03,35.7\\nRamaga Krisardi Nasution,SITHR,87.87,43.62,59.79\\nPandit Purnajuara,SAPPK,94.19,50.7,57.04\\nRahmad Dwi Putra,FTSL,31.5,40.08,52.56\\nRyan Adi Putra,FITB,69.72,32.65,40.13\\nIkhsan,STEI,71.33,41.71,49.27\\nRobert Hendarko,STEI,92.54,58.35,62.48\\nYoga Triyantoko,FITB,66.06,32.66,32.85\\nMohamad Mulkinugraha,FTI,68.65,58.22,65.59\\nIkhsan Rahmawan,FTMD,58.3,47.27,45.26\\nDessto R L,FTTM,38.14,30.1,31.61\\nSyahri Ramadhan,FTI,78.87,47.15,66.74\\nElizabeth Karmelia,FTSL,61.06,28.52,32.81\\nAulia Aditya Danniswara,STEI,67.0,37.21,52.86\\nVeramuna Risqyana,FTI,49.49,53.42,68.37\\nTjan Marco Orlando,FITB,69.66,43.27,40.43\\nUswatun Hasanah,STEI,68.26,34.18,52.57\\nValdo Joshua Giovanno,SITHR,71.55,28.72,52.06\\nMuhamad Aziz Nugraha,FTSL,80.12,37.63,42.98\\nAhmad Bismillahi Normansyah,SITHR,71.02,36.23,42.66\\nFrahati Hilmi,FMIPA,33.83,34.04,54.61\\nPutri Fajrin Kusumaniyah,FTMD,53.73,46.67,57.49\\nFawziani Inggrita Agniputri,FTMD,56.09,50.9,60.92\\nDhito Tri Wahyudi,SITHR,47.82,43.01,40.39\\nErvan Balie,FTMD,81.76,53.9,66.62\\nI Made Robertho Hutajulu,FTSL,90.62,32.56,47.33\\nIsrael Kevin Jonathan,FTSL,68.89,53.48,51.08\\nMoh Yunus Saputro,SITHR,67.3,26.44,53.1\\nM Dzikra Ulya S,FTMD,65.71,33.93,48.68\\nM Fathan Mubina,STEI,63.63,47.19,65.47\\nRidho Pratama,STEI,100.0,58.83,62.78\\nNirwan Algifari,FMIPA,68.7,42.08,58.63\\nAzmi Roqi,FTTM,68.48,56.0,68.21\\nIvan Andrianto,FTTM,49.91,30.4,49.87\\nGiffani Kartika Aviantty,FMIPA,82.3,40.81,48.15\\nReno Tr Pprasetyo,FTI,85.8,48.89,46.9\\nIvan Jonathan,FTTM,77.29,39.03,46.94\\nRiza Yulia Rezki,FTI,56.11,46.2,45.18\\nGiovanni Guliano,FMIPA,66.05,47.39,52.55\\nTuan Ric,STEI,96.78,62.23,30.53\\nFathir Muhammad,FTTM,70.66,51.97,49.33\\nAfrinaldi,FTSL,65.99,37.67,41.32\\nEka Noviana Tristanti,FTSL,67.14,53.01,44.28\\nWelisha Firdausi Drieno,SAPPK,55.3,37.67,46.71\\nMuhamad Khomsa Mifta Khurohman,FTI,80.77,30.12,42.96\\nIno Feberta Fauzi,FTTM,65.69,42.85,56.16\\nDimas Affan Putra Sokowati,SITHR,66.58,29.21,37.81\\nDianty Zora Nindita,FITB,63.94,48.65,41.67\\nSilvany Dewita,FTMD,46.3,49.86,56.12\\nAstri Yulmarliani Sudarman,FTI,76.19,44.95,50.14\\nOswaldo Gwendy Rhyslie,FITB,80.38,68.93,80.77\\nIffah Faizah,FTSL,79.84,38.35,44.83\\nHakim Utomo,STEI,74.49,45.82,51.06\\nMusfiandini Zahra,FTSL,59.38,44.29,50.68\\nKrisna Ramita Sijabat,FTTM,84.37,43.15,50.01\\nMuhammad Ihsan Rezandy,FTI,77.0,36.08,46.46\\nRizky Dzulfikar Iskandar,FTTM,56.09,33.07,42.88\\nMuhammad Ajib Badri,STEI,83.76,65.7,71.6\\nHawary Achmadi,STEI,67.85,28.99,40.08\\nFadli Uwais Elqorni,SITHS,69.98,44.33,47.74\\nEvelyn Melindra,STEI,77.56,7.83,11.1\\nChairiman,FTMD,59.86,40.54,52.27\\nArifin,FTTM,53.75,27.03,29.07\\nPrila Ayu Dwi Prastiwi,FTI,63.95,48.92,53.95\\nYudhistira R N,FTI,56.4,45.34,54.96\\nHanivia,FTSL,40.91,42.93,51.29\\nRyan Fadhilah Hadi,SITHS,83.79,34.5,40.02\\nSinggih Candra Prakosa,FTSL,59.09,59.35,71.06\\nHidayat Ramadhan,FMIPA,49.28,50.99,65.28\\nNissa Yasmin Busama,FITB,70.81,49.93,52.17\\nTammya Ayu Purnomo,SITHS,74.49,81.2,78.58\\nNajmi Jati Lenggana,FTI,58.85,53.42,60.35\\nBidari Nastiti,FITB,75.16,37.41,53.36\\nDiah Eka Harsani,FITB,63.95,48.05,57.51\\nAulia Rahmatika,STEI,45.97,37.55,50.49\\nImanul Jihad,SITHR,71.07,60.35,67.72\\nAnnisa Nurjanah,FTSL,64.59,64.31,64.75\\nAfrianto Akbar,FTI,58.12,41.69,56.18\\nMuchammad Ikrar Athalla Putra,SITHR,61.83,33.43,33.87\\nRandy Anjung Pratama,FTMD,76.43,52.81,65.82\\nIrfan Fauzan,FTTM,82.27,45.21,57.96\\nMuhammad Khasan Imaduddin,STEI,82.79,52.32,59.29\\nGintano Scorpy Sugihartono,FTMD,62.54,38.72,42.41\\nTyas Kiranandaru Pawestri,FTI,64.9,53.86,69.47\\nBryan Tandiawan,FTMD,70.64,46.75,51.59\\nRohendy Michael,STEI,100.0,52.14,55.97\\nEko Fitrianto,FITB,93.41,57.66,57.34\\nHans Joshua Santoso,FTTM,57.59,49.89,50.15\\nAndri Prayoga Hapsoro,FMIPA,58.57,52.14,66.14\\nAyunda Dhia Andari,FITB,85.45,59.95,60.47\\nGilang Pradana,FTMD,81.33,46.85,46.1\\nAriska Sari,FITB,50.82,43.44,61.7\\nFathan Nurul Abdillah,FTI,65.36,54.81,63.59\\nDaniel Eduardo,FMIPA,56.13,37.75,41.92\\nNahdia Nurul Hikmah,FTI,71.96,44.32,61.88\\nSosiana Dwi Ningsih,FTI,67.83,39.73,51.95\\nDimas Adityasono,SAPPK,99.72,28.02,42.12\\nYudha Nugraha Wibisana,FMIPA,49.05,60.86,72.29\\nMuhammad Irfan Permadi,FMIPA,45.96,42.42,48.66\\nHutama Yoga Wisesa,STEI,58.05,38.91,43.92\\nDani Rachman Fauzi,FMIPA,56.67,71.71,73.1\\nReza Kurniawan Harnandika,FTI,58.85,50.45,69.73\\nMuhamad Hilmi Aufa,FTSL,82.38,40.26,46.77\\nHuda Hutama Putra,FMIPA,49.15,43.99,49.84\\nAlieftyo Pramanda,FMIPA,77.56,59.88,76.32\\nMeigara Juma,FMIPA,78.31,30.01,39.45\\nLintang Kesumastuti,FTTM,81.88,32.14,39.32\\nFazlur Hamidi Hasibuan,SITHS,88.28,64.52,74.47\\nI Kadek Yoga Dwi Putra,FMIPA,81.06,50.38,72.69\\nLuciana,FMIPA,86.66,25.75,32.28\\nArnold Irpan,SAPPK,69.23,32.86,59.27\\nChyntia Nurapriliyani,SAPPK,65.91,30.24,38.04\\nDede Rukmana,SITHS,91.72,30.13,35.47\\nMuhammad Azizi Al Majid,FTI,71.84,36.03,50.89\\nDurra Handri Saputera,SITHS,68.07,45.69,46.95\\nMuhammad Zaim Najamuddin,FTI,57.29,41.46,52.12\\nKariza Ramadhan,FTI,78.96,51.38,57.72\\nRachmaputri Ayu Ramadhani,FTSL,79.02,27.9,24.76\\nAyu Listiani,STEI,69.71,56.94,60.82\\nFandy Balbo,FTSL,59.28,46.79,54.31\\nWahyu Nurina,FMIPA,56.61,64.48,70.09\\nTito Nurwahyu Mukti Nugroho,FTI,58.56,63.22,58.84\\nKevin Cangjaya,SITHR,86.51,12.01,22.79\\nMuhammad Faidz Yasser A,FTMD,87.34,48.17,56.51\\nOktianti Alifanisa Kuswardana,FMIPA,58.53,52.36,50.49\\nAditya Kristianto,FTI,63.36,42.81,46.41\\nAditya Putri Kusuma Wardani,FTMD,84.63,36.16,42.56\\nYugi Pratama,FITB,90.43,38.39,52.36\\nAvira Riska,FTTM,68.41,46.85,62.61\\nKaren Unity,STEI,68.2,50.23,67.98\\nPutri Amelia Dirgahayu,STEI,64.97,42.82,52.54\\nDian Prabawanti,FTTM,61.01,55.69,65.13\\nTaufik Rachman Syachputra,SITHS,82.03,40.7,52.95\\nHilmi Fadli,FTI,70.68,51.69,49.88\\nTejo Sandi Saputra,STEI,72.89,64.14,73.43\\nNova Siti Nur Alviyah,STEI,92.58,55.45,56.37\\nFatharani Annisa Azka,STEI,64.64,52.8,47.29\\nTito Sulistiyo Adikusumo,FTSL,83.43,47.42,66.84\\nSiti Maisaroh,FITB,73.71,42.08,50.67\\nEdi Cahyono,FITB,70.99,65.85,62.28\\nRandyka Septa Nugraha,FTI,91.81,50.3,55.32\\nIra Alfisyah Arfianty,SITHR,81.02,43.0,62.53\\nMohammad Rifqi Ghiffary,SAPPK,54.01,46.47,58.23\\nWenny Intan Sapitri,FITB,90.94,58.9,57.16\\nIvan Stefanus,FTSL,81.97,34.14,37.52\\nSharlene,SITHR,79.22,45.68,59.21\\nMujahid Nawazir,FTI,78.52,38.66,55.28\\nAnisa Karina,FMIPA,78.14,43.21,53.84\\nYomi Neldi,SAPPK,65.05,56.64,70.29\\nStefanus Cahyo Utomo,FTI,73.96,34.88,42.24\\nFathin Fitriana,FTI,55.15,54.54,63.54\\nJason Immanuel,FTMD,70.53,49.76,49.31\\nAji Mustiaji Mahmudin,FTI,66.9,40.19,60.43\\nRosiyani,STEI,67.09,38.67,42.64\\nLintang Orbita,SITHR,80.5,29.46,36.95\\nAsti Nur Annissa Aos,FTSL,98.02,65.28,60.38\\nAfifah Nurmala Karima,FTSL,100.0,53.39,60.02\\nDinar Dwi Laksmana,SITHR,69.58,49.22,58.61\\nFathur Ridha,FTMD,63.41,39.12,52.25\\nAri Budi Prasetya,FTMD,62.55,71.01,66.21\\nRidho Bakti,SITHS,74.05,19.75,29.45\\nArif Nugraha,STEI,75.41,36.02,38.44\\nArthur Trigustara,STEI,66.77,42.48,50.93\\nDeddy Raja Idop Simarmata,STEI,73.47,35.16,39.67\\nMuhammad Dwiki Ridhwan,STEI,72.14,43.63,51.26\\nMarlina Siagian,FTI,55.1,41.96,44.62\\nMarthasya,FTI,50.44,64.2,65.72\\nCatharina Novita Anggraeni,FTTM,78.5,56.4,51.17\\nHarnando Supriatna,SAPPK,54.14,44.91,44.89\\nMuhamad Ichsan Risnadi,FTI,86.75,45.82,46.23\\nAngga Samsul Aripin,SITHS,84.86,45.74,63.25\\nHendryadi Daniil Kurniawan,SAPPK,74.55,15.13,20.5\\nStefanus Junior Tunas,FTI,57.68,48.93,45.57\\nFadya Syahnariza Nan Bareno,FTMD,59.39,38.76,30.06\\nAde Chintya Primadewi,SAPPK,72.11,60.29,63.72\\nChristian T H Sidauruk,FTI,68.67,36.92,47.49\\nFandy Adam,FMIPA,54.69,47.39,68.8\\nEfendi Gunawan,STEI,55.34,28.64,37.17\\nIzzat Nafisha Mirza,FTSL,75.58,27.42,32.03\\nEggy Saeful Akhmad,FTSL,52.89,60.09,73.85\\nHappy Kurnia Mulyawan Jahya,STEI,57.5,43.28,51.03\\nRahmi Elsa Instita,STEI,66.87,59.44,73.48\\nLalita Ratu Samardhya,FTTM,60.56,47.22,52.47\\nKevin Barlian,SITHR,79.56,20.53,38.53\\nYanwar Eka Akbar,FTSL,60.69,58.98,63.5\\nDavid Bornok P Hutapea,FTMD,62.92,50.84,66.51\\nBryan Wilie,FTSL,72.01,32.42,34.73\\nIndra Surya Prayogo,FMIPA,64.85,53.56,60.06\\nAgung Cipta Putra,FTTM,77.78,53.79,64.28\\nAnthony Prayugo,FMIPA,75.53,46.76,43.74\\nZulfa Hidayah,SITHR,74.77,48.05,42.39\\nKawtsar Mukhtar,SAPPK,91.58,43.43,42.94\\nBelly Bukhari Tarigan,FTSL,56.07,39.03,52.13\\nGinna Permata Anggraeni,FTSL,63.88,57.37,67.2\\nMuhammad Hardiman Madi,FTSL,79.98,43.41,54.54\\nMikael Tamirin,FTI,57.26,48.91,58.76\\nLukman Hakim,FITB,70.61,39.95,35.79\\nSyafiq Abdullah,FTTM,62.14,60.01,57.12\\nNurul Walidah Oktaviani,FTI,78.21,60.86,73.87\\nArif Kuncoro Adi,STEI,90.01,28.42,36.23\\nUlfa Nabila,STEI,81.05,47.55,54.61\\nSetya Dhana Santika Aji,FTI,76.48,52.55,63.31\\nArifudin,FTI,69.48,32.05,38.81\\nHuda Al Hakim,FITB,66.61,60.01,66.13\\nRifki Adrianda,FTI,55.43,33.33,45.62\\nMahendra Trianugrah Putra,FITB,51.86,32.16,32.89\\nPuti Intan Mayang Sani,STEI,81.96,22.23,28.43\\nSiti Raisah,FMIPA,57.67,43.41,59.49\\nJulya Fransisca,FTI,66.52,51.87,62.98\\nDiina Qiyaman Mushoddiqoh,FITB,75.83,39.74,36.58\\nTuah Fredy Yap,FMIPA,61.14,42.15,58.34\\nSuliskania Nurfitri,FITB,68.14,60.94,64.88\\nEsther Kezia,SAPPK,67.81,29.61,38.59\\nCindy Natasha,FTI,86.74,67.15,73.75\\nHans Kristian Irawan,STEI,71.59,34.36,37.74\\nDyah Indri Lestari,FTSL,60.76,29.32,48.64\\nIgnatius Alriana Haryadi Moel,STEI,64.11,25.21,28.26\\nAzhar Fuadi Siregar,SITHR,81.36,48.73,66.89\\nAdio Perwira,FMIPA,61.28,24.1,29.85\\nSurya Ibrahim Irsyam,FTSL,48.1,45.31,50.0\\nAndi Kuswoyo,FTMD,76.03,32.85,40.49\\nRafiandy,FMIPA,82.14,38.79,52.46\\nMuhammad Kurnia Bijaksana,FTI,75.83,13.43,32.8\\nKevin Mandira Limanta,STEI,78.38,43.66,52.18\\nAgung Imam Faisal,FTI,66.78,46.44,53.06\\nIvan Adela Sulistyawan,FTSL,89.06,20.84,21.35\\nTri Andini Laela Sari,FTSL,75.85,34.35,49.99\\nNinik Susadi Putri,FTI,61.77,27.38,47.69\\nDini Fauziah Amattullah,FTI,77.28,44.35,63.68\\nSeptin Vevilawati Br Ginting,FTMD,69.92,28.51,34.16\\nNanda Taufik Hya,FTSL,68.02,68.18,73.28\\nAryanti,FTMD,55.81,53.82,57.77\\nSumarni,FMIPA,56.6,25.7,26.48\\nPrayoga Wirya Alamsyah,FTSL,75.59,53.02,55.19\\nMuhammad Iqbal,SITHR,63.17,37.04,48.45\\nNaomi Florenata Damanik,SITHR,68.08,20.94,33.98\\nNoviana,SITHR,52.62,41.32,60.71\\nAulia Widya Bestari Wibisono,FTI,65.07,68.21,66.18\\nMuhammad Bayu Saputra,STEI,47.44,44.3,44.14\\nIqbal Pratama Abdi Zay,FTI,67.82,59.85,66.39\\nAndre,FTMD,58.88,40.52,38.93\\nNining Rohayati,FTI,61.46,35.25,40.52\\nAnisa Dwi Puspita,SITHR,83.08,36.37,44.01\\nRaden Fahrul Saefulloh Setiadi,FTTM,77.67,62.82,60.29\\nHendra Dwi Kusuma,FTSL,49.56,37.52,35.07\\nBrian Parsaoran,FTSL,63.84,54.87,52.05\\nVivian,STEI,76.88,43.99,59.17\\nRifqi Muhammad Harrys,FTSL,67.51,59.0,54.09\\nNevila Nur Faiz,FTSL,79.48,47.96,54.8\\nRheza Arden Wiguna,SAPPK,35.4,20.76,41.64\\nFirdhousi Ananda Putri Abtian,FMIPA,84.25,20.33,46.83\\nMuhamad Reza Robby Nugraha,FTTM,61.02,34.82,45.24\\nSalma Alkindira,STEI,97.13,39.45,48.6\\nDavies Christian,STEI,73.36,55.81,70.2\\nDhuha Ahdika Husnudzon,FTSL,67.69,43.92,55.06\\nFathia Zulfati Shabrina,FTMD,45.38,57.54,63.47\\nMuhammad Irfan Indriyan,FTTM,68.53,55.77,63.85\\nWilson Mario Pramudita,FITB,69.44,30.7,20.79\\nMardhi Kahan,FTI,87.69,29.95,43.62\\nIrham Suwatri,FTI,65.82,44.7,54.75\\nJingga Sekar Langit,FMIPA,66.97,37.58,53.16\\nMaharani Safitri,FTTM,68.43,33.66,36.25\\nAfriadi Samuel Sihombing,FTI,78.48,44.66,46.86\\nTri Ahadiat,FTI,60.05,56.22,51.17\\nHarits Adhi Pradhana,SITHS,53.52,15.76,26.96\\nNiken Laras Shinta,FITB,69.37,40.73,44.25\\nDede Wiharyana,FTTM,67.41,43.48,53.91\\nIriene Elok Pratiwi,SAPPK,81.6,47.22,49.71\\nSalma Nur Vita Anggraini,FMIPA,82.62,40.48,48.96\\nAldy Wirawan,STEI,64.86,47.83,58.85\\nAgnes Lenatika,FMIPA,80.29,39.8,55.29\\nMuhamad Luthfi,STEI,97.89,45.15,37.85\\nDede Wahyudin,FTMD,85.06,46.35,61.36\\nUrsula Nungky Kusumastuti,STEI,58.58,39.13,39.21\\nLintang Ratna Anindita,FTI,44.1,49.64,61.77\\nFahrell Febbrio G,FTSL,93.11,52.21,54.05\\nQuincy Putra Guntur,FTSL,77.22,43.04,38.68\\nSendi Aryadi,FTI,59.75,47.39,66.07\\nFadhli Dzil Ikram,FTMD,58.8,59.77,61.14\\nRestu Galih Pradewa,SAPPK,65.88,37.31,47.73\\nAlif Fattah Adzani,FITB,77.92,37.93,39.36\\nRica Martyna,SAPPK,87.9,53.22,61.22\\nGilang Ramadhan,SAPPK,78.7,41.15,53.36\\nMaria Magdalena,FMIPA,57.9,34.26,34.45\\nArianto Aditya Nugraha,FTSL,74.78,38.76,46.45\\nFaza Syadzwina Rachmalia,FTTM,88.14,40.17,49.11\\nArvin Reinaldo,FTI,71.58,32.31,51.43\\nJessica Handayani,FITB,39.41,51.41,49.69\\nNurin Imanina,FMIPA,79.29,28.46,46.55\\nHamid Alkadrie,FITB,91.88,44.75,52.96\\nYoga Kynantoro,FTI,40.68,48.37,56.78\\nCanadia Tessa Pradani,FTSL,70.78,44.46,42.56\\nMuhammad Afif,FTSL,81.26,34.99,46.23\\nFajar Fathiawan Pambudi,STEI,70.36,45.16,58.27\\nRosyad Hizbussalam Mohammad,FTI,48.11,59.0,73.28\\nIndra Andra Dinata,FTI,69.3,33.87,38.53\\nSanda Rumaisha,FTSL,62.33,31.44,38.18\\nSandy Hardian S H,FTMD,85.97,30.18,35.18\\nDini Adilah Prabowo,STEI,59.55,47.79,45.65\\nAltof Naufal,FTSL,67.36,43.27,34.61\\nGunachandra,FTSL,85.96,57.71,77.19\\nJessica Christella Corleony,FMIPA,64.57,44.12,45.99\\nAdinda Rana Trisanti,FTSL,66.0,43.09,41.31\\nStevan Manurung,STEI,86.43,48.27,50.95\\nSelvi Agustina,FTTM,96.71,33.01,40.58\\nRahmina Fitri,FTTM,86.89,36.76,54.39\\nRisma Pratiwi,FTSL,47.84,40.89,50.07\\nRonald Kurniawan Rusli,STEI,69.41,54.65,72.93\\nDeasy Anisa Natalia R,FTI,60.98,36.49,50.67\\nSylviani,FTSL,49.63,33.19,55.56\\nAmani Najiyya,FMIPA,72.24,47.82,58.6\\nGerry Teguh Padantha,FTSL,80.78,56.32,68.78\\nM Yusri Khalil,FMIPA,61.73,50.33,50.96\\nDaniel Given Handerson,FTI,95.94,61.61,72.3\\nSebastianus Reynaldi,FTTM,68.64,30.41,36.91\\nGhina Khalidiyah Budiyati,SAPPK,63.99,73.19,75.42\\nAldo Tri Oktamettio,SAPPK,61.11,26.49,36.15\\nRahmat Septian Putra,SITHR,75.22,32.62,42.2\\nPutri Intan Sari,STEI,63.7,61.68,67.49\\nCindy Clorinda,STEI,55.94,56.15,62.15\\nNicholas Kiehiunglie,FTI,64.52,50.16,64.03\\nEva Maulina Putri,STEI,64.72,44.07,49.7\\nMuhamad Rahman,FTSL,59.98,42.77,55.97\\nAdyansyah Patonangi,SITHR,100.0,46.39,51.39\\nAria Windu Pratama,FMIPA,70.88,47.17,60.01\\nRicky,SITHR,64.32,31.47,43.72\\nTheresia Yut Sartaulina Aruan,FTTM,66.41,45.98,58.57\\nZaki Syarif,FITB,86.5,57.52,62.37\\nDewi Retno Pertiwi,STEI,46.3,35.47,44.76\\nHuriyah Nurul Zahra,FTSL,49.39,39.95,50.11\\nReckta Filamenti Heryadi,FTTM,76.05,61.15,74.6\\nMuhamad Ariyanda Putra,FITB,74.75,40.63,41.71\\nShafira Anindita,FTSL,53.58,58.03,59.32\\nRilwanu Lukman Amrullah,STEI,65.57,36.14,56.28\\nHilmy Aziz,FTI,64.6,34.62,38.78\\nAdly Mochamad Fadly,FTI,55.38,40.35,53.63\\nMuhammad Azman Ahdallah,FMIPA,62.72,46.62,46.96\\nMiryam Riena Diana Karthika,FITB,65.23,37.3,44.87\\nAfina Nur Fauziyyah,FTMD,62.21,60.36,64.33\\nAurelia Joceline Haury,FTTM,56.44,46.61,59.92\\nSyah Krisnadi,STEI,57.97,60.08,66.06\\nAchmad Mujtaba Azdomat Khan,STEI,70.34,32.32,39.32\\nNabila Husna Shabrina,FTMD,83.26,39.61,45.91\\nRizandi Gemal Parnadi,FTI,66.79,31.49,47.8\\nYulia Nur Hasanah,SAPPK,56.38,43.43,55.71\\nIrvan Faisal,FTTM,63.41,47.83,50.6\\nDesi,FMIPA,58.76,41.74,50.65\\nAngelita Aussie Nurhadi,FMIPA,76.92,65.2,68.49\\nRahmadio Catur Putra,STEI,89.51,68.83,70.65\\nKevin Riady,SAPPK,59.79,46.99,58.43\\nRahmi Prameta,FMIPA,76.21,51.5,64.76\\nMasmaranti Khairunisa,FTI,64.9,62.04,68.58\\nShintya Janice Kristandy,FTTM,69.17,51.05,64.91\\nNurul Fitrianti,SITHR,94.75,43.17,48.63\\nFransisca Nadia Widyarini,FTTM,93.72,38.49,47.27\\nAhmad Rizan Hadziqi,FITB,71.33,55.15,61.76\\nReny Meylani,FTI,47.55,37.1,45.32\\nGaluh Anis Tasya,SITHS,88.67,56.72,81.08\\nHugo Fathur Rahman Erawan,STEI,57.54,54.1,67.24\\nSamuel Riko,STEI,62.28,19.77,29.05\\nSyahid Naufal Ramadhan,FTI,57.48,45.16,51.46\\nBasar Lukas Tampubolon,STEI,72.74,45.83,53.94\\nPande Putu Erawijantari,STEI,71.19,51.91,55.25\\nHardany Triasmanto,SITHR,84.24,42.5,46.05\\nMuhamad Ichlas Juliansyah,FTSL,79.6,65.59,67.41\\nFaishal Tanjung Maoludyo,FTI,81.21,60.03,71.82\\nAvi Bellerizki,FITB,55.69,46.62,55.09\\nSharfina Ariefa,STEI,70.88,46.69,47.27\\nM A Restu Iwari,FMIPA,78.3,47.84,64.47\\nCatherina Yuliana,SAPPK,56.88,23.61,36.57\\nYos Youssef Rabung,FTSL,85.0,37.67,53.03\\nDeni Hartanto,FITB,67.07,49.89,58.11\\nNesa Pardomuan Pratama Sitorus,FMIPA,64.03,49.52,52.7\\nLuqman Syauqi Faizal,FTI,82.24,36.51,43.09\\nWidianti Putri Ananda,STEI,95.77,49.91,54.94\\nRayner,SITHS,92.37,32.95,30.34\\nAresti Likafia,FTSL,65.57,37.17,47.1\\nAbid Arham,FTMD,76.36,45.94,59.23\\nOnria Muklis,FTSL,83.04,45.09,51.5\\nChristian Aron Jonathan,FTSL,59.03,37.99,53.07\\nMarsya Chairuna,FITB,81.61,45.72,37.02\\nKeziah Cahya Virdayanti,FMIPA,61.53,43.97,61.92\\nFajriana Shafira Nurrusyda,STEI,77.72,44.01,39.48\\nDaniel Adipradipto,FTTM,82.38,52.55,56.8\\nThaariq Abdullah,FTI,60.34,57.67,77.54\\nHalimatul Husni,FTMD,61.71,60.7,63.92\\nMaria Setyo Ayuningtyas,FTTM,83.63,56.03,66.3\\nGrasia Meliolla,FTTM,42.57,36.11,34.38\\nArif Ridwan Abriyanto,SITHR,82.65,36.83,40.2\\nAriningtiyas Widya Kartini,STEI,59.46,58.12,55.47\\nAlvin,FTSL,47.67,47.35,47.81\\nGeorge Pradipta,SITHR,59.91,67.93,67.82\\nBagus Maheswara,FTSL,61.1,52.22,54.36\\nMuhammad Lathieful Haq,FTI,86.9,54.13,69.45\\nNitra Alfatiani,FITB,61.88,36.76,44.93\\nLeni Nur Hikmah,FMIPA,53.89,51.36,63.04\\nSusianah,FITB,44.22,43.13,57.74\\nAmilia Putri Jawatra,FTSL,89.26,35.49,37.41\\nM Insan A,FITB,53.41,36.51,45.83\\nMuh Mirza Haikal,SITHR,66.44,43.21,47.2\\nMia Savira,STEI,61.27,64.43,64.73\\nDevi Nurhanivah,FTI,56.61,67.57,83.65\\nEdo Belva Firmansyah,FMIPA,75.37,54.2,61.05\\nWendra Ardiwinata,FMIPA,58.08,38.73,51.52\\nAishanura Handina Primanti,FTMD,70.79,41.3,48.03\\nYusuf Ibrahim,FTTM,70.37,46.09,44.34\\nFeisal Soentoro W Mewengkang,FTSL,77.34,43.16,64.9\\nFrederick C Simanjuntak,FTI,66.09,36.48,33.25\\nMuhammad Fauzan,STEI,67.34,43.47,41.56\\nFakhira Rifanti Maulana,FTSL,62.6,55.87,62.26\\nAchmad Zulfikar K,FMIPA,64.01,33.61,39.98\\nAmelia Panca,FTTM,61.4,58.68,59.12\\nR Sunni Nugraha Priadi,FITB,89.25,30.02,44.32\\nZafira Hanifah,FTTM,55.54,36.15,40.35\\nMirna Jatiningrum,FTI,63.12,54.34,51.58\\nMiftahul Jannah,FITB,54.42,30.49,34.81\\nMuhammad Falah Haidi,SAPPK,64.67,41.59,48.77\\nGifari Kautsar,FTI,77.62,36.47,42.71\\nTiwi Aminati,FTI,65.86,58.14,56.06\\nDida Patera Adli,FTSL,68.02,43.45,50.6\\nDaniel Anthoni Kurnia Agusta,SITHR,69.86,42.35,49.77\\nAlvin Wagner Darmawan,FTI,72.4,27.26,37.12\\nAngela Sarasati,FTSL,66.62,51.23,51.62\\nMohammad Jaenuri,FTSL,76.35,40.29,49.43\\nMuhammad Aulia Nabigha,FTSL,90.35,40.2,46.51\\nMochammad Budi Permata,SITHR,90.26,48.19,49.01\\nRovky Danu Aditya Rachman,FTMD,72.09,43.09,58.61\\nKhalilan Lambangsari,FTSL,97.66,41.4,48.68\\nAjie Azhary Pratama,FTTM,75.4,61.34,75.32\\nMohammad Rimba Putra,FTI,81.93,54.05,70.66\\nRobi Juniardi,FTI,84.62,33.83,39.8\\nDaniar Heri Kurniawan,FTTM,73.33,30.63,45.86\\nMahruri,FTI,74.0,33.46,38.57\\nDwi Mukti Yulianto,FTMD,93.62,60.39,55.11\\nFranky,FTI,90.0,39.74,40.21\\nRyan Fitrian Sofwan Fauzan,FTMD,55.18,23.94,33.39\\nZita Nada Nirmala,FTSL,58.3,40.17,45.41\\nRizky Ramdani,FITB,55.56,53.52,57.93\\nMaria Florencia,STEI,57.67,34.49,37.94\\nMaria Rara Irihana Samosir,STEI,79.23,48.99,63.0\\nRizki Fajar Zulkarnain,FTI,79.29,41.54,44.15\\nTegar Yongi Bagaskara,FTI,65.78,55.25,66.18\\nSafira Lazuardi Vijaya,FTTM,66.83,56.21,55.59\\nHendro Amril,SAPPK,79.47,51.32,73.18\\nZiyad Syauqi Fawwazi,FMIPA,71.37,58.0,63.72\\nRifqi Aulia Rahman,FTMD,73.21,26.94,38.18\\nIgnasius Septian Wijayanto,SITHR,70.18,32.75,31.55\\nRizky Aditya Wardana,STEI,93.16,42.5,37.82\\nMohamad Wakhidin,STEI,72.61,60.42,66.41\\nBenson,FTMD,87.55,52.86,50.09\\nHadohoan Satyalen Simaremare,FTSL,61.75,47.68,60.06\\nDerie Camara Eka Putra,STEI,45.27,56.71,65.69\\nMuhammad Adib Hasani,FTSL,41.96,37.74,44.37\\nRealita Mayaperdana,FMIPA,52.44,49.01,56.22\\nMohammad Agung Prasetyo,FTI,83.65,35.66,42.88\\nFazar Syukri Nugroho,FTTM,66.63,48.87,52.29\\nPratama,FTTM,45.63,23.37,28.26\\nMuhamad Zaid,SITHR,72.73,53.8,49.35\\nAnisa Puspita Sari,FTMD,62.07,40.35,50.7\\nMuhammad Shiddiq Sumitro,FMIPA,74.74,63.66,64.82\\nAdhika Aryantio,FTSL,67.53,28.23,44.36\\nAtika Almira,STEI,56.45,52.25,66.2\\nNanda Adi Cakasana,FTTM,96.91,38.6,48.87\\nFebrianto Nugroho,FMIPA,74.17,50.65,54.35\\nLidya Astu Widyanti,FTSL,66.22,47.77,60.96\\nRido Nursyahid Muttaqien,FTI,61.18,16.29,32.54\\nArjuna Mohikhan Ramitan,FTI,78.96,35.33,46.69\\nYustinus Marcellino Dwiprana P,FTMD,65.21,34.55,48.92\\nKristianus,FTI,84.57,44.44,42.52\\nAlif Hanan Isnuriyanti Edris,FTSL,64.44,35.34,45.03\\nGesit Nurdaksina,STEI,62.61,54.87,63.73\\nWinda Intan Sari,FTI,67.04,51.09,57.9\\nAditya Prasetyo,FTI,73.58,37.76,53.04\\nRinda Pratama,FTSL,80.68,39.99,48.64\\nMulki Rachmawati,FTI,45.79,24.74,31.1\\nYohanes Tambunan,STEI,47.82,60.4,66.66\\nBrahmani Dewa Bajra,FTSL,65.11,39.53,48.37\\nFarizan Ramadhan,FTI,73.78,25.62,28.82\\nRr Maria Regina W Intan,FTI,66.35,57.6,56.43\\nMuhammad Randika,STEI,69.29,49.28,40.41\\nDony Hari Pratama,FTMD,67.53,39.98,53.45\\nFrengki Patiung,FTI,83.14,48.88,63.07\\nI Wayan Palguna Krisnadi,STEI,74.36,45.13,50.27\\nRengganis Nurfajrin Ashari,FTMD,85.16,42.11,36.26\\nKhadijah Ayu Miranti,FTTM,89.07,33.42,42.89\\nKinanti Laras Budiatini,FITB,63.61,56.4,59.44\\nDella Tristani Djajadi,STEI,67.19,48.61,60.9\\nLakhsmi Dewi Wulandari,FTSL,44.59,51.2,55.55\\nAndhi Kusuma Wiguna Putera,FTI,78.31,30.37,45.24\\nRyan Hansel Limawan,FITB,80.54,31.66,29.58\\nAnnisa Fitri,FMIPA,66.42,43.41,47.05\\nGalih Dwi Putranto,STEI,71.05,26.92,40.38\\nMuhammad Fachreza Abi Rafdi,FITB,85.72,51.73,44.29\\nHariawan Christophorus,FTI,80.93,38.61,44.33\\nVinny Delta,FMIPA,77.86,55.66,56.47\\nWihardi Setyo Wicaksono,STEI,41.99,42.66,42.3\\nKausar Meloza,FITB,86.24,55.7,59.68\\nHerdianto Prayogo,SITHS,79.37,47.79,67.33\\nLeonardi Edo Saputra,FMIPA,44.16,36.8,47.0\\nAbdurrahman Shofy Adianto,FTTM,39.25,42.44,49.2\\nDamarwulan Eka Agustina,FTTM,53.58,43.37,43.23\\nNadya Marsha,FMIPA,68.55,44.47,63.19\\nAsep Hermansyah,FTI,53.21,47.38,59.42\\nNadya Ersalina Novyanti,FTMD,74.08,41.41,51.72\\nFatia Aida Rahmani,SAPPK,77.13,56.18,59.56\\nAndreas Agavetra Agungnugroho,FTI,78.31,54.6,57.99\\nMichael Dwayne H,FTTM,54.41,38.78,49.3\\nFelix Soewito,STEI,62.22,74.68,65.99\\nMuhammad Abdul Baasith,FITB,66.26,37.51,36.82\\nFajar,STEI,48.99,53.53,63.35\\nAgus Eka Prasetyo,STEI,38.81,32.72,39.19\\nMohamad Iman Fauzi,FMIPA,65.82,39.94,45.67\\nSarah Gracia,FTSL,80.34,50.26,45.87\\nKhairunisa Febrina,FTTM,67.13,41.39,55.79\\nStevanus Elyasta Sebayang,FMIPA,100.0,36.04,26.73\\nSri Alam Akbar,FMIPA,85.23,51.62,62.43\\nAmalia Nur Alifah,STEI,64.33,58.64,53.59\\nYovita Arifiani,FTSL,69.78,25.07,34.45\\nGaning Putri Muttaqin,FMIPA,80.86,62.71,61.05\\nPutri Dwi Lestari,STEI,74.62,36.35,55.84\\nElfi Yulia,FTTM,82.64,36.73,46.43\\nArnoldus Lasut,FITB,72.69,51.14,46.19\\nRandianto Susilo,FTSL,64.84,53.39,57.43\\nFeisal Nawwaf,FTSL,68.59,37.54,47.9\\nAriva Permatasari,FTSL,69.9,37.81,53.45\\nAldhita Graffi Nabilla,FTI,67.67,43.68,51.63\\nArni Hoerunnisa,FTSL,65.21,51.8,53.17\\nDananjaya Awaldastiana,FTI,83.87,38.81,45.13\\nLuthfiyyah Khairunnisa,FTI,72.53,41.02,52.47\\nCitra Amanda Christy,FMIPA,84.43,30.4,44.75\\nFarida Nurul I Y,FMIPA,73.85,46.16,47.0\\nPuti Audia Fatima,FTMD,74.56,44.84,51.11\\nBella Aprilia,SAPPK,60.89,46.17,45.45\\nGalih Sekarnurani Setyabrata,FTMD,55.5,65.72,60.29\\nZegha Brasesa Budhy,FTMD,46.23,37.87,27.76\\nAhmad Irfan,FTMD,65.11,26.4,43.17\\nFelix Christopher,FMIPA,88.7,43.3,50.81\\nDanti Rahmiati,STEI,60.6,37.3,29.29\\nNaomi Anastasia,FITB,87.77,54.35,49.49\\nTitin Zulfiyah,FMIPA,67.83,54.37,50.93\\nClaudia Martha,FTTM,53.77,49.34,66.7\\nS Munawaroh Harahap,FMIPA,73.52,44.22,56.69\\nAnnisa Putri Saraswati,SAPPK,58.35,39.32,34.52\\nMuhammad Irfandi,SITHR,76.3,30.61,28.15\\nRachmita Z F,FTSL,71.13,36.97,61.82\\nYogi Sagita Azwar,FTMD,62.44,41.43,36.8\\nSandy Jaka Adilla,FITB,76.45,46.58,50.91\\nYudha Andika Pratama,STEI,65.92,70.41,68.58\\nAryantodi Mulia,FTSL,43.17,43.34,53.64\\nAjang Rukmayana,FTTM,73.17,41.62,52.77\\nMonika Oktavihana Sinaga,STEI,72.14,35.52,39.71\\nAzharul Fuady,FTTM,85.91,45.69,54.42\\nGigih Gunawan,STEI,38.5,52.67,59.76\\nMuhammad Hafizh Khoeroni,STEI,57.09,53.28,63.18\\nStefan Bonardo,FTSL,68.03,63.07,67.56\\nNur Shadrina Amalina,FTI,71.67,44.65,47.01\\nNonny Annisa Siti Anggraeni,SITHS,88.98,50.25,58.91\\nAndreas,SITHS,61.86,43.35,56.19\\nMichael Steven Iskandar,FTMD,72.55,38.49,47.85\\nDhafinta Widyasaraswati,FTI,63.3,62.59,66.21\\nZafira Nanda Ardani,FTSL,69.63,30.41,29.95\\nAzka Fathininta Windaningrum,SAPPK,61.25,55.03,65.61\\nPalupi Indu Nuswantari,FMIPA,77.53,30.2,40.97\\nEldo Bonadio Placido,FTSL,74.57,25.61,36.93\\nMuhammad Amri Cahyo,FTSL,61.02,49.48,64.61\\nEddyanto Salim,FTTM,69.81,40.21,48.97\\nAlyssa Diva Mustika,FTMD,100.0,43.43,52.58\\nAlbertus Dhisa Yoga Pradana,SITHR,71.01,50.42,45.79\\nIqbal Ramanda Marli,FTTM,52.85,43.36,48.56\\nLukman Arditho Wibowo,SITHS,74.47,42.14,39.9\\nLaila Sabrina,FTI,56.03,57.95,72.27\\nCitra Kartini,FTSL,78.08,60.96,58.81\\nNuri Rizky Az-zahra G,SAPPK,77.82,32.26,37.31\\nMuhammad Hirzan Arrifqi,SAPPK,100.0,25.46,35.33\\nSafira,FTI,64.9,40.11,53.19\\nCitra Ranaswari,FTSL,39.41,58.27,58.8\\nNoor Ramadhan Khazai,SAPPK,52.46,57.55,57.28\\nMochamad Renaldi Angga Laksana,FTMD,71.01,50.24,55.54\\nYolanda Gina Novita,FTSL,56.29,52.72,62.38\\nPricillia Amanda,STEI,70.06,39.78,46.25\\nAndromeda Siddhik Yogama,FTSL,68.61,38.72,52.6\\nNur Rama Wira Julia,FITB,82.67,51.61,54.23\\nRuchyana Fitri,FTTM,64.6,63.25,71.97\\nDaryl Darius,FTI,64.95,57.03,70.77\\nBenjamin Nathanael,FTI,100.0,27.28,42.42\\nMuhamad Raditiya Dinarna,FTTM,66.42,46.95,55.69\\nHasna Azzizah Qarari,FTTM,67.16,38.85,43.47\\nArtanininai Br Tarigan,FTTM,79.49,41.37,42.08\\nAchmad Chafid Asyary,FTMD,66.8,70.74,83.0\\nGunawan Panjaitan,STEI,74.59,52.98,57.12\\nYudi Ermandani,SAPPK,51.64,43.58,69.3\\nLucas Patar Andry Siagian,FITB,61.46,48.08,65.92\\nRama Fadli,FTI,51.56,38.25,47.5\\nBayu Pamungkas,FITB,55.53,44.32,45.97\\nAdila Luthfiana Idhar,FITB,69.77,39.57,40.29\\nAbdur Rochman,FTTM,62.46,34.62,42.88\\nIas Azhari Rezkyarno,FMIPA,62.85,76.9,81.52\\nFiqih Tri Fathulah Rusfa,FTMD,79.54,47.8,54.4\\nKevin Silvanus,STEI,69.18,54.87,63.05\\nSyafik,STEI,95.73,50.27,54.24\\nFariz Arief Rianputra,FTI,67.08,56.24,55.54\\nDesiana Dien Nurchalifah,FTMD,76.88,54.17,61.07\\nZuhroni Ali Fikri,FITB,69.79,58.73,66.1\\nKevin Nathanael Sibarani,FMIPA,59.08,25.27,24.08\\nMuhammad Zaky Mudzakir,FTTM,71.33,58.3,65.37\\nAisa Rahmawati,FMIPA,72.2,49.71,61.27\\nDelia Patrisa Putri W,SITHR,75.81,27.06,33.71\\nKartini Fuji Astuti,FITB,44.09,44.58,61.25\\nAsiah Nur Haqani,FMIPA,38.15,28.87,47.57\\nGabriella Laura Lidya,SAPPK,75.79,46.49,35.79\\nTjoet Sri Annisa Evrincha,SITHS,90.25,46.82,54.44\\nAditya Rio Anggara,FTI,91.09,34.98,32.53\\nRantika Silfarohana,FTSL,71.05,26.41,45.42\\nAdiva Shabana,FTTM,70.75,44.24,62.47\\nTito Aditya Rizky Putra,FTSL,85.37,46.51,51.51\\nAdi Poetra Pratama,FTSL,87.22,54.29,58.68\\nYonathan F Hendra,FTI,83.12,27.39,48.49\\nRiri Dasmiranti,SAPPK,92.93,47.54,54.95\\nQoyyimah Amaturrahman,FTI,90.37,40.05,58.45\\nRahadian Farizi,FTSL,70.75,53.79,64.34\\nDominika Wara Christiana,FTI,76.1,47.76,52.82\\nIkbal Alamsyah,FTI,53.75,48.29,59.85\\nMira Rizki Kurnia,FMIPA,100.0,50.04,50.27\\nMuh Alif Ahsanul Islam,FMIPA,80.3,41.12,44.28\\nTarida Angela,FTMD,49.67,63.74,65.4\\nYosua Sepri Andasto,FTTM,70.48,49.22,58.27\\nTisya Putri Miranda,SITHR,63.96,41.25,47.12\\nSyahrifa Aulia,FMIPA,100.0,70.1,79.6\\nGevi Hanindya P B,FTSL,65.67,58.3,56.19\\nIngrid Albertina,FTTM,81.46,26.08,37.82\\nRizky Rahmany,SAPPK,73.4,42.45,57.16\\nAnggi Kusuma L,SITHR,71.59,56.91,56.72\\nFabrian Oktavino H,FTSL,67.53,41.12,38.19\\nErlangga Putra Utomo,SITHR,37.55,44.85,40.25\\nAndrian Anggadha Widatama,STEI,84.74,37.74,42.26\\nArzalia Wahida,FTSL,62.83,39.37,40.76\\nMety Dora Nur Amalia,FITB,84.23,40.77,44.21\\nSwastika Utama,FTMD,86.51,6.67,23.16\\nHans Kristian Richardo,FITB,67.65,43.08,51.91\\nAndi Permana,FMIPA,46.33,38.5,43.82\\nBalthasar Sebastian Lumbantobi,FMIPA,59.69,71.94,73.85\\nMuhammad Farras Farhan,STEI,48.64,37.7,55.58\\nAghniadi,FITB,94.28,64.22,74.52\\nMuhammad Hanif Affan Yusron,STEI,94.99,49.89,50.38\\nRudy Saputra,FTSL,66.19,40.62,53.86\\nZahrah Fadhilah Nindita,FMIPA,77.37,55.37,55.35\\nSanti Sopandi,SITHR,82.98,36.63,47.87\\nJoshua Mulia Nababan,FTSL,54.39,65.8,64.34\\nYohanes Hendra Setyastanto,STEI,51.95,32.99,31.84\\nGeta Ayu Ferdiyanti,FTMD,51.8,46.09,53.26\\nHana Azhar Widad,FTSL,84.03,46.2,55.09\\nYosa Adi Wardana,FITB,76.14,34.05,49.92\\nDave Martin Widyanto,FTI,79.19,48.11,67.13\\nAstiaranti,FTI,68.52,57.34,59.97\\nRifqi Cakti Bramudyo,STEI,62.67,52.67,67.43\\nRahma Ari Fauziah,FMIPA,82.17,62.64,65.91\\nGlorious Christian,FTI,81.07,48.14,65.68\\nRini Purnamasari,SITHR,51.65,33.1,38.03\\nDora Anna Hutajulu,STEI,69.62,42.46,41.51\\nWidiana Mutyasari,FTI,46.47,66.32,60.66\\nSefilianto Ahmad Darmansyah,FITB,69.17,54.47,54.52\\nAmelia Mustika K,FTI,77.51,45.81,65.34\\nEdwin Pradana,FTSL,63.93,47.15,63.22\\nDwi Apriawan Santoso,FTMD,62.35,47.2,50.28\\nRizal Kurnia Rohman,FTI,55.41,67.75,66.93\\nDiandra Adelina Hadi,FTMD,58.91,61.4,66.58\\nBhima,FMIPA,66.55,54.48,62.18\\nDea Vallerie Oemaiya,STEI,57.04,27.34,36.21\\nPrimadieta,FTI,62.63,40.46,49.88\\nAndi Aulia Sukma Pamungkas,FTI,48.73,37.67,47.53\\nTheresia Nadia,FTMD,82.58,32.26,49.24\\nGrace,SAPPK,62.23,68.08,90.46\\nYunisa Arini Anwar,SITHR,67.98,37.91,40.92\\nFajrul Fadillah,FITB,85.39,57.43,57.24\\nMuhammad Husnurridlo,FTI,72.8,48.41,57.42\\nFitri Rahmadhani,FMIPA,58.81,18.74,37.83\\nDimas Mahendra,FMIPA,88.83,32.53,42.65\\nHadi Setiadi,STEI,53.43,45.36,49.19\\nJessica Nathania,SITHR,59.21,51.83,47.45\\nDzikril Hakim,STEI,72.62,60.27,56.54\\nOvi Prina Gastriani,FTTM,99.49,33.06,36.98\\nJoe Wira,FITB,79.6,41.48,44.43\\nAndini Puspasari Diliana,FTI,72.17,48.13,56.13\\nHandrika Widagdo,FTI,71.55,59.3,60.22\\nAde Nisa,FITB,98.01,67.48,76.76\\nAldia Syamsudhuha,FTTM,67.21,48.57,58.7\\nMuhamad Yoga Wisambudhi,FTMD,60.35,44.55,48.19\\nRisma Indriyani Mangngalle,STEI,40.37,37.1,46.1\\nDendy Priambodo,FTSL,48.97,26.47,42.79\\nEvy Sintisye Ompusunggu,FTI,73.65,41.86,48.17\\nNisrina Nuramalia Fathina,STEI,69.73,37.26,42.25\\nJudan Syamsul Hadad,FITB,62.71,35.37,49.28\\nAde Meidian Malik,STEI,55.77,38.79,53.21\\nAnindita Dwimutia Restuti,FTTM,81.82,48.9,55.69\\nStephanie Triseptya Hunto,STEI,65.86,66.64,59.47\\nAgeng Warasta,SITHR,59.26,49.48,53.71\\nAdi Widya Pratomo,SAPPK,70.74,29.98,44.47\\nLuqman Faizlani Kusnadi,FTI,87.49,26.02,32.62\\nAziz Ainun Najib,FTI,71.89,51.4,51.36\\nBranandi Mustafa,FTTM,72.95,22.55,29.86\\nRizky Faisal,SAPPK,74.25,31.43,45.06\\nDinda Muthi Nabilah,STEI,80.33,41.41,45.16\\nAlvin Setiawan H,FTSL,70.6,33.53,38.21\\nLuthfi Naufal,FTMD,75.83,42.82,45.56\\nAndhina Amalia Ratnaputri,FTI,77.59,48.65,46.05\\nFerdie Tanuwijaya,FTTM,73.93,43.46,51.49\\nKarimah Hannaverani Sediadi,SITHR,58.59,49.72,60.18\\nBambang Muhammad Yusup,SITHR,70.99,30.53,52.6\\nUmar Al Faruq,STEI,69.53,46.68,55.16\\nAudinata Ibrahim Sitaba,FMIPA,86.38,21.4,33.88\\nCatherine Agraputri,FTI,47.96,50.53,59.59\\nNabila Aishah Nugraha,FTI,71.03,52.96,61.14\\nZaenab Rizki Ariani,FTTM,42.6,58.72,68.93\\nTrishanty Eka M,FTTM,63.45,64.98,62.26\\nArdhan Bayu Frestriawan,FMIPA,69.3,46.37,46.06\\nRatih Wahyu Setiyani,FTMD,70.01,42.66,43.35\\nMuhammad Iqbal Baihaqi,FTI,85.91,41.94,42.0\\nAdrian Liberman,FTSL,84.47,44.42,54.0\\nAhsana Nadia,FTTM,63.26,42.7,48.69\\nGanjar Abdillah Ammar,FTMD,48.31,47.79,54.79\\nWindy Wijaya,FTI,99.51,63.72,74.77\\nRavend Tandera,FITB,60.64,66.77,64.9\\nAli Muksin,FTSL,83.05,25.59,26.15\\nAstri Briliyanti,FTI,58.63,58.69,68.95\\nOlgha Puspa Pandini,FTSL,59.64,32.72,28.2\\nMade Olivia Gravisi J K R,SAPPK,61.21,42.37,58.97\\nDhimas Dwinandha,FMIPA,79.27,44.95,55.7\\nMuhammad Ikhsan Akbar,FTTM,93.7,35.04,41.17\\nM Farhan Chairahman,STEI,83.23,46.62,55.87\\nM Hidayat,FMIPA,83.41,41.29,52.71\\nNova Panggabean,FTI,56.46,42.18,55.8\\nRandy Yoan Eksakta,FTMD,61.26,47.54,63.48\\nHerada Kiptane Arga,FMIPA,53.81,44.38,50.96\\nIvonne Fabiola N Depari,STEI,68.82,67.14,68.25\\nSinta Florentina,FITB,57.51,52.98,52.06\\nNida,FTMD,76.03,45.14,44.37\\nKurnia,FMIPA,65.36,55.08,67.13\\nAudra Fildza Masita,FTTM,86.01,45.9,60.84\\nMuhammad Rahman L W,FTTM,54.37,29.94,32.68\\nArnisa Dewi Hasna,STEI,83.57,46.76,49.64\\nMuthaharah Yunus,FTI,68.26,44.28,48.1\\nAnisa Prasyanientyas Anugrah,FTI,90.4,39.05,42.57\\nAdhitya Bryan,STEI,71.75,27.94,34.46\\nMuhamad Zaki Mubarok Rahman,STEI,40.85,44.22,40.76\\nRosi Nurmalasari,SITHR,66.16,66.06,76.56\\nMuhammad Voudy Agung Ramadhity,FTTM,63.79,41.98,41.35\\nAdi Fantri Sandhie Nugroho,FTMD,53.45,35.54,32.02\\nZaka Ruhma,FTTM,61.58,29.73,39.63\\nIndiani Sani,FMIPA,92.93,18.97,44.84\\nIrwanto Suganda,SAPPK,52.0,52.23,51.39\\nLaras Prahardian Putri,FMIPA,57.03,26.76,30.28\\nPrisanti Uni Arta,FMIPA,62.66,43.4,49.3\\nVani Novita Alviani,FTTM,77.16,72.02,76.45\\nFadhil Muhammad Firdaus,STEI,78.13,30.86,34.13\\nMuhammad Ihsan Herdiatmaja,STEI,79.01,48.41,61.4\\nMuhammad Rio Zulfahmi,FTI,75.46,42.14,47.55\\nMuhammad Razin Abdullah,SITHR,75.83,46.76,54.97\\nAugy Harmal,FTSL,69.2,38.68,46.02\\nMuhammad Hero Umar R,FITB,69.8,57.4,51.27\\nLuqman Rahmanul Hakim,FTI,61.14,52.65,69.05\\nStanislaus Billy Novrando,FTI,68.85,51.52,61.36\\nRicky Aditiya Fandi,FMIPA,79.12,56.81,62.7\\nVanesa,FTMD,75.5,39.44,59.83\\nRicky Suryadi,FMIPA,64.2,40.78,57.34\\nAnis Balqis Nursaumi,STEI,62.17,40.07,47.23\\nAhmad Zainul Ihsan,FMIPA,63.13,35.49,37.7\\nVincent Bunardi,STEI,64.36,45.57,43.67\\nI Gusti Agung Gede Subrata,FMIPA,62.05,49.65,58.63\\nAnnida Nizlah Nadiya,FMIPA,72.99,45.62,42.72\\nErsalina Renatra,STEI,66.78,48.58,48.5\\nElyfirma Duma Silaban,FTTM,62.41,54.96,53.95\\nIntan Safarina,FTTM,64.95,43.02,64.23\\nAndreas Febian Wibowo,FTI,83.01,40.23,47.62\\nMaulana Haqiqi,STEI,95.34,42.86,47.22\\nLisna Wahyuni,STEI,75.41,56.95,60.67\\nAfrizal Maulana Sutrisna,FITB,63.46,49.44,46.49\\nChandrika Nurhayati Dewi,FMIPA,64.53,37.32,43.93\\nAhmad Marzuki,SAPPK,51.6,44.29,44.6\\nPutri Maharani,FMIPA,70.74,62.33,66.21\\nNelsi,SAPPK,31.09,14.68,25.27\\nPutri Amalina,STEI,67.28,53.2,58.68\\nFranky Octavius,FTSL,52.17,61.69,58.6\\nMerilda Kristalya,FTMD,51.54,52.42,54.47\\nMuhammad Fajar Adityo,SAPPK,59.6,38.44,46.19\\nNovian Gelang Ahdiyaka,FTMD,69.81,59.02,53.55\\nAnindya Dian Asri,FMIPA,85.96,42.44,55.5\\nAffra Nurfida Suciati,SITHR,69.28,49.3,72.61\\nFedo Wilianto,FTI,64.12,41.59,47.44\\nRanggalalita Probonegari,SITHS,67.1,50.4,56.95\\nTedo Esmu Ziraga,FMIPA,100.0,52.29,56.79\\nClaudius Andrianto Kusumo,FTTM,75.76,34.86,43.89\\nAnindyta Nursilmi Kahfa,FMIPA,78.16,50.23,55.32\\nTresna Faisa Suwanjana,FITB,73.35,65.55,65.81\\nEdo Syawaludin,FMIPA,77.54,34.91,38.65\\nAri Gustian,STEI,81.8,30.34,46.92\\nKevin Yonathan,FMIPA,82.08,33.71,38.0\\nCaca Cahya Maulana,FITB,61.33,53.92,67.64\\nHellen Putri Kusumasari,FMIPA,63.07,52.02,58.14\\nIvan Marthin M,FTI,72.17,26.85,42.39\\nTomy Abram Sihite,FTSL,65.3,54.16,65.69\\nTry Hartono,FMIPA,50.39,39.22,42.92\\nYudha Aji Saputra,FMIPA,72.83,48.33,56.57\\nAmron Naibaho,FTI,80.23,41.46,51.62\\nHineni R O Pakpahan,FMIPA,74.1,40.16,55.1\\nPutri Jayanthi,FITB,84.14,51.65,55.64\\nAhmad Idris Nurul Ulum,FTSL,72.15,47.99,63.68\\nMuhammad Ghazi,FTSL,88.34,34.13,36.68\\nPrisko Galaxy,SITHR,62.39,41.14,47.85\\nKania Kusumadewi,FMIPA,74.88,28.39,39.19\\nHaris Dhaifullah Mz,FMIPA,55.57,43.64,46.06\\nFransiskus Raymond Sugianto,STEI,77.23,49.53,56.03\\nOgi Bagja Waluya,FTI,76.55,15.58,19.93\\nGede S C Raharja Suputera,FTMD,77.25,45.52,49.66\\nAnnisa Anjani,FMIPA,75.85,21.74,31.98\\nIchwaldo Haries Sendyartha,STEI,75.49,58.81,68.33\\nZakky Rabbani,FMIPA,65.66,50.82,66.95\\nMuhammad Adi Sukma Nalendra,STEI,85.09,47.71,58.7\\nGifari Rahmat Alif,STEI,64.44,36.45,34.72\\nRio Martha,FTSL,79.59,53.59,56.38\\nRetnasih Widiatmani,FTTM,67.44,45.17,42.39\\nGregorius Kristian Purwidi,FTSL,63.86,50.22,62.28\\nMoch Risqi Graha,FMIPA,75.01,45.36,56.2\\nPutri Fitria,FTI,64.87,34.45,47.06\\nMohamad Hadiyudin,FTSL,50.9,30.73,29.01\\nWidyanita,FMIPA,71.6,45.52,48.87\\nReza Fachrizal,FMIPA,94.72,45.97,52.3\\nMuh Rizki,FTSL,81.72,44.17,57.87\\nMuhammad Nassirudin,FTSL,96.45,43.75,50.54\\nBangun Nuswantoro,SAPPK,96.88,54.95,68.35\\nFerdi Adi Laksono,FTI,40.92,43.01,45.15\\nBennedictus Bagustantyo,FTI,74.41,32.46,54.91\\nYasmin Nabilla,FTTM,56.9,39.19,54.41\\nBram Patria Yoshugi,FTI,74.39,44.76,41.14\\nPoppy L Purba,FTI,74.46,30.8,31.27\\nBarbara Agavesia Putri,FTMD,71.45,39.66,38.83\\nJienicha Santa Dwanda,FTI,83.1,53.13,60.91\\nMufidah Safinatunnajah,FMIPA,65.4,42.78,68.03\\nAntonius Jeffry Poerjoto,FTMD,67.2,59.3,64.13\\nAmir Fathah Mahatma,SITHS,64.04,53.35,54.16\\nMuhammad Gibran Alfarizi,FMIPA,81.16,51.38,62.33\\nFairuz Radita,FITB,69.2,57.32,66.31\\nDora Lisnandani,FTTM,51.68,57.01,52.91\\nDharma Favitri Hariyanto,FTI,80.78,63.22,71.02\\nEricka Rizky Keumala Dewi,STEI,55.89,52.78,44.09\\nEdwina Istanti,FTMD,53.79,24.96,30.23\\nArya Wijaya,FMIPA,69.55,58.12,61.99\\nWidi Auliagisni,FTTM,57.57,48.95,49.17\\nAlfino Harun Lubis,SITHS,68.07,41.34,54.68\\nDenni Fariz Subekti,FTTM,66.39,47.85,33.8\\nYanuari Tri Tyasti,FTI,85.07,43.7,47.87\\nFriska Josephine Parulian,STEI,54.91,36.41,44.49\\nHerman F Sipayung,STEI,57.93,32.95,49.33\\nRizki Ayuni Putri,FTI,76.5,54.98,64.93\\nNufi Arfiyanti,FMIPA,66.1,50.62,54.96\\nHabib Mufid Ridho,FTI,76.65,47.22,65.2\\nSaptari Wijaya,STEI,69.59,46.07,52.51\\nSamira Tasyaa Navianda,FTTM,100.0,28.38,57.04\\nAnnisaa Dyah Adani,STEI,75.91,29.58,49.41\\nClement Christopher,FITB,74.94,46.61,56.24\\nJacqueline Ibrahim,FTI,95.81,64.03,69.18\\nAlvin Kurniawan Hanafie,SAPPK,40.56,42.57,48.97\\nAyang Fitri,STEI,73.08,41.1,53.39\\nDita Widy Amallya,FTSL,65.35,54.85,54.01\\nJosua Sitinjak,FMIPA,64.57,37.93,56.67\\nWidianingsih,FTMD,48.94,55.29,60.77\\nKrisna Dibyo Atmojo,STEI,89.78,42.91,35.05\\nRizky Muhamad Koto,FTI,66.94,40.64,34.94\\nNi Luh Saddhwi S A,FTI,94.99,37.15,49.73\\nDita Faridah,FTSL,67.12,47.31,58.74\\nFarah Dita Wibawanti,FTMD,49.21,59.62,64.71\\nMuhammad Irfan,FTMD,40.95,53.57,65.36\\nFitriana N H Aji Pramesti,FITB,90.31,61.58,71.74\\nEndah Septianingrum,FMIPA,71.42,37.47,37.64\\nAbi Akbar W,STEI,63.99,37.37,56.37\\nArini Shofi Elmia,FTSL,51.68,62.45,52.29\\nReynard,SITHS,89.46,48.85,48.88\\nTitah Etika Edelina,STEI,69.41,47.65,58.96\\nSyamsuri Brian Hasbi,FTMD,74.16,62.73,66.61\\nDanny Kusuma,FTMD,69.03,47.24,56.16\\nHizha Gashira W,FTI,67.6,36.31,50.88\\nLuthfi Al Fikri,STEI,73.68,25.34,33.82\\nMuhammad Syamsu Rizaludin,FITB,75.27,26.6,41.1\\nPradipta Andhika Putra,FTMD,65.15,54.92,64.37\\nMuhammad Arief Noverianto,FTI,74.4,41.52,46.03\\nArif Rachman Hidayat,FTSL,67.82,40.26,50.72\\nFirda Fairuz Zakiah,FTSL,57.73,37.05,51.74\\nMade Asta Yogantara,FTMD,75.68,40.29,48.76\\nHadiyan Prabowo,FTMD,82.87,27.3,29.9\\nMuhammad Iffan Hannanu,STEI,44.73,68.88,69.64\\nNurul Ilmi,FTSL,61.29,49.7,53.64\\nPutra Galuh Pratama,FTMD,55.13,45.02,39.82\\nKartyan Suryawirawan,FTSL,64.53,36.48,41.7\\nAholiab Tegar Tritama,FTSL,78.61,40.36,50.59\\nArsyil Dwinda Putra,FMIPA,55.79,57.31,60.22\\nMuhamad Ibrahim Yazdi,FTTM,65.11,37.01,50.39\\nSabhrina Gita Aninta,FTSL,80.4,59.47,67.97\\nErika,STEI,67.48,38.54,50.16\\nDevin Gunawan,STEI,92.4,59.6,70.02\\nYusrani Kautsari Maryam,SITHS,67.33,46.35,56.71\\nRachmat Calief Zulfikar,FTMD,61.9,31.76,34.3\\nAndri Hapsoro,FTTM,60.9,33.78,50.93\\nTiyo Yoga Pradiknas,FTI,64.14,59.18,62.69\\nKartika Nur Rahma Putri,FTSL,68.63,34.01,42.82\\nTifally Gethiani Tanianawda,FTTM,71.77,33.91,32.56\\nSolehudin,FTTM,79.88,45.66,50.73\\nIvana Yuanita,FITB,88.37,44.62,58.61\\nIgnatius Chandra Kurniawan,FTI,93.04,40.88,54.62\\nAninda Puspa Paramita,FMIPA,80.03,37.1,36.0\\nAisyah Bianny Rahmanugroho,FMIPA,52.96,66.0,67.44\\nKania Permata Sari,FTI,68.58,46.07,36.92\\nArdyanto Mulya,STEI,63.04,44.62,59.18\\nRaka Firman Baskara Permana,SITHS,85.0,45.25,56.93\\nNur Latifah Shaumi,SAPPK,34.87,30.56,37.86\\nTimotius Yonathan Sunarsa,FTSL,80.04,54.02,55.09\\nRaga Dhia Pradhana,FTI,56.25,59.38,64.57\\nDarmawan Muhaimin,SITHR,78.57,55.67,57.17\\nRegina Giovanni,SITHR,82.63,45.72,57.34\\nJanus Manabu Ono,FMIPA,63.92,28.19,45.81\\nCamilla Astari,SAPPK,45.98,41.58,53.38\\nMuhammad Nur Saifurrijal,FTSL,51.11,70.58,81.1\\nJulianto Saut Hamonangan,FTMD,71.54,44.72,39.9\\nPirma Hutajulu,FTTM,82.98,51.91,66.49\\nHafid Sidqi Nur Muzwar,FTI,77.32,43.4,53.35\\nRedian Mayo Fikri,STEI,77.18,57.78,60.52\\nNararya Megasih Wardani,FTI,58.36,53.9,61.79\\nAnnisa Fitri Nurrahmi,FMIPA,77.88,59.3,55.56\\nSisca Tri Wijayanti,FTTM,100.0,44.63,41.28\\nWahyu Hidayat,FTSL,77.02,41.72,37.88\\nYovita Astuti Djohan,FTI,55.87,36.42,47.83\\nLucy Kartikasari,FITB,74.15,41.47,49.98\\nAnnette Steven,STEI,54.62,53.77,50.09\\nBijak Riyandi Ahadito,FITB,84.93,58.38,66.58\\nArya Tama,FTTM,73.26,51.82,58.31\\nMuhammad Sidargo,FMIPA,56.81,37.16,43.82\\nSri Wulandari,FTSL,51.32,45.74,53.94\\nAulia Satrio Ratmadi,STEI,77.04,43.01,51.11\\nMuhammad Ikhsan,STEI,72.27,55.29,42.76\\nAnindya Dwi Wulandari,SITHR,86.41,62.66,80.95\\nHanah Khoirunnisa,STEI,51.61,47.12,60.63\\nGuntur Ario Wibisono,FTSL,53.44,48.44,52.29\\nDimas Rakha Ammar,FTTM,46.24,64.43,65.19\\nMuhammad Kamil Arief,STEI,59.63,35.9,34.3\\nAditya Mulya Pratama,FTSL,74.81,68.47,67.64\\nWulan Paramita,FITB,72.6,49.54,59.54\\nArdityo Giantra,SAPPK,76.71,28.93,42.28\\nWiji Utami,FTI,70.84,61.24,63.17\\nRahmat Putera,FTTM,48.22,50.94,56.96\\nYusuf Budiman,FTI,50.36,31.69,36.81\\nAfdhal Hanif,FTTM,61.51,16.06,24.59\\nNoormalita Nanda Oktaviana,FTI,93.62,56.01,52.64\\nNura Tresna Priantini,FTMD,57.43,43.53,56.0\\nTatjana Dabita Aryo Putri,STEI,72.8,49.75,62.99\\nKelvin Elkana Wijaya,FTI,52.88,63.79,76.63\\nWiyudi Gomulya,FTMD,86.16,25.03,30.77\\nKeukeu Yolandha,FTTM,71.81,39.06,45.18\\nAlfons Gorby Evardo,FTSL,58.09,35.56,45.61\\nDonny Gunawan,STEI,76.7,48.92,53.83\\nNadia Maghfira,FTI,55.92,51.24,55.25\\nSiti Solihah,FTSL,69.49,42.66,53.96\\nLuthfie Maula Alfianto,FTTM,81.32,47.21,47.48\\nJeremy Minardi,FTTM,69.95,33.68,37.58\\nIkeu Siti Khodijah,FTMD,55.11,26.0,46.2\\nJuliandry Habib Hasbullah,FTSL,42.12,52.22,52.17\\nLuthfi Kamil,SAPPK,89.64,48.95,44.7\\nCorwin Rudly,FTSL,64.97,59.61,61.6\\nIsabella Julia Putri,FTSL,100.0,44.25,56.34\\nFachriza Rahadian Prathama,SITHS,54.95,47.17,55.64\\nAndra Adetia,FTSL,77.52,46.25,64.98\\nTridiego Nuari P,STEI,74.94,33.75,40.56\\nRisa Rezki Permatasari,FTMD,77.5,29.09,35.83\\nViska Aprillia Andriani,STEI,52.11,47.16,59.47\\nRian Fahadi,FITB,77.61,46.5,41.17\\nEros Fatta Zarkasyi Adha,FTI,60.31,50.63,45.44\\nPhilipe Gunawan,SAPPK,87.75,32.88,41.2\\nAdam Yanuro,FTSL,75.23,63.83,62.81\\nNurul Aini,FTTM,77.36,41.51,49.0\\nZaki,SAPPK,60.45,41.92,49.47\\nSilviani L C Manik,FTSL,89.49,62.09,66.91\\nEvans Immanuel,FTSL,76.06,26.25,29.16\\nArmitze Ghazali,FMIPA,91.57,53.43,52.65\\nNursyifa Kamilia,FTTM,61.31,40.96,44.89\\nDefita,FTTM,85.95,37.06,43.43\\nYanfa Adi Putra,SITHS,63.34,43.92,51.99\\nMuhammad Luthfi,FTI,75.3,27.25,40.5\\nAhmad Hafizh,FMIPA,38.21,47.4,59.3\\nFirda Amalia,FMIPA,95.58,10.1,9.11\\nWahyu Muharril Hazim,FITB,53.31,52.58,46.67\\nRahmat Fajri,SITHR,60.29,64.53,60.18\\nJohan Iswara,FTI,66.28,65.38,67.38\\nSatria Puji Wibowo,STEI,56.74,32.33,38.12\\nGraf,FTTM,74.37,46.45,55.46\\nFaisal Amin,FTI,87.47,49.66,65.96\\nAtila Gati Rahmadantio,FTSL,55.03,50.72,66.58\\nChandra Dewi,FTTM,84.49,45.95,59.4\\nAngga Kurnia Pratama,FMIPA,56.42,35.29,52.53\\nAnggraeni Eka Putri,FTTM,68.45,32.54,46.01\\nChristian,FMIPA,56.71,50.94,47.25\\nGhazi Azhari Sudrajat,FITB,79.92,40.11,56.0\\nMutadayyin Al Mudzaki,FTMD,71.77,40.28,38.65\\nWisnu Adi Pramono,FTMD,76.66,37.81,57.87\\nR Fandy Purwidya Putra,STEI,78.13,47.32,37.45\\nAdi Fitrianto Maulana Yusup,FITB,87.19,55.52,57.58\\nAsep Sofyan,SAPPK,65.26,61.88,75.74\\nAdinda Asri Pixelina,FTI,47.74,47.71,54.65\\nAhmad Armansyah Fauzi,STEI,66.74,47.86,43.79\\nEndytio Eko Nugroho,STEI,60.75,22.99,30.41\\nAhmad Nurcholis Majid,FTMD,73.78,59.27,72.4\\nAditya Pradipta,FTI,71.74,51.03,39.87\\nVicko Novianto,FTI,91.36,65.17,69.63\\nIrene Christy,FTSL,54.5,41.78,53.18\\nNovan Kristianto,SAPPK,72.89,60.69,63.4\\nMichael Praditya H H,FMIPA,43.36,57.36,73.85\\nYasmine Kurnia,FTI,70.05,39.3,41.64\\nRendra Saputra,FTTM,74.51,47.43,47.07\\nKevin Salim,FTI,54.54,39.46,35.65\\nUud Prayuda,STEI,56.1,34.86,41.86\\nMathilda Nathania Calista,FTI,78.44,42.03,61.09\\nAyas Ansorudin,STEI,52.4,34.41,40.64\\nMassita Ayu Cindy P A,SAPPK,77.3,57.51,51.1\\nAnnisa Athifah,FTTM,54.69,43.13,58.94\\nGabriela Daisy Hadiwinoto,FTI,57.19,32.92,40.16\\nDuhan Wijaya,STEI,42.13,32.41,41.33\\nBaginda Echasio,FTTM,71.37,46.9,53.02\\nNurhayati Abdullah,SAPPK,97.67,40.77,57.8\\nStella Christiani,STEI,76.58,37.98,47.02\\nAmalia Kurnia Hidayati,FTSL,57.35,50.99,64.99\\nIriene Chelsea Putri Handjojo,FTTM,84.48,30.26,41.52\\nAndy Jefferson Sabur,FTMD,48.06,40.03,40.81\\nRomy Dwiwahyu Putra,SITHR,52.22,67.0,66.58\\nLydia Febrina Mangiwa,FTSL,79.14,36.34,40.52\\nPriagung Wibowo,STEI,52.31,39.19,30.99\\nDinan Abdul Khalik,SITHR,70.8,37.22,50.0\\nParlin Octavian W T,STEI,76.44,49.18,63.39\\nHayuningtyas Rahmani B,SITHR,75.57,46.18,51.82\\nHimpu Marbona,FTTM,62.97,33.57,31.95\\nRani Yudi Hastuti,FMIPA,48.88,34.03,43.06\\nMuhammad Nur Fadhli,SITHS,64.98,50.27,68.49\\nMuhamad Aditya Abdurachman,STEI,82.09,50.66,56.46\\nLazuard Fachry,SITHS,56.11,55.84,65.78\\nGanung Adi Prasetyo,SAPPK,80.46,40.5,58.2\\nDanny Raditya,FTI,76.73,38.47,35.12\\nMaulana Agustiansyah Putra,FTMD,86.65,42.4,59.69\\nYusuf Utomo Pribadi,FTTM,75.52,37.25,42.03\\nVienda Fadilla Fahmy,FMIPA,68.56,41.21,63.23\\nDyllon Satria,STEI,68.51,52.34,56.78\\nRisa Karlinda,FTTM,55.29,39.8,45.33\\nElfina Rahmi,FTI,64.5,31.08,38.99\\nCalista Elvina Jesslyn,FTSL,60.3,36.89,47.86\\nArdanti Retnohandini,FTSL,90.28,25.98,37.1\\nKanya Pranawengkapti,FTMD,72.71,39.3,57.66\\nDadang Iswanto Putro,FTSL,53.42,37.33,59.14\\nAlif Husnul Fikri,FMIPA,72.11,54.68,56.97\\nStephen Joshua,STEI,80.12,37.76,44.24\\nSinggih Asri Wibowo,FTMD,68.69,48.26,54.37\\nNoerlina Purwanti,STEI,59.85,21.08,33.35\\nNgurah Ade Kalyana,SITHS,64.53,47.34,53.22\\nAssifa Nur Hisana,SITHR,54.34,47.1,62.56\\nTubagus Abid Alfarisi,FTTM,75.07,42.3,43.75\\nDio Rizki Dharmawan,FTTM,81.35,48.18,50.97\\nMatias Petradika,FTMD,45.88,23.04,27.26\\nGadis Kurnia Kristi,FMIPA,83.7,44.53,63.26\\nMuhammad Fadhlika,FMIPA,59.69,68.98,76.96\\nAfif Fauziyyah,FTMD,54.89,35.11,65.97\\nAlif Lutfia Masduqi,FTSL,52.84,68.34,70.37\\nAisha Fadhila,STEI,88.35,29.66,30.42\\nMuhammad Adi Rini,FMIPA,81.8,42.02,42.25\\nRahayu Ningtyas,FTI,69.02,33.46,36.74\\nAlexius Justianto,STEI,42.19,43.49,49.81\\nAddina Inayatillah,FTI,81.13,42.0,50.91\\nIvan Pranata,SITHR,55.51,27.46,38.05\\nDodie Yoga Pratama,SITHS,68.62,53.07,61.57\\nZalman Fariz,FTTM,52.59,64.17,65.92\\nRachmad Santoso,FTI,81.83,47.71,56.02\\nSyavira Rahmadiani,SITHR,70.3,37.78,54.55\\nMohamad Dika Arzaldi,FTSL,62.79,24.8,37.55\\nBilliawan,FMIPA,66.48,43.25,48.67\\nAlvin Raditya Tanto,STEI,100.0,58.89,49.56\\nAdeliadiani Destyanti,FTMD,67.66,48.63,55.11\\nNabella Adjani,STEI,80.35,45.25,46.56\\nDavitra Giandita,STEI,68.38,28.11,40.71\\nMuhammad Ikhsan Saputro,FITB,88.45,67.6,74.94\\nChintya Rizkiaputri,SAPPK,71.28,48.18,58.45\\nMulya Diana Murti,FTSL,80.78,61.71,61.62\\nRudolf Jason Kwaria,STEI,71.0,40.76,55.73\\nMaurits Theo Halomoan Simamora,FTI,47.87,58.17,68.92\\nGiovanni Annur Safarina,FTTM,48.68,49.38,42.98\\nMuhammad Luqman,FMIPA,91.94,48.58,43.39\\nMarcellus Catur Bhaskara,SITHS,64.42,34.32,52.5\\nDinan Fakhri,FMIPA,62.53,35.79,51.07\\nVenny Larasati Ayudiani,FTMD,79.8,33.58,36.42\\nAntonio Febrianta M,FTMD,72.68,49.24,66.82\\nAndika Rizki,FTTM,61.3,54.24,64.0\\nDavina Andini,FTI,67.23,50.73,57.72\\nQodri Hadi Putra,FMIPA,65.23,58.57,62.07\\nTito Tamaro,SITHS,88.37,36.3,35.11\\nWilsen Supriady Lauwijaya,FTSL,60.71,68.29,64.31\\nNur Azizah Fitria,FTTM,76.27,28.72,39.18\\nJeffrey,STEI,73.64,49.2,56.72\\nFaishal Arif,STEI,92.72,48.42,57.6\\nMuhammad Syahril,FTMD,49.76,67.31,71.7\\nIndra Kusuma Putra,STEI,72.73,26.46,29.03\\nGlayn Rifans,FMIPA,44.72,45.7,47.57\\nTiffany Chrisy Monika Sitompul,SITHS,78.99,66.39,72.41\\nHaidar Asyraffauzan Wachid,FITB,95.22,33.52,47.83\\nEyrton Crismartua Silaban,SITHR,93.02,65.95,69.95\\nDhandy Fadhil Hanrinugroho,FTI,84.22,54.67,64.77\\nShafira Irmarini,FTSL,56.63,44.95,43.76\\nAfriana Maharani Puteri,FTSL,79.44,51.21,41.5\\nJonathan,FTMD,53.54,30.89,47.86\\nKevin Julio,FMIPA,67.79,28.57,41.99\\nM Ikhsan Nugroho S,FITB,60.85,47.12,36.57\\nMohammad Lutfi A H,STEI,53.35,46.67,58.85\\nThomas Gunardi,SITHR,54.14,40.93,49.06\\nMuhammad Ridwan,FMIPA,46.11,41.62,45.64\\nGita Fitrilia Effendy,STEI,77.31,36.58,47.88\\nYosha Aulia Dananti,FITB,73.73,50.67,53.76\\nFikri Hasnul,FITB,72.14,43.37,46.71\\nMikhael Evert Georgio Hutabara,FTI,59.91,31.41,37.28\\nPaskasius Wahyu Wibisono,FTMD,55.0,55.33,64.38\\nIndah Sri Wahyuningtyas,SAPPK,66.29,45.41,52.09\\nWinson Waisakurnia,STEI,40.36,46.99,51.3\\nEric Widagda Palguna Gde,FTMD,44.47,57.95,58.46\\nYonatan Kurniawan,SITHS,83.61,39.08,46.84\\nSigit Yudanto,FTMD,57.22,41.58,52.17\\nNova Ginanjar Hidayat,FTI,100.0,43.49,51.64\\nLutfitasiwi,STEI,65.21,57.11,69.19\\nAbraham Wahyu Kurniawan,SITHS,69.71,55.0,58.37\\nGiffari Alfarizy,FTI,79.88,62.67,50.41\\nTeguh Sanjaya,SAPPK,83.02,60.59,72.11\\nAdventia Hermina Sagita,STEI,75.29,39.74,43.47\\nMuhammad Nur Burhanuddin,FTTM,71.56,56.88,56.68\\nRoosevelt Mario L,FTSL,79.84,25.46,42.71\\nHani,FTSL,62.35,40.39,41.36\\nAileen Clarissa Surya,FTI,66.05,34.79,34.49\\nNovian Buyung Pamungkas,FITB,72.0,41.92,46.47\\nTiara Fahiramadyan,FTI,86.98,43.25,42.93\\nRudy Halomoan Sinaga,STEI,66.51,39.26,51.62\\nSiti Chiquitita V,SITHS,82.18,52.92,60.58\\nShalehuddin Al Ayyubi,FTSL,73.55,29.87,38.18\\nMuhammad Zainul Ilyas,FTSL,75.17,49.13,66.64\\nDimas Agung Permadi,FTMD,80.07,47.32,48.11\\nNeza Nabiella,FMIPA,64.28,66.03,63.95\\nStefan Valiant,SITHR,81.42,33.21,32.64\\nAchmad Rofi Irsyad,SAPPK,93.88,45.69,56.81\\nDyah Hapsari Fajarini,FTI,81.43,36.79,43.89\\nOkky Hartono,FTMD,62.59,45.23,51.45\\nNadya Puteri Puspaseruni,FTI,65.24,30.08,32.29\\nMohammad Rifqi Mahardhika,SITHS,69.94,46.71,59.52\\nDea Novira Hermawan,FTSL,80.19,31.23,40.91\\nWisnu Prasojo Widianto,FTMD,66.18,62.5,63.35\\nAulia Hakiem Noersedya,FTTM,94.25,47.2,48.85\\nBerlusconi Tri Panraya Purba,FTI,78.71,58.1,71.28\\nPriscarine,FTI,85.42,54.89,61.6\\nElvira Sari,FITB,61.05,41.78,49.54\\nJesica Mia,FTI,96.73,62.22,59.6\\nBimar Anugrah,FITB,60.17,55.69,62.78\\nNabil Muhammad,FTI,63.74,47.96,52.39\\nSelvia Novianti,FTSL,81.46,40.52,49.02\\nIvana,STEI,51.59,45.6,51.44\\nHENDY AULIA PRASOJO,FTI,74.21,50.7,60.38\\nRistrinawaty Putridaya,FTMD,72.44,25.52,41.49\\nZulfikar Yahya,SAPPK,70.12,49.17,57.51\\nDhika Ananda Pratama,FTI,51.92,41.12,61.76\\nRirin Ariani Dewi,SITHS,71.98,47.32,55.97\\nNovan Zakkia,STEI,42.42,42.35,52.96\\nMuhammad Bagus Abdani Syukron,FITB,54.16,35.78,44.28\\nAnisa Fitri Safarini,STEI,53.79,46.96,66.65\\nLutvianes Advendianto,FTTM,59.33,44.73,50.26\\nMuhamad Zevni Kurniadi,STEI,79.04,55.78,74.61\\nMichelle Diana,FMIPA,59.82,40.14,52.73\\nJosi Ayu Wulandari P P,SITHR,55.04,64.11,65.96\\nRachmat Maulana,FTI,74.15,44.85,57.95\\nFramudita Hindasyah,FITB,79.1,42.93,57.41\\nAyu Nurhuda,FTSL,77.29,51.59,55.86\\nMuhammad Rifky Adi Pradana,STEI,77.07,54.54,68.9\\nMuhammad Wakhid Pramujati,FITB,58.32,51.52,53.43\\nHari Setyo Utomo,SITHS,73.43,55.86,66.14\\nMuhammad Zaki Firdaus,FITB,63.33,49.54,56.11\\nAngghrea Rachmadienta Hermawan,FTSL,79.53,35.87,45.61\\nRegina Puspita Arza,SAPPK,40.4,49.03,49.38\\nCrescentia B S Matondang,SITHS,48.73,30.65,47.15\\nHafied Yusra,STEI,66.47,49.72,67.95\\nAyesha Bilqis,FTMD,76.53,69.8,66.95\\nIrawati Sibarani,FITB,47.99,30.92,50.61\\nDamai,FTSL,79.07,32.94,34.77\\nJamaludin,FTSL,85.53,65.0,70.8\\nMuhamad Abdurachman Saleh,FITB,56.41,30.22,28.17\\nFaiz,FMIPA,73.73,56.71,61.43\\nDimas Indra Cahaya Ramadhan,FMIPA,60.45,40.3,68.81\\nAddini Aulia,FMIPA,60.67,39.3,53.14\\nAdhya Rare Tiara,SAPPK,49.06,64.64,54.53\\nWilly Yanto,FMIPA,57.41,56.46,68.06\\nNorman Suarno,FMIPA,63.83,51.39,52.13\\nAditya Pratama Ardinal,FTSL,65.44,53.93,56.5\\nRahmad Wandi Putra,FTTM,77.63,51.3,49.91\\nSena Chandrahera,FTSL,69.04,51.99,65.86\\nAmar Yusuf,FTI,63.29,33.52,56.64\\nRatna Eka Putri,STEI,60.85,35.86,50.86\\nSatria Adhiguna,STEI,86.71,48.54,55.74\\nRichard Dharmadi,STEI,60.72,33.7,31.21\\nDarmansyah Nugraha,FTSL,49.1,50.99,69.57\\nFathina Izmi Nugrahanti,SAPPK,62.94,51.35,70.74\\nRatih Ayudyaputri,FTTM,57.87,63.05,61.97\\nMuhammad Halim Dwi Gunawan,FMIPA,62.37,22.71,39.29\\nGideon Satria Nugraha,FTTM,76.27,54.78,54.8\\nErlan Aprinaldi,FITB,60.1,45.14,57.32\\nAzizah Indah Yunita,STEI,46.39,44.53,49.64\\nRahmat Hidayat,FMIPA,56.27,44.98,70.39\\nChaikal Amrullah,FTSL,48.85,49.54,50.85\\nMonika Sembiring,FTI,82.9,29.6,38.48\\nLina Shofiyyah Astuti,FTI,50.73,24.33,29.47\\nNarendra Bintara Adi,FTSL,65.03,38.27,39.03\\nDyah Rahmawati,SAPPK,77.29,47.71,61.48\\nFiqi Fatmawati,FTTM,60.32,32.79,45.0\\nGanendra Chandra Ditya,SITHR,69.5,32.93,46.84\\nAhmad Anggriyanto Asrizal,FITB,87.49,25.59,39.37\\nHans Abdiel Keynes,STEI,53.46,60.07,63.85\\nAvrionesti,FTSL,57.76,43.4,43.98\\nRidlo Abelian,FTSL,64.73,44.39,49.46\\nGalih Okta,FTMD,86.94,44.93,44.47\\nMei Wulansari,SAPPK,97.39,41.18,56.58\\nAnisa Fitriani Wijayanti,FTMD,67.99,53.39,52.89\\nCitra Khairina,FMIPA,57.74,49.67,55.62\\nDwiky Sarahidha Irelli,FMIPA,63.24,34.92,51.12\\nMuhammad Rikzan,SAPPK,66.38,61.04,59.86\\nGabriela Nadya Sutantra,FTSL,92.71,41.34,48.63\\nChristopher,SITHR,79.62,50.02,59.0\\nCucu Faridah,SITHR,61.25,15.9,37.47\\nHamas Mujahid A,SITHR,88.71,35.74,37.06\\nAndina Candra Prasasti,FMIPA,53.22,55.26,56.8\\nAvip Noor Yulian,FTI,73.28,50.81,63.19\\nAbdurrahim Majid El Yumin,SITHS,56.42,41.46,51.64\\nRaden Mas Luthfi Wisnuwardhana,FITB,74.96,59.41,71.53\\nSanny Hafidhoh S N,FMIPA,61.02,44.56,54.61\\nRilis Eka Perkasa,FTI,76.47,46.82,64.43\\nRai Satria Nurrahman,FMIPA,59.89,50.33,62.71\\nCicilia Sri Bintang Lestari,SAPPK,74.49,33.81,51.99\\nAtika Nurani,FTMD,84.21,51.12,66.09\\nKefas Jeremiah Wiryadi,STEI,68.19,49.55,61.18\\nUjang Purnama,FTSL,92.66,43.57,48.67\\nLinea Alfa Arina,FTI,77.12,56.33,69.79\\nArdi Mohamad,FTSL,50.36,34.75,34.41\\nVianka Hardi,FTI,70.75,34.68,50.65\\nSamuel Adelwin Mulia,FTSL,48.86,34.82,35.15\\nSellma Muazarah,FTTM,76.29,54.44,59.13\\nMuhammad Devanda,STEI,74.26,55.27,60.92\\nMohammad Arif Shalihuddin,FTI,62.68,55.55,54.38\\nHammas Hamzah Kuddah,FTSL,56.34,56.2,63.84\\nMuhammad Nur Azmi,SAPPK,73.83,55.85,61.13\\nKridiona Lofty Alimin,SITHS,98.5,45.01,45.76\\nDewantara Putra,FTI,75.29,59.88,63.73\\nArasyan Albar,FTMD,68.7,39.59,44.63\\nRizka Dewi Intani,FTSL,53.95,63.16,73.26\\nNadiya Azkanisa,FTMD,52.96,31.15,54.31\\nReinhardt Graciano,FTSL,77.02,48.13,64.63\\nFajar Andy Setyawan,FTI,58.89,42.96,50.0\\nRadityo Efriza,FTMD,80.77,56.65,58.09\\nDwiky Himawan Prabowo,FITB,63.79,25.9,48.72\\nSevina Putri Mahenda,STEI,87.3,39.56,48.56\\nZahra Azhalia,FMIPA,84.3,49.48,50.19\\nChristine Katiga,SITHS,62.68,31.37,26.34\\nNadya Febiani,SITHR,76.85,55.25,50.32\\nAmie Sanyoto,FTI,68.69,64.36,69.2\\nDeka Noviana,FITB,71.04,50.0,72.58\\nMuhammad Rausyan Fikri,SAPPK,79.72,56.26,52.13\\nWahyudimas Hutama Rachman Syar,FMIPA,71.65,44.42,58.12\\nAchmad Miftahul Ulum,FMIPA,53.46,41.05,39.6\\nIqro Dewantoro,FMIPA,80.41,40.38,45.18\\nJohanes Tanir,FTSL,72.38,53.65,60.04\\nMekaputra Yudahandika,STEI,98.22,47.74,52.37\\nGabriella Christyani,FTMD,61.26,31.64,37.85\\nAyu Winarni Lanjani,FTSL,39.94,53.61,53.39\\nWinda Wijayasari,FTSL,55.5,33.59,50.55\\nMuhammad Fadhli Zilikram,FTMD,75.22,51.14,57.39\\nGilang Awan Yudhistira,FTTM,91.29,53.41,53.91\\nRafael Martino,FTI,71.38,36.79,39.69\\nI Nyoman Surya Bayu Wisesa,STEI,51.17,32.43,41.14\\nHazim Muhammad Zarkasyi Hakim,FTMD,64.85,62.56,79.7\\nReksy Indra Rakasiwie,FTI,97.23,40.42,45.27\\nAsrini Chrysanti,FTSL,74.56,19.48,19.83\\nSiti Rohani,FTMD,67.09,58.66,71.21\\nSasha Fauziah Quarmita,FTI,83.54,41.71,51.57\\nMerdyanto,FTMD,68.06,41.14,49.8\\nFadlin Qisthi Nasution,SITHS,63.32,45.6,42.02\\nIdfi Ashari Ramadhan,FTMD,64.3,38.05,46.28\\nYeyen Angraeni,FITB,87.94,68.57,79.48\\nAhmad Zammir Ribah,FTI,40.49,56.61,51.52\\nKurniawan,FITB,59.74,54.27,52.59\\nNetty Paramita Pulungan,SITHR,83.32,24.81,22.9\\nChandra Goldie Aulia,FTTM,75.89,49.97,69.36\\nGiofanny Chintia Rahmi,FTSL,74.13,63.61,66.17\\nFiqri Rahadi Muhammad,FTSL,59.51,45.69,61.02\\nOsella Simen,STEI,76.95,52.95,62.38\\nTirta Wening Rachman,STEI,76.47,33.77,40.65\\nAdrian Rifqi,FTTM,95.43,57.66,54.6\\nMustika Nurul Ulma,STEI,100.0,37.72,40.86\\nFaiz Eckmal Philarette,STEI,92.71,37.09,47.55\\nAstryd Viandila Dahlan,FTI,71.67,44.95,59.16\\nEmirza Faisal Dahlan,SITHS,72.59,14.19,12.94\\nAndeli Monika Wulansari,FTSL,77.12,62.77,62.02\\nAghnia Marsha Dzaky,FMIPA,74.34,37.97,49.15\\nAzman Azka,STEI,67.42,63.85,73.78\\nRandhy Novawijaya,SAPPK,54.8,57.12,74.86\\nIrvan Risdi Dwiputra,STEI,77.58,17.29,31.84\\nNathania Martha Napitupulu,FTMD,56.59,28.1,32.02\\nRaihan Maududi Ismail Sidik,FTTM,74.28,24.73,31.67\\nAlifa Nurani Putri,FTTM,71.08,42.4,48.92\\nMhd Akbar Anthony Siregar,STEI,90.34,56.24,58.86\\nMohammad Mersa Bayu Wibisono,SITHR,90.08,43.77,58.93\\nNdaru Anggit Wicaksono,FTI,56.24,52.77,45.39\\nYosefin Retno Anggraeni,FTSL,90.78,29.73,43.57\\nMuhammad Taufik Hidayat,FTMD,77.81,56.01,65.91\\nAndhiki Supono,FTMD,100.0,42.72,46.56\\nAndreas Ferry,STEI,69.11,58.92,59.57\\nAsih Suryati,SITHS,73.76,25.32,37.8\\nKautsar Hanief Fitriansyah,SITHR,70.2,54.43,60.76\\nAgi Hagata Ginting,FTI,66.19,38.39,54.05\\nDeri Andika Bangun,FTSL,89.07,23.82,26.31\\nDwi Syaftina Luvitasari,FTTM,70.74,39.41,50.91\\nRahmat Zaldi Hidayat,SAPPK,56.62,60.45,62.39\\nMuchlis Munawar,STEI,51.2,28.73,41.73\\nSamuel Grady,FTI,50.64,40.91,49.79\\nGuruh Permono Aji,STEI,54.75,60.53,55.68\\nNi Putu Radha Naraswari,STEI,66.2,39.19,50.1\\nKevin Mangaraja,FTI,78.07,30.74,39.39\\nJuan Josua Vandendungan,FTSL,65.2,49.27,65.98\\nPidi Miandra,FTI,71.27,52.66,56.8\\nOgie Novrian Z,SITHR,51.52,35.99,55.22\\nNovaris Nur Himawan,FTI,68.97,62.88,70.33\\nAndry Pahala M S,SITHR,57.87,46.21,47.43\\nRima Kurnia Putri,FTI,70.67,37.25,49.92\\nRendy Silva Renata,FTI,79.05,39.83,53.41\\nDoandy Yonathan Wibisono,FMIPA,59.62,28.01,40.88\\nJedidiah Wahana,FMIPA,66.02,49.42,69.64\\nAchmad Faris,FITB,61.45,57.52,62.09\\nDenny,FMIPA,79.09,52.05,61.19\\nMuhammad Farhan Kemal,FTMD,70.1,44.21,50.9\\nAan Febrianto,FTMD,86.18,51.39,71.37\\nGlorianna Chrysilla,FTTM,76.29,48.83,61.94\\nAnindya Putri Melati,FTI,82.12,51.12,54.79\\nMuhammad Ilham Bayquni,FTMD,78.8,54.38,61.83\\nYessica,FTMD,94.31,44.79,47.75\\nHenry,STEI,55.0,25.32,39.44\\nRendy Noor Chandra,SITHS,80.43,32.28,40.39\\nSarita Larasati,FITB,71.71,29.93,39.27\\nAkwila Elmer B B,STEI,97.57,45.95,53.85\\nRaymond Suryajaya,FTTM,70.51,34.66,47.2\\nAfrizal Dwi Putranto,STEI,70.96,40.54,45.65\\nSuyanti Hersanto,FMIPA,78.4,21.3,38.14\\nGufta Alvian Irsyada,FTTM,68.24,60.51,63.92\\nAdellia Debyane Lontoh,FTTM,67.04,58.93,63.07\\nIndah Inayati,SITHS,53.17,37.52,51.06\\nFaqih Alfaruq,FTI,62.71,30.07,40.71\\nDwi Purwaningsih,STEI,62.33,35.14,55.58\\nDavid Ryan Hasiholan Purba,FITB,78.1,31.68,41.96\\nSahilaushafnur Rosyadi,SAPPK,87.04,51.37,59.52\\nKhairunnisa Nurul Hanifah,FTTM,47.37,58.59,65.7\\nNur Safitri Rusiwardani,FTMD,67.09,59.04,67.29\\nRoya Suffah Zain,FITB,71.36,29.56,39.7\\nMuhammad Yusron Asyrofi,FTI,57.14,57.26,63.83\\nAscariena Rafinda,FITB,95.03,53.15,64.84\\nKomang Yogatama Widhiyanto,FTTM,75.7,40.45,55.03\\nNayef,SITHS,59.43,31.8,36.06\\nRien Nisa,FTSL,76.48,36.65,44.85\\nSebastian Tommi Tandar,SAPPK,65.74,32.49,52.35\\nElva Markolina,FTTM,80.54,44.13,44.59\\nShazia Nabilla,STEI,59.99,47.29,37.9\\nHanina Liddini Hanifa,FTMD,88.18,39.04,56.12\\nZaenal Arifin,FTTM,96.51,41.2,59.04\\nAmbolas M J Manalu,FTI,62.81,42.68,52.35\\nDrianka Mahdy Adimas,FTMD,82.31,44.09,45.75\\nSigit Prakarsa Utomo,FTMD,43.02,54.14,64.95\\nNuriffa Sekar Rosania,FTSL,81.58,36.94,55.0\\nZahra Muthi Fadhillah,SITHR,60.21,40.45,39.4\\nMuhammad Ibadurrahman,FTI,54.41,29.62,35.87\\nKurnia Permadi,FTI,75.22,51.99,69.77\\nFitri Selva Maryani,FTMD,58.25,46.84,51.88\\nMohammad Khoyrul Hidayat,SITHR,53.53,37.98,47.94\\nVivi Christy Astanto,SAPPK,69.37,57.51,66.27\\nAdhitya Ramadhanus,FMIPA,77.55,53.61,54.03\\nDwi Suciwahyuni,FTMD,67.92,50.99,67.04\\nTaufik Akbar Abdullah,FTTM,64.48,48.23,61.8\\nIrvan Wira Trihadi Geofary,FMIPA,62.85,34.17,45.96\\nAdrico Jihad Muslim,FTTM,62.64,53.33,54.41\\nNafisa Meisa Iskandar,FTTM,64.28,59.48,85.59\\nMuhammad Fadli Faiz,STEI,79.2,42.42,51.62\\nDian Tanuwijaya,FTTM,94.44,54.92,76.46\\nGo Felix,FTI,69.36,28.49,27.8\\nKenia Permata Sukma,SAPPK,83.81,43.88,52.71\\nBagoes M Inderaja,FTI,75.58,53.35,47.6\\nJonatan Halim,FTI,91.87,40.41,52.96\\nAnggita Cremonandra Elfani,STEI,72.96,70.77,73.38\\nGiovanni Permata Dewi,FTTM,86.0,48.58,58.95\\nAndera Dwi Febrianti,FTI,69.86,46.59,66.47\\nAhmad Yusya Sadali,FTI,68.15,43.18,61.5\\nGenialita Fadhilla,FTI,72.24,37.06,36.58\\nYuliane Monic Nila Putri,FTI,97.39,34.09,38.63\\nYusuf Alfyan Praditya,SAPPK,87.81,39.08,48.77\\nRico Valentino,FTI,65.53,60.22,61.37\\nPradipta Prayoga Nugraha,FTI,65.16,45.01,45.94\\nChristian Hermawan,FITB,55.62,45.37,61.14\\nDARDA FIZARI,SAPPK,70.88,45.46,58.44\\nIndra Gunawan,STEI,69.77,53.27,57.5\\nRyan Pradinata,FTI,67.5,27.87,25.97\\nAbdul Majid Al Kholish,FTMD,32.56,40.49,54.12\\nCitra Indra Pradita,FMIPA,71.36,19.36,34.75\\nIrlangga Belly Raka Setiawan,STEI,69.07,30.63,33.48\\nBunga Karnisa Goib,FTI,68.2,49.81,52.67\\nFirmanilla Narita Kusuma,FTI,55.56,55.05,66.43\\nQuinnzon Radyatmadja,SAPPK,44.41,60.75,64.69\\nRicky,STEI,73.81,40.0,45.36\\nFarida Wahyuni,FMIPA,75.98,67.32,60.51\\nAnthony,FTI,50.35,49.85,56.07\\nAnantama Kurnia Buana,STEI,62.16,23.3,25.72\\nWendy William,FTI,73.1,27.26,46.03\\nPriska Kristanti R,FTI,59.37,48.09,47.21\\nFandy Valentino,FMIPA,100.0,31.46,34.2\\nFaldi Ahmad Nugraha,STEI,76.09,43.95,53.88\\nNatasha Agustin Ikhsan,FTMD,81.71,49.25,61.55\\nFirman Syarief Hidayat,FTTM,74.71,22.49,29.68\\nLucia Budiyani H,SAPPK,66.98,58.48,67.53\\nRio Oktavianus,SAPPK,72.75,56.27,61.83\\nKevin Alfianto Jangtjik,FTSL,55.4,43.87,54.9\\nM Wildani Alvin Aftony,FMIPA,70.54,34.51,37.06\\nFauziyah Nurul Aini,FTSL,100.0,53.2,64.54\\nPutri Ariin Wulandari,SITHS,87.98,53.15,57.98\\nAyu Dewi Permatasari,SITHR,58.43,39.17,30.78\\nWinaldi Agustianto,FTSL,72.35,34.21,51.72\\nAngga Hidayattulloh,FTTM,89.28,36.45,39.58\\nAlbertus Anugerah Pekerti,SAPPK,73.5,48.81,59.74\\nMartini Safitri,FTSL,74.78,30.29,44.16\\nRizkyanto Nugroho,FITB,82.54,30.42,44.63\\nErick Chandra,FTMD,65.88,72.55,80.71\\nYusnur Rainday Ahmad,STEI,73.38,24.07,42.16\\nKevin Hanafi,FTI,53.34,35.17,45.92\\nMirna Nurfitriani,FTI,95.23,39.14,42.23\\nHabib Mailul Afif,FTSL,54.22,44.04,47.02\\nYogi Septefa Nuris,FTMD,77.0,44.81,51.37\\nIrka Wijaya,STEI,65.18,30.92,43.94\\nMaju Sumanto,STEI,95.31,46.04,50.91\\nGiba Yuliana Itontha Hutabarat,FTSL,85.57,53.43,66.52\\nRozana Oktaviary,STEI,65.54,47.08,55.63\\nAnggita Clara Shinta,FTSL,62.29,42.23,50.72\\nDeni Tri Juniadi,SITHR,77.03,40.34,57.43\\nDedi Hermawan,FMIPA,66.58,44.25,48.79\\nYonas Dwiananta Yuwono,FMIPA,60.63,50.81,59.1\\nArsi Asrina,FTSL,59.25,59.02,69.96\\nTri Indriyani,SITHR,78.87,46.36,59.85\\nAchmad Raihan,SITHR,56.81,47.04,65.96\\nInga Shaffira Rubani,FTSL,59.31,20.65,37.26\\nRuben Adicahya,FTTM,57.48,58.97,61.94\\nClara Jesselyn Handoko,FMIPA,71.99,40.02,48.73\\nFachry Nugraha,FMIPA,67.83,45.44,42.23\\nRiris Ayu Wulandari,FTI,91.3,55.45,59.49\\nArchie Citra Muhammad,FTTM,66.98,36.71,47.01\\nAlfonso Ceisar Krisman,FMIPA,68.82,50.06,66.71\\nSandy Gunawan Tanuwijaya,FTTM,54.95,36.56,41.78\\nAdam Nurilman Dwikadartomo,FTSL,84.91,39.72,42.86\\nWildan Syahrun Nahar,SITHR,81.29,45.33,54.34\\nFadil Alhamdi,FMIPA,75.53,48.38,42.07\\nAlyssa Nadhira Windari,FTMD,78.38,78.83,78.68\\nDanang Prasojo,FTSL,81.27,43.78,43.38\\nMuhammad Hakim Akbar,STEI,70.49,32.02,38.77\\nNathania Anandra Purba,FMIPA,77.01,39.54,37.81\\nJeremiah Sembiring,SITHS,59.42,47.92,70.19\\nIqbal Adam,SAPPK,74.25,44.31,47.86\\nNadia Rizky Vindiazhari,FTSL,76.45,47.73,61.26\\nZagita Heryani Putri,FTMD,94.84,47.79,53.07\\nFadhilatunnisa Nurhadiza,SITHS,64.04,69.75,69.22\\nMohammad Luthfan J Dahnoer,STEI,70.78,66.84,72.23\\nWisya Aulia Prayudi,FTSL,54.58,36.49,54.81\\nFat-hul Asrar Al Fansuri,FTSL,64.86,50.77,55.83\\nFaizah Khoirunnisaa,FTSL,68.63,35.07,39.3\\nNovita Geraldine Togatorop,FTMD,72.62,40.23,42.14\\nAndika Wirayudha,FTI,81.31,50.53,58.93\\nFikri Abdul Azis,FTTM,79.51,35.16,55.96\\nTania Febriani Halim,STEI,59.01,45.63,44.34\\nMonica Widjaja,FTSL,68.33,40.53,45.08\\nHilman Syahri Fathoni,SAPPK,48.93,40.64,38.89\\nAfif Syammary,FTI,64.15,32.86,46.15\\nAdila Muthi Yasyfa Taufik,FTMD,68.99,47.02,52.05\\nEric Dwi Novianto,FMIPA,90.93,41.5,43.62\\nFajar Achmad Rifai,FTTM,84.07,60.47,69.02\\nElvina Oktaviani,FTI,96.21,51.67,66.17\\nBarkah Muharam,FTMD,71.19,41.32,37.22\\nWidya Larasati,STEI,70.73,30.26,47.68\\nRahmat Muttaqin,FTMD,68.39,34.53,38.59\\nTry Haryo Pratama,FTI,91.03,29.69,42.1\\nAulia Rahim Nugrahani,FTMD,87.3,37.26,56.26\\nRaden Irfan Ismail,FTI,63.92,38.82,42.63\\nSelly Amanda,STEI,72.87,57.46,67.24\\nRicky Iqbal Syahrudin,STEI,78.28,34.9,30.81\\nDevina Febriani Agung,FTI,78.28,27.77,43.04\\nHadi Parmana,SITHR,63.24,30.93,32.9\\nWiratama Gandhi Rimbawan,FTTM,63.31,56.38,67.07\\nEli Firmando Simbolon,FTMD,68.42,42.85,53.48\\nMuhtar Hartopo,FTI,58.48,46.22,49.21\\nIKHLAS,SAPPK,74.71,46.77,56.14\\nTresna Aglis Salawasna,FMIPA,85.85,38.35,45.94\\nLutfi Achmad Hanafi,FMIPA,81.61,14.92,28.23\\nMuchammad Nadzar Rizqi R,STEI,81.78,51.76,66.63\\nJesica Christianty,FTTM,97.32,55.23,66.74\\nVania Evadewi,FTI,54.82,38.6,40.01\\nRaindes Ikag Mahendra,FTTM,53.88,30.63,40.77\\nReza Amarosa,FMIPA,72.25,37.68,50.22\\nAulia Arfida Paramita,FITB,55.34,41.06,53.45\\nFarhad Hamid Bayagub,FTSL,50.04,30.47,33.67\\nAulia Mahiranissa,FTTM,81.38,35.72,46.05\\nRafael Alvin Irawan,FTSL,79.47,48.79,55.35\\nRaihan Ramansya Judawisastra,FTSL,88.23,36.12,53.16\\nYosakim Poniman,FTI,61.53,36.44,47.04\\nAbidin Novia,FTSL,80.08,45.46,42.34\\nDionisius Baren Diafan,FMIPA,70.99,34.39,33.35\\nNaomi Padma Siwi,FMIPA,54.54,54.08,71.06\\nHaidar,FTI,68.25,33.42,55.2\\nVinsensius,SITHR,90.87,46.74,46.47\\nSabilillah Nurkalista,STEI,64.45,42.66,59.97\\nAmelia Annisa E,FTMD,71.89,45.01,59.11\\nSafira Tyas Parasdya,STEI,53.34,36.19,35.6\\nMirhady Achmad Dorodjatun,FTTM,70.21,43.89,50.73\\nFaisal Rahmananda,SAPPK,76.79,42.44,63.04\\nReyner Akira,FTI,55.74,41.06,51.54\\nIzaz Arrafi,FTSL,60.73,45.82,57.62\\nLili Melani,FTI,54.19,69.42,69.81\\nRaudina Rachmi,FTSL,67.53,37.6,44.7\\nEdi Suprapto,STEI,74.47,31.95,51.19\\nAgustine Christela Melviana,STEI,84.13,32.34,47.96\\nFaikar Fadhlul Muhshi,FMIPA,46.0,40.2,47.72\\nSheryn Julianti,FTTM,70.09,63.47,63.94\\nDevan Tri Wirawan,FMIPA,55.36,45.61,54.2\\nNadia Nathasya Fitri,FTI,76.48,52.44,54.58\\nMoza Adidharma,STEI,71.05,64.75,69.96\\nAmalia Lupitasari,FTSL,79.08,52.89,56.4\\nMutiara Nuraini Putri,FTI,94.09,50.37,51.95\\nFranmuda Agung,FTI,70.3,44.28,50.57\\nReza Andhika Permana,FITB,69.68,45.83,51.32\\nFantoni Dwi Putra,FITB,44.16,47.76,41.25\\nAlfian Fernandhika,FMIPA,63.22,36.98,42.79\\nDara Nydia,STEI,62.31,43.77,59.48\\nAji Suryo Wibowo,FTI,78.48,20.95,35.3\\nAnisa Salsabilla,FTI,96.56,33.75,48.68\\nArdian Indra Gunawan,FTTM,78.19,41.19,52.34\\nGladys Tiffany Jaya,FITB,61.84,39.08,43.46\\nAtas Hasibuan,FTMD,59.17,34.36,40.06\\nIlham Heru Pratama Munasli,FMIPA,65.35,31.38,46.54\\nRebeka Naibaho,FTTM,72.67,53.81,63.77\\nBill Raziq Wadana,STEI,73.48,63.78,65.84\\nMuhammad Nashrul Malik,FITB,54.82,36.52,50.37\\nMuhamad Mufri Juddin Addul Azi,SITHR,64.13,43.76,48.14\\nAstra Goldie Aulia,FMIPA,64.78,41.26,35.18\\nI Gede Bagus Eka Suputra Wigun,FTMD,75.22,42.04,48.92\\nAudi Rifqi,FMIPA,68.66,40.62,36.35\\nMiftah Hidayat,SITHR,66.56,39.61,52.42\\nNadya Bella Sophia,FMIPA,76.04,57.79,54.15\\nJihan Nisa Al Iffah,STEI,69.52,32.74,48.62\\nRisma Safitri,FTSL,50.61,46.71,56.13\\nIra Carella,FMIPA,68.66,48.25,53.49\\nElisabeth Novi Christianti,FTMD,73.96,51.3,43.65\\nReynaldi Tanta Paribo,FITB,55.04,24.79,25.92\\nMahendra Drajat Adhinata,FTSL,66.93,47.09,61.39\\nStephen Andronicus Yanto,FMIPA,76.25,28.28,33.7\\nAlfi Hadi Firdaus,FTTM,59.94,32.39,37.79\\nAzmi Azizah,SAPPK,79.79,75.23,82.78\\nOdilia Rizky Callista,FTI,88.88,37.64,45.77\\nEzar Ezra,STEI,71.1,48.0,53.84\\nJhon Victor Siahaan,FMIPA,42.6,49.84,59.5\\nNindy Risma Aryani,FTSL,63.72,47.5,53.13\\nOswin Bustari P,FMIPA,75.72,35.49,52.48\\nAlfin Revanov,FTTM,76.42,51.3,58.97\\nJulius Lieonar,FTTM,85.21,65.51,70.07\\nIrianti Bahana M R,FTSL,75.6,59.87,66.44\\nMelda Magiafitri,FITB,60.67,28.14,41.28\\nAdrys A S Silaban,SAPPK,74.29,55.16,57.72\\nDhiya Fajri Sadida,STEI,49.56,55.39,68.07\\nMazaya Nabila Haryasena,SITHS,71.19,56.49,67.58\\nCarolina Elvi,SITHS,97.54,41.66,51.51\\nThifali Adzani,FITB,71.12,32.09,42.57\\nMuthia Gassani Verdianti,STEI,77.97,46.33,61.08\\nAbdurrahman Gafur,FTMD,68.83,40.2,57.52\\nFarah Rizka Rahmatia,FMIPA,55.7,75.77,74.0\\nSabrina Cita Verawaty Purba,FTSL,72.98,42.69,65.91\\nOka Pradhita Priyangga,STEI,52.45,44.63,54.85\\nFathin Naufal,STEI,66.29,41.14,64.03\\nSiti Aisyah Nursyamsiyah,FTI,84.3,35.78,41.85\\nEvan Sebastian,FMIPA,57.46,50.0,57.85\\nAdisti Yonita Widiatami,FITB,78.2,23.85,39.89\\nFikri Wafi Irawan,FTMD,80.48,53.92,50.79\\nEvan Budianto,FTTM,66.09,60.01,64.26\\nPetranusa Sofihatma,STEI,84.86,36.3,45.57\\nAhmad Puji Ardi,SITHR,42.1,35.37,31.05\\nFeryandi Nurdiantoro,SITHR,60.01,49.66,53.78\\nIrfan Markus Riando Simamora,STEI,53.09,41.18,49.64\\nRizka Fauzia N A,FMIPA,74.08,51.46,47.69\\nCitra Kinasih Christianti,FITB,75.68,41.3,50.48\\nHabib Al Furqon,FTI,77.12,47.5,58.5\\nLukito Nur Wulandari,FTI,64.94,36.63,41.69\\nCitra Berliana Marcelina,FTMD,67.43,43.7,61.14\\nJati Wicaksono,FMIPA,56.74,35.04,48.61\\nHani Putri,FTI,92.05,30.62,35.32\\nIndra Gandawijaya,FTI,61.79,57.04,57.3\\nFirra Ghassani Gumilar,STEI,78.46,23.9,30.47\\nBagus Adimas Akbar,FTMD,70.3,54.22,78.04\\nYespin,FTI,74.89,30.74,43.85\\nKURNIA CANDRA UTAMA,FTSL,78.69,34.82,53.38\\nMuchtazar,SITHS,79.61,58.66,62.9\\nGalih Nanda Dewa,STEI,80.81,35.76,44.51\\nWilly Wiwiek Chandra,SAPPK,92.6,49.0,62.89\\nDian Perkasa,STEI,78.45,38.79,40.91\\nTyffani Meirnadias,STEI,61.78,39.44,57.59\\nAdithya Prabowo,FMIPA,69.73,51.83,66.14\\nMutawakil Al Muqadasi,FMIPA,69.9,52.45,65.73\\nM Bagus Dwipayana,STEI,58.65,68.41,80.69\\nArief Hadi Pradana,STEI,69.05,36.45,48.61\\nIskandar Zulkarnain,STEI,53.94,20.88,33.43\\nKrisponda,FTTM,69.53,41.76,49.08\\nJoshua Krisekaputra,STEI,77.72,28.15,35.92\\nGilang Ayyoubi Hartanto,FITB,88.9,35.29,47.58\\nWilly,FTSL,59.51,64.2,64.57\\nPoetra Ari Setiawan,STEI,74.19,68.0,71.56\\nCytta Anindita Priyanto,STEI,58.8,24.89,41.6\\nHani Fadhilah N L,STEI,84.19,45.33,49.35\\nAlessandro Anom Raynanta Aldy,SITHS,76.16,43.66,50.65\\nYossua Nathan,FTSL,56.6,59.19,64.17\\nRasmita Yulia Mutiarasari,FTI,79.76,47.28,57.73\\nNurul Rahma Kurnia Sari,FMIPA,80.0,48.26,57.37\\nM Ikromil Amrillah,FITB,78.72,30.31,43.91\\nNovita Wahyuni,STEI,45.23,28.35,37.38\\nKartika Pratiwi,STEI,72.9,58.95,70.25\\nSteven Candra,STEI,58.53,52.57,67.47\\nDanang Driyartono,FTMD,70.62,43.13,52.26\\nRifki Wahyu Kurnianto,FMIPA,81.35,29.28,39.76\\nMade Lana Mahendra,FTTM,51.56,27.95,41.18\\nRaymond Tanumiharja,SITHR,58.39,43.3,42.11\\nAraaf Dinullah Recta,FITB,53.97,33.47,29.78\\nAnanda Fitri Pratiwi,SITHR,76.3,54.78,63.44\\nKevin Tigor,FTSL,84.47,56.13,54.72\\nMirza Dian Rifaldi,SITHR,62.51,59.61,72.85\\nAmanda Farica Ajiwibowo,FTSL,69.09,37.54,43.34\\nHaikal,FTMD,55.16,46.77,58.86\\nEko Widianto,FTSL,81.46,44.62,40.96\\nMaratush Sholihah,FTI,53.56,47.87,54.07\\nMesa Gustya Siti Ulfiana,FTI,73.58,65.89,72.24\\nDeni Setiawan,STEI,76.78,68.54,82.87\\nRidho Muhammad Akbar,SITHR,81.78,35.5,41.94\\nRay Ozma,SITHR,63.22,42.4,51.72\\nKerry Addelina,FITB,57.52,50.63,47.25\\nMuhammad Yusuf Afandi,FTSL,50.8,61.73,68.62\\nHarits Fathin,STEI,73.59,38.82,43.89\\nDharmawan Raharjo,STEI,42.16,42.15,52.73\\nSiti Vivi Octaviany,FMIPA,72.85,64.49,69.56\\nAstrid Felicia Rumintjap,FITB,50.43,45.27,60.43\\nPrama Aditya Putra,FTI,82.75,28.87,44.88\\nSeshana Junisa Aviananda,FTTM,81.11,34.82,24.48\\nDhimas Bayu Anindito,FITB,66.43,55.0,65.18\\nAnnisa Rachmanita,FTSL,63.11,51.61,55.12\\nSanchia Arindhita,SITHR,58.59,35.62,50.99\\nKhoirrashif,SITHR,66.14,46.82,56.74\\nJefri Hendri Adriano,FTSL,53.68,34.74,33.76\\nIki Hidayat,FITB,69.63,35.04,37.65\\nMuhammad Nashir Sitompul,FTI,79.69,39.06,50.17\\nBilly Richardo Sagala,STEI,68.68,51.23,66.18\\n'}"
            ]
          },
          "metadata": {},
          "execution_count": 48
        }
      ],
      "source": [
        "from google.colab import files\n",
        "df = files.upload()\n",
        "df"
      ]
    },
    {
      "cell_type": "markdown",
      "metadata": {
        "id": "uGDjfJu-HNQ4"
      },
      "source": [
        "Membaca dan menulis data"
      ]
    },
    {
      "cell_type": "markdown",
      "metadata": {
        "id": "3QWBRNrsHNQ8"
      },
      "source": [
        "**[Membaca dataset CSV](https://)**"
      ]
    },
    {
      "cell_type": "code",
      "source": [
        "df = pd.read_csv('/content/H05.csv')\n",
        "df"
      ],
      "metadata": {
        "colab": {
          "base_uri": "https://localhost:8080/",
          "height": 424
        },
        "id": "HnyyQYP4PUKd",
        "outputId": "b3e73033-6511-4f86-9ee2-0a130a8c6df7"
      },
      "execution_count": 49,
      "outputs": [
        {
          "output_type": "execute_result",
          "data": {
            "text/plain": [
              "                          nama fakultas  nilai_mat  nilai_kim  nilai_fis\n",
              "0         Farhan Fathur Rahman    FMIPA      57.21      34.14      38.93\n",
              "1               Steven Margono    FMIPA      67.43      51.50      57.20\n",
              "2                 Ryan Sentosa    SAPPK      90.62      37.38      40.73\n",
              "3         Muhajah Babny Muslim    FMIPA      72.31      38.80      44.79\n",
              "4             Alvin Natawiguna     FTSL      65.45      57.67      56.39\n",
              "...                        ...      ...        ...        ...        ...\n",
              "5130               Khoirrashif    SITHR      66.14      46.82      56.74\n",
              "5131      Jefri Hendri Adriano     FTSL      53.68      34.74      33.76\n",
              "5132               Iki Hidayat     FITB      69.63      35.04      37.65\n",
              "5133  Muhammad Nashir Sitompul      FTI      79.69      39.06      50.17\n",
              "5134     Billy Richardo Sagala     STEI      68.68      51.23      66.18\n",
              "\n",
              "[5135 rows x 5 columns]"
            ],
            "text/html": [
              "\n",
              "  <div id=\"df-b1ccf2d1-4498-4f5a-9316-8b6bac7ea812\" class=\"colab-df-container\">\n",
              "    <div>\n",
              "<style scoped>\n",
              "    .dataframe tbody tr th:only-of-type {\n",
              "        vertical-align: middle;\n",
              "    }\n",
              "\n",
              "    .dataframe tbody tr th {\n",
              "        vertical-align: top;\n",
              "    }\n",
              "\n",
              "    .dataframe thead th {\n",
              "        text-align: right;\n",
              "    }\n",
              "</style>\n",
              "<table border=\"1\" class=\"dataframe\">\n",
              "  <thead>\n",
              "    <tr style=\"text-align: right;\">\n",
              "      <th></th>\n",
              "      <th>nama</th>\n",
              "      <th>fakultas</th>\n",
              "      <th>nilai_mat</th>\n",
              "      <th>nilai_kim</th>\n",
              "      <th>nilai_fis</th>\n",
              "    </tr>\n",
              "  </thead>\n",
              "  <tbody>\n",
              "    <tr>\n",
              "      <th>0</th>\n",
              "      <td>Farhan Fathur Rahman</td>\n",
              "      <td>FMIPA</td>\n",
              "      <td>57.21</td>\n",
              "      <td>34.14</td>\n",
              "      <td>38.93</td>\n",
              "    </tr>\n",
              "    <tr>\n",
              "      <th>1</th>\n",
              "      <td>Steven Margono</td>\n",
              "      <td>FMIPA</td>\n",
              "      <td>67.43</td>\n",
              "      <td>51.50</td>\n",
              "      <td>57.20</td>\n",
              "    </tr>\n",
              "    <tr>\n",
              "      <th>2</th>\n",
              "      <td>Ryan Sentosa</td>\n",
              "      <td>SAPPK</td>\n",
              "      <td>90.62</td>\n",
              "      <td>37.38</td>\n",
              "      <td>40.73</td>\n",
              "    </tr>\n",
              "    <tr>\n",
              "      <th>3</th>\n",
              "      <td>Muhajah Babny Muslim</td>\n",
              "      <td>FMIPA</td>\n",
              "      <td>72.31</td>\n",
              "      <td>38.80</td>\n",
              "      <td>44.79</td>\n",
              "    </tr>\n",
              "    <tr>\n",
              "      <th>4</th>\n",
              "      <td>Alvin Natawiguna</td>\n",
              "      <td>FTSL</td>\n",
              "      <td>65.45</td>\n",
              "      <td>57.67</td>\n",
              "      <td>56.39</td>\n",
              "    </tr>\n",
              "    <tr>\n",
              "      <th>...</th>\n",
              "      <td>...</td>\n",
              "      <td>...</td>\n",
              "      <td>...</td>\n",
              "      <td>...</td>\n",
              "      <td>...</td>\n",
              "    </tr>\n",
              "    <tr>\n",
              "      <th>5130</th>\n",
              "      <td>Khoirrashif</td>\n",
              "      <td>SITHR</td>\n",
              "      <td>66.14</td>\n",
              "      <td>46.82</td>\n",
              "      <td>56.74</td>\n",
              "    </tr>\n",
              "    <tr>\n",
              "      <th>5131</th>\n",
              "      <td>Jefri Hendri Adriano</td>\n",
              "      <td>FTSL</td>\n",
              "      <td>53.68</td>\n",
              "      <td>34.74</td>\n",
              "      <td>33.76</td>\n",
              "    </tr>\n",
              "    <tr>\n",
              "      <th>5132</th>\n",
              "      <td>Iki Hidayat</td>\n",
              "      <td>FITB</td>\n",
              "      <td>69.63</td>\n",
              "      <td>35.04</td>\n",
              "      <td>37.65</td>\n",
              "    </tr>\n",
              "    <tr>\n",
              "      <th>5133</th>\n",
              "      <td>Muhammad Nashir Sitompul</td>\n",
              "      <td>FTI</td>\n",
              "      <td>79.69</td>\n",
              "      <td>39.06</td>\n",
              "      <td>50.17</td>\n",
              "    </tr>\n",
              "    <tr>\n",
              "      <th>5134</th>\n",
              "      <td>Billy Richardo Sagala</td>\n",
              "      <td>STEI</td>\n",
              "      <td>68.68</td>\n",
              "      <td>51.23</td>\n",
              "      <td>66.18</td>\n",
              "    </tr>\n",
              "  </tbody>\n",
              "</table>\n",
              "<p>5135 rows × 5 columns</p>\n",
              "</div>\n",
              "    <div class=\"colab-df-buttons\">\n",
              "\n",
              "  <div class=\"colab-df-container\">\n",
              "    <button class=\"colab-df-convert\" onclick=\"convertToInteractive('df-b1ccf2d1-4498-4f5a-9316-8b6bac7ea812')\"\n",
              "            title=\"Convert this dataframe to an interactive table.\"\n",
              "            style=\"display:none;\">\n",
              "\n",
              "  <svg xmlns=\"http://www.w3.org/2000/svg\" height=\"24px\" viewBox=\"0 -960 960 960\">\n",
              "    <path d=\"M120-120v-720h720v720H120Zm60-500h600v-160H180v160Zm220 220h160v-160H400v160Zm0 220h160v-160H400v160ZM180-400h160v-160H180v160Zm440 0h160v-160H620v160ZM180-180h160v-160H180v160Zm440 0h160v-160H620v160Z\"/>\n",
              "  </svg>\n",
              "    </button>\n",
              "\n",
              "  <style>\n",
              "    .colab-df-container {\n",
              "      display:flex;\n",
              "      gap: 12px;\n",
              "    }\n",
              "\n",
              "    .colab-df-convert {\n",
              "      background-color: #E8F0FE;\n",
              "      border: none;\n",
              "      border-radius: 50%;\n",
              "      cursor: pointer;\n",
              "      display: none;\n",
              "      fill: #1967D2;\n",
              "      height: 32px;\n",
              "      padding: 0 0 0 0;\n",
              "      width: 32px;\n",
              "    }\n",
              "\n",
              "    .colab-df-convert:hover {\n",
              "      background-color: #E2EBFA;\n",
              "      box-shadow: 0px 1px 2px rgba(60, 64, 67, 0.3), 0px 1px 3px 1px rgba(60, 64, 67, 0.15);\n",
              "      fill: #174EA6;\n",
              "    }\n",
              "\n",
              "    .colab-df-buttons div {\n",
              "      margin-bottom: 4px;\n",
              "    }\n",
              "\n",
              "    [theme=dark] .colab-df-convert {\n",
              "      background-color: #3B4455;\n",
              "      fill: #D2E3FC;\n",
              "    }\n",
              "\n",
              "    [theme=dark] .colab-df-convert:hover {\n",
              "      background-color: #434B5C;\n",
              "      box-shadow: 0px 1px 3px 1px rgba(0, 0, 0, 0.15);\n",
              "      filter: drop-shadow(0px 1px 2px rgba(0, 0, 0, 0.3));\n",
              "      fill: #FFFFFF;\n",
              "    }\n",
              "  </style>\n",
              "\n",
              "    <script>\n",
              "      const buttonEl =\n",
              "        document.querySelector('#df-b1ccf2d1-4498-4f5a-9316-8b6bac7ea812 button.colab-df-convert');\n",
              "      buttonEl.style.display =\n",
              "        google.colab.kernel.accessAllowed ? 'block' : 'none';\n",
              "\n",
              "      async function convertToInteractive(key) {\n",
              "        const element = document.querySelector('#df-b1ccf2d1-4498-4f5a-9316-8b6bac7ea812');\n",
              "        const dataTable =\n",
              "          await google.colab.kernel.invokeFunction('convertToInteractive',\n",
              "                                                    [key], {});\n",
              "        if (!dataTable) return;\n",
              "\n",
              "        const docLinkHtml = 'Like what you see? Visit the ' +\n",
              "          '<a target=\"_blank\" href=https://colab.research.google.com/notebooks/data_table.ipynb>data table notebook</a>'\n",
              "          + ' to learn more about interactive tables.';\n",
              "        element.innerHTML = '';\n",
              "        dataTable['output_type'] = 'display_data';\n",
              "        await google.colab.output.renderOutput(dataTable, element);\n",
              "        const docLink = document.createElement('div');\n",
              "        docLink.innerHTML = docLinkHtml;\n",
              "        element.appendChild(docLink);\n",
              "      }\n",
              "    </script>\n",
              "  </div>\n",
              "\n",
              "\n",
              "<div id=\"df-0492687c-eac1-4c82-851a-ebdac1c7c256\">\n",
              "  <button class=\"colab-df-quickchart\" onclick=\"quickchart('df-0492687c-eac1-4c82-851a-ebdac1c7c256')\"\n",
              "            title=\"Suggest charts\"\n",
              "            style=\"display:none;\">\n",
              "\n",
              "<svg xmlns=\"http://www.w3.org/2000/svg\" height=\"24px\"viewBox=\"0 0 24 24\"\n",
              "     width=\"24px\">\n",
              "    <g>\n",
              "        <path d=\"M19 3H5c-1.1 0-2 .9-2 2v14c0 1.1.9 2 2 2h14c1.1 0 2-.9 2-2V5c0-1.1-.9-2-2-2zM9 17H7v-7h2v7zm4 0h-2V7h2v10zm4 0h-2v-4h2v4z\"/>\n",
              "    </g>\n",
              "</svg>\n",
              "  </button>\n",
              "\n",
              "<style>\n",
              "  .colab-df-quickchart {\n",
              "      --bg-color: #E8F0FE;\n",
              "      --fill-color: #1967D2;\n",
              "      --hover-bg-color: #E2EBFA;\n",
              "      --hover-fill-color: #174EA6;\n",
              "      --disabled-fill-color: #AAA;\n",
              "      --disabled-bg-color: #DDD;\n",
              "  }\n",
              "\n",
              "  [theme=dark] .colab-df-quickchart {\n",
              "      --bg-color: #3B4455;\n",
              "      --fill-color: #D2E3FC;\n",
              "      --hover-bg-color: #434B5C;\n",
              "      --hover-fill-color: #FFFFFF;\n",
              "      --disabled-bg-color: #3B4455;\n",
              "      --disabled-fill-color: #666;\n",
              "  }\n",
              "\n",
              "  .colab-df-quickchart {\n",
              "    background-color: var(--bg-color);\n",
              "    border: none;\n",
              "    border-radius: 50%;\n",
              "    cursor: pointer;\n",
              "    display: none;\n",
              "    fill: var(--fill-color);\n",
              "    height: 32px;\n",
              "    padding: 0;\n",
              "    width: 32px;\n",
              "  }\n",
              "\n",
              "  .colab-df-quickchart:hover {\n",
              "    background-color: var(--hover-bg-color);\n",
              "    box-shadow: 0 1px 2px rgba(60, 64, 67, 0.3), 0 1px 3px 1px rgba(60, 64, 67, 0.15);\n",
              "    fill: var(--button-hover-fill-color);\n",
              "  }\n",
              "\n",
              "  .colab-df-quickchart-complete:disabled,\n",
              "  .colab-df-quickchart-complete:disabled:hover {\n",
              "    background-color: var(--disabled-bg-color);\n",
              "    fill: var(--disabled-fill-color);\n",
              "    box-shadow: none;\n",
              "  }\n",
              "\n",
              "  .colab-df-spinner {\n",
              "    border: 2px solid var(--fill-color);\n",
              "    border-color: transparent;\n",
              "    border-bottom-color: var(--fill-color);\n",
              "    animation:\n",
              "      spin 1s steps(1) infinite;\n",
              "  }\n",
              "\n",
              "  @keyframes spin {\n",
              "    0% {\n",
              "      border-color: transparent;\n",
              "      border-bottom-color: var(--fill-color);\n",
              "      border-left-color: var(--fill-color);\n",
              "    }\n",
              "    20% {\n",
              "      border-color: transparent;\n",
              "      border-left-color: var(--fill-color);\n",
              "      border-top-color: var(--fill-color);\n",
              "    }\n",
              "    30% {\n",
              "      border-color: transparent;\n",
              "      border-left-color: var(--fill-color);\n",
              "      border-top-color: var(--fill-color);\n",
              "      border-right-color: var(--fill-color);\n",
              "    }\n",
              "    40% {\n",
              "      border-color: transparent;\n",
              "      border-right-color: var(--fill-color);\n",
              "      border-top-color: var(--fill-color);\n",
              "    }\n",
              "    60% {\n",
              "      border-color: transparent;\n",
              "      border-right-color: var(--fill-color);\n",
              "    }\n",
              "    80% {\n",
              "      border-color: transparent;\n",
              "      border-right-color: var(--fill-color);\n",
              "      border-bottom-color: var(--fill-color);\n",
              "    }\n",
              "    90% {\n",
              "      border-color: transparent;\n",
              "      border-bottom-color: var(--fill-color);\n",
              "    }\n",
              "  }\n",
              "</style>\n",
              "\n",
              "  <script>\n",
              "    async function quickchart(key) {\n",
              "      const quickchartButtonEl =\n",
              "        document.querySelector('#' + key + ' button');\n",
              "      quickchartButtonEl.disabled = true;  // To prevent multiple clicks.\n",
              "      quickchartButtonEl.classList.add('colab-df-spinner');\n",
              "      try {\n",
              "        const charts = await google.colab.kernel.invokeFunction(\n",
              "            'suggestCharts', [key], {});\n",
              "      } catch (error) {\n",
              "        console.error('Error during call to suggestCharts:', error);\n",
              "      }\n",
              "      quickchartButtonEl.classList.remove('colab-df-spinner');\n",
              "      quickchartButtonEl.classList.add('colab-df-quickchart-complete');\n",
              "    }\n",
              "    (() => {\n",
              "      let quickchartButtonEl =\n",
              "        document.querySelector('#df-0492687c-eac1-4c82-851a-ebdac1c7c256 button');\n",
              "      quickchartButtonEl.style.display =\n",
              "        google.colab.kernel.accessAllowed ? 'block' : 'none';\n",
              "    })();\n",
              "  </script>\n",
              "</div>\n",
              "\n",
              "  <div id=\"id_78b417d2-b43d-465f-87f8-2991eacfa2b7\">\n",
              "    <style>\n",
              "      .colab-df-generate {\n",
              "        background-color: #E8F0FE;\n",
              "        border: none;\n",
              "        border-radius: 50%;\n",
              "        cursor: pointer;\n",
              "        display: none;\n",
              "        fill: #1967D2;\n",
              "        height: 32px;\n",
              "        padding: 0 0 0 0;\n",
              "        width: 32px;\n",
              "      }\n",
              "\n",
              "      .colab-df-generate:hover {\n",
              "        background-color: #E2EBFA;\n",
              "        box-shadow: 0px 1px 2px rgba(60, 64, 67, 0.3), 0px 1px 3px 1px rgba(60, 64, 67, 0.15);\n",
              "        fill: #174EA6;\n",
              "      }\n",
              "\n",
              "      [theme=dark] .colab-df-generate {\n",
              "        background-color: #3B4455;\n",
              "        fill: #D2E3FC;\n",
              "      }\n",
              "\n",
              "      [theme=dark] .colab-df-generate:hover {\n",
              "        background-color: #434B5C;\n",
              "        box-shadow: 0px 1px 3px 1px rgba(0, 0, 0, 0.15);\n",
              "        filter: drop-shadow(0px 1px 2px rgba(0, 0, 0, 0.3));\n",
              "        fill: #FFFFFF;\n",
              "      }\n",
              "    </style>\n",
              "    <button class=\"colab-df-generate\" onclick=\"generateWithVariable('df')\"\n",
              "            title=\"Generate code using this dataframe.\"\n",
              "            style=\"display:none;\">\n",
              "\n",
              "  <svg xmlns=\"http://www.w3.org/2000/svg\" height=\"24px\"viewBox=\"0 0 24 24\"\n",
              "       width=\"24px\">\n",
              "    <path d=\"M7,19H8.4L18.45,9,17,7.55,7,17.6ZM5,21V16.75L18.45,3.32a2,2,0,0,1,2.83,0l1.4,1.43a1.91,1.91,0,0,1,.58,1.4,1.91,1.91,0,0,1-.58,1.4L9.25,21ZM18.45,9,17,7.55Zm-12,3A5.31,5.31,0,0,0,4.9,8.1,5.31,5.31,0,0,0,1,6.5,5.31,5.31,0,0,0,4.9,4.9,5.31,5.31,0,0,0,6.5,1,5.31,5.31,0,0,0,8.1,4.9,5.31,5.31,0,0,0,12,6.5,5.46,5.46,0,0,0,6.5,12Z\"/>\n",
              "  </svg>\n",
              "    </button>\n",
              "    <script>\n",
              "      (() => {\n",
              "      const buttonEl =\n",
              "        document.querySelector('#id_78b417d2-b43d-465f-87f8-2991eacfa2b7 button.colab-df-generate');\n",
              "      buttonEl.style.display =\n",
              "        google.colab.kernel.accessAllowed ? 'block' : 'none';\n",
              "\n",
              "      buttonEl.onclick = () => {\n",
              "        google.colab.notebook.generateWithVariable('df');\n",
              "      }\n",
              "      })();\n",
              "    </script>\n",
              "  </div>\n",
              "\n",
              "    </div>\n",
              "  </div>\n"
            ],
            "application/vnd.google.colaboratory.intrinsic+json": {
              "type": "dataframe",
              "variable_name": "df",
              "summary": "{\n  \"name\": \"df\",\n  \"rows\": 5135,\n  \"fields\": [\n    {\n      \"column\": \"nama\",\n      \"properties\": {\n        \"dtype\": \"string\",\n        \"num_unique_values\": 5112,\n        \"samples\": [\n          \"Yuniki Mediayati\",\n          \"Risky Adha Pradikto\",\n          \"Viani Hafiza\"\n        ],\n        \"semantic_type\": \"\",\n        \"description\": \"\"\n      }\n    },\n    {\n      \"column\": \"fakultas\",\n      \"properties\": {\n        \"dtype\": \"category\",\n        \"num_unique_values\": 10,\n        \"samples\": [\n          \"SITHS\",\n          \"SAPPK\",\n          \"FITB\"\n        ],\n        \"semantic_type\": \"\",\n        \"description\": \"\"\n      }\n    },\n    {\n      \"column\": \"nilai_mat\",\n      \"properties\": {\n        \"dtype\": \"number\",\n        \"std\": 13.047686509313355,\n        \"min\": 20.0,\n        \"max\": 100.0,\n        \"num_unique_values\": 3108,\n        \"samples\": [\n          83.78,\n          64.16,\n          69.9\n        ],\n        \"semantic_type\": \"\",\n        \"description\": \"\"\n      }\n    },\n    {\n      \"column\": \"nilai_kim\",\n      \"properties\": {\n        \"dtype\": \"number\",\n        \"std\": 11.170283832567288,\n        \"min\": 2.09,\n        \"max\": 81.5,\n        \"num_unique_values\": 2984,\n        \"samples\": [\n          64.52,\n          62.82,\n          35.27\n        ],\n        \"semantic_type\": \"\",\n        \"description\": \"\"\n      }\n    },\n    {\n      \"column\": \"nilai_fis\",\n      \"properties\": {\n        \"dtype\": \"number\",\n        \"std\": 11.608980227398591,\n        \"min\": 9.11,\n        \"max\": 92.57,\n        \"num_unique_values\": 3017,\n        \"samples\": [\n          72.36,\n          49.27,\n          67.94\n        ],\n        \"semantic_type\": \"\",\n        \"description\": \"\"\n      }\n    }\n  ]\n}"
            }
          },
          "metadata": {},
          "execution_count": 49
        }
      ]
    },
    {
      "cell_type": "markdown",
      "metadata": {
        "id": "-pwx60sVHNQ-"
      },
      "source": [
        "**Menuliskan dataframe menjadi file dataset CSV atau excel**"
      ]
    },
    {
      "cell_type": "code",
      "execution_count": null,
      "metadata": {
        "id": "xs0afnyOHNQ_"
      },
      "outputs": [],
      "source": [
        "df.to_csv('output.csv' , index = False)"
      ]
    },
    {
      "cell_type": "code",
      "execution_count": null,
      "metadata": {
        "id": "0jLAUZUxHNRV"
      },
      "outputs": [],
      "source": [
        "df.to_csv('output.csv' , index = False)"
      ]
    },
    {
      "cell_type": "markdown",
      "metadata": {
        "id": "QIxBTEMqHNRW"
      },
      "source": [
        "**Mengakses data**"
      ]
    },
    {
      "cell_type": "code",
      "execution_count": null,
      "metadata": {
        "colab": {
          "base_uri": "https://localhost:8080/"
        },
        "id": "b26ThPQCHNRX",
        "outputId": "a91a47a4-b8fa-4a74-fc0f-9b7aa0d9710d"
      },
      "outputs": [
        {
          "output_type": "stream",
          "name": "stdout",
          "text": [
            "   Tahun       Cakupan  Tingkat Inflasi\n",
            "0   2008  Kota Bandung            10.23\n"
          ]
        }
      ],
      "source": [
        "filtered_data=df[df['Cakupan'] == 'Kota Bandung']\n",
        "print(filtered_data)"
      ]
    },
    {
      "cell_type": "markdown",
      "metadata": {
        "id": "Yejthxx0HNRY"
      },
      "source": [
        "**Mengambil Nilai Extreme (Paling tinggi atau paling rendah)**"
      ]
    },
    {
      "cell_type": "code",
      "execution_count": null,
      "metadata": {
        "colab": {
          "base_uri": "https://localhost:8080/"
        },
        "id": "p6E5GBnLHNRZ",
        "outputId": "60ea5b5f-32f2-4864-afae-9ad007e9c56f"
      },
      "outputs": [
        {
          "output_type": "stream",
          "name": "stdout",
          "text": [
            "10.23\n",
            "2.02\n"
          ]
        }
      ],
      "source": [
        "max_inflasi = df['Tingkat Inflasi'].max()\n",
        "min_inflasi = df['Tingkat Inflasi'].min()\n",
        "\n",
        "print(max_inflasi)\n",
        "print(min_inflasi)"
      ]
    },
    {
      "cell_type": "markdown",
      "metadata": {
        "id": "YqjdSnBNHNRa"
      },
      "source": [
        "**Mengurutkan data**"
      ]
    },
    {
      "cell_type": "code",
      "execution_count": null,
      "metadata": {
        "colab": {
          "base_uri": "https://localhost:8080/"
        },
        "id": "bX1y_oeVHNRb",
        "outputId": "9659c7da-273c-4741-81dc-3c8094be6098"
      },
      "outputs": [
        {
          "output_type": "stream",
          "name": "stdout",
          "text": [
            "   Tahun           Cakupan  Tingkat Inflasi\n",
            "1   2009  Prov. Jawa Barat             2.02\n",
            "2   2010          Nasional             4.53\n",
            "0   2008      Kota Bandung            10.23\n"
          ]
        }
      ],
      "source": [
        "#Ascending\n",
        "df_sorted = df.sort_values(by='Tingkat Inflasi', ascending=True)\n",
        "print(df_sorted)"
      ]
    },
    {
      "cell_type": "code",
      "execution_count": null,
      "metadata": {
        "colab": {
          "base_uri": "https://localhost:8080/"
        },
        "id": "7htwq51RHNRc",
        "outputId": "6539f920-9718-4c22-aa4a-db000ae70fbc"
      },
      "outputs": [
        {
          "output_type": "stream",
          "name": "stdout",
          "text": [
            "   Tahun           Cakupan  Tingkat Inflasi\n",
            "0   2008      Kota Bandung            10.23\n",
            "2   2010          Nasional             4.53\n",
            "1   2009  Prov. Jawa Barat             2.02\n"
          ]
        }
      ],
      "source": [
        "#desc\n",
        "df_sorted = df.sort_values(by='Tingkat Inflasi', ascending=False)\n",
        "print(df_sorted)"
      ]
    },
    {
      "cell_type": "markdown",
      "metadata": {
        "id": "PIWJhsOaHNRd"
      },
      "source": [
        "**Tabel Frekuensi**"
      ]
    },
    {
      "cell_type": "code",
      "execution_count": null,
      "metadata": {
        "colab": {
          "base_uri": "https://localhost:8080/"
        },
        "id": "G6bX37IiHNRe",
        "outputId": "201126bb-4ae4-4979-820b-046d22d5de69"
      },
      "outputs": [
        {
          "output_type": "stream",
          "name": "stdout",
          "text": [
            "Tahun\n",
            "2008    1\n",
            "2009    1\n",
            "2010    1\n",
            "Name: count, dtype: int64\n"
          ]
        }
      ],
      "source": [
        "frequency_table = df['Tahun'].value_counts()\n",
        "print(frequency_table)"
      ]
    },
    {
      "cell_type": "markdown",
      "source": [
        "**Menentukan range**"
      ],
      "metadata": {
        "id": "zNRlvMWRM-Gn"
      }
    },
    {
      "cell_type": "code",
      "execution_count": null,
      "metadata": {
        "id": "oiz4-JNjHNRg"
      },
      "outputs": [],
      "source": [
        "range_inflasi = df['Tingkat Inflasi'].max() - df['Tingkat Inflasi'].min()"
      ]
    },
    {
      "cell_type": "markdown",
      "metadata": {
        "id": "jE5lttVzHNRh"
      },
      "source": [
        "Statistik sederhana"
      ]
    },
    {
      "cell_type": "code",
      "execution_count": null,
      "metadata": {
        "colab": {
          "base_uri": "https://localhost:8080/"
        },
        "id": "g9Dx4jT-HNRn",
        "outputId": "30ac1b43-91e7-414b-fc60-64e81ee37d0b"
      },
      "outputs": [
        {
          "output_type": "stream",
          "name": "stdout",
          "text": [
            "        Tahun  Tingkat Inflasi\n",
            "count     3.0         3.000000\n",
            "mean   2009.0         5.593333\n",
            "std       1.0         4.207022\n",
            "min    2008.0         2.020000\n",
            "25%    2008.5         3.275000\n",
            "50%    2009.0         4.530000\n",
            "75%    2009.5         7.380000\n",
            "max    2010.0        10.230000\n"
          ]
        }
      ],
      "source": [
        "statistics = df.describe()\n",
        "print(statistics)"
      ]
    },
    {
      "cell_type": "markdown",
      "metadata": {
        "id": "lz_TSpMyHNRp"
      },
      "source": [
        "Koefisien korelasi"
      ]
    },
    {
      "cell_type": "code",
      "execution_count": null,
      "metadata": {
        "colab": {
          "base_uri": "https://localhost:8080/"
        },
        "id": "D6tZaXWqHNRq",
        "outputId": "d558b9f8-b116-4710-f86b-7b973ee31782"
      },
      "outputs": [
        {
          "output_type": "stream",
          "name": "stdout",
          "text": [
            "-0.6774388302247065\n"
          ]
        }
      ],
      "source": [
        "correlation = df['Tingkat Inflasi'].corr(df['Tahun'])\n",
        "print(correlation)"
      ]
    },
    {
      "cell_type": "markdown",
      "metadata": {
        "id": "ziWQnDm9HNRr"
      },
      "source": [
        "# LATIHAN PROBLEM 1"
      ]
    },
    {
      "cell_type": "code",
      "source": [
        "!pip install pandas\n",
        "import pandas as pd"
      ],
      "metadata": {
        "colab": {
          "base_uri": "https://localhost:8080/"
        },
        "id": "YSwcnhW76TAT",
        "outputId": "56e80d96-438e-4d95-dab7-455e8c084dd5"
      },
      "execution_count": 28,
      "outputs": [
        {
          "output_type": "stream",
          "name": "stdout",
          "text": [
            "Requirement already satisfied: pandas in /usr/local/lib/python3.10/dist-packages (2.2.2)\n",
            "Requirement already satisfied: numpy>=1.22.4 in /usr/local/lib/python3.10/dist-packages (from pandas) (1.26.4)\n",
            "Requirement already satisfied: python-dateutil>=2.8.2 in /usr/local/lib/python3.10/dist-packages (from pandas) (2.8.2)\n",
            "Requirement already satisfied: pytz>=2020.1 in /usr/local/lib/python3.10/dist-packages (from pandas) (2024.2)\n",
            "Requirement already satisfied: tzdata>=2022.7 in /usr/local/lib/python3.10/dist-packages (from pandas) (2024.2)\n",
            "Requirement already satisfied: six>=1.5 in /usr/local/lib/python3.10/dist-packages (from python-dateutil>=2.8.2->pandas) (1.17.0)\n"
          ]
        }
      ]
    },
    {
      "cell_type": "code",
      "execution_count": 50,
      "metadata": {
        "colab": {
          "base_uri": "https://localhost:8080/",
          "height": 424
        },
        "id": "PkiGO2Y5HNRs",
        "outputId": "de4097fe-a7d5-4c9b-df6a-a5a8547f0b9e"
      },
      "outputs": [
        {
          "output_type": "execute_result",
          "data": {
            "text/plain": [
              "                          nama fakultas  nilai_mat  nilai_kim  nilai_fis\n",
              "0         Farhan Fathur Rahman    FMIPA      57.21      34.14      38.93\n",
              "1               Steven Margono    FMIPA      67.43      51.50      57.20\n",
              "2                 Ryan Sentosa    SAPPK      90.62      37.38      40.73\n",
              "3         Muhajah Babny Muslim    FMIPA      72.31      38.80      44.79\n",
              "4             Alvin Natawiguna     FTSL      65.45      57.67      56.39\n",
              "...                        ...      ...        ...        ...        ...\n",
              "5130               Khoirrashif    SITHR      66.14      46.82      56.74\n",
              "5131      Jefri Hendri Adriano     FTSL      53.68      34.74      33.76\n",
              "5132               Iki Hidayat     FITB      69.63      35.04      37.65\n",
              "5133  Muhammad Nashir Sitompul      FTI      79.69      39.06      50.17\n",
              "5134     Billy Richardo Sagala     STEI      68.68      51.23      66.18\n",
              "\n",
              "[5135 rows x 5 columns]"
            ],
            "text/html": [
              "\n",
              "  <div id=\"df-0604894c-8308-4378-9ce2-0483c4ad9355\" class=\"colab-df-container\">\n",
              "    <div>\n",
              "<style scoped>\n",
              "    .dataframe tbody tr th:only-of-type {\n",
              "        vertical-align: middle;\n",
              "    }\n",
              "\n",
              "    .dataframe tbody tr th {\n",
              "        vertical-align: top;\n",
              "    }\n",
              "\n",
              "    .dataframe thead th {\n",
              "        text-align: right;\n",
              "    }\n",
              "</style>\n",
              "<table border=\"1\" class=\"dataframe\">\n",
              "  <thead>\n",
              "    <tr style=\"text-align: right;\">\n",
              "      <th></th>\n",
              "      <th>nama</th>\n",
              "      <th>fakultas</th>\n",
              "      <th>nilai_mat</th>\n",
              "      <th>nilai_kim</th>\n",
              "      <th>nilai_fis</th>\n",
              "    </tr>\n",
              "  </thead>\n",
              "  <tbody>\n",
              "    <tr>\n",
              "      <th>0</th>\n",
              "      <td>Farhan Fathur Rahman</td>\n",
              "      <td>FMIPA</td>\n",
              "      <td>57.21</td>\n",
              "      <td>34.14</td>\n",
              "      <td>38.93</td>\n",
              "    </tr>\n",
              "    <tr>\n",
              "      <th>1</th>\n",
              "      <td>Steven Margono</td>\n",
              "      <td>FMIPA</td>\n",
              "      <td>67.43</td>\n",
              "      <td>51.50</td>\n",
              "      <td>57.20</td>\n",
              "    </tr>\n",
              "    <tr>\n",
              "      <th>2</th>\n",
              "      <td>Ryan Sentosa</td>\n",
              "      <td>SAPPK</td>\n",
              "      <td>90.62</td>\n",
              "      <td>37.38</td>\n",
              "      <td>40.73</td>\n",
              "    </tr>\n",
              "    <tr>\n",
              "      <th>3</th>\n",
              "      <td>Muhajah Babny Muslim</td>\n",
              "      <td>FMIPA</td>\n",
              "      <td>72.31</td>\n",
              "      <td>38.80</td>\n",
              "      <td>44.79</td>\n",
              "    </tr>\n",
              "    <tr>\n",
              "      <th>4</th>\n",
              "      <td>Alvin Natawiguna</td>\n",
              "      <td>FTSL</td>\n",
              "      <td>65.45</td>\n",
              "      <td>57.67</td>\n",
              "      <td>56.39</td>\n",
              "    </tr>\n",
              "    <tr>\n",
              "      <th>...</th>\n",
              "      <td>...</td>\n",
              "      <td>...</td>\n",
              "      <td>...</td>\n",
              "      <td>...</td>\n",
              "      <td>...</td>\n",
              "    </tr>\n",
              "    <tr>\n",
              "      <th>5130</th>\n",
              "      <td>Khoirrashif</td>\n",
              "      <td>SITHR</td>\n",
              "      <td>66.14</td>\n",
              "      <td>46.82</td>\n",
              "      <td>56.74</td>\n",
              "    </tr>\n",
              "    <tr>\n",
              "      <th>5131</th>\n",
              "      <td>Jefri Hendri Adriano</td>\n",
              "      <td>FTSL</td>\n",
              "      <td>53.68</td>\n",
              "      <td>34.74</td>\n",
              "      <td>33.76</td>\n",
              "    </tr>\n",
              "    <tr>\n",
              "      <th>5132</th>\n",
              "      <td>Iki Hidayat</td>\n",
              "      <td>FITB</td>\n",
              "      <td>69.63</td>\n",
              "      <td>35.04</td>\n",
              "      <td>37.65</td>\n",
              "    </tr>\n",
              "    <tr>\n",
              "      <th>5133</th>\n",
              "      <td>Muhammad Nashir Sitompul</td>\n",
              "      <td>FTI</td>\n",
              "      <td>79.69</td>\n",
              "      <td>39.06</td>\n",
              "      <td>50.17</td>\n",
              "    </tr>\n",
              "    <tr>\n",
              "      <th>5134</th>\n",
              "      <td>Billy Richardo Sagala</td>\n",
              "      <td>STEI</td>\n",
              "      <td>68.68</td>\n",
              "      <td>51.23</td>\n",
              "      <td>66.18</td>\n",
              "    </tr>\n",
              "  </tbody>\n",
              "</table>\n",
              "<p>5135 rows × 5 columns</p>\n",
              "</div>\n",
              "    <div class=\"colab-df-buttons\">\n",
              "\n",
              "  <div class=\"colab-df-container\">\n",
              "    <button class=\"colab-df-convert\" onclick=\"convertToInteractive('df-0604894c-8308-4378-9ce2-0483c4ad9355')\"\n",
              "            title=\"Convert this dataframe to an interactive table.\"\n",
              "            style=\"display:none;\">\n",
              "\n",
              "  <svg xmlns=\"http://www.w3.org/2000/svg\" height=\"24px\" viewBox=\"0 -960 960 960\">\n",
              "    <path d=\"M120-120v-720h720v720H120Zm60-500h600v-160H180v160Zm220 220h160v-160H400v160Zm0 220h160v-160H400v160ZM180-400h160v-160H180v160Zm440 0h160v-160H620v160ZM180-180h160v-160H180v160Zm440 0h160v-160H620v160Z\"/>\n",
              "  </svg>\n",
              "    </button>\n",
              "\n",
              "  <style>\n",
              "    .colab-df-container {\n",
              "      display:flex;\n",
              "      gap: 12px;\n",
              "    }\n",
              "\n",
              "    .colab-df-convert {\n",
              "      background-color: #E8F0FE;\n",
              "      border: none;\n",
              "      border-radius: 50%;\n",
              "      cursor: pointer;\n",
              "      display: none;\n",
              "      fill: #1967D2;\n",
              "      height: 32px;\n",
              "      padding: 0 0 0 0;\n",
              "      width: 32px;\n",
              "    }\n",
              "\n",
              "    .colab-df-convert:hover {\n",
              "      background-color: #E2EBFA;\n",
              "      box-shadow: 0px 1px 2px rgba(60, 64, 67, 0.3), 0px 1px 3px 1px rgba(60, 64, 67, 0.15);\n",
              "      fill: #174EA6;\n",
              "    }\n",
              "\n",
              "    .colab-df-buttons div {\n",
              "      margin-bottom: 4px;\n",
              "    }\n",
              "\n",
              "    [theme=dark] .colab-df-convert {\n",
              "      background-color: #3B4455;\n",
              "      fill: #D2E3FC;\n",
              "    }\n",
              "\n",
              "    [theme=dark] .colab-df-convert:hover {\n",
              "      background-color: #434B5C;\n",
              "      box-shadow: 0px 1px 3px 1px rgba(0, 0, 0, 0.15);\n",
              "      filter: drop-shadow(0px 1px 2px rgba(0, 0, 0, 0.3));\n",
              "      fill: #FFFFFF;\n",
              "    }\n",
              "  </style>\n",
              "\n",
              "    <script>\n",
              "      const buttonEl =\n",
              "        document.querySelector('#df-0604894c-8308-4378-9ce2-0483c4ad9355 button.colab-df-convert');\n",
              "      buttonEl.style.display =\n",
              "        google.colab.kernel.accessAllowed ? 'block' : 'none';\n",
              "\n",
              "      async function convertToInteractive(key) {\n",
              "        const element = document.querySelector('#df-0604894c-8308-4378-9ce2-0483c4ad9355');\n",
              "        const dataTable =\n",
              "          await google.colab.kernel.invokeFunction('convertToInteractive',\n",
              "                                                    [key], {});\n",
              "        if (!dataTable) return;\n",
              "\n",
              "        const docLinkHtml = 'Like what you see? Visit the ' +\n",
              "          '<a target=\"_blank\" href=https://colab.research.google.com/notebooks/data_table.ipynb>data table notebook</a>'\n",
              "          + ' to learn more about interactive tables.';\n",
              "        element.innerHTML = '';\n",
              "        dataTable['output_type'] = 'display_data';\n",
              "        await google.colab.output.renderOutput(dataTable, element);\n",
              "        const docLink = document.createElement('div');\n",
              "        docLink.innerHTML = docLinkHtml;\n",
              "        element.appendChild(docLink);\n",
              "      }\n",
              "    </script>\n",
              "  </div>\n",
              "\n",
              "\n",
              "<div id=\"df-fdb7327e-2c8e-4405-ae9a-96d187be3e41\">\n",
              "  <button class=\"colab-df-quickchart\" onclick=\"quickchart('df-fdb7327e-2c8e-4405-ae9a-96d187be3e41')\"\n",
              "            title=\"Suggest charts\"\n",
              "            style=\"display:none;\">\n",
              "\n",
              "<svg xmlns=\"http://www.w3.org/2000/svg\" height=\"24px\"viewBox=\"0 0 24 24\"\n",
              "     width=\"24px\">\n",
              "    <g>\n",
              "        <path d=\"M19 3H5c-1.1 0-2 .9-2 2v14c0 1.1.9 2 2 2h14c1.1 0 2-.9 2-2V5c0-1.1-.9-2-2-2zM9 17H7v-7h2v7zm4 0h-2V7h2v10zm4 0h-2v-4h2v4z\"/>\n",
              "    </g>\n",
              "</svg>\n",
              "  </button>\n",
              "\n",
              "<style>\n",
              "  .colab-df-quickchart {\n",
              "      --bg-color: #E8F0FE;\n",
              "      --fill-color: #1967D2;\n",
              "      --hover-bg-color: #E2EBFA;\n",
              "      --hover-fill-color: #174EA6;\n",
              "      --disabled-fill-color: #AAA;\n",
              "      --disabled-bg-color: #DDD;\n",
              "  }\n",
              "\n",
              "  [theme=dark] .colab-df-quickchart {\n",
              "      --bg-color: #3B4455;\n",
              "      --fill-color: #D2E3FC;\n",
              "      --hover-bg-color: #434B5C;\n",
              "      --hover-fill-color: #FFFFFF;\n",
              "      --disabled-bg-color: #3B4455;\n",
              "      --disabled-fill-color: #666;\n",
              "  }\n",
              "\n",
              "  .colab-df-quickchart {\n",
              "    background-color: var(--bg-color);\n",
              "    border: none;\n",
              "    border-radius: 50%;\n",
              "    cursor: pointer;\n",
              "    display: none;\n",
              "    fill: var(--fill-color);\n",
              "    height: 32px;\n",
              "    padding: 0;\n",
              "    width: 32px;\n",
              "  }\n",
              "\n",
              "  .colab-df-quickchart:hover {\n",
              "    background-color: var(--hover-bg-color);\n",
              "    box-shadow: 0 1px 2px rgba(60, 64, 67, 0.3), 0 1px 3px 1px rgba(60, 64, 67, 0.15);\n",
              "    fill: var(--button-hover-fill-color);\n",
              "  }\n",
              "\n",
              "  .colab-df-quickchart-complete:disabled,\n",
              "  .colab-df-quickchart-complete:disabled:hover {\n",
              "    background-color: var(--disabled-bg-color);\n",
              "    fill: var(--disabled-fill-color);\n",
              "    box-shadow: none;\n",
              "  }\n",
              "\n",
              "  .colab-df-spinner {\n",
              "    border: 2px solid var(--fill-color);\n",
              "    border-color: transparent;\n",
              "    border-bottom-color: var(--fill-color);\n",
              "    animation:\n",
              "      spin 1s steps(1) infinite;\n",
              "  }\n",
              "\n",
              "  @keyframes spin {\n",
              "    0% {\n",
              "      border-color: transparent;\n",
              "      border-bottom-color: var(--fill-color);\n",
              "      border-left-color: var(--fill-color);\n",
              "    }\n",
              "    20% {\n",
              "      border-color: transparent;\n",
              "      border-left-color: var(--fill-color);\n",
              "      border-top-color: var(--fill-color);\n",
              "    }\n",
              "    30% {\n",
              "      border-color: transparent;\n",
              "      border-left-color: var(--fill-color);\n",
              "      border-top-color: var(--fill-color);\n",
              "      border-right-color: var(--fill-color);\n",
              "    }\n",
              "    40% {\n",
              "      border-color: transparent;\n",
              "      border-right-color: var(--fill-color);\n",
              "      border-top-color: var(--fill-color);\n",
              "    }\n",
              "    60% {\n",
              "      border-color: transparent;\n",
              "      border-right-color: var(--fill-color);\n",
              "    }\n",
              "    80% {\n",
              "      border-color: transparent;\n",
              "      border-right-color: var(--fill-color);\n",
              "      border-bottom-color: var(--fill-color);\n",
              "    }\n",
              "    90% {\n",
              "      border-color: transparent;\n",
              "      border-bottom-color: var(--fill-color);\n",
              "    }\n",
              "  }\n",
              "</style>\n",
              "\n",
              "  <script>\n",
              "    async function quickchart(key) {\n",
              "      const quickchartButtonEl =\n",
              "        document.querySelector('#' + key + ' button');\n",
              "      quickchartButtonEl.disabled = true;  // To prevent multiple clicks.\n",
              "      quickchartButtonEl.classList.add('colab-df-spinner');\n",
              "      try {\n",
              "        const charts = await google.colab.kernel.invokeFunction(\n",
              "            'suggestCharts', [key], {});\n",
              "      } catch (error) {\n",
              "        console.error('Error during call to suggestCharts:', error);\n",
              "      }\n",
              "      quickchartButtonEl.classList.remove('colab-df-spinner');\n",
              "      quickchartButtonEl.classList.add('colab-df-quickchart-complete');\n",
              "    }\n",
              "    (() => {\n",
              "      let quickchartButtonEl =\n",
              "        document.querySelector('#df-fdb7327e-2c8e-4405-ae9a-96d187be3e41 button');\n",
              "      quickchartButtonEl.style.display =\n",
              "        google.colab.kernel.accessAllowed ? 'block' : 'none';\n",
              "    })();\n",
              "  </script>\n",
              "</div>\n",
              "\n",
              "  <div id=\"id_2e5453ff-7515-4d4c-90ed-5c51b1f14fd6\">\n",
              "    <style>\n",
              "      .colab-df-generate {\n",
              "        background-color: #E8F0FE;\n",
              "        border: none;\n",
              "        border-radius: 50%;\n",
              "        cursor: pointer;\n",
              "        display: none;\n",
              "        fill: #1967D2;\n",
              "        height: 32px;\n",
              "        padding: 0 0 0 0;\n",
              "        width: 32px;\n",
              "      }\n",
              "\n",
              "      .colab-df-generate:hover {\n",
              "        background-color: #E2EBFA;\n",
              "        box-shadow: 0px 1px 2px rgba(60, 64, 67, 0.3), 0px 1px 3px 1px rgba(60, 64, 67, 0.15);\n",
              "        fill: #174EA6;\n",
              "      }\n",
              "\n",
              "      [theme=dark] .colab-df-generate {\n",
              "        background-color: #3B4455;\n",
              "        fill: #D2E3FC;\n",
              "      }\n",
              "\n",
              "      [theme=dark] .colab-df-generate:hover {\n",
              "        background-color: #434B5C;\n",
              "        box-shadow: 0px 1px 3px 1px rgba(0, 0, 0, 0.15);\n",
              "        filter: drop-shadow(0px 1px 2px rgba(0, 0, 0, 0.3));\n",
              "        fill: #FFFFFF;\n",
              "      }\n",
              "    </style>\n",
              "    <button class=\"colab-df-generate\" onclick=\"generateWithVariable('df')\"\n",
              "            title=\"Generate code using this dataframe.\"\n",
              "            style=\"display:none;\">\n",
              "\n",
              "  <svg xmlns=\"http://www.w3.org/2000/svg\" height=\"24px\"viewBox=\"0 0 24 24\"\n",
              "       width=\"24px\">\n",
              "    <path d=\"M7,19H8.4L18.45,9,17,7.55,7,17.6ZM5,21V16.75L18.45,3.32a2,2,0,0,1,2.83,0l1.4,1.43a1.91,1.91,0,0,1,.58,1.4,1.91,1.91,0,0,1-.58,1.4L9.25,21ZM18.45,9,17,7.55Zm-12,3A5.31,5.31,0,0,0,4.9,8.1,5.31,5.31,0,0,0,1,6.5,5.31,5.31,0,0,0,4.9,4.9,5.31,5.31,0,0,0,6.5,1,5.31,5.31,0,0,0,8.1,4.9,5.31,5.31,0,0,0,12,6.5,5.46,5.46,0,0,0,6.5,12Z\"/>\n",
              "  </svg>\n",
              "    </button>\n",
              "    <script>\n",
              "      (() => {\n",
              "      const buttonEl =\n",
              "        document.querySelector('#id_2e5453ff-7515-4d4c-90ed-5c51b1f14fd6 button.colab-df-generate');\n",
              "      buttonEl.style.display =\n",
              "        google.colab.kernel.accessAllowed ? 'block' : 'none';\n",
              "\n",
              "      buttonEl.onclick = () => {\n",
              "        google.colab.notebook.generateWithVariable('df');\n",
              "      }\n",
              "      })();\n",
              "    </script>\n",
              "  </div>\n",
              "\n",
              "    </div>\n",
              "  </div>\n"
            ],
            "application/vnd.google.colaboratory.intrinsic+json": {
              "type": "dataframe",
              "variable_name": "df",
              "summary": "{\n  \"name\": \"df\",\n  \"rows\": 5135,\n  \"fields\": [\n    {\n      \"column\": \"nama\",\n      \"properties\": {\n        \"dtype\": \"string\",\n        \"num_unique_values\": 5112,\n        \"samples\": [\n          \"Yuniki Mediayati\",\n          \"Risky Adha Pradikto\",\n          \"Viani Hafiza\"\n        ],\n        \"semantic_type\": \"\",\n        \"description\": \"\"\n      }\n    },\n    {\n      \"column\": \"fakultas\",\n      \"properties\": {\n        \"dtype\": \"category\",\n        \"num_unique_values\": 10,\n        \"samples\": [\n          \"SITHS\",\n          \"SAPPK\",\n          \"FITB\"\n        ],\n        \"semantic_type\": \"\",\n        \"description\": \"\"\n      }\n    },\n    {\n      \"column\": \"nilai_mat\",\n      \"properties\": {\n        \"dtype\": \"number\",\n        \"std\": 13.047686509313355,\n        \"min\": 20.0,\n        \"max\": 100.0,\n        \"num_unique_values\": 3108,\n        \"samples\": [\n          83.78,\n          64.16,\n          69.9\n        ],\n        \"semantic_type\": \"\",\n        \"description\": \"\"\n      }\n    },\n    {\n      \"column\": \"nilai_kim\",\n      \"properties\": {\n        \"dtype\": \"number\",\n        \"std\": 11.170283832567288,\n        \"min\": 2.09,\n        \"max\": 81.5,\n        \"num_unique_values\": 2984,\n        \"samples\": [\n          64.52,\n          62.82,\n          35.27\n        ],\n        \"semantic_type\": \"\",\n        \"description\": \"\"\n      }\n    },\n    {\n      \"column\": \"nilai_fis\",\n      \"properties\": {\n        \"dtype\": \"number\",\n        \"std\": 11.608980227398591,\n        \"min\": 9.11,\n        \"max\": 92.57,\n        \"num_unique_values\": 3017,\n        \"samples\": [\n          72.36,\n          49.27,\n          67.94\n        ],\n        \"semantic_type\": \"\",\n        \"description\": \"\"\n      }\n    }\n  ]\n}"
            }
          },
          "metadata": {},
          "execution_count": 50
        }
      ],
      "source": [
        "df = pd.read_csv(r'/content/H05.csv')\n",
        "df"
      ]
    },
    {
      "cell_type": "code",
      "source": [
        "df"
      ],
      "metadata": {
        "colab": {
          "base_uri": "https://localhost:8080/",
          "height": 143
        },
        "id": "5kAQGmRS5hLD",
        "outputId": "310c3e0b-a0a2-40c8-88a5-24a759f900e7"
      },
      "execution_count": 19,
      "outputs": [
        {
          "output_type": "execute_result",
          "data": {
            "text/plain": [
              "   Tahun           Cakupan  Tingkat Inflasi\n",
              "0   2008      Kota Bandung            10.23\n",
              "1   2009  Prov. Jawa Barat             2.02\n",
              "2   2010          Nasional             4.53"
            ],
            "text/html": [
              "\n",
              "  <div id=\"df-21975b86-8b01-48ed-9bb3-a3935d19ba31\" class=\"colab-df-container\">\n",
              "    <div>\n",
              "<style scoped>\n",
              "    .dataframe tbody tr th:only-of-type {\n",
              "        vertical-align: middle;\n",
              "    }\n",
              "\n",
              "    .dataframe tbody tr th {\n",
              "        vertical-align: top;\n",
              "    }\n",
              "\n",
              "    .dataframe thead th {\n",
              "        text-align: right;\n",
              "    }\n",
              "</style>\n",
              "<table border=\"1\" class=\"dataframe\">\n",
              "  <thead>\n",
              "    <tr style=\"text-align: right;\">\n",
              "      <th></th>\n",
              "      <th>Tahun</th>\n",
              "      <th>Cakupan</th>\n",
              "      <th>Tingkat Inflasi</th>\n",
              "    </tr>\n",
              "  </thead>\n",
              "  <tbody>\n",
              "    <tr>\n",
              "      <th>0</th>\n",
              "      <td>2008</td>\n",
              "      <td>Kota Bandung</td>\n",
              "      <td>10.23</td>\n",
              "    </tr>\n",
              "    <tr>\n",
              "      <th>1</th>\n",
              "      <td>2009</td>\n",
              "      <td>Prov. Jawa Barat</td>\n",
              "      <td>2.02</td>\n",
              "    </tr>\n",
              "    <tr>\n",
              "      <th>2</th>\n",
              "      <td>2010</td>\n",
              "      <td>Nasional</td>\n",
              "      <td>4.53</td>\n",
              "    </tr>\n",
              "  </tbody>\n",
              "</table>\n",
              "</div>\n",
              "    <div class=\"colab-df-buttons\">\n",
              "\n",
              "  <div class=\"colab-df-container\">\n",
              "    <button class=\"colab-df-convert\" onclick=\"convertToInteractive('df-21975b86-8b01-48ed-9bb3-a3935d19ba31')\"\n",
              "            title=\"Convert this dataframe to an interactive table.\"\n",
              "            style=\"display:none;\">\n",
              "\n",
              "  <svg xmlns=\"http://www.w3.org/2000/svg\" height=\"24px\" viewBox=\"0 -960 960 960\">\n",
              "    <path d=\"M120-120v-720h720v720H120Zm60-500h600v-160H180v160Zm220 220h160v-160H400v160Zm0 220h160v-160H400v160ZM180-400h160v-160H180v160Zm440 0h160v-160H620v160ZM180-180h160v-160H180v160Zm440 0h160v-160H620v160Z\"/>\n",
              "  </svg>\n",
              "    </button>\n",
              "\n",
              "  <style>\n",
              "    .colab-df-container {\n",
              "      display:flex;\n",
              "      gap: 12px;\n",
              "    }\n",
              "\n",
              "    .colab-df-convert {\n",
              "      background-color: #E8F0FE;\n",
              "      border: none;\n",
              "      border-radius: 50%;\n",
              "      cursor: pointer;\n",
              "      display: none;\n",
              "      fill: #1967D2;\n",
              "      height: 32px;\n",
              "      padding: 0 0 0 0;\n",
              "      width: 32px;\n",
              "    }\n",
              "\n",
              "    .colab-df-convert:hover {\n",
              "      background-color: #E2EBFA;\n",
              "      box-shadow: 0px 1px 2px rgba(60, 64, 67, 0.3), 0px 1px 3px 1px rgba(60, 64, 67, 0.15);\n",
              "      fill: #174EA6;\n",
              "    }\n",
              "\n",
              "    .colab-df-buttons div {\n",
              "      margin-bottom: 4px;\n",
              "    }\n",
              "\n",
              "    [theme=dark] .colab-df-convert {\n",
              "      background-color: #3B4455;\n",
              "      fill: #D2E3FC;\n",
              "    }\n",
              "\n",
              "    [theme=dark] .colab-df-convert:hover {\n",
              "      background-color: #434B5C;\n",
              "      box-shadow: 0px 1px 3px 1px rgba(0, 0, 0, 0.15);\n",
              "      filter: drop-shadow(0px 1px 2px rgba(0, 0, 0, 0.3));\n",
              "      fill: #FFFFFF;\n",
              "    }\n",
              "  </style>\n",
              "\n",
              "    <script>\n",
              "      const buttonEl =\n",
              "        document.querySelector('#df-21975b86-8b01-48ed-9bb3-a3935d19ba31 button.colab-df-convert');\n",
              "      buttonEl.style.display =\n",
              "        google.colab.kernel.accessAllowed ? 'block' : 'none';\n",
              "\n",
              "      async function convertToInteractive(key) {\n",
              "        const element = document.querySelector('#df-21975b86-8b01-48ed-9bb3-a3935d19ba31');\n",
              "        const dataTable =\n",
              "          await google.colab.kernel.invokeFunction('convertToInteractive',\n",
              "                                                    [key], {});\n",
              "        if (!dataTable) return;\n",
              "\n",
              "        const docLinkHtml = 'Like what you see? Visit the ' +\n",
              "          '<a target=\"_blank\" href=https://colab.research.google.com/notebooks/data_table.ipynb>data table notebook</a>'\n",
              "          + ' to learn more about interactive tables.';\n",
              "        element.innerHTML = '';\n",
              "        dataTable['output_type'] = 'display_data';\n",
              "        await google.colab.output.renderOutput(dataTable, element);\n",
              "        const docLink = document.createElement('div');\n",
              "        docLink.innerHTML = docLinkHtml;\n",
              "        element.appendChild(docLink);\n",
              "      }\n",
              "    </script>\n",
              "  </div>\n",
              "\n",
              "\n",
              "<div id=\"df-f43aa1d0-63be-4c1e-96e1-ab23ad8a8dac\">\n",
              "  <button class=\"colab-df-quickchart\" onclick=\"quickchart('df-f43aa1d0-63be-4c1e-96e1-ab23ad8a8dac')\"\n",
              "            title=\"Suggest charts\"\n",
              "            style=\"display:none;\">\n",
              "\n",
              "<svg xmlns=\"http://www.w3.org/2000/svg\" height=\"24px\"viewBox=\"0 0 24 24\"\n",
              "     width=\"24px\">\n",
              "    <g>\n",
              "        <path d=\"M19 3H5c-1.1 0-2 .9-2 2v14c0 1.1.9 2 2 2h14c1.1 0 2-.9 2-2V5c0-1.1-.9-2-2-2zM9 17H7v-7h2v7zm4 0h-2V7h2v10zm4 0h-2v-4h2v4z\"/>\n",
              "    </g>\n",
              "</svg>\n",
              "  </button>\n",
              "\n",
              "<style>\n",
              "  .colab-df-quickchart {\n",
              "      --bg-color: #E8F0FE;\n",
              "      --fill-color: #1967D2;\n",
              "      --hover-bg-color: #E2EBFA;\n",
              "      --hover-fill-color: #174EA6;\n",
              "      --disabled-fill-color: #AAA;\n",
              "      --disabled-bg-color: #DDD;\n",
              "  }\n",
              "\n",
              "  [theme=dark] .colab-df-quickchart {\n",
              "      --bg-color: #3B4455;\n",
              "      --fill-color: #D2E3FC;\n",
              "      --hover-bg-color: #434B5C;\n",
              "      --hover-fill-color: #FFFFFF;\n",
              "      --disabled-bg-color: #3B4455;\n",
              "      --disabled-fill-color: #666;\n",
              "  }\n",
              "\n",
              "  .colab-df-quickchart {\n",
              "    background-color: var(--bg-color);\n",
              "    border: none;\n",
              "    border-radius: 50%;\n",
              "    cursor: pointer;\n",
              "    display: none;\n",
              "    fill: var(--fill-color);\n",
              "    height: 32px;\n",
              "    padding: 0;\n",
              "    width: 32px;\n",
              "  }\n",
              "\n",
              "  .colab-df-quickchart:hover {\n",
              "    background-color: var(--hover-bg-color);\n",
              "    box-shadow: 0 1px 2px rgba(60, 64, 67, 0.3), 0 1px 3px 1px rgba(60, 64, 67, 0.15);\n",
              "    fill: var(--button-hover-fill-color);\n",
              "  }\n",
              "\n",
              "  .colab-df-quickchart-complete:disabled,\n",
              "  .colab-df-quickchart-complete:disabled:hover {\n",
              "    background-color: var(--disabled-bg-color);\n",
              "    fill: var(--disabled-fill-color);\n",
              "    box-shadow: none;\n",
              "  }\n",
              "\n",
              "  .colab-df-spinner {\n",
              "    border: 2px solid var(--fill-color);\n",
              "    border-color: transparent;\n",
              "    border-bottom-color: var(--fill-color);\n",
              "    animation:\n",
              "      spin 1s steps(1) infinite;\n",
              "  }\n",
              "\n",
              "  @keyframes spin {\n",
              "    0% {\n",
              "      border-color: transparent;\n",
              "      border-bottom-color: var(--fill-color);\n",
              "      border-left-color: var(--fill-color);\n",
              "    }\n",
              "    20% {\n",
              "      border-color: transparent;\n",
              "      border-left-color: var(--fill-color);\n",
              "      border-top-color: var(--fill-color);\n",
              "    }\n",
              "    30% {\n",
              "      border-color: transparent;\n",
              "      border-left-color: var(--fill-color);\n",
              "      border-top-color: var(--fill-color);\n",
              "      border-right-color: var(--fill-color);\n",
              "    }\n",
              "    40% {\n",
              "      border-color: transparent;\n",
              "      border-right-color: var(--fill-color);\n",
              "      border-top-color: var(--fill-color);\n",
              "    }\n",
              "    60% {\n",
              "      border-color: transparent;\n",
              "      border-right-color: var(--fill-color);\n",
              "    }\n",
              "    80% {\n",
              "      border-color: transparent;\n",
              "      border-right-color: var(--fill-color);\n",
              "      border-bottom-color: var(--fill-color);\n",
              "    }\n",
              "    90% {\n",
              "      border-color: transparent;\n",
              "      border-bottom-color: var(--fill-color);\n",
              "    }\n",
              "  }\n",
              "</style>\n",
              "\n",
              "  <script>\n",
              "    async function quickchart(key) {\n",
              "      const quickchartButtonEl =\n",
              "        document.querySelector('#' + key + ' button');\n",
              "      quickchartButtonEl.disabled = true;  // To prevent multiple clicks.\n",
              "      quickchartButtonEl.classList.add('colab-df-spinner');\n",
              "      try {\n",
              "        const charts = await google.colab.kernel.invokeFunction(\n",
              "            'suggestCharts', [key], {});\n",
              "      } catch (error) {\n",
              "        console.error('Error during call to suggestCharts:', error);\n",
              "      }\n",
              "      quickchartButtonEl.classList.remove('colab-df-spinner');\n",
              "      quickchartButtonEl.classList.add('colab-df-quickchart-complete');\n",
              "    }\n",
              "    (() => {\n",
              "      let quickchartButtonEl =\n",
              "        document.querySelector('#df-f43aa1d0-63be-4c1e-96e1-ab23ad8a8dac button');\n",
              "      quickchartButtonEl.style.display =\n",
              "        google.colab.kernel.accessAllowed ? 'block' : 'none';\n",
              "    })();\n",
              "  </script>\n",
              "</div>\n",
              "\n",
              "  <div id=\"id_02dd0b2e-1cdf-4a3a-831c-7d785787b73a\">\n",
              "    <style>\n",
              "      .colab-df-generate {\n",
              "        background-color: #E8F0FE;\n",
              "        border: none;\n",
              "        border-radius: 50%;\n",
              "        cursor: pointer;\n",
              "        display: none;\n",
              "        fill: #1967D2;\n",
              "        height: 32px;\n",
              "        padding: 0 0 0 0;\n",
              "        width: 32px;\n",
              "      }\n",
              "\n",
              "      .colab-df-generate:hover {\n",
              "        background-color: #E2EBFA;\n",
              "        box-shadow: 0px 1px 2px rgba(60, 64, 67, 0.3), 0px 1px 3px 1px rgba(60, 64, 67, 0.15);\n",
              "        fill: #174EA6;\n",
              "      }\n",
              "\n",
              "      [theme=dark] .colab-df-generate {\n",
              "        background-color: #3B4455;\n",
              "        fill: #D2E3FC;\n",
              "      }\n",
              "\n",
              "      [theme=dark] .colab-df-generate:hover {\n",
              "        background-color: #434B5C;\n",
              "        box-shadow: 0px 1px 3px 1px rgba(0, 0, 0, 0.15);\n",
              "        filter: drop-shadow(0px 1px 2px rgba(0, 0, 0, 0.3));\n",
              "        fill: #FFFFFF;\n",
              "      }\n",
              "    </style>\n",
              "    <button class=\"colab-df-generate\" onclick=\"generateWithVariable('df')\"\n",
              "            title=\"Generate code using this dataframe.\"\n",
              "            style=\"display:none;\">\n",
              "\n",
              "  <svg xmlns=\"http://www.w3.org/2000/svg\" height=\"24px\"viewBox=\"0 0 24 24\"\n",
              "       width=\"24px\">\n",
              "    <path d=\"M7,19H8.4L18.45,9,17,7.55,7,17.6ZM5,21V16.75L18.45,3.32a2,2,0,0,1,2.83,0l1.4,1.43a1.91,1.91,0,0,1,.58,1.4,1.91,1.91,0,0,1-.58,1.4L9.25,21ZM18.45,9,17,7.55Zm-12,3A5.31,5.31,0,0,0,4.9,8.1,5.31,5.31,0,0,0,1,6.5,5.31,5.31,0,0,0,4.9,4.9,5.31,5.31,0,0,0,6.5,1,5.31,5.31,0,0,0,8.1,4.9,5.31,5.31,0,0,0,12,6.5,5.46,5.46,0,0,0,6.5,12Z\"/>\n",
              "  </svg>\n",
              "    </button>\n",
              "    <script>\n",
              "      (() => {\n",
              "      const buttonEl =\n",
              "        document.querySelector('#id_02dd0b2e-1cdf-4a3a-831c-7d785787b73a button.colab-df-generate');\n",
              "      buttonEl.style.display =\n",
              "        google.colab.kernel.accessAllowed ? 'block' : 'none';\n",
              "\n",
              "      buttonEl.onclick = () => {\n",
              "        google.colab.notebook.generateWithVariable('df');\n",
              "      }\n",
              "      })();\n",
              "    </script>\n",
              "  </div>\n",
              "\n",
              "    </div>\n",
              "  </div>\n"
            ],
            "application/vnd.google.colaboratory.intrinsic+json": {
              "type": "dataframe",
              "variable_name": "df",
              "summary": "{\n  \"name\": \"df\",\n  \"rows\": 3,\n  \"fields\": [\n    {\n      \"column\": \"Tahun\",\n      \"properties\": {\n        \"dtype\": \"number\",\n        \"std\": 1,\n        \"min\": 2008,\n        \"max\": 2010,\n        \"num_unique_values\": 3,\n        \"samples\": [\n          2008,\n          2009,\n          2010\n        ],\n        \"semantic_type\": \"\",\n        \"description\": \"\"\n      }\n    },\n    {\n      \"column\": \"Cakupan\",\n      \"properties\": {\n        \"dtype\": \"string\",\n        \"num_unique_values\": 3,\n        \"samples\": [\n          \"Kota Bandung\",\n          \"Prov. Jawa Barat\",\n          \"Nasional\"\n        ],\n        \"semantic_type\": \"\",\n        \"description\": \"\"\n      }\n    },\n    {\n      \"column\": \"Tingkat Inflasi\",\n      \"properties\": {\n        \"dtype\": \"number\",\n        \"std\": 4.207021907874183,\n        \"min\": 2.02,\n        \"max\": 10.23,\n        \"num_unique_values\": 3,\n        \"samples\": [\n          10.23,\n          2.02,\n          4.53\n        ],\n        \"semantic_type\": \"\",\n        \"description\": \"\"\n      }\n    }\n  ]\n}"
            }
          },
          "metadata": {},
          "execution_count": 19
        }
      ]
    },
    {
      "cell_type": "markdown",
      "metadata": {
        "id": "eiSJBiMqHNRt"
      },
      "source": [
        "**Menghitung banyaknya data**"
      ]
    },
    {
      "cell_type": "code",
      "source": [
        "file_path = \"/content/H05.csv\"\n",
        "data = pd.read_csv(file_path)\n",
        "\n",
        "#Hitung Banyak Data\n",
        "jumlah_data = len(data)\n",
        "print(f\"jumlah data: {jumlah_data}\")"
      ],
      "metadata": {
        "colab": {
          "base_uri": "https://localhost:8080/"
        },
        "id": "Z7PEtwLNfeIO",
        "outputId": "9428672b-8197-48aa-e7a2-8c91550f34d1"
      },
      "execution_count": 54,
      "outputs": [
        {
          "output_type": "stream",
          "name": "stdout",
          "text": [
            "jumlah data: 5135\n"
          ]
        }
      ]
    },
    {
      "cell_type": "markdown",
      "source": [
        "**Menampilkan 10 data pertama**"
      ],
      "metadata": {
        "id": "Naw8Qyk08MtA"
      }
    },
    {
      "cell_type": "code",
      "source": [
        "print(data.head(10))"
      ],
      "metadata": {
        "colab": {
          "base_uri": "https://localhost:8080/"
        },
        "id": "34RluJ2j70N6",
        "outputId": "6bcae060-55e4-4360-9c2a-d97777216071"
      },
      "execution_count": 55,
      "outputs": [
        {
          "output_type": "stream",
          "name": "stdout",
          "text": [
            "                             nama fakultas  nilai_mat  nilai_kim  nilai_fis\n",
            "0            Farhan Fathur Rahman    FMIPA      57.21      34.14      38.93\n",
            "1                  Steven Margono    FMIPA      67.43      51.50      57.20\n",
            "2                    Ryan Sentosa    SAPPK      90.62      37.38      40.73\n",
            "3            Muhajah Babny Muslim    FMIPA      72.31      38.80      44.79\n",
            "4                Alvin Natawiguna     FTSL      65.45      57.67      56.39\n",
            "5                   Sasti Safitri     FTSL      60.58      41.91      51.55\n",
            "6             Dani Yulianto Putra     FTSL      51.67      35.05      48.69\n",
            "7  Nabila Febitsukarizky Bunyamin     FTTM      71.66      67.61      69.75\n",
            "8             Ratna Siti Khodijah      FTI      73.06      59.16      59.48\n",
            "9                    Gita Partiwi     FTSL      69.57      38.84      48.17\n"
          ]
        }
      ]
    },
    {
      "cell_type": "markdown",
      "source": [
        "**Menampilkan data ke-50 sampai ke-60**"
      ],
      "metadata": {
        "id": "5iPlQ5Kb8V5O"
      }
    },
    {
      "cell_type": "code",
      "source": [
        "data_50_60 = data.iloc[49:60]\n",
        "print(data_50_60)"
      ],
      "metadata": {
        "colab": {
          "base_uri": "https://localhost:8080/"
        },
        "id": "AULMvlwL-ly7",
        "outputId": "0b162d59-c8f5-43cc-861a-aa80c998b0ec"
      },
      "execution_count": 56,
      "outputs": [
        {
          "output_type": "stream",
          "name": "stdout",
          "text": [
            "                        nama fakultas  nilai_mat  nilai_kim  nilai_fis\n",
            "49      Alief Rizky Ramadhan    SITHS      84.59      42.44      40.48\n",
            "50      Arief Syakur Sutedjo     FTTM      84.40      61.21      73.91\n",
            "51         Fayi Raihan Saleh    FMIPA      60.62      32.57      42.34\n",
            "52          Erna Kristiawati      FTI      67.48      46.78      52.30\n",
            "53                    Albert    SAPPK      70.27      50.10      54.01\n",
            "54  M Jazztyan Indra Pradana     STEI      53.40      43.06      60.30\n",
            "55      Moch Ginanjar Busiri    FMIPA      74.29      38.44      49.15\n",
            "56              Aisya Tamara     FITB      71.49      35.86      37.41\n",
            "57        Tyas Arum Widayati    SAPPK      68.57      37.02      53.25\n",
            "58                Arif Saleh      FTI     100.00      59.79      55.33\n",
            "59     Windy Diwita Nisaekti      FTI      67.15      57.72      54.24\n"
          ]
        }
      ]
    },
    {
      "cell_type": "markdown",
      "source": [
        "**Menghitung banyaknya mahasiswa di tiap fakultas**"
      ],
      "metadata": {
        "id": "oK2-eeUH9O53"
      }
    },
    {
      "cell_type": "code",
      "source": [
        "jumlah_mahasiswa_per_fakultas = data['fakultas'].value_counts()\n",
        "print(jumlah_mahasiswa_per_fakultas)"
      ],
      "metadata": {
        "colab": {
          "base_uri": "https://localhost:8080/"
        },
        "id": "XQzXoY0_-n_k",
        "outputId": "9fb3ccc6-3360-4b0c-ff26-10af4085ab4c"
      },
      "execution_count": 57,
      "outputs": [
        {
          "output_type": "stream",
          "name": "stdout",
          "text": [
            "fakultas\n",
            "FTI      834\n",
            "STEI     777\n",
            "FTSL     660\n",
            "FMIPA    627\n",
            "FTTM     579\n",
            "FTMD     480\n",
            "FITB     403\n",
            "SAPPK    315\n",
            "SITHR    282\n",
            "SITHS    178\n",
            "Name: count, dtype: int64\n"
          ]
        }
      ]
    },
    {
      "cell_type": "markdown",
      "source": [
        "**Menghitung nilai korelasi antara nilai fisika dan kimia (Apakah berkorelasi lurus, terbalik, atau tidak berkorelasi)**"
      ],
      "metadata": {
        "id": "okNe2--w9X8n"
      }
    },
    {
      "cell_type": "code",
      "source": [
        "# Hitung Korelasi Antara Nilai Fisika Dan Kimia\n",
        "correlation = df['nilai_fis'].corr(df['nilai_kim'])\n",
        "print(correlation)"
      ],
      "metadata": {
        "colab": {
          "base_uri": "https://localhost:8080/"
        },
        "id": "oSNxcxf3-w8S",
        "outputId": "39dc7359-6119-453e-a4b5-f545f3b58020"
      },
      "execution_count": 58,
      "outputs": [
        {
          "output_type": "stream",
          "name": "stdout",
          "text": [
            "0.7988187423880275\n"
          ]
        }
      ]
    },
    {
      "cell_type": "code",
      "source": [
        "# Tentukan Jenis Korelasi\n",
        "korelasi = data['nilai_fis'].corr(data['nilai_kim'])\n",
        "\n",
        "print(\"Nilai korelasi antara Fisika dan Kimia:\", korelasi)\n",
        "if korelasi > 0.7:\n",
        "    print(\"Korelasi kuat dan lurus.\")\n",
        "elif korelasi < -0.7:\n",
        "    print(\"Korelasi kuat dan terbalik.\")\n",
        "elif -0.7 <= korelasi <= 0.7:\n",
        "    print(\"Tidak ada korelasi yang signifikan.\")"
      ],
      "metadata": {
        "colab": {
          "base_uri": "https://localhost:8080/"
        },
        "id": "0G4pXyIW-7ZH",
        "outputId": "3f67f6dc-bd99-42c7-9593-4e7f1f56eac6"
      },
      "execution_count": 59,
      "outputs": [
        {
          "output_type": "stream",
          "name": "stdout",
          "text": [
            "Nilai korelasi antara Fisika dan Kimia: 0.7988187423880275\n",
            "Korelasi kuat dan lurus.\n"
          ]
        }
      ]
    },
    {
      "cell_type": "markdown",
      "source": [
        "# LATIHAN PROBLEM 2"
      ],
      "metadata": {
        "id": "7ecU0iXI9nPe"
      }
    },
    {
      "cell_type": "code",
      "source": [
        "data = pd.read_csv('/content/H05.csv')\n",
        "data"
      ],
      "metadata": {
        "colab": {
          "base_uri": "https://localhost:8080/",
          "height": 424
        },
        "id": "Wg5PU6tC_ac0",
        "outputId": "a095da4b-538c-4195-c4a2-a62449ab7c5b"
      },
      "execution_count": 61,
      "outputs": [
        {
          "output_type": "execute_result",
          "data": {
            "text/plain": [
              "                          nama fakultas  nilai_mat  nilai_kim  nilai_fis\n",
              "0         Farhan Fathur Rahman    FMIPA      57.21      34.14      38.93\n",
              "1               Steven Margono    FMIPA      67.43      51.50      57.20\n",
              "2                 Ryan Sentosa    SAPPK      90.62      37.38      40.73\n",
              "3         Muhajah Babny Muslim    FMIPA      72.31      38.80      44.79\n",
              "4             Alvin Natawiguna     FTSL      65.45      57.67      56.39\n",
              "...                        ...      ...        ...        ...        ...\n",
              "5130               Khoirrashif    SITHR      66.14      46.82      56.74\n",
              "5131      Jefri Hendri Adriano     FTSL      53.68      34.74      33.76\n",
              "5132               Iki Hidayat     FITB      69.63      35.04      37.65\n",
              "5133  Muhammad Nashir Sitompul      FTI      79.69      39.06      50.17\n",
              "5134     Billy Richardo Sagala     STEI      68.68      51.23      66.18\n",
              "\n",
              "[5135 rows x 5 columns]"
            ],
            "text/html": [
              "\n",
              "  <div id=\"df-67352169-f0f5-4b77-950c-0b95361567d1\" class=\"colab-df-container\">\n",
              "    <div>\n",
              "<style scoped>\n",
              "    .dataframe tbody tr th:only-of-type {\n",
              "        vertical-align: middle;\n",
              "    }\n",
              "\n",
              "    .dataframe tbody tr th {\n",
              "        vertical-align: top;\n",
              "    }\n",
              "\n",
              "    .dataframe thead th {\n",
              "        text-align: right;\n",
              "    }\n",
              "</style>\n",
              "<table border=\"1\" class=\"dataframe\">\n",
              "  <thead>\n",
              "    <tr style=\"text-align: right;\">\n",
              "      <th></th>\n",
              "      <th>nama</th>\n",
              "      <th>fakultas</th>\n",
              "      <th>nilai_mat</th>\n",
              "      <th>nilai_kim</th>\n",
              "      <th>nilai_fis</th>\n",
              "    </tr>\n",
              "  </thead>\n",
              "  <tbody>\n",
              "    <tr>\n",
              "      <th>0</th>\n",
              "      <td>Farhan Fathur Rahman</td>\n",
              "      <td>FMIPA</td>\n",
              "      <td>57.21</td>\n",
              "      <td>34.14</td>\n",
              "      <td>38.93</td>\n",
              "    </tr>\n",
              "    <tr>\n",
              "      <th>1</th>\n",
              "      <td>Steven Margono</td>\n",
              "      <td>FMIPA</td>\n",
              "      <td>67.43</td>\n",
              "      <td>51.50</td>\n",
              "      <td>57.20</td>\n",
              "    </tr>\n",
              "    <tr>\n",
              "      <th>2</th>\n",
              "      <td>Ryan Sentosa</td>\n",
              "      <td>SAPPK</td>\n",
              "      <td>90.62</td>\n",
              "      <td>37.38</td>\n",
              "      <td>40.73</td>\n",
              "    </tr>\n",
              "    <tr>\n",
              "      <th>3</th>\n",
              "      <td>Muhajah Babny Muslim</td>\n",
              "      <td>FMIPA</td>\n",
              "      <td>72.31</td>\n",
              "      <td>38.80</td>\n",
              "      <td>44.79</td>\n",
              "    </tr>\n",
              "    <tr>\n",
              "      <th>4</th>\n",
              "      <td>Alvin Natawiguna</td>\n",
              "      <td>FTSL</td>\n",
              "      <td>65.45</td>\n",
              "      <td>57.67</td>\n",
              "      <td>56.39</td>\n",
              "    </tr>\n",
              "    <tr>\n",
              "      <th>...</th>\n",
              "      <td>...</td>\n",
              "      <td>...</td>\n",
              "      <td>...</td>\n",
              "      <td>...</td>\n",
              "      <td>...</td>\n",
              "    </tr>\n",
              "    <tr>\n",
              "      <th>5130</th>\n",
              "      <td>Khoirrashif</td>\n",
              "      <td>SITHR</td>\n",
              "      <td>66.14</td>\n",
              "      <td>46.82</td>\n",
              "      <td>56.74</td>\n",
              "    </tr>\n",
              "    <tr>\n",
              "      <th>5131</th>\n",
              "      <td>Jefri Hendri Adriano</td>\n",
              "      <td>FTSL</td>\n",
              "      <td>53.68</td>\n",
              "      <td>34.74</td>\n",
              "      <td>33.76</td>\n",
              "    </tr>\n",
              "    <tr>\n",
              "      <th>5132</th>\n",
              "      <td>Iki Hidayat</td>\n",
              "      <td>FITB</td>\n",
              "      <td>69.63</td>\n",
              "      <td>35.04</td>\n",
              "      <td>37.65</td>\n",
              "    </tr>\n",
              "    <tr>\n",
              "      <th>5133</th>\n",
              "      <td>Muhammad Nashir Sitompul</td>\n",
              "      <td>FTI</td>\n",
              "      <td>79.69</td>\n",
              "      <td>39.06</td>\n",
              "      <td>50.17</td>\n",
              "    </tr>\n",
              "    <tr>\n",
              "      <th>5134</th>\n",
              "      <td>Billy Richardo Sagala</td>\n",
              "      <td>STEI</td>\n",
              "      <td>68.68</td>\n",
              "      <td>51.23</td>\n",
              "      <td>66.18</td>\n",
              "    </tr>\n",
              "  </tbody>\n",
              "</table>\n",
              "<p>5135 rows × 5 columns</p>\n",
              "</div>\n",
              "    <div class=\"colab-df-buttons\">\n",
              "\n",
              "  <div class=\"colab-df-container\">\n",
              "    <button class=\"colab-df-convert\" onclick=\"convertToInteractive('df-67352169-f0f5-4b77-950c-0b95361567d1')\"\n",
              "            title=\"Convert this dataframe to an interactive table.\"\n",
              "            style=\"display:none;\">\n",
              "\n",
              "  <svg xmlns=\"http://www.w3.org/2000/svg\" height=\"24px\" viewBox=\"0 -960 960 960\">\n",
              "    <path d=\"M120-120v-720h720v720H120Zm60-500h600v-160H180v160Zm220 220h160v-160H400v160Zm0 220h160v-160H400v160ZM180-400h160v-160H180v160Zm440 0h160v-160H620v160ZM180-180h160v-160H180v160Zm440 0h160v-160H620v160Z\"/>\n",
              "  </svg>\n",
              "    </button>\n",
              "\n",
              "  <style>\n",
              "    .colab-df-container {\n",
              "      display:flex;\n",
              "      gap: 12px;\n",
              "    }\n",
              "\n",
              "    .colab-df-convert {\n",
              "      background-color: #E8F0FE;\n",
              "      border: none;\n",
              "      border-radius: 50%;\n",
              "      cursor: pointer;\n",
              "      display: none;\n",
              "      fill: #1967D2;\n",
              "      height: 32px;\n",
              "      padding: 0 0 0 0;\n",
              "      width: 32px;\n",
              "    }\n",
              "\n",
              "    .colab-df-convert:hover {\n",
              "      background-color: #E2EBFA;\n",
              "      box-shadow: 0px 1px 2px rgba(60, 64, 67, 0.3), 0px 1px 3px 1px rgba(60, 64, 67, 0.15);\n",
              "      fill: #174EA6;\n",
              "    }\n",
              "\n",
              "    .colab-df-buttons div {\n",
              "      margin-bottom: 4px;\n",
              "    }\n",
              "\n",
              "    [theme=dark] .colab-df-convert {\n",
              "      background-color: #3B4455;\n",
              "      fill: #D2E3FC;\n",
              "    }\n",
              "\n",
              "    [theme=dark] .colab-df-convert:hover {\n",
              "      background-color: #434B5C;\n",
              "      box-shadow: 0px 1px 3px 1px rgba(0, 0, 0, 0.15);\n",
              "      filter: drop-shadow(0px 1px 2px rgba(0, 0, 0, 0.3));\n",
              "      fill: #FFFFFF;\n",
              "    }\n",
              "  </style>\n",
              "\n",
              "    <script>\n",
              "      const buttonEl =\n",
              "        document.querySelector('#df-67352169-f0f5-4b77-950c-0b95361567d1 button.colab-df-convert');\n",
              "      buttonEl.style.display =\n",
              "        google.colab.kernel.accessAllowed ? 'block' : 'none';\n",
              "\n",
              "      async function convertToInteractive(key) {\n",
              "        const element = document.querySelector('#df-67352169-f0f5-4b77-950c-0b95361567d1');\n",
              "        const dataTable =\n",
              "          await google.colab.kernel.invokeFunction('convertToInteractive',\n",
              "                                                    [key], {});\n",
              "        if (!dataTable) return;\n",
              "\n",
              "        const docLinkHtml = 'Like what you see? Visit the ' +\n",
              "          '<a target=\"_blank\" href=https://colab.research.google.com/notebooks/data_table.ipynb>data table notebook</a>'\n",
              "          + ' to learn more about interactive tables.';\n",
              "        element.innerHTML = '';\n",
              "        dataTable['output_type'] = 'display_data';\n",
              "        await google.colab.output.renderOutput(dataTable, element);\n",
              "        const docLink = document.createElement('div');\n",
              "        docLink.innerHTML = docLinkHtml;\n",
              "        element.appendChild(docLink);\n",
              "      }\n",
              "    </script>\n",
              "  </div>\n",
              "\n",
              "\n",
              "<div id=\"df-53116fb3-a3fa-4f8d-954b-c2e9989b1d8f\">\n",
              "  <button class=\"colab-df-quickchart\" onclick=\"quickchart('df-53116fb3-a3fa-4f8d-954b-c2e9989b1d8f')\"\n",
              "            title=\"Suggest charts\"\n",
              "            style=\"display:none;\">\n",
              "\n",
              "<svg xmlns=\"http://www.w3.org/2000/svg\" height=\"24px\"viewBox=\"0 0 24 24\"\n",
              "     width=\"24px\">\n",
              "    <g>\n",
              "        <path d=\"M19 3H5c-1.1 0-2 .9-2 2v14c0 1.1.9 2 2 2h14c1.1 0 2-.9 2-2V5c0-1.1-.9-2-2-2zM9 17H7v-7h2v7zm4 0h-2V7h2v10zm4 0h-2v-4h2v4z\"/>\n",
              "    </g>\n",
              "</svg>\n",
              "  </button>\n",
              "\n",
              "<style>\n",
              "  .colab-df-quickchart {\n",
              "      --bg-color: #E8F0FE;\n",
              "      --fill-color: #1967D2;\n",
              "      --hover-bg-color: #E2EBFA;\n",
              "      --hover-fill-color: #174EA6;\n",
              "      --disabled-fill-color: #AAA;\n",
              "      --disabled-bg-color: #DDD;\n",
              "  }\n",
              "\n",
              "  [theme=dark] .colab-df-quickchart {\n",
              "      --bg-color: #3B4455;\n",
              "      --fill-color: #D2E3FC;\n",
              "      --hover-bg-color: #434B5C;\n",
              "      --hover-fill-color: #FFFFFF;\n",
              "      --disabled-bg-color: #3B4455;\n",
              "      --disabled-fill-color: #666;\n",
              "  }\n",
              "\n",
              "  .colab-df-quickchart {\n",
              "    background-color: var(--bg-color);\n",
              "    border: none;\n",
              "    border-radius: 50%;\n",
              "    cursor: pointer;\n",
              "    display: none;\n",
              "    fill: var(--fill-color);\n",
              "    height: 32px;\n",
              "    padding: 0;\n",
              "    width: 32px;\n",
              "  }\n",
              "\n",
              "  .colab-df-quickchart:hover {\n",
              "    background-color: var(--hover-bg-color);\n",
              "    box-shadow: 0 1px 2px rgba(60, 64, 67, 0.3), 0 1px 3px 1px rgba(60, 64, 67, 0.15);\n",
              "    fill: var(--button-hover-fill-color);\n",
              "  }\n",
              "\n",
              "  .colab-df-quickchart-complete:disabled,\n",
              "  .colab-df-quickchart-complete:disabled:hover {\n",
              "    background-color: var(--disabled-bg-color);\n",
              "    fill: var(--disabled-fill-color);\n",
              "    box-shadow: none;\n",
              "  }\n",
              "\n",
              "  .colab-df-spinner {\n",
              "    border: 2px solid var(--fill-color);\n",
              "    border-color: transparent;\n",
              "    border-bottom-color: var(--fill-color);\n",
              "    animation:\n",
              "      spin 1s steps(1) infinite;\n",
              "  }\n",
              "\n",
              "  @keyframes spin {\n",
              "    0% {\n",
              "      border-color: transparent;\n",
              "      border-bottom-color: var(--fill-color);\n",
              "      border-left-color: var(--fill-color);\n",
              "    }\n",
              "    20% {\n",
              "      border-color: transparent;\n",
              "      border-left-color: var(--fill-color);\n",
              "      border-top-color: var(--fill-color);\n",
              "    }\n",
              "    30% {\n",
              "      border-color: transparent;\n",
              "      border-left-color: var(--fill-color);\n",
              "      border-top-color: var(--fill-color);\n",
              "      border-right-color: var(--fill-color);\n",
              "    }\n",
              "    40% {\n",
              "      border-color: transparent;\n",
              "      border-right-color: var(--fill-color);\n",
              "      border-top-color: var(--fill-color);\n",
              "    }\n",
              "    60% {\n",
              "      border-color: transparent;\n",
              "      border-right-color: var(--fill-color);\n",
              "    }\n",
              "    80% {\n",
              "      border-color: transparent;\n",
              "      border-right-color: var(--fill-color);\n",
              "      border-bottom-color: var(--fill-color);\n",
              "    }\n",
              "    90% {\n",
              "      border-color: transparent;\n",
              "      border-bottom-color: var(--fill-color);\n",
              "    }\n",
              "  }\n",
              "</style>\n",
              "\n",
              "  <script>\n",
              "    async function quickchart(key) {\n",
              "      const quickchartButtonEl =\n",
              "        document.querySelector('#' + key + ' button');\n",
              "      quickchartButtonEl.disabled = true;  // To prevent multiple clicks.\n",
              "      quickchartButtonEl.classList.add('colab-df-spinner');\n",
              "      try {\n",
              "        const charts = await google.colab.kernel.invokeFunction(\n",
              "            'suggestCharts', [key], {});\n",
              "      } catch (error) {\n",
              "        console.error('Error during call to suggestCharts:', error);\n",
              "      }\n",
              "      quickchartButtonEl.classList.remove('colab-df-spinner');\n",
              "      quickchartButtonEl.classList.add('colab-df-quickchart-complete');\n",
              "    }\n",
              "    (() => {\n",
              "      let quickchartButtonEl =\n",
              "        document.querySelector('#df-53116fb3-a3fa-4f8d-954b-c2e9989b1d8f button');\n",
              "      quickchartButtonEl.style.display =\n",
              "        google.colab.kernel.accessAllowed ? 'block' : 'none';\n",
              "    })();\n",
              "  </script>\n",
              "</div>\n",
              "\n",
              "  <div id=\"id_200826b0-1e6f-4de5-a894-b9d0710067e5\">\n",
              "    <style>\n",
              "      .colab-df-generate {\n",
              "        background-color: #E8F0FE;\n",
              "        border: none;\n",
              "        border-radius: 50%;\n",
              "        cursor: pointer;\n",
              "        display: none;\n",
              "        fill: #1967D2;\n",
              "        height: 32px;\n",
              "        padding: 0 0 0 0;\n",
              "        width: 32px;\n",
              "      }\n",
              "\n",
              "      .colab-df-generate:hover {\n",
              "        background-color: #E2EBFA;\n",
              "        box-shadow: 0px 1px 2px rgba(60, 64, 67, 0.3), 0px 1px 3px 1px rgba(60, 64, 67, 0.15);\n",
              "        fill: #174EA6;\n",
              "      }\n",
              "\n",
              "      [theme=dark] .colab-df-generate {\n",
              "        background-color: #3B4455;\n",
              "        fill: #D2E3FC;\n",
              "      }\n",
              "\n",
              "      [theme=dark] .colab-df-generate:hover {\n",
              "        background-color: #434B5C;\n",
              "        box-shadow: 0px 1px 3px 1px rgba(0, 0, 0, 0.15);\n",
              "        filter: drop-shadow(0px 1px 2px rgba(0, 0, 0, 0.3));\n",
              "        fill: #FFFFFF;\n",
              "      }\n",
              "    </style>\n",
              "    <button class=\"colab-df-generate\" onclick=\"generateWithVariable('data')\"\n",
              "            title=\"Generate code using this dataframe.\"\n",
              "            style=\"display:none;\">\n",
              "\n",
              "  <svg xmlns=\"http://www.w3.org/2000/svg\" height=\"24px\"viewBox=\"0 0 24 24\"\n",
              "       width=\"24px\">\n",
              "    <path d=\"M7,19H8.4L18.45,9,17,7.55,7,17.6ZM5,21V16.75L18.45,3.32a2,2,0,0,1,2.83,0l1.4,1.43a1.91,1.91,0,0,1,.58,1.4,1.91,1.91,0,0,1-.58,1.4L9.25,21ZM18.45,9,17,7.55Zm-12,3A5.31,5.31,0,0,0,4.9,8.1,5.31,5.31,0,0,0,1,6.5,5.31,5.31,0,0,0,4.9,4.9,5.31,5.31,0,0,0,6.5,1,5.31,5.31,0,0,0,8.1,4.9,5.31,5.31,0,0,0,12,6.5,5.46,5.46,0,0,0,6.5,12Z\"/>\n",
              "  </svg>\n",
              "    </button>\n",
              "    <script>\n",
              "      (() => {\n",
              "      const buttonEl =\n",
              "        document.querySelector('#id_200826b0-1e6f-4de5-a894-b9d0710067e5 button.colab-df-generate');\n",
              "      buttonEl.style.display =\n",
              "        google.colab.kernel.accessAllowed ? 'block' : 'none';\n",
              "\n",
              "      buttonEl.onclick = () => {\n",
              "        google.colab.notebook.generateWithVariable('data');\n",
              "      }\n",
              "      })();\n",
              "    </script>\n",
              "  </div>\n",
              "\n",
              "    </div>\n",
              "  </div>\n"
            ],
            "application/vnd.google.colaboratory.intrinsic+json": {
              "type": "dataframe",
              "variable_name": "data",
              "summary": "{\n  \"name\": \"data\",\n  \"rows\": 5135,\n  \"fields\": [\n    {\n      \"column\": \"nama\",\n      \"properties\": {\n        \"dtype\": \"string\",\n        \"num_unique_values\": 5112,\n        \"samples\": [\n          \"Yuniki Mediayati\",\n          \"Risky Adha Pradikto\",\n          \"Viani Hafiza\"\n        ],\n        \"semantic_type\": \"\",\n        \"description\": \"\"\n      }\n    },\n    {\n      \"column\": \"fakultas\",\n      \"properties\": {\n        \"dtype\": \"category\",\n        \"num_unique_values\": 10,\n        \"samples\": [\n          \"SITHS\",\n          \"SAPPK\",\n          \"FITB\"\n        ],\n        \"semantic_type\": \"\",\n        \"description\": \"\"\n      }\n    },\n    {\n      \"column\": \"nilai_mat\",\n      \"properties\": {\n        \"dtype\": \"number\",\n        \"std\": 13.047686509313355,\n        \"min\": 20.0,\n        \"max\": 100.0,\n        \"num_unique_values\": 3108,\n        \"samples\": [\n          83.78,\n          64.16,\n          69.9\n        ],\n        \"semantic_type\": \"\",\n        \"description\": \"\"\n      }\n    },\n    {\n      \"column\": \"nilai_kim\",\n      \"properties\": {\n        \"dtype\": \"number\",\n        \"std\": 11.170283832567288,\n        \"min\": 2.09,\n        \"max\": 81.5,\n        \"num_unique_values\": 2984,\n        \"samples\": [\n          64.52,\n          62.82,\n          35.27\n        ],\n        \"semantic_type\": \"\",\n        \"description\": \"\"\n      }\n    },\n    {\n      \"column\": \"nilai_fis\",\n      \"properties\": {\n        \"dtype\": \"number\",\n        \"std\": 11.608980227398591,\n        \"min\": 9.11,\n        \"max\": 92.57,\n        \"num_unique_values\": 3017,\n        \"samples\": [\n          72.36,\n          49.27,\n          67.94\n        ],\n        \"semantic_type\": \"\",\n        \"description\": \"\"\n      }\n    }\n  ]\n}"
            }
          },
          "metadata": {},
          "execution_count": 61
        }
      ]
    },
    {
      "cell_type": "markdown",
      "source": [
        "**Menampilkan nilai matematika, fisika, dan kimia milik Tuan Leo**"
      ],
      "metadata": {
        "id": "V-H0eC2d9ygL"
      }
    },
    {
      "cell_type": "code",
      "source": [
        "#Tampilkan nilai matematika, fisika, dan kimia milik Tuan Leo\n",
        "leo = data[data['nama'] == \"Leonardus Kevin\"]\n",
        "if not leo.empty:\n",
        "    print(\"\\nNilai Leonardus Kevin:\")\n",
        "    print(leo[['nilai_mat', 'nilai_kim', 'nilai_fis']])\n",
        "else:\n",
        "    print(\"\\nLeonardus Kevin tidak ditemukan.\")"
      ],
      "metadata": {
        "colab": {
          "base_uri": "https://localhost:8080/"
        },
        "id": "vdjT4CJw_Dyn",
        "outputId": "f2d3a7db-b35e-4bd3-bf3e-5dfa7f95abe4"
      },
      "execution_count": 62,
      "outputs": [
        {
          "output_type": "stream",
          "name": "stdout",
          "text": [
            "\n",
            "Nilai Leonardus Kevin:\n",
            "     nilai_mat  nilai_kim  nilai_fis\n",
            "895      63.53      19.67      26.15\n"
          ]
        }
      ]
    },
    {
      "cell_type": "markdown",
      "source": [
        "**Mencari mahasiswa dengan nilai fisika tertinggi (Jika lebih dari satu, tampilkan semua)**"
      ],
      "metadata": {
        "id": "ahNTda3a961w"
      }
    },
    {
      "cell_type": "code",
      "source": [
        "if 'nilai_fis' not in data.columns:\n",
        "    print(\"Kolom 'nilai_fis' tidak ditemukan dalam DataFrame.\")\n",
        "else:\n",
        "    # Mencari nilai Fisika tertinggi\n",
        "    nilai_fisika_tertinggi = data['nilai_fis'].max()\n",
        "\n",
        "    # Mencari mahasiswa dengan nilai Fisika tertinggi\n",
        "    mahasiswa_tertinggi = data[data['nilai_fis'] == nilai_fisika_tertinggi]\n",
        "\n",
        "    # Menampilkan hasil\n",
        "    if not mahasiswa_tertinggi.empty:\n",
        "        print(\"Mahasiswa dengan nilai Fisika tertinggi:\")\n",
        "        print(mahasiswa_tertinggi[['nama', 'nilai_fis']])  # Gantilah 'nama' dengan nama kolom yang sesuai\n",
        "    else:\n",
        "        print(\"Tidak ada mahasiswa yang ditemukan.\")"
      ],
      "metadata": {
        "colab": {
          "base_uri": "https://localhost:8080/"
        },
        "id": "ZmZKtBc9_JON",
        "outputId": "db98883c-7eb1-45b8-e64f-3e49b8f2a2f4"
      },
      "execution_count": 63,
      "outputs": [
        {
          "output_type": "stream",
          "name": "stdout",
          "text": [
            "Mahasiswa dengan nilai Fisika tertinggi:\n",
            "                         nama  nilai_fis\n",
            "1936  Yuniar Fazriani Rusmana      92.57\n"
          ]
        }
      ]
    },
    {
      "cell_type": "markdown",
      "source": [
        "**Menampilkan 10 mahasiswa dengan nilai kimia tertinggi**"
      ],
      "metadata": {
        "id": "Jx7Pc4l8-K2E"
      }
    },
    {
      "cell_type": "code",
      "source": [
        "# Mengambil 10 mahasiswa dengan nilai Kimia tertinggi\n",
        "top_10_kimia = data.nlargest(10, 'nilai_kim')\n",
        "\n",
        "# Menampilkan hasil\n",
        "print(\"10 Mahasiswa dengan nilai Kimia tertinggi:\")\n",
        "print(top_10_kimia[['nama', 'nilai_kim']])"
      ],
      "metadata": {
        "colab": {
          "base_uri": "https://localhost:8080/"
        },
        "id": "0GNDT9SE_Ol0",
        "outputId": "4d992a63-546c-4a68-fd66-f5f2f8b61223"
      },
      "execution_count": 64,
      "outputs": [
        {
          "output_type": "stream",
          "name": "stdout",
          "text": [
            "10 Mahasiswa dengan nilai Kimia tertinggi:\n",
            "                          nama  nilai_kim\n",
            "2554      Faathir Reza Avicena      81.50\n",
            "2779      Dinda A A Z Mundakir      81.34\n",
            "3544        Tammya Ayu Purnomo      81.20\n",
            "4934    Alyssa Nadhira Windari      78.83\n",
            "1137          Izni Nur Ibrahim      78.46\n",
            "2262      Rinaldi Oky Setiawan      77.44\n",
            "4070      Ias Azhari Rezkyarno      76.90\n",
            "2945           Klara Petra T T      76.61\n",
            "1788  Naudy Germanimo Laksmana      76.38\n",
            "1310       Mardliyahtur Rohmah      76.36\n"
          ]
        }
      ]
    },
    {
      "cell_type": "markdown",
      "source": [
        "**Menghitung banyaknya nilai matematika di bawah 50**"
      ],
      "metadata": {
        "id": "EF40hNjB-Wdr"
      }
    },
    {
      "cell_type": "code",
      "source": [
        "# Menghitung banyaknya nilai Matematika di bawah 50\n",
        "jumlah_bawah_50 = (data['nilai_mat'] < 50).sum()\n",
        "\n",
        "# Menampilkan hasil\n",
        "print(f\"Banyaknya nilai Matematika di bawah 50: {jumlah_bawah_50}\")"
      ],
      "metadata": {
        "colab": {
          "base_uri": "https://localhost:8080/"
        },
        "id": "uwkQ-ocxAFFl",
        "outputId": "106ddf84-440d-4241-a2fb-2880ae1cd298"
      },
      "execution_count": 65,
      "outputs": [
        {
          "output_type": "stream",
          "name": "stdout",
          "text": [
            "Banyaknya nilai Matematika di bawah 50: 329\n"
          ]
        }
      ]
    },
    {
      "cell_type": "markdown",
      "source": [
        "**Menghitung banyaknya mahasiswa di FMIPA**"
      ],
      "metadata": {
        "id": "cuMThIzT_0iw"
      }
    },
    {
      "cell_type": "code",
      "source": [
        "# Menghitung banyaknya mahasiswa di FMIPA\n",
        "jumlah_fmipa = (data['fakultas'] == 'FMIPA').sum()\n",
        "\n",
        "# Menampilkan hasil\n",
        "print(f\"Banyaknya mahasiswa di FMIPA: {jumlah_fmipa}\")"
      ],
      "metadata": {
        "colab": {
          "base_uri": "https://localhost:8080/"
        },
        "id": "H9BmZwCIAJ_W",
        "outputId": "6ec5f2a3-7b1d-40ea-bf43-542affba6131"
      },
      "execution_count": 66,
      "outputs": [
        {
          "output_type": "stream",
          "name": "stdout",
          "text": [
            "Banyaknya mahasiswa di FMIPA: 627\n"
          ]
        }
      ]
    }
  ],
  "metadata": {
    "kernelspec": {
      "display_name": "Python 3",
      "language": "python",
      "name": "python3"
    },
    "language_info": {
      "codemirror_mode": {
        "name": "ipython",
        "version": 3
      },
      "file_extension": ".py",
      "mimetype": "text/x-python",
      "name": "python",
      "nbconvert_exporter": "python",
      "pygments_lexer": "ipython3",
      "version": "3.13.0"
    },
    "colab": {
      "provenance": [],
      "include_colab_link": true
    }
  },
  "nbformat": 4,
  "nbformat_minor": 0
}