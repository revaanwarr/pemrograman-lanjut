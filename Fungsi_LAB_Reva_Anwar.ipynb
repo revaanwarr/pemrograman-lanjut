{
  "nbformat": 4,
  "nbformat_minor": 0,
  "metadata": {
    "colab": {
      "provenance": [],
      "name": "Fungsi LAB Reva Anwar.ipynb",
      "include_colab_link": true
    },
    "kernelspec": {
      "name": "python3",
      "display_name": "Python 3"
    },
    "language_info": {
      "name": "python"
    }
  },
  "cells": [
    {
      "cell_type": "markdown",
      "metadata": {
        "id": "view-in-github",
        "colab_type": "text"
      },
      "source": [
        "<a href=\"https://colab.research.google.com/github/revaanwarr/pemrograman-lanjut/blob/main/Fungsi_LAB_Reva_Anwar.ipynb\" target=\"_parent\"><img src=\"https://colab.research.google.com/assets/colab-badge.svg\" alt=\"Open In Colab\"/></a>"
      ]
    },
    {
      "cell_type": "markdown",
      "source": [
        "#**🖥️👩🏻‍💻PRAKTIKUM PEMROGRAMAN LANJUT🔥**\n",
        "##**FUNGSI - Senin, 16 Desember 2024**\n",
        "\n",
        "👤 Nama: Reva Anwar / NRP: 2C2230003 / Kelas: III/A Sains Data\n",
        "\n",
        "Fungsi adalah bagian dari program yang mampu mengerjakan tugas atau operasi tertentu di luar program utama. Fungsi akan mengembalikan nilai sesuai algoritma yang diberikan.  \n",
        "\n",
        "\n",
        "Logika:\n",
        "1.\tProgram ini menggunakan fungsi bernama `kuadrat` yang menerima satu parameter `x`.  \n",
        "2.\tFungsi tersebut menghitung kuadrat dari `x` dengan rumus `x * x` dan mengembalikan hasilnya.  \n",
        "3.\tDi dalam program utama:\n",
        "-\tProgram meminta pengguna memasukkan nilai `n` (bilangan bulat).\n",
        "-\tFungsi `kuadrat` dipanggil dengan `n` sebagai parameter, dan hasilnya disimpan ke dalam variabel `n2`.  \n",
        "-\tProgram mencetak hasil kuadrat dari `n`.  \n",
        "\n"
      ],
      "metadata": {
        "id": "_bN6_LxQCJZT"
      }
    },
    {
      "cell_type": "markdown",
      "source": [
        "#🤸🏻‍♀️ EKSPLORASI PRIBADI DI KELAS ✨"
      ],
      "metadata": {
        "id": "N0U2Qjks8P9F"
      }
    },
    {
      "cell_type": "code",
      "source": [
        "def kuadrat(x):\n",
        "    x2 = x * x\n",
        "    return x2"
      ],
      "metadata": {
        "id": "jWnjmNxg0BnE"
      },
      "execution_count": 1,
      "outputs": []
    },
    {
      "cell_type": "markdown",
      "source": [
        "Fungsi di atas bernama `kuadrat` dan mengembalikan nilai kuadrat. Fungsi itu juga menerima satu parameter bernama `x`."
      ],
      "metadata": {
        "id": "ST9zXi870FMk"
      }
    },
    {
      "cell_type": "code",
      "source": [
        "def kuadrat(x):\n",
        "    x2 = x * x\n",
        "    return x2\n",
        "\n",
        "n = int(input())\n",
        "n2 = kuadrat(n)\n",
        "print(n2)"
      ],
      "metadata": {
        "id": "rbC_SvQM0JN0",
        "outputId": "20d2213f-9eda-43ee-a255-31de8a15de1c",
        "colab": {
          "base_uri": "https://localhost:8080/"
        }
      },
      "execution_count": 2,
      "outputs": [
        {
          "output_type": "stream",
          "name": "stdout",
          "text": [
            "2\n",
            "4\n"
          ]
        }
      ]
    },
    {
      "cell_type": "code",
      "source": [
        "def pangkat(a, b):  # Asumsi b >= 0\n",
        "    c = 1\n",
        "    for i in range(b):\n",
        "        c *= a\n",
        "    return c"
      ],
      "metadata": {
        "id": "ijUyiJFo0OlL"
      },
      "execution_count": 3,
      "outputs": []
    },
    {
      "cell_type": "code",
      "source": [
        "print(\"Menu:\")\n",
        "print(\"1. Burger\")\n",
        "print(\"2. Ayam Geprek\")\n",
        "print(\"3. Mie Instan\")\n",
        "print(\"Masukkan pilihan: \")\n",
        "pilihan_makanan = int(input())\n",
        "\n",
        "# Pengulangan untuk menu minuman dan tambahan"
      ],
      "metadata": {
        "id": "k5cNCS-i0UPF",
        "outputId": "f48445dc-d8a9-4231-c305-44308b6f19c6",
        "colab": {
          "base_uri": "https://localhost:8080/"
        }
      },
      "execution_count": 4,
      "outputs": [
        {
          "name": "stdout",
          "output_type": "stream",
          "text": [
            "Menu:\n",
            "1. Burger\n",
            "2. Ayam Geprek\n",
            "3. Mie Instan\n",
            "Masukkan pilihan: \n",
            "2\n"
          ]
        }
      ]
    },
    {
      "cell_type": "code",
      "source": [
        "def tulis_menu(pil1, pil2, pil3):\n",
        "    print(\"Menu:\")\n",
        "    print(\"1. \" + str(pil1))\n",
        "    print(\"2. \" + str(pil2))\n",
        "    print(\"3. \" + str(pil3))\n",
        "    print(\"Masukkan pilihan: \")\n",
        "\n",
        "tulis_menu(\"Burger\", \"Ayam Geprek\", \"Mie Instan\")\n",
        "pilihan_makanan = int(input())\n",
        "\n",
        "tulis_menu(\"Jus Alpukat\", \"Thai Tea\", \"Teh Tarik\")\n",
        "pilihan_minuman = int(input())\n",
        "\n",
        "tulis_menu(\"Kentang\", \"Krupuk\", \"Abon\")\n",
        "pilihan_tambahan = int(input())"
      ],
      "metadata": {
        "id": "JJEBZTUo0cMr",
        "outputId": "bd55fc89-3886-475d-b898-718382371d10",
        "colab": {
          "base_uri": "https://localhost:8080/"
        }
      },
      "execution_count": 5,
      "outputs": [
        {
          "name": "stdout",
          "output_type": "stream",
          "text": [
            "Menu:\n",
            "1. Burger\n",
            "2. Ayam Geprek\n",
            "3. Mie Instan\n",
            "Masukkan pilihan: \n",
            "2\n",
            "Menu:\n",
            "1. Jus Alpukat\n",
            "2. Thai Tea\n",
            "3. Teh Tarik\n",
            "Masukkan pilihan: \n",
            "1\n",
            "Menu:\n",
            "1. Kentang\n",
            "2. Krupuk\n",
            "3. Abon\n",
            "Masukkan pilihan: \n",
            "1\n"
          ]
        }
      ]
    },
    {
      "cell_type": "markdown",
      "source": [
        "#🧠 LATIHAN SOAL DI KELAS ⏱️"
      ],
      "metadata": {
        "id": "KEGjH0_P9D1-"
      }
    },
    {
      "cell_type": "markdown",
      "source": [
        "**A.\tFungsi Kuadrat**"
      ],
      "metadata": {
        "id": "vDgMopRU0m5k"
      }
    },
    {
      "cell_type": "code",
      "source": [
        "# Definisi fungsi kuadrat\n",
        "def f(x):\n",
        "    return x**2 - 2*x + 5\n",
        "\n",
        "# Input nilai A dan B\n",
        "A = int(input(\"Masukkan nilai A: \"))\n",
        "B = int(input(\"Masukkan nilai B: \"))\n",
        "\n",
        "# Perhitungan dan output f(x) untuk setiap x dari A hingga B\n",
        "for x in range(A, B + 1):\n",
        "    print(f\"f({x}) = {f(x)}\")"
      ],
      "metadata": {
        "id": "kLWwdYNa1lAm",
        "outputId": "f106044c-7771-4bec-f3ab-cca88bdaa389",
        "colab": {
          "base_uri": "https://localhost:8080/"
        }
      },
      "execution_count": 7,
      "outputs": [
        {
          "output_type": "stream",
          "name": "stdout",
          "text": [
            "Masukkan nilai A: 3\n",
            "Masukkan nilai B: 6\n",
            "f(3) = 8\n",
            "f(4) = 13\n",
            "f(5) = 20\n",
            "f(6) = 29\n"
          ]
        }
      ]
    },
    {
      "cell_type": "markdown",
      "source": [
        "**B.\tValidasi Sandi**"
      ],
      "metadata": {
        "id": "Yghe1OWU0qz7"
      }
    },
    {
      "cell_type": "code",
      "source": [
        "# Input kata sandi\n",
        "sandi = input(\"Masukkan kata sandi: \")\n",
        "\n",
        "# Inisialisasi validasi\n",
        "panjang_valid = len(sandi) >= 8\n",
        "huruf_besar_valid = any(char.isupper() for char in sandi)\n",
        "angka_valid = any(char.isdigit() for char in sandi)\n",
        "\n",
        "# Cek semua kondisi\n",
        "if panjang_valid and huruf_besar_valid and angka_valid:\n",
        "    print(\"True\")  # Sandi valid\n",
        "else:\n",
        "    print(\"False\")  # Sandi tidak valid\n",
        "    # Alasan tidak valid\n",
        "    if not panjang_valid:\n",
        "        print(\"Alasan: Kata sandi harus minimal 8 karakter.\")\n",
        "    if not huruf_besar_valid:\n",
        "        print(\"Alasan: Kata sandi harus mengandung minimal satu huruf besar.\")\n",
        "    if not angka_valid:\n",
        "        print(\"Alasan: Kata sandi harus mengandung minimal satu angka.\")"
      ],
      "metadata": {
        "id": "QZyWSYLE17Jy",
        "outputId": "8d105270-527a-44e8-df76-868f6acfa608",
        "colab": {
          "base_uri": "https://localhost:8080/"
        }
      },
      "execution_count": 8,
      "outputs": [
        {
          "output_type": "stream",
          "name": "stdout",
          "text": [
            "Masukkan kata sandi: password2\n",
            "False\n",
            "Alasan: Kata sandi harus mengandung minimal satu huruf besar.\n"
          ]
        }
      ]
    },
    {
      "cell_type": "code",
      "source": [
        "# Input kata sandi\n",
        "sandi = input(\"Masukkan kata sandi: \")\n",
        "\n",
        "# Inisialisasi validasi\n",
        "panjang_valid = len(sandi) >= 8\n",
        "huruf_besar_valid = any(char.isupper() for char in sandi)\n",
        "angka_valid = any(char.isdigit() for char in sandi)\n",
        "\n",
        "# Cek semua kondisi\n",
        "if panjang_valid and huruf_besar_valid and angka_valid:\n",
        "    print(\"True\")  # Sandi valid\n",
        "else:\n",
        "    print(\"False\")  # Sandi tidak valid\n",
        "    # Alasan tidak valid\n",
        "    if not panjang_valid:\n",
        "        print(\"Alasan: Kata sandi harus minimal 8 karakter.\")\n",
        "    if not huruf_besar_valid:\n",
        "        print(\"Alasan: Kata sandi harus mengandung minimal satu huruf besar.\")\n",
        "    if not angka_valid:\n",
        "        print(\"Alasan: Kata sandi harus mengandung minimal satu angka.\")"
      ],
      "metadata": {
        "id": "l89T93QxSYZ6",
        "outputId": "237a8577-b2ee-4670-caa1-1039b5c3002f",
        "colab": {
          "base_uri": "https://localhost:8080/"
        }
      },
      "execution_count": 9,
      "outputs": [
        {
          "output_type": "stream",
          "name": "stdout",
          "text": [
            "Masukkan kata sandi: Password1\n",
            "True\n"
          ]
        }
      ]
    },
    {
      "cell_type": "markdown",
      "source": [
        "**C.\tDeterminan Matriks**\n"
      ],
      "metadata": {
        "id": "3sjZEesx0vTb"
      }
    },
    {
      "cell_type": "code",
      "source": [
        "# Input elemen matriks 2x2\n",
        "print(\"Masukkan elemen matriks 2x2 dalam urutan berikut:\")\n",
        "print(\"| a  b |\")\n",
        "print(\"| c  d |\")\n",
        "\n",
        "a = int(input(\"Masukkan elemen a: \"))\n",
        "b = int(input(\"Masukkan elemen b: \"))\n",
        "c = int(input(\"Masukkan elemen c: \"))\n",
        "d = int(input(\"Masukkan elemen d: \"))\n",
        "\n",
        "# Hitung determinan\n",
        "determinan = (a * d) - (b * c)\n",
        "\n",
        "# Output hasil determinan\n",
        "print(f\"Determinannya adalah: {determinan}\")"
      ],
      "metadata": {
        "id": "Mfa6b7Sl2iYU",
        "outputId": "75b823c6-230b-401e-8a15-043b68576bb4",
        "colab": {
          "base_uri": "https://localhost:8080/"
        }
      },
      "execution_count": 10,
      "outputs": [
        {
          "output_type": "stream",
          "name": "stdout",
          "text": [
            "Masukkan elemen matriks 2x2 dalam urutan berikut:\n",
            "| a  b |\n",
            "| c  d |\n",
            "Masukkan elemen a: 2\n",
            "Masukkan elemen b: 3\n",
            "Masukkan elemen c: 1\n",
            "Masukkan elemen d: 4\n",
            "Determinannya adalah: 5\n"
          ]
        }
      ]
    },
    {
      "cell_type": "markdown",
      "source": [
        "📌Catatan:\n",
        "  - Notebook python ini dibuat untuk memudahkan temen-temen belajar ngoding dan pengumpulan tugas.\n",
        "  - Silakan download notebook ini lalu upload di Google Collab milik kalian agar format `pertemuan`, `topik pertemuan`,\n",
        "`tanggal`, `deskripsi pembahasan materi`, `baris coding` dan `interpretasi` bisa disesuaikan dengan kebutuhan teman-teman.\n",
        "\n",
        "  - Interpretasi coding dan hasil dimaksudkan agar teman-teman semakin memahami apa yang dipelajari.\n",
        "\n",
        "  - Deskripsi pembahasan materi dimaksudkan agar teman-teman semakin memahami apa fokus yang dipelajari.\n",
        "\n",
        "  - Tulisan di setiap sebelum baris code disebut `markdown`. Ada beberapa jenis simbol yang memudahkan kepenulisan `markdown` kita, yaitu seperti : untuk mengatur ukuran tulisan biasanya tulisan pada header menggunakan ini`#`, `##`, `###`, untuk membuat pointer menggunakan ini `-`, untuk membuat tulisan ter-highlight menggunakan ini *` `* , untuk short-cut membuat tulisan jadi **bold** gunakan ini `** **`, dan untuk *tulisan miring* gunakan ini `* *` .\n",
        "\n",
        "  - Semangat belajar! 🌟✨\n",
        "\n",
        "©️ LABORATORIUM SAINS DATA 2024"
      ],
      "metadata": {
        "id": "D-tRQnbQK69l"
      }
    }
  ]
}