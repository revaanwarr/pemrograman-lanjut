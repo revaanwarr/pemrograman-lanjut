{
  "nbformat": 4,
  "nbformat_minor": 0,
  "metadata": {
    "colab": {
      "provenance": [],
      "authorship_tag": "ABX9TyM7I16dAeyUwb40EPlb/5SC",
      "include_colab_link": true
    },
    "kernelspec": {
      "name": "python3",
      "display_name": "Python 3"
    },
    "language_info": {
      "name": "python"
    }
  },
  "cells": [
    {
      "cell_type": "markdown",
      "metadata": {
        "id": "view-in-github",
        "colab_type": "text"
      },
      "source": [
        "<a href=\"https://colab.research.google.com/github/revaanwarr/pemrograman-lanjut/blob/main/Latihan%202%20reva.ipynb\" target=\"_parent\"><img src=\"https://colab.research.google.com/assets/colab-badge.svg\" alt=\"Open In Colab\"/></a>"
      ]
    },
    {
      "cell_type": "markdown",
      "source": [
        "#**🖥️👩🏻‍💻Latihan Soal - Matriks Python**\n",
        "👤 Nama: Reva Anwar / NRP: 2C2230003 / Kelas: III/A Sains Data\n",
        "\n"
      ],
      "metadata": {
        "id": "9FB7F64u7w2M"
      }
    },
    {
      "cell_type": "markdown",
      "source": [
        "**LATIHAN 2**\n",
        "\n",
        "Dideklarasikan 2 buah matriks, misalnya M dan MTranspose\n",
        "\n",
        "• MTranspose menampung hasil transpose dari M\n",
        "\n",
        "• Ukuran baris M = ukuran kolom MTranspose\n",
        "\n",
        "• Ukuran kolom M = ukuran baris Mtranspose"
      ],
      "metadata": {
        "id": "Dt_7l9zU8uA3"
      }
    },
    {
      "cell_type": "code",
      "execution_count": 1,
      "metadata": {
        "colab": {
          "base_uri": "https://localhost:8080/"
        },
        "id": "8_LwvgKw65Yk",
        "outputId": "e7fa52c0-af20-450b-bc61-4bbaa071a870"
      },
      "outputs": [
        {
          "output_type": "stream",
          "name": "stdout",
          "text": [
            "Elemen ke-[0,0] = 1\n",
            "Elemen ke-[0,1] = 2\n",
            "Elemen ke-[0,2] = 3\n",
            "Elemen ke-[0,3] = 4\n",
            "Elemen ke-[0,4] = 5\n",
            "Elemen ke-[1,0] = 6\n",
            "Elemen ke-[1,1] = 7\n",
            "Elemen ke-[1,2] = 8\n",
            "Elemen ke-[1,3] = 9\n",
            "Elemen ke-[1,4] = 10\n",
            "Elemen ke-[2,0] = 11\n",
            "Elemen ke-[2,1] = 12\n",
            "Elemen ke-[2,2] = 13\n",
            "Elemen ke-[2,3] = 14\n",
            "Elemen ke-[2,4] = 15\n",
            "Elemen ke-[3,0] = 16\n",
            "Elemen ke-[3,1] = 17\n",
            "Elemen ke-[3,2] = 18\n",
            "Elemen ke-[3,3] = 19\n",
            "Elemen ke-[3,4] = 20\n",
            "Elemen ke-[4,0] = 21\n",
            "Elemen ke-[4,1] = 22\n",
            "Elemen ke-[4,2] = 23\n",
            "Elemen ke-[4,3] = 24\n",
            "Elemen ke-[4,4] = 25\n",
            "Matriks Asli:\n",
            "1 2 3 4 5 \n",
            "6 7 8 9 10 \n",
            "11 12 13 14 15 \n",
            "16 17 18 19 20 \n",
            "21 22 23 24 25 \n",
            "\n",
            "Matriks Transpose:\n",
            "1 6 11 16 21 \n",
            "2 7 12 17 22 \n",
            "3 8 13 18 23 \n",
            "4 9 14 19 24 \n",
            "5 10 15 20 25 \n"
          ]
        }
      ],
      "source": [
        "# Program untuk menghitung transpose matriks\n",
        "\n",
        "# KAMUS\n",
        "M = []  # Matriks asli\n",
        "MTranspose = []  # Matriks transpose\n",
        "NBrs = 5  # Jumlah baris\n",
        "NKol = 5  # Jumlah kolom\n",
        "i, j = 0, 0  # Indeks\n",
        "\n",
        "# ALGORITMA\n",
        "# Inisialisasi matriks M\n",
        "for i in range(NBrs):\n",
        "    baris = []\n",
        "    for j in range(NKol):\n",
        "        elemen = int(input(f\"Elemen ke-[{i},{j}] = \"))\n",
        "        baris.append(elemen)\n",
        "    M.append(baris)\n",
        "\n",
        "# Menghitung transpose matriks\n",
        "MTranspose = [[M[j][i] for j in range(NBrs)] for i in range(NKol)]\n",
        "\n",
        "# Menampilkan matriks asli\n",
        "print(\"Matriks Asli:\")\n",
        "for baris in M:\n",
        "    for elemen in baris:\n",
        "        print(elemen, end=\" \")\n",
        "    print()\n",
        "\n",
        "# Menampilkan matriks transpose\n",
        "print(\"\\nMatriks Transpose:\")\n",
        "for baris in MTranspose:\n",
        "    for elemen in baris:\n",
        "        print(elemen, end=\" \")\n",
        "    print()"
      ]
    }
  ]
}