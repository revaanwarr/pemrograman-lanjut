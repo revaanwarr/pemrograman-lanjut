{
  "nbformat": 4,
  "nbformat_minor": 0,
  "metadata": {
    "colab": {
      "provenance": [],
      "include_colab_link": true
    },
    "kernelspec": {
      "name": "python3",
      "display_name": "Python 3"
    },
    "language_info": {
      "name": "python"
    }
  },
  "cells": [
    {
      "cell_type": "markdown",
      "metadata": {
        "id": "view-in-github",
        "colab_type": "text"
      },
      "source": [
        "<a href=\"https://colab.research.google.com/github/revaanwarr/pemrograman-lanjut/blob/main/Array%20Catatan_Reva_ipynb_txt.ipynb\" target=\"_parent\"><img src=\"https://colab.research.google.com/assets/colab-badge.svg\" alt=\"Open In Colab\"/></a>"
      ]
    },
    {
      "cell_type": "markdown",
      "source": [
        "#**🖥️👩🏻‍💻PRAKTIKUM PEMROGRAMAN LANJUT🔥**\n",
        "##**Pertemuan (3) Array - Senin, 28 Oktober 2024**\n",
        "\n",
        "👤 Nama: Reva Anwar / NRP: 2C2230003 / Kelas: III/A Sains Data\n",
        "\n",
        "💬Deskripsi Pembahasan Materi:\n",
        "\n",
        "**1.1.  Definisi Array**\n",
        "\n",
        " Array adalah variabel dengan satu buah nama, tetapi mengandung banyak nilai. Akses nilai-nilainya dilakukan dengan indeks.\n",
        "\n",
        "**1.2.  Deklarasi Array**\n",
        "\n",
        " Array merupakan sebuah variabel, maka array juga memerlukan deklarasi seperti variabel lainnya.\n",
        "\n",
        " contoh deklarasi array:\n",
        "x= [0 for i in range(n)] membuat array berukuran n dengan di isi 0\n",
        "x= [\"*\" for i in range(100)] membuat array berukuran 100 dengan isi karakter \"*\"\n",
        "\n",
        "**1.3.  Array dan Variabel**\n",
        "\n",
        "  Suatu array dapat dianggap variabel, ketika segala jenis variabel berlaku juga pada array.\n",
        "\n",
        "**1.4.  String**\n",
        "\n",
        "  String dapat dianggap sebagai array of character, namun tipe string memiliki karakteristik yg berbeda. String merupakan tipe data immutable. Artinya, string tidak dapat diubah nilainya setelah dideklarasikan.\n",
        "\n",
        "\n",
        "\n"
      ],
      "metadata": {
        "id": "_bN6_LxQCJZT"
      }
    },
    {
      "cell_type": "markdown",
      "source": [
        "#🤸🏻‍♀️ EKSPLORASI PRIBADI DI KELAS ✨"
      ],
      "metadata": {
        "id": "N0U2Qjks8P9F"
      }
    },
    {
      "cell_type": "markdown",
      "source": [
        "1. Susunan (List)"
      ],
      "metadata": {
        "id": "-k_kbhpDgQej"
      }
    },
    {
      "cell_type": "code",
      "source": [
        "cars= [\"Ford\", \"Volvo\", \"BMW\"]\n",
        "\n",
        "print (cars)"
      ],
      "metadata": {
        "colab": {
          "base_uri": "https://localhost:8080/"
        },
        "id": "BCHYDH6-gpmK",
        "outputId": "51b9c58c-81a2-4d87-cb13-b2ef20fa721c"
      },
      "execution_count": 1,
      "outputs": [
        {
          "output_type": "stream",
          "name": "stdout",
          "text": [
            "['Ford', 'Volvo', 'BMW']\n"
          ]
        }
      ]
    },
    {
      "cell_type": "markdown",
      "source": [
        "2. Mengakses Elemen Array"
      ],
      "metadata": {
        "id": "ApARdMW9hdJJ"
      }
    },
    {
      "cell_type": "code",
      "source": [
        "cars= [\"Ford\", \"Volvo\", \"BMW\"]\n",
        "x= cars[0]\n",
        "print (x)"
      ],
      "metadata": {
        "colab": {
          "base_uri": "https://localhost:8080/"
        },
        "id": "0Q1mq9ybhpM1",
        "outputId": "782b6ba3-d550-4e90-a8dd-1e9ea4b61971"
      },
      "execution_count": 2,
      "outputs": [
        {
          "output_type": "stream",
          "name": "stdout",
          "text": [
            "Ford\n"
          ]
        }
      ]
    },
    {
      "cell_type": "markdown",
      "source": [
        "3. Panjang Sebuah Array"
      ],
      "metadata": {
        "id": "pno7BFIgiIJI"
      }
    },
    {
      "cell_type": "code",
      "source": [
        "''' Mengembalikan jumlah elemen dalam cars array '''\n",
        "\n",
        "cars= [\"Ford\", \"Volvo\", \"BMW\"]\n",
        "x= len(cars)\n",
        "print (x)"
      ],
      "metadata": {
        "colab": {
          "base_uri": "https://localhost:8080/"
        },
        "id": "iElBFvk1iPC6",
        "outputId": "8236085c-c2b9-4afd-aebd-300309afb3ef"
      },
      "execution_count": 3,
      "outputs": [
        {
          "output_type": "stream",
          "name": "stdout",
          "text": [
            "3\n"
          ]
        }
      ]
    },
    {
      "cell_type": "markdown",
      "source": [
        "4. Elemen Array Perulangan"
      ],
      "metadata": {
        "id": "Ivjum7epjNFZ"
      }
    },
    {
      "cell_type": "code",
      "source": [
        "''' Cetak setiap item dalam cars array '''\n",
        "\n",
        "cars= [\"Ford\", \"Volvo\", \"BMW\"]\n",
        "for x in cars:\n",
        "  print (x)"
      ],
      "metadata": {
        "colab": {
          "base_uri": "https://localhost:8080/"
        },
        "id": "2_BPuQoSjSxg",
        "outputId": "14599bf7-6aea-4335-a370-764011318838"
      },
      "execution_count": 4,
      "outputs": [
        {
          "output_type": "stream",
          "name": "stdout",
          "text": [
            "Ford\n",
            "Volvo\n",
            "BMW\n"
          ]
        }
      ]
    },
    {
      "cell_type": "markdown",
      "source": [
        "5. Menambahkan Elemen Array"
      ],
      "metadata": {
        "id": "hsvlgms9kAKs"
      }
    },
    {
      "cell_type": "code",
      "source": [
        "''' Tambahkan satu elemen lagi ke cars array '''\n",
        "\n",
        "cars= [\"Ford\", \"Volvo\", \"BMW\"]\n",
        "cars.append(\"Honda\")\n",
        "print (cars)"
      ],
      "metadata": {
        "colab": {
          "base_uri": "https://localhost:8080/"
        },
        "id": "kaLNR7sqkFlP",
        "outputId": "aef216c0-f58b-4d6e-e8df-4367530b7bbd"
      },
      "execution_count": 5,
      "outputs": [
        {
          "output_type": "stream",
          "name": "stdout",
          "text": [
            "['Ford', 'Volvo', 'BMW', 'Honda']\n"
          ]
        }
      ]
    },
    {
      "cell_type": "markdown",
      "source": [
        "5. Menghapus Array"
      ],
      "metadata": {
        "id": "PmOg3sUJkjRB"
      }
    },
    {
      "cell_type": "code",
      "source": [
        "''' Hapus elemen terakhir dalam cars array '''\n",
        "\n",
        "cars= [\"Ford\", \"Volvo\", \"BMW\"]\n",
        "cars.pop()\n",
        "print(cars)"
      ],
      "metadata": {
        "colab": {
          "base_uri": "https://localhost:8080/"
        },
        "id": "0DUkRiiQktrx",
        "outputId": "b224508b-31a7-4b18-adea-a1ed0c2ce4c9"
      },
      "execution_count": 6,
      "outputs": [
        {
          "output_type": "stream",
          "name": "stdout",
          "text": [
            "['Ford', 'Volvo']\n"
          ]
        }
      ]
    },
    {
      "cell_type": "code",
      "source": [
        "''' Hapus elemen yang memiliki nilai \"Volvo\" '''\n",
        "\n",
        "cars= [\"Ford\", \"Volvo\", \"BMW\"]\n",
        "cars.remove(\"Volvo\")\n",
        "print(cars)"
      ],
      "metadata": {
        "colab": {
          "base_uri": "https://localhost:8080/"
        },
        "id": "JlAYT2EplWUB",
        "outputId": "54f7caca-2575-46f2-c642-7036cc6b508e"
      },
      "execution_count": 7,
      "outputs": [
        {
          "output_type": "stream",
          "name": "stdout",
          "text": [
            "['Ford', 'BMW']\n"
          ]
        }
      ]
    },
    {
      "cell_type": "markdown",
      "source": [
        "#🧠 LATIHAN SOAL DI KELAS ⏱️"
      ],
      "metadata": {
        "id": "KEGjH0_P9D1-"
      }
    },
    {
      "cell_type": "markdown",
      "source": [
        "Latihan Modul 3"
      ],
      "metadata": {
        "id": "nt7-fY7s9PgC"
      }
    },
    {
      "cell_type": "markdown",
      "source": [
        "1. **Reverse**"
      ],
      "metadata": {
        "id": "zGYSDUS8mFxk"
      }
    },
    {
      "cell_type": "code",
      "source": [
        "# Fungsi untuk membalik urutan bilangan\n",
        "def reverse_numbers():\n",
        "  # Menerima input N\n",
        "  N = int(input(\"Masukkan N: \"))\n",
        "\n",
        "  # Menginisialisasi list untuk menyimpan bilangan\n",
        "  numbers = []\n",
        "\n",
        "  # Mengumpulkan N bilangan\n",
        "  for i in range (N):\n",
        "    num = int(input())\n",
        "    numbers.append(num)\n",
        "\n",
        "  # Menampilkan hasil dalam uruta terbalik\n",
        "  print(\"Hasil dibalik:\")\n",
        "  for num in reversed(numbers):\n",
        "    print(num, end= ' ')\n",
        "\n",
        "# Memanggil fungsi\n",
        "reverse_numbers()"
      ],
      "metadata": {
        "id": "h7si6sBj9Mr4",
        "colab": {
          "base_uri": "https://localhost:8080/"
        },
        "outputId": "0d2fe10b-47b7-4cdb-b3b7-07408e1f4933"
      },
      "execution_count": 8,
      "outputs": [
        {
          "output_type": "stream",
          "name": "stdout",
          "text": [
            "Masukkan N: 8\n",
            "2\n",
            "1\n",
            "3\n",
            "4\n",
            "5\n",
            "6\n",
            "7\n",
            "8\n",
            "Hasil dibalik:\n",
            "8 7 6 5 4 3 1 2 "
          ]
        }
      ]
    },
    {
      "cell_type": "markdown",
      "source": [
        "2. **Anagram**\n",
        "\n"
      ],
      "metadata": {
        "id": "Eucg6DUK9fgA"
      }
    },
    {
      "cell_type": "code",
      "source": [
        "# Meminta input jumlah elemen dan elemen untuk A\n",
        "nA = int(input(\"Masukkan banyaknya elemen A: \"))\n",
        "A = [int(input(f\"Masukkan elemen A ke-{i+1}: \")) for i in range(nA)]\n",
        "\n",
        "# Meminta input jumlah elemen dan elemen untuk B\n",
        "nB = int(input(\"Masukkan banyaknya elemen B: \"))\n",
        "B = [int(input(f\"Masukkan elemen B ke-{i+1}: \")) for i in range(nB)]\n",
        "\n",
        "# Cek apakah elemen A dan B memiliki jumlah elemen yang sama dan frekuensi elemen yang sama\n",
        "if nA == nB and sorted(A) == sorted(B):\n",
        "    print(\"B adalah anagram dari A\")\n",
        "else:\n",
        "    print(\"B bukan anagram dari A\")\n"
      ],
      "metadata": {
        "colab": {
          "base_uri": "https://localhost:8080/"
        },
        "id": "KpKqSz_BpApL",
        "outputId": "bfc04d60-3a18-4ba2-a95a-472cad6497f8"
      },
      "execution_count": 24,
      "outputs": [
        {
          "output_type": "stream",
          "name": "stdout",
          "text": [
            "Masukkan banyaknya elemen A: 2\n",
            "Masukkan elemen A ke-1: 3\n",
            "Masukkan elemen A ke-2: 1\n",
            "Masukkan banyaknya elemen B: 4\n",
            "Masukkan elemen B ke-1: 5\n",
            "Masukkan elemen B ke-2: 7\n",
            "Masukkan elemen B ke-3: 8\n",
            "Masukkan elemen B ke-4: 9\n",
            "B bukan anagram dari A\n"
          ]
        }
      ]
    },
    {
      "cell_type": "markdown",
      "source": [
        "3. **Palindrom**"
      ],
      "metadata": {
        "id": "JJltQeogvET9"
      }
    },
    {
      "cell_type": "code",
      "source": [
        "# Fungsi untuk mengecek apakah string adalah palindrom\n",
        "def is_palindrome(s):\n",
        "  return s == s[::-1]\n",
        "\n",
        "# Input dari pengguna\n",
        "panjang_string = int(input(\"Masukkan panjang string: \"))\n",
        "string_input = input(\"Masukkan string:\")\n",
        "\n",
        "#Validasi panjang string\n",
        "if len(string_input) !=panjang_string:\n",
        "  print(f\"panjang string yang dimasukkan harus {panjang_string}. \")\n",
        "else:\n",
        "  # Cek apakah string adalah palindrom\n",
        "  if is_palindrome(string_input):\n",
        "    print(f\"{string_input} adalah palindrom\")\n",
        "  else:\n",
        "    print(f\"{string_input} bukan palindrom\")"
      ],
      "metadata": {
        "colab": {
          "base_uri": "https://localhost:8080/"
        },
        "id": "g_-4DojcvOcM",
        "outputId": "10eaac0f-179e-4760-b1f7-746fd588c2ce"
      },
      "execution_count": 28,
      "outputs": [
        {
          "output_type": "stream",
          "name": "stdout",
          "text": [
            "Masukkan panjang string: 4\n",
            "Masukkan string:rere\n",
            "rere bukan palindrom\n"
          ]
        }
      ]
    },
    {
      "cell_type": "markdown",
      "source": [
        "#🏆 POST TEST 🎯"
      ],
      "metadata": {
        "id": "J_75vTSXKFGE"
      }
    },
    {
      "cell_type": "markdown",
      "source": [
        "Problem (1)"
      ],
      "metadata": {
        "id": "twhHfrqiKSfV"
      }
    },
    {
      "cell_type": "markdown",
      "source": [
        "📌Catatan:\n",
        "  - Notebook python ini dibuat untuk memudahkan temen-temen belajar ngoding dan pengumpulan tugas.\n",
        "  - Silakan download notebook ini lalu upload di Google Collab milik kalian agar format `pertemuan`, `topik pertemuan`,\n",
        "`tanggal`, `deskripsi pembahasan materi`, `baris coding` dan `interpretasi` bisa disesuaikan dengan kebutuhan teman-teman.\n",
        "\n",
        "  - Interpretasi coding dan hasil dimaksudkan agar teman-teman semakin memahami apa yang dipelajari.\n",
        "\n",
        "  - Deskripsi pembahasan materi dimaksudkan agar teman-teman semakin memahami apa fokus yang dipelajari.\n",
        "\n",
        "  - Tulisan di setiap sebelum baris code disebut `markdown`. Ada beberapa jenis simbol yang memudahkan kepenulisan `markdown` kita, yaitu seperti : untuk mengatur ukuran tulisan biasanya tulisan pada header menggunakan ini`#`, `##`, `###`, untuk membuat pointer menggunakan ini `-`, untuk membuat tulisan ter-highlight menggunakan ini *` `* , untuk short-cut membuat tulisan jadi **bold** gunakan ini `** **`, dan untuk *tulisan miring* gunakan ini `* *` .\n",
        "\n",
        "  - Semangat belajar! 🌟✨\n",
        "\n",
        "©️ LABORATORIUM SAINS DATA 2024"
      ],
      "metadata": {
        "id": "D-tRQnbQK69l"
      }
    }
  ]
}